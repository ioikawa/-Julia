{
 "cells": [
  {
   "cell_type": "markdown",
   "id": "6e9563c0-fa51-470e-abd9-7c95712ce028",
   "metadata": {},
   "source": [
    "# 変数: [Variables](https://docs.julialang.org/en/v1/manual/variables/#man-variables)\n",
    "\n",
    "- プログラミング言語における**変数**について説明する．\n",
    "- 数学における変数とは異なる概念なので注意．数値などのデータに指し示すラベルに近い．\n",
    "\n",
    "## 変数への値の代入\n",
    "- 例えば，次のコードは `123` という値に `x` というラベルを付ける．"
   ]
  },
  {
   "cell_type": "code",
   "execution_count": 1,
   "id": "0dfe26e9-4b65-450f-9c21-d9e036254f64",
   "metadata": {},
   "outputs": [
    {
     "data": {
      "text/plain": [
       "123"
      ]
     },
     "execution_count": 1,
     "metadata": {},
     "output_type": "execute_result"
    }
   ],
   "source": [
    "x = 123"
   ]
  },
  {
   "cell_type": "markdown",
   "id": "eaac8d6f-33ce-4925-8275-df37d3cb6459",
   "metadata": {},
   "source": [
    "- ラベル `x` の付いた値のことを **変数** と呼ぶ．"
   ]
  },
  {
   "cell_type": "markdown",
   "id": "ed514bc1-6892-47ac-be34-ba558067541b",
   "metadata": {},
   "source": [
    "## 変数の書き換え\n",
    "- 既存の変数に別の値を代入すると変数の値は更新される．"
   ]
  },
  {
   "cell_type": "code",
   "execution_count": 2,
   "id": "e3c9f03e-5975-4a61-95cd-02b557c684ef",
   "metadata": {},
   "outputs": [
    {
     "name": "stdout",
     "output_type": "stream",
     "text": [
      "y = 2\n"
     ]
    }
   ],
   "source": [
    "y = 1\n",
    "y = 2\n",
    "@show y;     # @show は変数が与えられるとの格納された値を表示する"
   ]
  },
  {
   "cell_type": "markdown",
   "id": "533c7224-f42e-41ff-8dab-f5c30413bd27",
   "metadata": {},
   "source": [
    "- プログラミング言語における `=` は等号ではなく**代入**を表すことに注意．"
   ]
  },
  {
   "cell_type": "code",
   "execution_count": 3,
   "id": "ee0e22f6-cd18-41aa-a542-20be19c47e21",
   "metadata": {},
   "outputs": [
    {
     "name": "stdout",
     "output_type": "stream",
     "text": [
      "y = 102\n"
     ]
    }
   ],
   "source": [
    "y = y + 100\n",
    "@show y;"
   ]
  },
  {
   "cell_type": "markdown",
   "id": "84c41743-c06f-45d1-ae60-8e2c4879929f",
   "metadata": {},
   "source": [
    "## 変数の一覧表示\n",
    "- `varinfo()`で定義された変数を確認できる．"
   ]
  },
  {
   "cell_type": "code",
   "execution_count": 4,
   "id": "c8e0c2db-6858-4c47-92a3-889863ff4810",
   "metadata": {},
   "outputs": [
    {
     "data": {
      "text/latex": [
       "\\begin{tabular}\n",
       "{l | r | l}\n",
       "name & size & summary \\\\\n",
       "\\hline\n",
       "Base &  & Module \\\\\n",
       "Core &  & Module \\\\\n",
       "Main &  & Module \\\\\n",
       "x & 8 bytes & Int64 \\\\\n",
       "y & 8 bytes & Int64 \\\\\n",
       "\\end{tabular}\n"
      ],
      "text/markdown": [
       "| name |    size | summary |\n",
       "|:---- | -------:|:------- |\n",
       "| Base |         | Module  |\n",
       "| Core |         | Module  |\n",
       "| Main |         | Module  |\n",
       "| x    | 8 bytes | Int64   |\n",
       "| y    | 8 bytes | Int64   |\n"
      ],
      "text/plain": [
       "  name    size summary\n",
       "  –––– ––––––– –––––––\n",
       "  Base         Module \n",
       "  Core         Module \n",
       "  Main         Module \n",
       "  x    8 bytes Int64  \n",
       "  y    8 bytes Int64  "
      ]
     },
     "execution_count": 4,
     "metadata": {},
     "output_type": "execute_result"
    }
   ],
   "source": [
    "varinfo()"
   ]
  },
  {
   "cell_type": "markdown",
   "id": "b8fd2c5b-b71d-4b22-a2b3-99ddcdaca4e5",
   "metadata": {},
   "source": [
    "## [Updating operators](https://docs.julialang.org/en/v1/manual/mathematical-operations/#Updating-operators)"
   ]
  },
  {
   "cell_type": "markdown",
   "id": "e0cbf4e5-3544-4607-91e7-bfe23a452ba4",
   "metadata": {},
   "source": [
    "- `x = x + 100` の代わりに `x += 100` と書くことができる．"
   ]
  },
  {
   "cell_type": "code",
   "execution_count": 5,
   "id": "748b6531-d2c7-4af7-a941-8096acb8705d",
   "metadata": {},
   "outputs": [
    {
     "name": "stdout",
     "output_type": "stream",
     "text": [
      "x = 102\n"
     ]
    }
   ],
   "source": [
    "x = 2\n",
    "x += 100    # x = x + 100 と同じ\n",
    "@show x;"
   ]
  },
  {
   "cell_type": "markdown",
   "id": "ec1aa2e7-f58d-4c1b-b9a0-1b4403964cd4",
   "metadata": {},
   "source": [
    "- 他の演算子に関しても同様"
   ]
  },
  {
   "cell_type": "code",
   "execution_count": 6,
   "id": "2cd81df3-b198-4985-8934-503910d67396",
   "metadata": {},
   "outputs": [
    {
     "name": "stdout",
     "output_type": "stream",
     "text": [
      "x -= 1 = 99\n",
      "x *= 10 = 990\n",
      "x /= 99 = 10.0\n",
      "x ^= 2 = 100.0\n"
     ]
    }
   ],
   "source": [
    "x = 100; \n",
    "@show x -= 1 \n",
    "@show x *= 10\n",
    "@show x /= 99\n",
    "@show x ^= 2 \n",
    ";"
   ]
  },
  {
   "cell_type": "markdown",
   "id": "8dced64b-3a80-4156-8b56-d5a4f6ee6f6d",
   "metadata": {},
   "source": [
    "## 変数の文字列化\n",
    "- 変数`x`に対して，文字列リテラル中に`$x` と書くと変数`x`の値が文字列に埋め込まれる．\n",
    "- 同様に `$(式)`と書くと`式`が計算されて文字列として埋め込まれる．"
   ]
  },
  {
   "cell_type": "code",
   "execution_count": 7,
   "id": "b6bb10c2-0e9b-4296-8802-9ff8a98c7afc",
   "metadata": {},
   "outputs": [
    {
     "name": "stdout",
     "output_type": "stream",
     "text": [
      "x is 16\n",
      "The square root of x is 4.0.\n"
     ]
    }
   ],
   "source": [
    "x = 16\n",
    "println(\"x is $x\")\n",
    "println(\"The square root of x is $(sqrt(x)).\")"
   ]
  },
  {
   "cell_type": "markdown",
   "id": "85940b5e-9448-49bb-bfdc-9b1b68a29566",
   "metadata": {},
   "source": [
    "## Note: 変数の命名\n",
    "- 変数の名前は意味や意図がわかるように付ける．\n",
    "- 基本的にはアルファベットを用いる．わかりやすければローマ字表記でもよい，と思う．\n",
    "- 名前の「わかりやすさ」は状況に大きく依存するため，明確なルールは存在しないが，命名規則の慣習ある場合はそれに従ったほうがよい．\n",
    "    - 明確な名詞にする．\n",
    "    - 単語は`_`で区切る．\n",
    "    - 小文字のみ使用する．．\n",
    "\n"
   ]
  },
  {
   "cell_type": "markdown",
   "id": "7788e268-6dca-4c4d-867d-abdda6cfdcdf",
   "metadata": {},
   "source": [
    "## Note: [Base.@show](https://docs.julialang.org/en/v1/base/base/#Base.@show)\n",
    "- `@show 変数` で変数の中身を表示できる．\n",
    "- 変数のところに式を書くこともできる．"
   ]
  },
  {
   "cell_type": "code",
   "execution_count": 8,
   "id": "13b20aab-bcc0-4248-b07d-4e2844cb32bc",
   "metadata": {},
   "outputs": [
    {
     "name": "stdout",
     "output_type": "stream",
     "text": [
      "x = 10\n",
      "x ^ 2 = 100\n",
      "x ^ 3 = 1000\n",
      "x ^ 4 = 10000\n"
     ]
    }
   ],
   "source": [
    "x = 10\n",
    "@show x\n",
    "@show x^2 x^3 x^4\n",
    ";"
   ]
  },
  {
   "cell_type": "markdown",
   "id": "44d1e73f-449a-45a2-aefb-b53782f936c1",
   "metadata": {},
   "source": [
    "## Note: @time マクロ\n",
    "- 与えられた式を実行するのにかかった時間と allocation (メモリ割り当て) の総量を表示する．"
   ]
  },
  {
   "cell_type": "code",
   "execution_count": 9,
   "id": "126afb8c-a2e3-44e6-a96f-a7bec35ca194",
   "metadata": {},
   "outputs": [
    {
     "name": "stdout",
     "output_type": "stream",
     "text": [
      "  0.501695 seconds (20 allocations: 464 bytes)\n"
     ]
    }
   ],
   "source": [
    "@time sleep(0.5)    # `sleep(t)`は `t`[s]だけ実行を停止するコマンド "
   ]
  }
 ],
 "metadata": {
  "kernelspec": {
   "display_name": "Julia 1.9.0-beta3",
   "language": "julia",
   "name": "julia-1.9"
  },
  "language_info": {
   "file_extension": ".jl",
   "mimetype": "application/julia",
   "name": "julia",
   "version": "1.9.0"
  }
 },
 "nbformat": 4,
 "nbformat_minor": 5
}
