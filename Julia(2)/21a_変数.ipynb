{
 "cells": [
  {
   "cell_type": "markdown",
   "id": "6e9563c0-fa51-470e-abd9-7c95712ce028",
   "metadata": {},
   "source": [
    "# 変数: [Variables](https://docs.julialang.org/en/v1/manual/variables/#man-variables)\n",
    "\n",
    "- プログラミング言語における**変数**について説明する．\n",
    "- 数学における変数とは異なる概念なので注意．数値などのデータに指し示すラベルに近い．\n",
    "\n",
    "## 変数への値の代入\n",
    "- 例えば，次のコードは `123` という値に `x` というラベルを付ける．"
   ]
  },
  {
   "cell_type": "code",
   "execution_count": 15,
   "id": "0dfe26e9-4b65-450f-9c21-d9e036254f64",
   "metadata": {},
   "outputs": [
    {
     "data": {
      "text/plain": [
       "123"
      ]
     },
     "execution_count": 15,
     "metadata": {},
     "output_type": "execute_result"
    }
   ],
   "source": [
    "x = 123"
   ]
  },
  {
   "cell_type": "markdown",
   "id": "eaac8d6f-33ce-4925-8275-df37d3cb6459",
   "metadata": {},
   "source": [
    "- ラベル `x` の付いた値のことを **変数** と呼ぶ．"
   ]
  },
  {
   "cell_type": "markdown",
   "id": "ed514bc1-6892-47ac-be34-ba558067541b",
   "metadata": {},
   "source": [
    "## 変数の書き換え\n",
    "- 既存の変数に別の値を代入すると変数の値は更新される．"
   ]
  },
  {
   "cell_type": "code",
   "execution_count": 5,
   "id": "e3c9f03e-5975-4a61-95cd-02b557c684ef",
   "metadata": {},
   "outputs": [
    {
     "name": "stdout",
     "output_type": "stream",
     "text": [
      "x = 2\n"
     ]
    }
   ],
   "source": [
    "x = 1\n",
    "x = 2\n",
    "@show x;     # @show は変数が与えられるとの格納された値を表示する"
   ]
  },
  {
   "cell_type": "markdown",
   "id": "533c7224-f42e-41ff-8dab-f5c30413bd27",
   "metadata": {},
   "source": [
    "- プログラミング言語における `=` は等号ではなく**代入**を表すことに注意．"
   ]
  },
  {
   "cell_type": "code",
   "execution_count": 6,
   "id": "ee0e22f6-cd18-41aa-a542-20be19c47e21",
   "metadata": {},
   "outputs": [
    {
     "name": "stdout",
     "output_type": "stream",
     "text": [
      "x = 102\n"
     ]
    }
   ],
   "source": [
    "x = x + 100   # y + 100 を計算し，結果を y に代入する\n",
    "@show x;"
   ]
  },
  {
   "cell_type": "markdown",
   "id": "b8fd2c5b-b71d-4b22-a2b3-99ddcdaca4e5",
   "metadata": {},
   "source": [
    "## [Updating operators](https://docs.julialang.org/en/v1/manual/mathematical-operations/#Updating-operators)"
   ]
  },
  {
   "cell_type": "markdown",
   "id": "e0cbf4e5-3544-4607-91e7-bfe23a452ba4",
   "metadata": {},
   "source": [
    "- `x = x + 100` の代わりに `x += 100` と書くことができる．"
   ]
  },
  {
   "cell_type": "code",
   "execution_count": 8,
   "id": "748b6531-d2c7-4af7-a941-8096acb8705d",
   "metadata": {},
   "outputs": [
    {
     "name": "stdout",
     "output_type": "stream",
     "text": [
      "x = 102\n"
     ]
    }
   ],
   "source": [
    "x = 2\n",
    "x += 100    # x = x + 100 と同じ\n",
    "@show x;"
   ]
  },
  {
   "cell_type": "markdown",
   "id": "ec1aa2e7-f58d-4c1b-b9a0-1b4403964cd4",
   "metadata": {},
   "source": [
    "- 他の演算子に関しても同様"
   ]
  },
  {
   "cell_type": "code",
   "execution_count": 14,
   "id": "2cd81df3-b198-4985-8934-503910d67396",
   "metadata": {},
   "outputs": [
    {
     "name": "stdout",
     "output_type": "stream",
     "text": [
      "x -= 1 = 99\n",
      "x *= 10 = 990\n",
      "x /= 99 = 10.0\n",
      "x ^= 2 = 100.0\n"
     ]
    }
   ],
   "source": [
    "x = 100; \n",
    "@show x -= 1 \n",
    "@show x *= 10\n",
    "@show x /= 99\n",
    "@show x ^= 2 \n",
    ";"
   ]
  },
  {
   "cell_type": "markdown",
   "id": "8dced64b-3a80-4156-8b56-d5a4f6ee6f6d",
   "metadata": {},
   "source": [
    "## 変数の文字列化\n",
    "変数`x`に対して，文字列リテラル中に`$x` と書くと\n",
    "変数`x`の値が文字列に埋め込まれる．\n",
    "\n",
    "同様に `$(式)`と書くと\n",
    "`式`が評価（計算）されて文字列として埋め込まれる．"
   ]
  },
  {
   "cell_type": "code",
   "execution_count": 5,
   "id": "b6bb10c2-0e9b-4296-8802-9ff8a98c7afc",
   "metadata": {},
   "outputs": [
    {
     "name": "stdout",
     "output_type": "stream",
     "text": [
      "x is 16\n",
      "The square root of x is 4.0.\n"
     ]
    }
   ],
   "source": [
    "x = 16\n",
    "println(\"x is $x\")\n",
    "println(\"The square root of x is $(sqrt(x)).\")"
   ]
  },
  {
   "cell_type": "markdown",
   "id": "85940b5e-9448-49bb-bfdc-9b1b68a29566",
   "metadata": {},
   "source": [
    "## Note: 変数の命名\n",
    "- 変数の名前は意味や意図がわかるように付ける．\n",
    "- 基本的にはアルファベットを用いる．わかりやすければ，ローマ字表記でもよいと思う．\n",
    "- 名前の「わかりやすさ」は状況に大きく依存するため，明確なルールは存在しないが，命名規則の慣習ある場合はそれに従ったほうがよい．\n",
    "    - 明確な名詞にする．\n",
    "    - 単語は`_`で区切る．\n",
    "    - 小文字のみ使用する．．\n",
    "\n"
   ]
  },
  {
   "cell_type": "markdown",
   "id": "7788e268-6dca-4c4d-867d-abdda6cfdcdf",
   "metadata": {},
   "source": [
    "## @show マクロ: [Base.@show](https://docs.julialang.org/en/v1/base/base/#Base.@show)\n",
    "- `@show 変数 or 式` で変数の中身を表示できる．\n",
    "変数のところに式を書くこともできる．"
   ]
  },
  {
   "cell_type": "code",
   "execution_count": 15,
   "id": "13b20aab-bcc0-4248-b07d-4e2844cb32bc",
   "metadata": {},
   "outputs": [
    {
     "name": "stdout",
     "output_type": "stream",
     "text": [
      "x = 10\n",
      "x ^ 2 = 100\n",
      "x ^ 3 = 1000\n",
      "x ^ 4 = 10000\n"
     ]
    }
   ],
   "source": [
    "x = 10\n",
    "@show x\n",
    "@show x^2 x^3 x^4\n",
    ";"
   ]
  },
  {
   "cell_type": "markdown",
   "id": "44d1e73f-449a-45a2-aefb-b53782f936c1",
   "metadata": {},
   "source": [
    "## @time マクロ\n",
    "与えられた式を実行するのにかかった時間と allocation (メモリ割り当て) の総量を表示する．"
   ]
  },
  {
   "cell_type": "code",
   "execution_count": 7,
   "id": "126afb8c-a2e3-44e6-a96f-a7bec35ca194",
   "metadata": {},
   "outputs": [
    {
     "name": "stdout",
     "output_type": "stream",
     "text": [
      "  0.500689 seconds (20 allocations: 464 bytes)\n"
     ]
    }
   ],
   "source": [
    "@time sleep(0.5)    # `sleep(t)`は `t`[s]だけ実行を停止するコマンド "
   ]
  },
  {
   "cell_type": "markdown",
   "id": "433135cd-d541-4938-8e43-608202687221",
   "metadata": {},
   "source": [
    "# 変数の型: [Types](https://docs.julialang.org/en/v1/manual/types/)\n",
    "各変数には**型 (type)** が定められている．型はどのようなデータを格納しているか表すラベルのようなものである．\n",
    "\n",
    "初出の変数名に値を代入すると，代入した値の型が自動的に設定される．\n",
    "\n",
    "変数の型は`typeof()`で確認できる．\n"
   ]
  },
  {
   "cell_type": "code",
   "execution_count": 8,
   "id": "edc3d80e-cb8a-4b7a-9d9d-61987cbb443e",
   "metadata": {},
   "outputs": [
    {
     "data": {
      "text/plain": [
       "Int64"
      ]
     },
     "execution_count": 8,
     "metadata": {},
     "output_type": "execute_result"
    }
   ],
   "source": [
    "x = 123\n",
    "typeof(x)"
   ]
  },
  {
   "cell_type": "markdown",
   "id": "8501e663-4702-4166-b9d3-a193b917ed8f",
   "metadata": {},
   "source": [
    "整数値は自動的に`Int64`という整数型になる．型の種類についてはすぐ後で説明する．\n"
   ]
  },
  {
   "cell_type": "markdown",
   "id": "8b0d9513-2cd9-4013-b1a4-f3e7929a9148",
   "metadata": {},
   "source": [
    "## 宣言された変数の確認\n",
    "`varinfo()`で宣言された変数リストを表示できる．"
   ]
  },
  {
   "cell_type": "code",
   "execution_count": 9,
   "id": "26e6a9ec-391e-451d-9d42-97652a792253",
   "metadata": {},
   "outputs": [
    {
     "data": {
      "text/latex": [
       "\\begin{tabular}\n",
       "{l | r | l}\n",
       "name & size & summary \\\\\n",
       "\\hline\n",
       "Base &  & Module \\\\\n",
       "Core &  & Module \\\\\n",
       "Main &  & Module \\\\\n",
       "x & 8 bytes & Int64 \\\\\n",
       "\\end{tabular}\n"
      ],
      "text/markdown": [
       "| name |    size | summary |\n",
       "|:---- | -------:|:------- |\n",
       "| Base |         | Module  |\n",
       "| Core |         | Module  |\n",
       "| Main |         | Module  |\n",
       "| x    | 8 bytes | Int64   |\n"
      ],
      "text/plain": [
       "  name    size summary\n",
       "  –––– ––––––– –––––––\n",
       "  Base         Module \n",
       "  Core         Module \n",
       "  Main         Module \n",
       "  x    8 bytes Int64  "
      ]
     },
     "execution_count": 9,
     "metadata": {},
     "output_type": "execute_result"
    }
   ],
   "source": [
    "varinfo()"
   ]
  },
  {
   "cell_type": "markdown",
   "id": "ceacabc0-8f93-42f9-b8e6-308d80cb4b36",
   "metadata": {},
   "source": [
    "## 整数型: [Integers](https://docs.julialang.org/en/v1/manual/integers-and-floating-point-numbers/#Integers)\n",
    "`Int64`型は64bit長の符号付き整数 (integer)を表す．整数型には`Int8`, `Int16`, `Int32`, `Int64`, `Int128`がある．\n",
    "\n",
    "数字として`1`や`-200`と記述した場合，暗黙的に`Int64`と解釈される．型を明示して代入することもできる．\n"
   ]
  },
  {
   "cell_type": "code",
   "execution_count": 10,
   "id": "506e4ebf-d3cd-41bd-9eba-8e155dbf673b",
   "metadata": {},
   "outputs": [
    {
     "data": {
      "text/plain": [
       "Int128"
      ]
     },
     "execution_count": 10,
     "metadata": {},
     "output_type": "execute_result"
    }
   ],
   "source": [
    "x = Int128(1)\n",
    "typeof(x)"
   ]
  },
  {
   "cell_type": "markdown",
   "id": "220485c2-f134-4fc1-80d3-d78df9b43f97",
   "metadata": {},
   "source": [
    "単に`Int`とタイプするとシステム環境のbit数に依存して解釈される．cf. [Document/Integers](https://docs.julialang.org/en/v1/manual/integers-and-floating-point-numbers/#Integers)"
   ]
  },
  {
   "cell_type": "code",
   "execution_count": 11,
   "id": "6a0a8fae-3762-4c55-9b81-65eaf4c74edd",
   "metadata": {},
   "outputs": [
    {
     "data": {
      "text/plain": [
       "64"
      ]
     },
     "execution_count": 11,
     "metadata": {},
     "output_type": "execute_result"
    }
   ],
   "source": [
    "typeof(Int(1))\n",
    "Sys.WORD_SIZE   # システム環境のbit数の確認"
   ]
  },
  {
   "cell_type": "markdown",
   "id": "7a462b57-34e2-45dc-be75-b005eeb019ab",
   "metadata": {},
   "source": [
    "整数型はビット数に応じて扱える整数の範囲に限界がある（[参考](https://docs.julialang.org/en/v1/manual/integers-and-floating-point-numbers/#Integers-and-Floating-Point-Numbers)）．\n",
    "\n",
    "`typemax()`, `typemin()`で扱える整数の最大値と最小値が具体的に知ることができる．"
   ]
  },
  {
   "cell_type": "code",
   "execution_count": 12,
   "id": "ba91c6ba-8562-4a09-a4f6-507b26c3185f",
   "metadata": {},
   "outputs": [
    {
     "name": "stdout",
     "output_type": "stream",
     "text": [
      "typemax(Int64) = 9223372036854775807\n",
      "typemin(Int64) = -9223372036854775808\n",
      "typemax(UInt64) = 0xffffffffffffffff\n",
      "typemin(UInt64) = 0x0000000000000000\n"
     ]
    },
    {
     "data": {
      "text/plain": [
       "0x0000000000000000"
      ]
     },
     "execution_count": 12,
     "metadata": {},
     "output_type": "execute_result"
    }
   ],
   "source": [
    "@show typemax(Int64)\n",
    "@show typemin(Int64)\n",
    "@show typemax(UInt64)\n",
    "@show typemin(UInt64)"
   ]
  },
  {
   "cell_type": "markdown",
   "id": "9d01fb25-12dd-47e3-be70-4b32910088db",
   "metadata": {},
   "source": [
    "限界の最大値に正の値を足そうとすると，overflowを起こして正常な結果が得られない．"
   ]
  },
  {
   "cell_type": "code",
   "execution_count": 13,
   "id": "93823547-3977-4aa8-b796-69dd112ebbc8",
   "metadata": {},
   "outputs": [
    {
     "data": {
      "text/plain": [
       "-9223372036854775808"
      ]
     },
     "execution_count": 13,
     "metadata": {},
     "output_type": "execute_result"
    }
   ],
   "source": [
    "typemax(Int64) + 1"
   ]
  },
  {
   "cell_type": "code",
   "execution_count": 14,
   "id": "90283e31-c1ce-4f3e-b4ee-00f16d7e049b",
   "metadata": {},
   "outputs": [
    {
     "data": {
      "text/plain": [
       "0x0000000000000000"
      ]
     },
     "execution_count": 14,
     "metadata": {},
     "output_type": "execute_result"
    }
   ],
   "source": [
    "typemax(UInt64) + 1"
   ]
  },
  {
   "cell_type": "markdown",
   "id": "447afae0-ba76-470f-ab66-4a969a6bcbaf",
   "metadata": {},
   "source": [
    "演算の際にoverflowを検知するためには，`Base.Checked.checked_add`などが使える．"
   ]
  },
  {
   "cell_type": "code",
   "execution_count": 15,
   "id": "80b1614a-3ef1-457c-add2-9a7c63441173",
   "metadata": {},
   "outputs": [
    {
     "ename": "LoadError",
     "evalue": "OverflowError: 9223372036854775807 + 1 overflowed for type Int64",
     "output_type": "error",
     "traceback": [
      "OverflowError: 9223372036854775807 + 1 overflowed for type Int64",
      "",
      "Stacktrace:",
      " [1] throw_overflowerr_binaryop(op::Symbol, x::Int64, y::Int64)",
      "   @ Base.Checked ./checked.jl:154",
      " [2] checked_add(x::Int64, y::Int64)",
      "   @ Base.Checked ./checked.jl:166",
      " [3] top-level scope",
      "   @ In[15]:3",
      " [4] eval",
      "   @ ./boot.jl:360 [inlined]",
      " [5] include_string(mapexpr::typeof(REPL.softscope), mod::Module, code::String, filename::String)",
      "   @ Base ./loading.jl:1116"
     ]
    }
   ],
   "source": [
    "Base.Checked.checked_add(100, 1)  # 100 + 1 = 101 で範囲内で問題なし．\n",
    "M = typemax(Int64)\n",
    "Base.Checked.checked_add(M, 1)   # M+1 → overflowエラーが発生する"
   ]
  },
  {
   "cell_type": "code",
   "execution_count": 16,
   "id": "0dffbddf-5368-4ef2-b0d2-a54f3cc550c3",
   "metadata": {},
   "outputs": [
    {
     "ename": "LoadError",
     "evalue": "OverflowError: 9223372036854775807 * 2 overflowed for type Int64",
     "output_type": "error",
     "traceback": [
      "OverflowError: 9223372036854775807 * 2 overflowed for type Int64",
      "",
      "Stacktrace:",
      " [1] throw_overflowerr_binaryop(op::Symbol, x::Int64, y::Int64)",
      "   @ Base.Checked ./checked.jl:154",
      " [2] checked_mul(x::Int64, y::Int64)",
      "   @ Base.Checked ./checked.jl:288",
      " [3] top-level scope",
      "   @ In[16]:1",
      " [4] eval",
      "   @ ./boot.jl:360 [inlined]",
      " [5] include_string(mapexpr::typeof(REPL.softscope), mod::Module, code::String, filename::String)",
      "   @ Base ./loading.jl:1116"
     ]
    }
   ],
   "source": [
    "Base.Checked.checked_mul(M, 2)   # M*2 → overflowエラーが発生する"
   ]
  }
 ],
 "metadata": {
  "kernelspec": {
   "display_name": "Julia 1.9.0-beta3",
   "language": "julia",
   "name": "julia-1.9"
  },
  "language_info": {
   "file_extension": ".jl",
   "mimetype": "application/julia",
   "name": "julia",
   "version": "1.9.0"
  }
 },
 "nbformat": 4,
 "nbformat_minor": 5
}
