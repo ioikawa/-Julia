{
 "cells": [
  {
   "cell_type": "markdown",
   "id": "ae83854c-2742-41d2-97e1-8af62b90c91b",
   "metadata": {
    "tags": []
   },
   "source": [
    "# 関数: [Functions](https://docs.julialang.org/en/v1/manual/functions/)\n",
    "\n",
    "## 関数の記述\n",
    "プログラミングにおける関数 (function) とは，与えられた引数 (argument)をもとに\n",
    "一連の処理を実行し，結果を値として返却するコードブロックのことと考えておけばよい．\n",
    "\n",
    "数学における関数（写像）とは異なる概念であることに注意．\n",
    "\n",
    "Julia言語では関数は `function ... end` で定義する．\n",
    "\n",
    "例として，２つの引数 `x`, `y` に対して，和 `x+y` を返却する関数を定義する．"
   ]
  },
  {
   "cell_type": "code",
   "execution_count": 20,
   "id": "dcdb6da9-21b7-41a4-bb41-845847e04639",
   "metadata": {},
   "outputs": [
    {
     "name": "stdout",
     "output_type": "stream",
     "text": [
      "f(1, 2) = 3\n"
     ]
    },
    {
     "data": {
      "text/plain": [
       "3"
      ]
     },
     "execution_count": 20,
     "metadata": {},
     "output_type": "execute_result"
    }
   ],
   "source": [
    "function f(x,y)\n",
    "    return x + y     # 単に x + y でも同じ動作\n",
    "end\n",
    "\n",
    "@show f(1,2)  # 関数の呼び出し"
   ]
  },
  {
   "cell_type": "markdown",
   "id": "2bc985dc-ecbc-441f-a02c-9d907713f618",
   "metadata": {},
   "source": [
    "これは，数学の関数と同様に形式で書くこともできる．"
   ]
  },
  {
   "cell_type": "code",
   "execution_count": 21,
   "id": "aed25057-abce-44cb-aef8-d3fbadc6ceb2",
   "metadata": {},
   "outputs": [
    {
     "name": "stdout",
     "output_type": "stream",
     "text": [
      "g(1, 2) = 3\n"
     ]
    },
    {
     "data": {
      "text/plain": [
       "3"
      ]
     },
     "execution_count": 21,
     "metadata": {},
     "output_type": "execute_result"
    }
   ],
   "source": [
    "g(x,y) =  x + y\n",
    "@show g(1,2)"
   ]
  },
  {
   "cell_type": "markdown",
   "id": "d82f36e7-ff3f-4f20-99db-ee297b527987",
   "metadata": {},
   "source": [
    "次のように複数の処理を含む関数は，`function ... end` を用いたほうがわかりやすい．"
   ]
  },
  {
   "cell_type": "code",
   "execution_count": 3,
   "id": "cda92237-67cb-418e-bbed-ea5bd20ab4fb",
   "metadata": {},
   "outputs": [
    {
     "name": "stdout",
     "output_type": "stream",
     "text": [
      "1 + 2 = 3\n"
     ]
    }
   ],
   "source": [
    "function print_add(x,y)\n",
    "    z = x + y\n",
    "    println(\"$x + $y = $z\")    # 文字列中で`$x`と書くと，変数`x`に置き換わる． \n",
    "end\n",
    "\n",
    "print_add(1,2)"
   ]
  },
  {
   "cell_type": "markdown",
   "id": "95ec6172-bb11-49a4-9a03-62c4cab97c0e",
   "metadata": {},
   "source": [
    "## 関数オブジェクト\n",
    "Juliaでは関数は変数と同じように扱うことができる．\n",
    "数値計算プログラミングでは役に立つ機能である．"
   ]
  },
  {
   "cell_type": "code",
   "execution_count": 4,
   "id": "a8d9e4c4-a6d6-4e60-a26e-f62793fefb64",
   "metadata": {},
   "outputs": [
    {
     "data": {
      "text/plain": [
       "8"
      ]
     },
     "execution_count": 4,
     "metadata": {},
     "output_type": "execute_result"
    }
   ],
   "source": [
    "f(x) = x^2\n",
    "g(x) = 2x\n",
    "h(x) = f(x) + g(x)\n",
    "\n",
    "h(2) # = f(2) + g(2) = 2^2 + 2*2"
   ]
  },
  {
   "cell_type": "markdown",
   "id": "c8d452ab-a6fb-4475-a481-fe38c274caa9",
   "metadata": {},
   "source": [
    "関数を引数に渡すことも可能であり，\n",
    "$f,g$の合成関数は次のように書くことができる．"
   ]
  },
  {
   "cell_type": "code",
   "execution_count": 6,
   "id": "8ba1ec7d-2094-466e-80ea-88361776f233",
   "metadata": {},
   "outputs": [
    {
     "data": {
      "text/plain": [
       "200"
      ]
     },
     "execution_count": 6,
     "metadata": {},
     "output_type": "execute_result"
    }
   ],
   "source": [
    "h(x) = g(f(x)) # = 2*(x^2)\n",
    "\n",
    "h(10)"
   ]
  },
  {
   "cell_type": "markdown",
   "id": "e4667187-d58b-42b7-ba3b-93b5a649155e",
   "metadata": {},
   "source": [
    "## 戻り値の指定 `return`\n",
    "関数の戻り値は `return` で明示できる． `return` に到達した時点で関数から抜ける． "
   ]
  },
  {
   "cell_type": "code",
   "execution_count": 27,
   "id": "8d2e53df-6bd3-4f8e-b906-d35e5c713687",
   "metadata": {},
   "outputs": [
    {
     "name": "stdout",
     "output_type": "stream",
     "text": [
      "ここは実行される\n"
     ]
    },
    {
     "data": {
      "text/plain": [
       "6"
      ]
     },
     "execution_count": 27,
     "metadata": {},
     "output_type": "execute_result"
    }
   ],
   "source": [
    "function mult(x,y)\n",
    "    println(\"ここは実行される\") \n",
    "    return x*y\n",
    "    println(\"return後のコードは実行されない\")  \n",
    "end\n",
    "mult(2,3)"
   ]
  },
  {
   "cell_type": "markdown",
   "id": "5474e354-a357-4d72-875e-1100019b2387",
   "metadata": {},
   "source": [
    "単に`return`と書くと，`nothing`が返却される．"
   ]
  },
  {
   "cell_type": "code",
   "execution_count": 28,
   "id": "d14852ac-36e4-4837-8cd7-f2b102946f95",
   "metadata": {},
   "outputs": [
    {
     "name": "stdout",
     "output_type": "stream",
     "text": [
      "ここは実行される\n",
      "test() = nothing\n"
     ]
    }
   ],
   "source": [
    "function test()\n",
    "    println(\"ここは実行される\") \n",
    "    return\n",
    "    println(\"return後のコードは実行されない\") \n",
    "end\n",
    "@show test()"
   ]
  },
  {
   "cell_type": "markdown",
   "id": "8426f917-7ce5-422d-a21e-1cc2d06f111f",
   "metadata": {},
   "source": [
    "## オプション引数 (optional argument)\n",
    "引数において，`引数名=値`と記述するとデフォルト値を指定できる．"
   ]
  },
  {
   "cell_type": "code",
   "execution_count": 29,
   "id": "c2a001cf-4df3-4605-b189-bfa4160bce58",
   "metadata": {},
   "outputs": [
    {
     "data": {
      "text/plain": [
       "3"
      ]
     },
     "execution_count": 29,
     "metadata": {},
     "output_type": "execute_result"
    }
   ],
   "source": [
    "F(x, y=100) = x + y\n",
    "F(1,2)"
   ]
  },
  {
   "cell_type": "code",
   "execution_count": 30,
   "id": "dd53f588-8b05-4bc3-99c0-0911610a854a",
   "metadata": {},
   "outputs": [
    {
     "data": {
      "text/plain": [
       "101"
      ]
     },
     "execution_count": 30,
     "metadata": {},
     "output_type": "execute_result"
    }
   ],
   "source": [
    "F(1) # = F(1,100)"
   ]
  },
  {
   "cell_type": "code",
   "execution_count": 31,
   "id": "3303f1ef-2388-4406-8978-229849c7c867",
   "metadata": {},
   "outputs": [
    {
     "ename": "LoadError",
     "evalue": "syntax: optional positional arguments must occur at end around In[31]:1",
     "output_type": "error",
     "traceback": [
      "syntax: optional positional arguments must occur at end around In[31]:1",
      "",
      "Stacktrace:",
      " [1] top-level scope",
      "   @ In[31]:1",
      " [2] eval",
      "   @ ./boot.jl:360 [inlined]",
      " [3] include_string(mapexpr::typeof(REPL.softscope), mod::Module, code::String, filename::String)",
      "   @ Base ./loading.jl:1116"
     ]
    }
   ],
   "source": [
    "G(x=1, y) = x+y  # Error! optional argumentは後方のみで利用できる"
   ]
  },
  {
   "cell_type": "markdown",
   "id": "d4fc73aa-0abd-49fa-8653-2f9bf172fbb2",
   "metadata": {
    "tags": []
   },
   "source": [
    "## キーワード引数 (keyword arugment)\n",
    "引数をセミコロン`;`で区切った場合，`;` 以降は「キーワード引数」というものになる．\n",
    "\n",
    "キーワード引数の順序は自由であるが，キーワード引数は必ず `引数名=値`の形で指定する必要がある． "
   ]
  },
  {
   "cell_type": "code",
   "execution_count": 32,
   "id": "fd21c327-8b52-427e-89a4-be8d429359a0",
   "metadata": {},
   "outputs": [
    {
     "ename": "LoadError",
     "evalue": "MethodError: no method matching H(::Int64, ::Int64, ::Int64)\n\u001b[0mClosest candidates are:\n\u001b[0m  H(::Any; a, b) at In[32]:1",
     "output_type": "error",
     "traceback": [
      "MethodError: no method matching H(::Int64, ::Int64, ::Int64)\n\u001b[0mClosest candidates are:\n\u001b[0m  H(::Any; a, b) at In[32]:1",
      "",
      "Stacktrace:",
      " [1] top-level scope",
      "   @ In[32]:2",
      " [2] eval",
      "   @ ./boot.jl:360 [inlined]",
      " [3] include_string(mapexpr::typeof(REPL.softscope), mod::Module, code::String, filename::String)",
      "   @ Base ./loading.jl:1116"
     ]
    }
   ],
   "source": [
    "H(x; a, b) = a*x + b\n",
    "H(1,2,3) # これはエラーになる"
   ]
  },
  {
   "cell_type": "code",
   "execution_count": 33,
   "id": "fdceefe6-5b55-45fe-891c-b01cf26191fa",
   "metadata": {},
   "outputs": [
    {
     "name": "stdout",
     "output_type": "stream",
     "text": [
      "H(1, a = 2, b = 3) = 5\n",
      "H(1, b = 3, a = 2) = 5\n",
      "H(a = 2, b = 3, 1) = 5\n",
      "H(a = 2, 1, b = 3) = 5\n"
     ]
    },
    {
     "data": {
      "text/plain": [
       "5"
      ]
     },
     "execution_count": 33,
     "metadata": {},
     "output_type": "execute_result"
    }
   ],
   "source": [
    "@show H(1, a=2, b=3)\n",
    "@show H(1, b=3, a=2)\n",
    "@show H(a=2, b=3, 1)  \n",
    "@show H(a=2, 1, b=3)  "
   ]
  },
  {
   "cell_type": "markdown",
   "id": "235682e5-6e6e-4c69-aaa3-cb9a096625e2",
   "metadata": {},
   "source": [
    "# 変数のスコープ\n",
    "変数にはスコープ（有効範囲）の違いによってglobal変数とlocal変数の２種類に分けられる．\n",
    "通常はどこでも参照可能なglobal変数になる．\n",
    "\n",
    "スコープを作り出すコマンドとして，`function ... end` や `let ... end` がある．\n",
    "これらのコマンドで囲まれた部分で宣言した変数の暗黙的に local変数となり，\n",
    "変数のスコープはコードブロック内に限定される．"
   ]
  },
  {
   "cell_type": "code",
   "execution_count": 15,
   "id": "9e6b6826-e7ca-454d-a368-d6408e448c3e",
   "metadata": {},
   "outputs": [
    {
     "name": "stdout",
     "output_type": "stream",
     "text": [
      "foo = \"Before let\"\n",
      "foo = \"Inside let\"\n",
      "foo = \"Before let\"\n"
     ]
    },
    {
     "data": {
      "text/plain": [
       "\"Before let\""
      ]
     },
     "execution_count": 15,
     "metadata": {},
     "output_type": "execute_result"
    }
   ],
   "source": [
    "foo = \"Before let\"          # global変数\n",
    "@show foo        # メタ構文変数： 特に意味のない変数名．\n",
    "\n",
    "let\n",
    "    foo = \"Inside let\"    # local変数のfoo\n",
    "    @show foo    # local変数のfoo\n",
    "end\n",
    "\n",
    "@show foo       # local変数の foo"
   ]
  },
  {
   "cell_type": "markdown",
   "id": "e8314f7f-dc62-4f74-ac2a-1a575f7cee3e",
   "metadata": {},
   "source": [
    "`let ... end` ブロック内で global変数にアクセスしたい場合は，`global 変数名` と記述する．"
   ]
  },
  {
   "cell_type": "code",
   "execution_count": 13,
   "id": "34ddd422-e982-4c9b-b570-fc69548467f2",
   "metadata": {},
   "outputs": [
    {
     "name": "stdout",
     "output_type": "stream",
     "text": [
      "foo = \"Before let\"\n",
      "foo = \"Inside let\"\n",
      "foo = \"Inside let\"\n"
     ]
    },
    {
     "data": {
      "text/plain": [
       "\"Inside let\""
      ]
     },
     "execution_count": 13,
     "metadata": {},
     "output_type": "execute_result"
    }
   ],
   "source": [
    "foo = \"Before let\"          \n",
    "@show foo        \n",
    "\n",
    "let\n",
    "    global foo = \"Inside let\"   # \"global\" 変数のfoo   \n",
    "    @show foo   \n",
    "end\n",
    "\n",
    "@show foo       "
   ]
  },
  {
   "cell_type": "code",
   "execution_count": null,
   "id": "248974c8-debf-42e9-b3d5-ddba3c6e86d7",
   "metadata": {},
   "outputs": [],
   "source": []
  }
 ],
 "metadata": {
  "kernelspec": {
   "display_name": "Julia 1.6.7",
   "language": "julia",
   "name": "julia-1.6"
  },
  "language_info": {
   "file_extension": ".jl",
   "mimetype": "application/julia",
   "name": "julia",
   "version": "1.6.7"
  }
 },
 "nbformat": 4,
 "nbformat_minor": 5
}
