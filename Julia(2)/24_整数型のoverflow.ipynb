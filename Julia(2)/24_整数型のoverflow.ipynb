{
 "cells": [
  {
   "cell_type": "markdown",
   "metadata": {},
   "source": [
    "# 整数型 [Integers](https://docs.julialang.org/en/v1/manual/integers-and-floating-point-numbers/#Integers)\n",
    "\n",
    "## Overflow\n",
    "整数型 `Int64` は整数値を扱う型とはいっても，数学における整数とは異なり，\n",
    "値の範囲には限界がある．"
   ]
  },
  {
   "cell_type": "code",
   "execution_count": 1,
   "metadata": {},
   "outputs": [
    {
     "name": "stdout",
     "output_type": "stream",
     "text": [
      "2 ^ 63 = -9223372036854775808\n"
     ]
    },
    {
     "data": {
      "text/plain": [
       "-9223372036854775808"
      ]
     },
     "execution_count": 1,
     "metadata": {},
     "output_type": "execute_result"
    }
   ],
   "source": [
    "@show 2^63"
   ]
  },
  {
   "cell_type": "markdown",
   "metadata": {},
   "source": [
    "$2^{63}$は正であるから，負の値が出力されていることは明らかにおかしい．\n",
    "\n",
    "このようなことが何故起こってしまったかというと，整数値の扱える値の範囲を越えてしまったためである．\n",
    "これを **overflow** という．\n",
    "\n",
    "数値型の範囲は`typemax()`, `typemin()`で確認できる．\n"
   ]
  },
  {
   "cell_type": "code",
   "execution_count": 2,
   "metadata": {},
   "outputs": [
    {
     "name": "stdout",
     "output_type": "stream",
     "text": [
      "typemax(Int64) = 9223372036854775807\n",
      "typemin(Int64) = -9223372036854775808\n"
     ]
    }
   ],
   "source": [
    "@show typemax(Int64)\n",
    "@show typemin(Int64);"
   ]
  },
  {
   "cell_type": "markdown",
   "metadata": {},
   "source": [
    "`Itn64`の範囲の最大・最小は規格上，\n",
    " それぞれ$2^{64}-1, -2^{64}$ に等しいので，出力値は整合している．"
   ]
  },
  {
   "cell_type": "markdown",
   "metadata": {},
   "source": [
    "## OverflowError の捕捉\n",
    "overflow が発生してもプログラムの実行が止まるわけではないので，\n",
    "表面上は正常に見える．\n",
    "\n",
    "実際に overflow を補足するには `checked_add()` のような\n",
    "演算に対応した専用の関数を使う．"
   ]
  },
  {
   "cell_type": "code",
   "execution_count": 3,
   "metadata": {},
   "outputs": [
    {
     "name": "stdout",
     "output_type": "stream",
     "text": [
      "Base.Checked.checked_add(100, 1) = 101\n"
     ]
    }
   ],
   "source": [
    "# 100 + 1 = 101 なのでoverflowエラーは発生しない\n",
    "@show Base.Checked.checked_add(100, 1);"
   ]
  },
  {
   "cell_type": "code",
   "execution_count": 4,
   "metadata": {},
   "outputs": [
    {
     "data": {
      "text/plain": [
       "OverflowError(\"9223372036854775807 + 1 overflowed for type Int64\")"
      ]
     },
     "execution_count": 4,
     "metadata": {},
     "output_type": "execute_result"
    }
   ],
   "source": [
    "int64_max = typemax(Int64)  # Int64の最大値\n",
    "\n",
    "try\n",
    "    # M+1 → overflowエラーが発生する\n",
    "    @show Base.Checked.checked_add(int64_max, 1)\n",
    "catch e\n",
    "    e   # エラーの内容を表示\n",
    "end\n"
   ]
  },
  {
   "cell_type": "markdown",
   "metadata": {},
   "source": [
    "\n",
    "OverflowErrorを発生させるだけであれば，`try-catch`構文は必要ない．\n",
    "\n",
    "ここでは OverflowErrorでプログラムを中断させたくないので `try-catch`で処理している．\n"
   ]
  },
  {
   "cell_type": "markdown",
   "metadata": {},
   "source": [
    "## BigInt型: [Arbitrary Precision Arithmetic](https://docs.julialang.org/en/v1/manual/integers-and-floating-point-numbers/#Arbitrary-Precisio)\n",
    "\n",
    "`Int64` よりも多くの桁数の計算を行いたい場合，任意精度演算を用いる．\n"
   ]
  },
  {
   "cell_type": "code",
   "execution_count": 5,
   "metadata": {},
   "outputs": [
    {
     "name": "stdout",
     "output_type": "stream",
     "text": [
      "big(2) ^ 63 = 9223372036854775808\n"
     ]
    },
    {
     "data": {
      "text/plain": [
       "9223372036854775808"
      ]
     },
     "metadata": {},
     "output_type": "display_data"
    }
   ],
   "source": [
    "@show big(2)^63"
   ]
  },
  {
   "cell_type": "markdown",
   "metadata": {},
   "source": [
    "`BigInt`の桁数に関する規定はJuliaの公式ドキュメントには書かれていないが，桁数は自動に設定されると思われる．\n",
    "\n",
    "`BigInt`自体はGMPライブラリをそのまま組み込んだものなので，桁数の制御は [GMP:Memory Management](https://gmplib.org/manual/Memory-Management) に書かれている通り，必要に応じて自動的に増やされる．\n"
   ]
  }
 ],
 "metadata": {
  "kernelspec": {
   "display_name": "Julia 1.11.2",
   "language": "julia",
   "name": "julia-1.11"
  },
  "language_info": {
   "file_extension": ".jl",
   "mimetype": "application/julia",
   "name": "julia",
   "version": "1.11.2"
  }
 },
 "nbformat": 4,
 "nbformat_minor": 4
}
