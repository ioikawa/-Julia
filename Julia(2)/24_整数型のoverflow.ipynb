{
 "cells": [
  {
   "cell_type": "markdown",
   "metadata": {},
   "source": [
    "# 整数型 [Integers](https://docs.julialang.org/en/v1/manual/integers-and-floating-point-numbers/#Integers)\n",
    "\n",
    "## Overflow\n",
    "整数型 `Int64` は整数値を扱う型とはいっても，数学における整数とは異なり，\n",
    "値の範囲には限界がある．"
   ]
  },
  {
   "cell_type": "code",
   "execution_count": 26,
   "metadata": {},
   "outputs": [
    {
     "name": "stdout",
     "output_type": "stream",
     "text": [
      "2 ^ 63 = -9223372036854775808\n"
     ]
    },
    {
     "data": {
      "text/plain": [
       "-9223372036854775808"
      ]
     },
     "metadata": {},
     "output_type": "display_data"
    }
   ],
   "source": [
    "@show 2^63"
   ]
  },
  {
   "cell_type": "markdown",
   "metadata": {},
   "source": [
    "$2^{63}$は明らかなのに，なぜ負の値になってしまったのか？\n",
    "\n",
    "整数値の扱える値の範囲を越えてしまったためである．\n",
    "これを **overflow** という．\n",
    "\n",
    "数値型の範囲は`typemax()`, `typemin()`で確認できる．\n"
   ]
  },
  {
   "cell_type": "code",
   "execution_count": 27,
   "metadata": {},
   "outputs": [
    {
     "name": "stdout",
     "output_type": "stream",
     "text": [
      "typemax(Int64) = 9223372036854775807\n",
      "typemin(Int64) = -9223372036854775808\n"
     ]
    }
   ],
   "source": [
    "@show typemax(Int64)\n",
    "@show typemin(Int64);"
   ]
  },
  {
   "cell_type": "markdown",
   "metadata": {},
   "source": [
    "`Itn64`の範囲の最大・最小は規格上，\n",
    " それぞれ$2^{64}-1, -2^{64}$ に等しいので，出力値は整合している．"
   ]
  },
  {
   "cell_type": "markdown",
   "metadata": {},
   "source": [
    "## OverflowError の捕捉\n",
    "overflow が発生してもプログラムの実行が止まるわけではないので，\n",
    "表面上は正常に見える．\n",
    "\n",
    "実際に overflow を補足するには `checked_add()` のような\n",
    "関数を使う．"
   ]
  },
  {
   "cell_type": "code",
   "execution_count": 28,
   "metadata": {},
   "outputs": [
    {
     "name": "stdout",
     "output_type": "stream",
     "text": [
      "Base.Checked.checked_add(100, 1) = 101\n"
     ]
    }
   ],
   "source": [
    "# 100 + 1 = 101 なのでoverflowエラーは発生しない\n",
    "@show Base.Checked.checked_add(100, 1);"
   ]
  },
  {
   "cell_type": "code",
   "execution_count": 29,
   "metadata": {},
   "outputs": [
    {
     "data": {
      "text/plain": [
       "OverflowError(\"9223372036854775807 + 1 overflowed for type Int64\")"
      ]
     },
     "metadata": {},
     "output_type": "display_data"
    }
   ],
   "source": [
    "int64_max = typemax(Int64)  # Int64の最大値\n",
    "\n",
    "try\n",
    "    # M+1 → overflowエラーが発生する\n",
    "    @show Base.Checked.checked_add(int64_max, 1)\n",
    "catch e\n",
    "    e   # エラーの内容を表示\n",
    "end\n"
   ]
  },
  {
   "cell_type": "markdown",
   "metadata": {},
   "source": [
    "\n",
    "OverflowErrorを発生させるだけであれば，`try-catch`構文は必要ない．\n",
    "\n",
    "ここでは OverflowErrorでプログラムを中断させたくないので `try-catch`で処理している．\n"
   ]
  },
  {
   "cell_type": "markdown",
   "metadata": {},
   "source": []
  }
 ],
 "metadata": {
  "kernelspec": {
   "display_name": "Julia 1.11.2",
   "language": "julia",
   "name": "julia-1.11"
  },
  "language_info": {
   "file_extension": ".jl",
   "mimetype": "application/julia",
   "name": "julia",
   "version": "1.11.2"
  }
 },
 "nbformat": 4,
 "nbformat_minor": 2
}
