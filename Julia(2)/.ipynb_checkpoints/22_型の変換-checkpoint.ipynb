{
 "cells": [
  {
   "cell_type": "markdown",
   "id": "14678e3d-21bf-449d-adf7-8665a430f75b",
   "metadata": {},
   "source": [
    "# 型の変換と昇格\n",
    "- 異なる型をもつ変数や値に対して演算を行うと型の（暗黙の）変換が行われる．"
   ]
  },
  {
   "cell_type": "code",
   "execution_count": 34,
   "id": "20aee027-d055-4b97-a06c-e1de96142f50",
   "metadata": {},
   "outputs": [
    {
     "data": {
      "text/plain": [
       "1.2"
      ]
     },
     "execution_count": 34,
     "metadata": {},
     "output_type": "execute_result"
    }
   ],
   "source": [
    "1 + 0.2"
   ]
  },
  {
   "cell_type": "markdown",
   "id": "36702f32-9945-4cc1-93c9-6da839ced07b",
   "metadata": {},
   "source": [
    "<img src=\"promote.svg\">"
   ]
  },
  {
   "cell_type": "markdown",
   "id": "f0dbcf68-cf32-4dd0-aedb-2e26ff183d5a",
   "metadata": {},
   "source": [
    "- 型に関して `Int64` < `Float64` < `Complex` という包含関係がある．\n",
    "- 上の例では，`1`が `1.0` (Float64) に自動的に昇格 (promote) される．\n",
    "- 基本的には変数の値が損なわれないように変換されると思ってよい．\n",
    "- `promote()` で2つの変数がどのように昇格されるのかを確認できる．"
   ]
  },
  {
   "cell_type": "code",
   "execution_count": 35,
   "id": "a9ebac10-459d-41f1-a709-52d59e5e2e93",
   "metadata": {},
   "outputs": [
    {
     "name": "stdout",
     "output_type": "stream",
     "text": [
      "t = promote(1, 0.2) = (1.0, 0.2)\n"
     ]
    },
    {
     "data": {
      "text/plain": [
       "Tuple{Float64, Float64}"
      ]
     },
     "execution_count": 35,
     "metadata": {},
     "output_type": "execute_result"
    }
   ],
   "source": [
    "@show t = promote(1, 0.2) \n",
    "typeof(t)"
   ]
  },
  {
   "cell_type": "markdown",
   "id": "7e114676-2776-4c5b-b2d8-2b09219c9603",
   "metadata": {},
   "source": [
    "- この結果から，`1`が `Float64` 型に変換されることがわかる．\n",
    "- もちろん，`Int64` & `String` のように昇格規則が存在しない型のペアもある．"
   ]
  },
  {
   "cell_type": "code",
   "execution_count": 3,
   "id": "f038d39c-c99d-44e6-bb70-e484a4891b7c",
   "metadata": {},
   "outputs": [
    {
     "ename": "LoadError",
     "evalue": "promotion of types Int64 and String failed to change any arguments",
     "output_type": "error",
     "traceback": [
      "promotion of types Int64 and String failed to change any arguments",
      "",
      "Stacktrace:",
      " [1] error(::String, ::String, ::String)",
      "   @ Base ./error.jl:44",
      " [2] sametype_error(input::Tuple{Int64, String})",
      "   @ Base ./promotion.jl:405",
      " [3] not_sametype(x::Tuple{Int64, String}, y::Tuple{Int64, String})",
      "   @ Base ./promotion.jl:399",
      " [4] promote(x::Int64, y::String)",
      "   @ Base ./promotion.jl:382",
      " [5] top-level scope",
      "   @ In[3]:1"
     ]
    }
   ],
   "source": [
    "s = promote(100, \"str\")  # エラー！"
   ]
  },
  {
   "cell_type": "markdown",
   "id": "e10a46a6-f236-4871-824f-aad343498764",
   "metadata": {},
   "source": [
    "## 型の変換: `convert`\n",
    "- 変数の型の明示的な変換は `convert`で行う．\n",
    "- 例として，Int64型の変数を Float64, Complex 型に convertしてみよう．"
   ]
  },
  {
   "cell_type": "code",
   "execution_count": 32,
   "id": "1dabb442-190c-4298-8846-659a33a12a13",
   "metadata": {},
   "outputs": [
    {
     "data": {
      "text/plain": [
       "123.0"
      ]
     },
     "execution_count": 32,
     "metadata": {},
     "output_type": "execute_result"
    }
   ],
   "source": [
    "convert(Float64, 123)"
   ]
  },
  {
   "cell_type": "code",
   "execution_count": 33,
   "id": "1cc9d950-3ac3-42c3-996d-53afdaf54dca",
   "metadata": {},
   "outputs": [
    {
     "data": {
      "text/plain": [
       "123.0 + 0.0im"
      ]
     },
     "execution_count": 33,
     "metadata": {},
     "output_type": "execute_result"
    }
   ],
   "source": [
    "convert(Complex, 123.0)   "
   ]
  },
  {
   "cell_type": "markdown",
   "id": "e0c0b1b4-6e42-4c33-902a-cabae8243e14",
   "metadata": {},
   "source": [
    "<img src=\"convert.svg\">\n",
    "\n",
    "- 逆向きの convert も可能である．"
   ]
  },
  {
   "cell_type": "code",
   "execution_count": 31,
   "id": "0a5ae671-8fa8-446b-9ac2-e51fb95f3484",
   "metadata": {},
   "outputs": [
    {
     "name": "stdout",
     "output_type": "stream",
     "text": [
      "convert(Int64, 2.0 + 0.0im) = 2\n"
     ]
    },
    {
     "data": {
      "text/plain": [
       "2"
      ]
     },
     "execution_count": 31,
     "metadata": {},
     "output_type": "execute_result"
    }
   ],
   "source": [
    "@show convert(Int64, 2.0 + 0.0im)"
   ]
  },
  {
   "cell_type": "markdown",
   "id": "7f0fe586-a420-4309-8768-a640c631c638",
   "metadata": {},
   "source": [
    "### 📝型変換が未定義の場合\n",
    "-  型の変換が定義されていない場合はエラーとなる．\n",
    "- 例えば，負の整数を符号なし整数へ convert しようとするとエラーとなる．"
   ]
  },
  {
   "cell_type": "code",
   "execution_count": 5,
   "id": "38461d1a-543a-4c78-8f72-b14bd844cda8",
   "metadata": {},
   "outputs": [
    {
     "ename": "LoadError",
     "evalue": "InexactError: trunc(UInt32, -100)",
     "output_type": "error",
     "traceback": [
      "InexactError: trunc(UInt32, -100)",
      "",
      "Stacktrace:",
      " [1] throw_inexacterror(f::Symbol, #unused#::Type{UInt32}, val::Int64)",
      "   @ Core ./boot.jl:634",
      " [2] checked_trunc_uint",
      "   @ ./boot.jl:664 [inlined]",
      " [3] toUInt32",
      "   @ ./boot.jl:748 [inlined]",
      " [4] UInt32",
      "   @ ./boot.jl:788 [inlined]",
      " [5] convert(#unused#::Type{UInt32}, x::Int64)",
      "   @ Base ./number.jl:7",
      " [6] top-level scope",
      "   @ In[5]:1"
     ]
    }
   ],
   "source": [
    "convert(UInt32,-100)   # エラー！"
   ]
  },
  {
   "cell_type": "markdown",
   "id": "b3e3e25c-55c0-474d-b657-8410f8825d2c",
   "metadata": {},
   "source": [
    "- 小数部分が0でない数値を整数型に変換しようとしてもエラーが発生する．"
   ]
  },
  {
   "cell_type": "code",
   "execution_count": 27,
   "id": "c0d34cf0-0028-4a94-bae6-48be3f32a0eb",
   "metadata": {},
   "outputs": [
    {
     "ename": "LoadError",
     "evalue": "InexactError: Int64(1.23)",
     "output_type": "error",
     "traceback": [
      "InexactError: Int64(1.23)",
      "",
      "Stacktrace:",
      " [1] Int64",
      "   @ ./float.jl:900 [inlined]",
      " [2] convert(#unused#::Type{Int64}, x::Float64)",
      "   @ Base ./number.jl:7",
      " [3] top-level scope",
      "   @ In[27]:1"
     ]
    }
   ],
   "source": [
    "convert(Int64, 1.23) # エラー！"
   ]
  },
  {
   "cell_type": "markdown",
   "id": "c684a6c5-4382-4a40-8c35-5cb01f18e358",
   "metadata": {},
   "source": [
    "### 文字列から数値型への変換: `Parse()`\n",
    "- 文字列を数値型へ convert することはできないが，`parse()`を用いれば変換できる．"
   ]
  },
  {
   "cell_type": "code",
   "execution_count": 6,
   "id": "da6e0358-8bf0-483e-acca-b1683a7ac177",
   "metadata": {},
   "outputs": [
    {
     "data": {
      "text/plain": [
       "123"
      ]
     },
     "execution_count": 6,
     "metadata": {},
     "output_type": "execute_result"
    }
   ],
   "source": [
    "parse(Int64, \"123\")  # Int64に変換"
   ]
  },
  {
   "cell_type": "code",
   "execution_count": 7,
   "id": "72357b2d-dc44-4bdc-9ae3-703938b2c99b",
   "metadata": {},
   "outputs": [
    {
     "data": {
      "text/plain": [
       "123.456"
      ]
     },
     "execution_count": 7,
     "metadata": {},
     "output_type": "execute_result"
    }
   ],
   "source": [
    "parse(Float64, \"123.456\")"
   ]
  },
  {
   "cell_type": "code",
   "execution_count": 17,
   "id": "96d8de08-4e3c-4fca-b902-242871fc1e95",
   "metadata": {},
   "outputs": [
    {
     "data": {
      "text/plain": [
       "1.0 + 2.0im"
      ]
     },
     "execution_count": 17,
     "metadata": {},
     "output_type": "execute_result"
    }
   ],
   "source": [
    "parse(ComplexF64, \"1+2i\")"
   ]
  },
  {
   "cell_type": "code",
   "execution_count": 9,
   "id": "4acd6ac8-b7ba-4cc2-be30-42734c2da99d",
   "metadata": {},
   "outputs": [
    {
     "ename": "LoadError",
     "evalue": "ArgumentError: missing imaginary unit",
     "output_type": "error",
     "traceback": [
      "ArgumentError: missing imaginary unit",
      "",
      "Stacktrace:",
      " [1] tryparse_internal(#unused#::Type{ComplexF64}, s::String, i::Int64, e::Int64, raise::Bool)",
      "   @ Base ./parse.jl:337",
      " [2] parse(#unused#::Type{ComplexF64}, s::String)",
      "   @ Base ./parse.jl:381",
      " [3] top-level scope",
      "   @ In[9]:1"
     ]
    }
   ],
   "source": [
    "parse(ComplexF64, \"2i+1\")  # エラー！"
   ]
  },
  {
   "cell_type": "code",
   "execution_count": 10,
   "id": "a937fc79-5717-4a2d-a438-adbad60be41c",
   "metadata": {},
   "outputs": [
    {
     "name": "stdout",
     "output_type": "stream",
     "text": [
      "x = (100.0, 1.5)\n"
     ]
    },
    {
     "data": {
      "text/plain": [
       "Tuple{Float64, Float64}"
      ]
     },
     "execution_count": 10,
     "metadata": {},
     "output_type": "execute_result"
    }
   ],
   "source": [
    "x = promote(100, 1.5)   # Int64, Float64\n",
    "@show x\n",
    "typeof(x)"
   ]
  },
  {
   "cell_type": "markdown",
   "id": "1bd3b01a-bf24-460b-9bc3-a3ee00eade37",
   "metadata": {},
   "source": [
    "型によっては昇格できない（定義されていない）こともある．"
   ]
  }
 ],
 "metadata": {
  "kernelspec": {
   "display_name": "Julia 1.9.0-beta3",
   "language": "julia",
   "name": "julia-1.9"
  },
  "language_info": {
   "file_extension": ".jl",
   "mimetype": "application/julia",
   "name": "julia",
   "version": "1.9.0"
  }
 },
 "nbformat": 4,
 "nbformat_minor": 5
}
