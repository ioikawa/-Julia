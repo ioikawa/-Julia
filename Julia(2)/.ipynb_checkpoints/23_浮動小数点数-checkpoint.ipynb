{
 "cells": [
  {
   "cell_type": "markdown",
   "id": "c94eb5a6-1b73-41c7-9318-aa1b4826d6de",
   "metadata": {
    "tags": []
   },
   "source": [
    "# 浮動小数点数型: `Float64`\n",
    "\n",
    "## 指数表記\n",
    "- 計算機において小数は **浮動小数点数 (Floating Point Number)** として実装されている．\n",
    "- 例えば，10進数の浮動小数点数は $1.234 \\times 10^{56}$ のように指数表記（仮数部✕指数部）で表されるような数値を表す．\n",
    "- ただし，仮数部の桁数は固定で，指数の範囲も有界である．\n",
    "   \n",
    "<img src=\"fpn.svg\">"
   ]
  },
  {
   "cell_type": "code",
   "execution_count": 4,
   "id": "bf0200cb-e9f7-422f-a5e6-55ff416bb668",
   "metadata": {},
   "outputs": [
    {
     "data": {
      "text/plain": [
       "1.073741824e9"
      ]
     },
     "execution_count": 4,
     "metadata": {},
     "output_type": "execute_result"
    }
   ],
   "source": [
    "1024.0^3 # 1Gibi "
   ]
  },
  {
   "cell_type": "markdown",
   "id": "3e75e781-307d-44e7-91aa-42702de3ede4",
   "metadata": {},
   "source": [
    "- `e9` は $10^9$ に相当する． 大文字`E`でも構わない．"
   ]
  },
  {
   "cell_type": "code",
   "execution_count": 7,
   "id": "61a75bf7-9639-4f2d-9184-10217fe3dfe2",
   "metadata": {},
   "outputs": [
    {
     "data": {
      "text/plain": [
       "1.234e9"
      ]
     },
     "execution_count": 7,
     "metadata": {},
     "output_type": "execute_result"
    }
   ],
   "source": [
    "1.234E9"
   ]
  },
  {
   "cell_type": "markdown",
   "id": "f4092764-d458-4115-89e3-1401590db995",
   "metadata": {
    "tags": []
   },
   "source": [
    "## 2進浮動小数点数\n",
    "- 計算機では数値は **2進数** で実装されている．これ以降は浮動小数点数の**base は2**とする．\n",
    "- 2進数表記された数値には $1011_2 = 7$　のように添字に2をつけることにする．\n",
    "- 10進数で分数や小数で数値を記述したときに，2進数に変換されるので，微小ながらも誤差が発生する．\n",
    "- 例えば，$1/8$ などは $0.001_2$ なので正確に変換される．\n",
    "- 0.1 は2進数では無限小数：\n",
    "$$\n",
    "0.1 = 2^{-4} + 2^{-5} + 2^{-8} + 2^{-9} + \\cdots + 2^{-4n} + 2^{-(4n+1)} + \\cdots \n",
    "= 0.000110011001100_2 \\cdots\n",
    "$$\n",
    "となるので，有限桁では正確に表現できない．"
   ]
  },
  {
   "cell_type": "code",
   "execution_count": 24,
   "id": "c614a1ba-0fba-4c77-91bd-e10d57114ebb",
   "metadata": {},
   "outputs": [
    {
     "data": {
      "text/plain": [
       "0.1"
      ]
     },
     "execution_count": 24,
     "metadata": {},
     "output_type": "execute_result"
    }
   ],
   "source": [
    "x  = 0.1"
   ]
  },
  {
   "cell_type": "markdown",
   "id": "1449c632-4473-4876-8f06-e2c63417e1bb",
   "metadata": {},
   "source": [
    "-  これは一見すると正確に変換されているように思えてるが，0.2を足してみると誤差が生じていることが確認できる．"
   ]
  },
  {
   "cell_type": "code",
   "execution_count": 25,
   "id": "badc2932-bb17-474e-9055-919dd95a17f8",
   "metadata": {},
   "outputs": [
    {
     "data": {
      "text/plain": [
       "0.30000000000000004"
      ]
     },
     "execution_count": 25,
     "metadata": {},
     "output_type": "execute_result"
    }
   ],
   "source": [
    "x += 0.2"
   ]
  },
  {
   "cell_type": "markdown",
   "id": "49943abf-6c3e-4953-9d8a-18546a15f717",
   "metadata": {},
   "source": [
    "## 浮動小数点数の標準規格"
   ]
  },
  {
   "cell_type": "markdown",
   "id": "87435c8e-957f-4fd4-a20a-a8a8c9970b0a",
   "metadata": {},
   "source": [
    "- 浮動小数点数の標準規格はIEEE754で策定されており，次のような数や特殊値で構成される．\n",
    "    - 正規化数 (normal number)\n",
    "    - 非正規化数 (subnormal number)\n",
    "    - 特殊な値：`Inf` （無限大） や `NaN` (Not a Number) など．    "
   ]
  },
  {
   "cell_type": "markdown",
   "id": "0d4df268-e63e-4091-8882-b03b1a9816f6",
   "metadata": {},
   "source": [
    "## 単精度と倍精度\n",
    "\n",
    "- 多くの計算機でハードウェアレベルで実装されている浮動小数点数は次の２種類：\n",
    "     - 単精度 (single precision) ：2進数23桁・・・`Float32`\n",
    "     - 倍精度 (double precision) ：2進数52桁・・・`Float64`\n",
    "- デフォルトでは倍精度が用いられる．→ 授業でも倍精度を使ってください．\n",
    "- 普及帯のグラフィックボードに搭載されているGPUは単精度計算のみをサポートしている．\n",
    "- 科学技術計算用途のGPUでは倍精度がサポートされているものもある．\n"
   ]
  },
  {
   "cell_type": "markdown",
   "id": "a1b49d91-7372-474d-9dc0-bcf98119d676",
   "metadata": {
    "jp-MarkdownHeadingCollapsed": true,
    "tags": []
   },
   "source": [
    "## 正規化数，非正規化数\n",
    "正規化数とは，$1.d_1 d_2 \\cdots d_{52} \\times 2^e$ という先頭桁が1の小数である．仮数部は2進数表示である．\n",
    "- $d_1, d_2, \\ldots, d_{52} \\in \\{0, 1\\}$\n",
    "- $-1022 \\le e \\le 1023$\n",
    "    \n",
    "非正規化数は，$0.d_1 d_2 \\cdots d_{52} \\times 2^{-1023}$の形で表される小数のことである．\n",
    "$d_1,...d_{52}$は正規化数と同様に 0 or 1 の値を取る．\n",
    "<br>\n",
    "\n",
    "正規化数を数直線上にプロットすると原点付近で相対的に大きな隙間が生まれる．\n",
    "非正規化数はこの隙間を均質に埋める役割を担っている．\n",
    "\n",
    "<img src = \"fpn01.png\" width=\"80%\">"
   ]
  },
  {
   "cell_type": "markdown",
   "id": "476feffc-d097-4376-8560-02688ed1d32c",
   "metadata": {},
   "source": [
    "## 指数の記号 `e`, `E`\n",
    "倍精度浮動小数点数では， `e` あるいは `E` の後ろに指数を表記する．"
   ]
  },
  {
   "cell_type": "code",
   "execution_count": 2,
   "id": "8a31e682-a44b-479d-aeba-71866ec74b3d",
   "metadata": {},
   "outputs": [
    {
     "data": {
      "text/plain": [
       "1.23e-7"
      ]
     },
     "execution_count": 2,
     "metadata": {},
     "output_type": "execute_result"
    }
   ],
   "source": [
    "0.000000123"
   ]
  },
  {
   "cell_type": "code",
   "execution_count": 3,
   "id": "2ab791e0-a489-4a75-9fad-72e35bcc85e4",
   "metadata": {},
   "outputs": [
    {
     "data": {
      "text/plain": [
       "1.0e12"
      ]
     },
     "execution_count": 3,
     "metadata": {},
     "output_type": "execute_result"
    }
   ],
   "source": [
    "1000000000000.0"
   ]
  },
  {
   "cell_type": "code",
   "execution_count": 4,
   "id": "5ddf18f4-4418-4419-a747-de7a25e8aac4",
   "metadata": {},
   "outputs": [
    {
     "data": {
      "text/plain": [
       "123450.0"
      ]
     },
     "execution_count": 4,
     "metadata": {},
     "output_type": "execute_result"
    }
   ],
   "source": [
    "0.12345E6"
   ]
  },
  {
   "cell_type": "code",
   "execution_count": 5,
   "id": "7c5e2169-95eb-41ed-b2ea-b7f5891d9910",
   "metadata": {},
   "outputs": [
    {
     "data": {
      "text/plain": [
       "123450.0"
      ]
     },
     "execution_count": 5,
     "metadata": {},
     "output_type": "execute_result"
    }
   ],
   "source": [
    "0.12345E+6  # E6と同じ"
   ]
  },
  {
   "cell_type": "markdown",
   "id": "c2fdfe92-c0db-47c8-9082-13f80b5cafaa",
   "metadata": {},
   "source": [
    "## 丸め誤差\n",
    "浮動小数点数どうしを四則演算して得られた値は浮動小数点数になるとは限らない．"
   ]
  },
  {
   "cell_type": "code",
   "execution_count": 6,
   "id": "94b53599-f9b8-4db5-bfbc-07a196ffaa38",
   "metadata": {},
   "outputs": [
    {
     "data": {
      "text/plain": [
       "1.2345679009876545"
      ]
     },
     "execution_count": 6,
     "metadata": {},
     "output_type": "execute_result"
    }
   ],
   "source": [
    "1.111111111^2   "
   ]
  },
  {
   "cell_type": "markdown",
   "id": "3e07c15b-493b-4e98-b3a6-f9d4a2ac5c84",
   "metadata": {},
   "source": [
    "正確な値は $1.111111111^2 = 1.234567900987654321$ であり，この場合は下4桁分が切り捨てられている．\n",
    "\n",
    "このように演算結果の値に近い浮動小数点数への近似を **丸め** (rounding) といい，\n",
    "その際に生じる誤差を **丸め誤差** (rounding error)  という．\n",
    "\n",
    "丸め誤差は浮動小数点数の計算において，ほぼ必然的に発生する．\n",
    "丸め方には，正/負の無限大の方向，原点方向，最近点への丸めなどがある．"
   ]
  },
  {
   "cell_type": "markdown",
   "id": "01e7f95a-859c-47ba-bd1f-10dd90a293c3",
   "metadata": {},
   "source": [
    "## Overflow\n",
    "倍精度で扱える最大の正の正規化数は`floatmax(Float64)`で取得できる．"
   ]
  },
  {
   "cell_type": "code",
   "execution_count": 7,
   "id": "d64d59ac-b4ce-4335-a729-455aaff1933c",
   "metadata": {},
   "outputs": [
    {
     "data": {
      "text/plain": [
       "1.7976931348623157e308"
      ]
     },
     "execution_count": 7,
     "metadata": {},
     "output_type": "execute_result"
    }
   ],
   "source": [
    "x_max = floatmax(Float64)"
   ]
  },
  {
   "cell_type": "markdown",
   "id": "91cab129-cc45-4574-a92a-1f20b3ab2b1a",
   "metadata": {},
   "source": [
    "浮動小数点数の演算の結果が `x_max`を超えた場合，無限大を表す `Inf` に変換される．\n",
    "このような現象を overflow という．"
   ]
  },
  {
   "cell_type": "code",
   "execution_count": 8,
   "id": "0be62fa0-8bb2-492b-8e90-b5283c763d84",
   "metadata": {},
   "outputs": [
    {
     "data": {
      "text/plain": [
       "Inf"
      ]
     },
     "execution_count": 8,
     "metadata": {},
     "output_type": "execute_result"
    }
   ],
   "source": [
    "2 * x_max "
   ]
  },
  {
   "cell_type": "markdown",
   "id": "045f998f-e892-4a16-9e8a-8bdc9fb67aee",
   "metadata": {},
   "source": [
    "#### Note\n",
    "`x_max`は $1.11\\cdots 1_2 \\times 2^{1023}$に等しい．\n",
    "添字の2は2進数を表す．\n",
    "\n",
    "`BigFloat`で計算して一致することを確認する．\n",
    "仮数部を10進数に直すと，\n",
    "$$\n",
    "2^{0} + 2^{-1} + \\cdots + 2^{-53} = \\frac{1 - 2^{-54}}{1- 2^{-1}}\n",
    " = 2 - 2^{-54}.\n",
    "$$\n"
   ]
  },
  {
   "cell_type": "code",
   "execution_count": 9,
   "id": "8c9f2656-1ab7-4729-8a09-ed05bb650917",
   "metadata": {},
   "outputs": [
    {
     "data": {
      "text/plain": [
       "1.797693134862315857833297452421029442208659153021342421048019300690888220491329e+308"
      ]
     },
     "execution_count": 9,
     "metadata": {},
     "output_type": "execute_result"
    }
   ],
   "source": [
    "(2 - big(2.0)^(-54))*big(2.0)^1023"
   ]
  },
  {
   "cell_type": "markdown",
   "id": "983555c2-1480-4111-848d-67058c8bb215",
   "metadata": {},
   "source": [
    "確かに一致している．"
   ]
  },
  {
   "cell_type": "markdown",
   "id": "7131b7b1-8dd2-4c6f-bd21-5e9270c83e8f",
   "metadata": {},
   "source": [
    "#### Note\n",
    "倍精度で扱える *最小の正の正規化数* を知りたい場合は，`floatmin`を使う．"
   ]
  },
  {
   "cell_type": "code",
   "execution_count": 10,
   "id": "efb7b741-c053-469a-9d94-24c1d3b2e8ab",
   "metadata": {},
   "outputs": [
    {
     "data": {
      "text/plain": [
       "2.2250738585072014e-308"
      ]
     },
     "execution_count": 10,
     "metadata": {},
     "output_type": "execute_result"
    }
   ],
   "source": [
    "x_min = floatmin(Float64)"
   ]
  },
  {
   "cell_type": "markdown",
   "id": "2fc414c9-0508-43c5-8345-022369f82bb5",
   "metadata": {},
   "source": [
    "## Underflow\n",
    "最小の正の非正規化数は `eps(0.0)` で取得できる．"
   ]
  },
  {
   "cell_type": "code",
   "execution_count": 11,
   "id": "810a6868-8797-4e56-ab06-dc6287abe8b0",
   "metadata": {},
   "outputs": [
    {
     "data": {
      "text/plain": [
       "5.0e-324"
      ]
     },
     "execution_count": 11,
     "metadata": {},
     "output_type": "execute_result"
    }
   ],
   "source": [
    "subnormal_min = eps(0.0)"
   ]
  },
  {
   "cell_type": "markdown",
   "id": "a72e8a90-09d0-46a9-99d9-5958284b75e8",
   "metadata": {},
   "source": [
    "（正しい値は $0.00\\cdots 01_2 \\times 2^{-1022} = 4.940\\cdots \\times 10^{-324}$なので，表示されている数値は誤りです．\n",
    "内部的には正しい値が格納されているようなので，表示上のバグかもしれません．原因が分かる人は教えてください．）"
   ]
  },
  {
   "cell_type": "code",
   "execution_count": 12,
   "id": "59e93ef3-c8c9-4047-a1ff-c39a6657ff37",
   "metadata": {},
   "outputs": [
    {
     "data": {
      "text/plain": [
       "\"0000000000000000000000000000000000000000000000000000000000000001\""
      ]
     },
     "execution_count": 12,
     "metadata": {},
     "output_type": "execute_result"
    }
   ],
   "source": [
    "bitstring(subnormal_min) # bit列の表示．これは問題ない．"
   ]
  },
  {
   "cell_type": "markdown",
   "id": "f241caf0-65a2-488b-b948-41bbff2c0526",
   "metadata": {},
   "source": [
    "演算結果が この値を下回ると `0.0` に丸められることがあり，これを underflow という．"
   ]
  },
  {
   "cell_type": "code",
   "execution_count": 13,
   "id": "d354dbc7-990f-4597-a948-0fe6f77c0cbe",
   "metadata": {},
   "outputs": [
    {
     "data": {
      "text/plain": [
       "0.0"
      ]
     },
     "execution_count": 13,
     "metadata": {},
     "output_type": "execute_result"
    }
   ],
   "source": [
    "subnormal_min/2  "
   ]
  },
  {
   "cell_type": "markdown",
   "id": "ce8ce247-19b3-46cb-bda6-5fedb4d454a9",
   "metadata": {},
   "source": [
    "#### Note\n",
    "`subnormal_min` は $0.00\\cdots 01_2 \\times 2^{-1022}$に等しい．\n",
    "仮数部は10進数で表すと，$2^{-52}$だから，$2^{-(1022 + 52)} = 2^{-1074}$.\n",
    "`BigFloat`で表示してみる．"
   ]
  },
  {
   "cell_type": "code",
   "execution_count": 14,
   "id": "7c6df022-829f-4169-9f8e-42811c9e4ec8",
   "metadata": {},
   "outputs": [
    {
     "data": {
      "text/plain": [
       "4.940656458412465441765687928682213723650598026143247644255856825006755072702088e-324"
      ]
     },
     "execution_count": 14,
     "metadata": {},
     "output_type": "execute_result"
    }
   ],
   "source": [
    "big(2.0)^(-1074)"
   ]
  },
  {
   "cell_type": "code",
   "execution_count": 15,
   "id": "f24121dc-d86d-4b74-9b19-5aa5fdc410f7",
   "metadata": {},
   "outputs": [
    {
     "data": {
      "text/plain": [
       "4.940656458412465441765687928682213723650598026143247644255856825006755072702088e-324"
      ]
     },
     "execution_count": 15,
     "metadata": {},
     "output_type": "execute_result"
    }
   ],
   "source": [
    "big(eps(0.0))   # BigFloatで確認．一致する．"
   ]
  },
  {
   "cell_type": "markdown",
   "id": "44386d94-d61b-49a7-968e-2b253e061205",
   "metadata": {},
   "source": [
    "## `NaN` (Not a Number)\n",
    "\n",
    "浮動小数点数において未定義な演算等を行った結果，`NaN` という特殊な浮動小数点数が発生することがある．\n",
    "\n",
    "例えば，0を0で割ると `Nan` が発生する．"
   ]
  },
  {
   "cell_type": "code",
   "execution_count": 16,
   "id": "22356668-aa9d-4f5d-b705-fb6c2ab18eb0",
   "metadata": {},
   "outputs": [
    {
     "data": {
      "text/plain": [
       "NaN"
      ]
     },
     "execution_count": 16,
     "metadata": {},
     "output_type": "execute_result"
    }
   ],
   "source": [
    "0/0"
   ]
  },
  {
   "cell_type": "markdown",
   "id": "a972d814-6986-4a17-a2f4-2bbe66fd2d3c",
   "metadata": {},
   "source": [
    "ちなみに0以外の正の浮動小数点数をゼロで割ると`Inf`になる．"
   ]
  },
  {
   "cell_type": "code",
   "execution_count": 17,
   "id": "f9b2d200-91a9-47e9-9278-d9413a0eae2e",
   "metadata": {},
   "outputs": [
    {
     "data": {
      "text/plain": [
       "Inf"
      ]
     },
     "execution_count": 17,
     "metadata": {},
     "output_type": "execute_result"
    }
   ],
   "source": [
    "1/0"
   ]
  },
  {
   "cell_type": "markdown",
   "id": "14ce5882-deb6-4099-bce5-38aa0a468bff",
   "metadata": {},
   "source": [
    "これ以外にも，`Inf`に関する四則演算の結果，`NaN` が発生することがある． "
   ]
  },
  {
   "cell_type": "code",
   "execution_count": 18,
   "id": "567bacc8-7a4c-4179-88f6-eb8079367c1a",
   "metadata": {},
   "outputs": [
    {
     "name": "stdout",
     "output_type": "stream",
     "text": [
      "Inf + Inf = Inf\n",
      "Inf - Inf = NaN\n",
      "Inf * Inf = Inf\n",
      "Inf * 0 = NaN\n",
      "Inf / Inf = NaN\n"
     ]
    },
    {
     "data": {
      "text/plain": [
       "NaN"
      ]
     },
     "execution_count": 18,
     "metadata": {},
     "output_type": "execute_result"
    }
   ],
   "source": [
    "@show Inf + Inf\n",
    "@show Inf - Inf    # ∞ - ∞\n",
    "@show Inf * Inf    \n",
    "@show Inf * 0      # ∞ ✕ 0\n",
    "@show Inf / Inf    # ∞ ÷ ∞"
   ]
  },
  {
   "cell_type": "markdown",
   "id": "69003ef4-5113-49e6-bd3a-b2e49c02c21d",
   "metadata": {},
   "source": [
    "不定形の極限に対応するような演算を行うと `NaN` が発生すると覚えておけばよい．\n",
    "\n",
    "#### Warning\n",
    "- `Inf` や `NaN` の発生を前提としたコード設計はしないようにしてください．\n",
    "`Inf` や `NaN`の挙動を完全に把握することは非常に困難で，bug （プログラムにおける予期しない動作やエラー）\n",
    "を生みやすいです．さらに，読み手にとっても理解しにくいコードになります．\n",
    "- Juliaでは `isfinite(x)` で `x` が有限値であるかどうか， `isnan(x)`で `x` が `NaN` であるかどうかの判定ができます．\n",
    "    "
   ]
  },
  {
   "cell_type": "markdown",
   "id": "afcc8856-3b73-4c6e-9ee1-956293c1d8bd",
   "metadata": {},
   "source": [
    "## 情報落ち\n",
    "浮動小数点数では，絶対値が machine epsilonより小さな値を加算しても，丸めによって値が変化しないことがある．\n",
    "これを情報落ちという．\n",
    "\n",
    "倍精度のmachine epsilonは `eps(Float64)` or `eps(1.0)`などで取得できる．"
   ]
  },
  {
   "cell_type": "code",
   "execution_count": 19,
   "id": "53dab6f7-2e05-4101-b13a-2c6fce92d4f2",
   "metadata": {},
   "outputs": [
    {
     "data": {
      "text/plain": [
       "2.220446049250313e-16"
      ]
     },
     "execution_count": 19,
     "metadata": {},
     "output_type": "execute_result"
    }
   ],
   "source": [
    "ϵ = eps(Float64)"
   ]
  },
  {
   "cell_type": "code",
   "execution_count": 20,
   "id": "c75d87ea-f484-4557-88a7-fb8ef6f21918",
   "metadata": {},
   "outputs": [
    {
     "data": {
      "text/plain": [
       "1.0"
      ]
     },
     "execution_count": 20,
     "metadata": {},
     "output_type": "execute_result"
    }
   ],
   "source": [
    "1.0 + 1e-16"
   ]
  },
  {
   "cell_type": "markdown",
   "id": "1cb97f61-2390-44ff-838b-3e6b304eb7f5",
   "metadata": {},
   "source": [
    "上のような例では情報落ちを回避することはできないが，\n",
    "計算順序を変えることで情報落ちを回避できることがある．"
   ]
  },
  {
   "cell_type": "code",
   "execution_count": 21,
   "id": "faa779e8-ff09-4d82-9830-db9dadda78d1",
   "metadata": {},
   "outputs": [
    {
     "data": {
      "text/plain": [
       "0.0"
      ]
     },
     "execution_count": 21,
     "metadata": {},
     "output_type": "execute_result"
    }
   ],
   "source": [
    "(1e-16 + 1.0) - 1.0"
   ]
  },
  {
   "cell_type": "code",
   "execution_count": 22,
   "id": "a39cbd15-a177-4fa8-a50c-077d043b6768",
   "metadata": {},
   "outputs": [
    {
     "data": {
      "text/plain": [
       "1.0e-16"
      ]
     },
     "execution_count": 22,
     "metadata": {},
     "output_type": "execute_result"
    }
   ],
   "source": [
    "1e-16 + (1.0 - 1.0)"
   ]
  },
  {
   "cell_type": "markdown",
   "id": "a19ef2bf-dbb0-4bc4-8fc7-b9b0434694f4",
   "metadata": {},
   "source": [
    "##  桁落ち\n",
    "近い値の２つの浮動小数点数を引き算すると有効桁数が減少する（桁落ち）．\n",
    "\n",
    "例えば，$1.2345 - 1.2344 = 0.0001 = 1 \\times 10^4$ は，有効桁数5桁どうしを引き算した結果，有効桁数が1桁に減っている．\n",
    "\n",
    "したがって，浮動小数点数の計算では近い値を持つもの同士の減算はできる限り避けたほうがよい．  "
   ]
  },
  {
   "cell_type": "markdown",
   "id": "ecbabb7a-5998-4561-9619-abda75f36031",
   "metadata": {},
   "source": [
    "## 桁落ちの例と回避法\n",
    "\n",
    " $b$ を正の実数とする．\n",
    "2次方程式　$f(x) = x^2 - 2bx + 1 = 0$ の解は，解の公式より\n",
    "$$\n",
    "  \\alpha := b - \\sqrt{b^2 - 1}, \\quad \\beta := b + \\sqrt{b^2 - 1} \n",
    "$$\n",
    "と表される．\n",
    "$b^2 \\gg 1$の場合，\n",
    "$\\alpha$をこのまま計算すると， $\\sqrt{b^2 - 1} \\approx b$ であるから桁落ちが生じる．"
   ]
  },
  {
   "cell_type": "code",
   "execution_count": 23,
   "id": "d9916baf-5e0d-4f1c-b251-d9682aa4b8ff",
   "metadata": {},
   "outputs": [
    {
     "data": {
      "text/plain": [
       "0.0"
      ]
     },
     "execution_count": 23,
     "metadata": {},
     "output_type": "execute_result"
    }
   ],
   "source": [
    "b = 1e8  # 1e8 = 10^8 \n",
    "alpha = b - sqrt(b^2-1)"
   ]
  },
  {
   "cell_type": "markdown",
   "id": "cfe260f9-a691-4123-8f99-161f12870d2b",
   "metadata": {},
   "source": [
    "計算値は `0.0` であるが，これが解ではないことは代入してみれば明らかである．\n",
    "\n",
    "このような場合でも，式変形で桁落ちを避けることができる．\n",
    "\n",
    "$$\n",
    "b - \\sqrt{b^2 - 1}  = \\frac{1}{b + \\sqrt{b^2 - 1}} \n",
    "$$\n",
    "\n",
    "上の式で計算してみると，真値に近い値が得られる．"
   ]
  },
  {
   "cell_type": "code",
   "execution_count": 24,
   "id": "49bc5eb6-7c0c-45e9-a253-f278b7bd3ade",
   "metadata": {},
   "outputs": [
    {
     "data": {
      "text/plain": [
       "5.0e-9"
      ]
     },
     "execution_count": 24,
     "metadata": {},
     "output_type": "execute_result"
    }
   ],
   "source": [
    "b = 1e8\n",
    "x = 1/(b + sqrt(b^2-1))"
   ]
  },
  {
   "cell_type": "markdown",
   "id": "2a58d6ed-2274-45d0-85b8-dd7766704b5b",
   "metadata": {
    "tags": []
   },
   "source": [
    "#### Remark\n",
    "上の $\\alpha$ の計算式は万能ではなく，$b<0$ かつ $b^2 \\gg 1$ の場合は桁落ちが発生する．\n",
    "    "
   ]
  },
  {
   "cell_type": "markdown",
   "id": "f6a168d2-562a-4458-842d-b1f26378bec9",
   "metadata": {},
   "source": [
    "\n",
    "\n",
    "#### Note: `bitstring()`によるFloat64の格納bit列表示\n",
    "浮動小数点数は計算機内部では2進数で実装されているが，\n",
    "プログラムコードではわかりやすさのために10進数で表記される．\n",
    "\n",
    "倍精度浮動小数点数がどのように2進数（bit列）で格納されているか見てみよう．\n",
    "最も簡単な例として，`1.0`の場合："
   ]
  },
  {
   "cell_type": "code",
   "execution_count": 25,
   "id": "2fbfee2f-4d33-4612-bc68-91416ac6de4a",
   "metadata": {},
   "outputs": [
    {
     "data": {
      "text/plain": [
       "\"0011111111110000000000000000000000000000000000000000000000000000\""
      ]
     },
     "execution_count": 25,
     "metadata": {},
     "output_type": "execute_result"
    }
   ],
   "source": [
    "bitstring(1.0)"
   ]
  },
  {
   "cell_type": "markdown",
   "id": "63ff1323-db93-441c-8551-5398a03930cd",
   "metadata": {},
   "source": [
    "先頭のbitは符号が格納されている．`0`はプラス，`1`はマイナスである．`-1.0`のbit列は先頭が`1`になる．"
   ]
  },
  {
   "cell_type": "code",
   "execution_count": 26,
   "id": "3aa15be5-2eae-42fc-a228-f785bfb080cc",
   "metadata": {},
   "outputs": [
    {
     "data": {
      "text/plain": [
       "\"1011111111110000000000000000000000000000000000000000000000000000\""
      ]
     },
     "execution_count": 26,
     "metadata": {},
     "output_type": "execute_result"
    }
   ],
   "source": [
    "bitstring(-1.0)"
   ]
  },
  {
   "cell_type": "markdown",
   "id": "e2b8a24d-ae5f-4125-9018-285960a7bc24",
   "metadata": {},
   "source": [
    "2〜12bitに格納されている値 $e$ は指数に対応している．\n",
    "$e$ は $0$以上$1 11111 11111_2 = 2047$以下の整数値を取りうる．\n",
    "次のような規則で指数あるいは特殊値に変換される．\n",
    "\n",
    "- $e=0$:  ゼロ（仮数部が全て0) or 非正規化数（仮数部が非ゼロ)\n",
    "- $1 \\le e \\le 2046$: $e - 1023$ が指数．\n",
    "- $e = 2047$: `Inf`,`-Inf` (仮数部が全て0) or `NaN`（仮数部が非ゼロ)\n",
    "\n",
    "【例】\n",
    "- `bitstring(1.0)` の場合は $e=0111111111_2 = 1023$ だから指数は $e-1023 = 0$である．\n",
    "仮数部の情報は13bit以降に格納されている．\n",
    "\n",
    "- $1+2^{-5} = 1.0001$ (2進数) の場合："
   ]
  },
  {
   "cell_type": "code",
   "execution_count": 27,
   "id": "9dda1c8b-af58-4fba-b19a-c4c7416747c9",
   "metadata": {},
   "outputs": [
    {
     "data": {
      "text/plain": [
       "\"0000100000000000000000000000000000000000000000000000\""
      ]
     },
     "execution_count": 27,
     "metadata": {},
     "output_type": "execute_result"
    }
   ],
   "source": [
    "bitstring(1+2^-5)[13:end]"
   ]
  },
  {
   "cell_type": "markdown",
   "id": "f4115ae5-5723-4f8c-83e2-d78920671ff1",
   "metadata": {},
   "source": [
    "仮数部のbit列は（先頭の桁は省略されて）`0000100...0`となっている．\n",
    "\n",
    "- $0.1$ (10進数） は有限小数であるが，2進数では無限小数となる．\n",
    "$0.1$ を倍精度に変換すると，途中で桁が打ち切られるので，丸め誤差が生じる．"
   ]
  },
  {
   "cell_type": "code",
   "execution_count": 28,
   "id": "548639ad-6aa8-4094-980e-6a6413c74ca5",
   "metadata": {},
   "outputs": [
    {
     "data": {
      "text/plain": [
       "\"1001100110011001100110011001100110011001100110011010\""
      ]
     },
     "execution_count": 28,
     "metadata": {},
     "output_type": "execute_result"
    }
   ],
   "source": [
    "bitstring(0.1)[13:end]"
   ]
  },
  {
   "cell_type": "markdown",
   "id": "00c19a38-3035-4cae-b9ff-5fa0c74be4e7",
   "metadata": {},
   "source": [
    "以下，特徴的な浮動小数点数のbit列を表示してみる．"
   ]
  },
  {
   "cell_type": "code",
   "execution_count": 29,
   "id": "9dff90ee-eb48-4088-9d85-eb90f22f9bed",
   "metadata": {},
   "outputs": [
    {
     "data": {
      "text/plain": [
       "\"0000000000000000000000000000000000000000000000000000000000000000\""
      ]
     },
     "execution_count": 29,
     "metadata": {},
     "output_type": "execute_result"
    }
   ],
   "source": [
    "bitstring(0.0)  # ゼロ"
   ]
  },
  {
   "cell_type": "code",
   "execution_count": 30,
   "id": "72d6a34e-fb0f-473f-a394-9578b1519500",
   "metadata": {},
   "outputs": [
    {
     "data": {
      "text/plain": [
       "\"1000000000000000000000000000000000000000000000000000000000000000\""
      ]
     },
     "execution_count": 30,
     "metadata": {},
     "output_type": "execute_result"
    }
   ],
   "source": [
    "bitstring(-0.0)  # 負のゼロ"
   ]
  },
  {
   "cell_type": "code",
   "execution_count": 31,
   "id": "893f4667-1b71-4b44-9215-24d486a3dc7f",
   "metadata": {},
   "outputs": [
    {
     "data": {
      "text/plain": [
       "\"0111111111101111111111111111111111111111111111111111111111111111\""
      ]
     },
     "execution_count": 31,
     "metadata": {},
     "output_type": "execute_result"
    }
   ],
   "source": [
    "bitstring(floatmax(Float64))  # 最大の正の正規化数＝1.111...11e1023"
   ]
  },
  {
   "cell_type": "code",
   "execution_count": 32,
   "id": "c2f54015-2397-4d7d-86c5-8e8444106796",
   "metadata": {},
   "outputs": [
    {
     "data": {
      "text/plain": [
       "\"0000000000000000000000000000000000000000000000000000000000000001\""
      ]
     },
     "execution_count": 32,
     "metadata": {},
     "output_type": "execute_result"
    }
   ],
   "source": [
    "bitstring(eps(0.0)) # 最小の正の非正規化数＝0.000...01e-1022"
   ]
  },
  {
   "cell_type": "code",
   "execution_count": 33,
   "id": "4ce89461-79d8-450a-84a3-227dc4490368",
   "metadata": {},
   "outputs": [
    {
     "data": {
      "text/plain": [
       "\"0111111111110000000000000000000000000000000000000000000000000000\""
      ]
     },
     "execution_count": 33,
     "metadata": {},
     "output_type": "execute_result"
    }
   ],
   "source": [
    "bitstring(Inf)  #形式的には 1.000...00e1024"
   ]
  },
  {
   "cell_type": "code",
   "execution_count": 34,
   "id": "b85a8aa6-d376-4987-94da-0d5c7676fe3b",
   "metadata": {},
   "outputs": [
    {
     "data": {
      "text/plain": [
       "\"1111111111110000000000000000000000000000000000000000000000000000\""
      ]
     },
     "execution_count": 34,
     "metadata": {},
     "output_type": "execute_result"
    }
   ],
   "source": [
    "bitstring(-Inf)  # Infとは符号bitのみ異なる"
   ]
  },
  {
   "cell_type": "code",
   "execution_count": 35,
   "id": "04ca2394-d63d-46e0-badc-a72c064df74e",
   "metadata": {},
   "outputs": [
    {
     "data": {
      "text/plain": [
       "\"0111111111111000000000000000000000000000000000000000000000000000\""
      ]
     },
     "execution_count": 35,
     "metadata": {},
     "output_type": "execute_result"
    }
   ],
   "source": [
    "bitstring(NaN)   # 形式的には 1.100.00e1024"
   ]
  }
 ],
 "metadata": {
  "kernelspec": {
   "display_name": "Julia 1.6.7",
   "language": "julia",
   "name": "julia-1.6"
  },
  "language_info": {
   "file_extension": ".jl",
   "mimetype": "application/julia",
   "name": "julia",
   "version": "1.6.7"
  }
 },
 "nbformat": 4,
 "nbformat_minor": 5
}
