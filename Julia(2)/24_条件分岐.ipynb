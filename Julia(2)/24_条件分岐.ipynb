{
 "cells": [
  {
   "cell_type": "markdown",
   "id": "44328ec7-8dee-4423-9b09-b55b62b1df49",
   "metadata": {},
   "source": [
    "# 条件分岐\n",
    "\n",
    "- 変数の値など，状況に応じて処理を変えたい場合， if(-elseif-else)文 を用いる．  \n",
    "- 例えば，変数 `x` が `x>0` であるときに \"positive\" と表示するには，次のように記述する．"
   ]
  },
  {
   "cell_type": "code",
   "execution_count": 1,
   "id": "020ca77b-cfd7-41b8-bc6e-c031ba08b099",
   "metadata": {},
   "outputs": [
    {
     "name": "stdout",
     "output_type": "stream",
     "text": [
      "1 is positive.\n"
     ]
    }
   ],
   "source": [
    "x = 1\n",
    "\n",
    "if x > 0   # 条件式 \n",
    "    println(\"$x is positive.\")  # 条件式が true のときのみ実行\n",
    "end"
   ]
  },
  {
   "cell_type": "markdown",
   "id": "95680f15-a0ef-4a62-bcfc-0e2bbd0cd427",
   "metadata": {},
   "source": [
    "- `x < 0` のとき \"negative\" と表示する場合は，`elseif` で条件式を追加すればよい．"
   ]
  },
  {
   "cell_type": "code",
   "execution_count": 1,
   "id": "b755c234-edd7-4313-8548-c169133341d1",
   "metadata": {},
   "outputs": [
    {
     "name": "stdout",
     "output_type": "stream",
     "text": [
      "-2 is negative.\n"
     ]
    }
   ],
   "source": [
    "x = -2\n",
    "if x > 0 \n",
    "    println(\"$x is positive.\")\n",
    "elseif x < 0                      # 追加\n",
    "    println(\"$x is negative.\")    # 追加\n",
    "end"
   ]
  },
  {
   "cell_type": "markdown",
   "id": "7b0614ac-0d4d-40d8-9a64-39791f6dc90d",
   "metadata": {},
   "source": [
    "- `x<0` でも `x>0` でもないときは，`x` は 0 と言いたいところだが，それ以外の可能性もあるので，`else` を用いて次のように書いておこう．"
   ]
  },
  {
   "cell_type": "code",
   "execution_count": 3,
   "id": "56a80d83-91e4-475d-aac3-70a3fccfbb7d",
   "metadata": {},
   "outputs": [
    {
     "name": "stdout",
     "output_type": "stream",
     "text": [
      "NaN is zero or something.\n"
     ]
    }
   ],
   "source": [
    "x = NaN\n",
    "if x > 0 \n",
    "    println(\"$x is positive.\")\n",
    "elseif x < 0\n",
    "    println(\"$x is negative.\")\n",
    "else                                      # 追加\n",
    "    println(\"$x is zero or something.\")   # 追加\n",
    "end"
   ]
  },
  {
   "cell_type": "markdown",
   "id": "be7d4214-15af-4230-8974-96c269af755d",
   "metadata": {},
   "source": [
    "## 等号と比較演算子\n",
    "- 変数（値）を比較する演算子は次の通り．\n",
    "    - `x == y`  ：　$x=y$       \n",
    "    - `x != y`  ：　$x\\neq y$    \n",
    "    - `x > y`   ：　$x > y$      \n",
    "    - `x >= y`  ：　$x \\ge y$    \n",
    "- 論理積（AND）は `&&`，論理和 (OR) は `||` が対応している．例えば，"
   ]
  },
  {
   "cell_type": "code",
   "execution_count": 4,
   "id": "c815943f-afec-4455-a52a-7e756c5bc57f",
   "metadata": {},
   "outputs": [
    {
     "data": {
      "text/plain": [
       "true"
      ]
     },
     "execution_count": 4,
     "metadata": {},
     "output_type": "execute_result"
    }
   ],
   "source": [
    "1 < 2 && 2 < 3"
   ]
  },
  {
   "cell_type": "markdown",
   "id": "fe2d0722-ba8b-437a-8ebc-ba8121afb569",
   "metadata": {},
   "source": [
    "これは次のように書くこともできる．"
   ]
  },
  {
   "cell_type": "code",
   "execution_count": 5,
   "id": "abfab409-9f6c-416a-8150-0733245f9378",
   "metadata": {},
   "outputs": [
    {
     "data": {
      "text/plain": [
       "true"
      ]
     },
     "execution_count": 5,
     "metadata": {},
     "output_type": "execute_result"
    }
   ],
   "source": [
    "1 < 2 < 3"
   ]
  },
  {
   "cell_type": "markdown",
   "id": "a0fb9fc1-d6a6-4667-b03d-304749bb5942",
   "metadata": {},
   "source": [
    "- `&&` は `||` は Bool値に対する二項演算子である．"
   ]
  },
  {
   "cell_type": "markdown",
   "id": "2f966925-2dcf-4d2a-8457-f02a25255aec",
   "metadata": {},
   "source": [
    "## 短絡評価\n",
    "\n",
    "```\n",
    "x=1\n",
    "if x > 0 \n",
    "    println(\"$x is positive.\")\n",
    "end\n",
    "\n",
    "```"
   ]
  },
  {
   "cell_type": "markdown",
   "id": "07fc1267-9910-43b4-8fe7-35f366c8b46a",
   "metadata": {},
   "source": [
    "- という条件分岐コードは `&&` を用いて次のように書くこともできる．"
   ]
  },
  {
   "cell_type": "code",
   "execution_count": 14,
   "id": "90b616f8-8b44-4138-aa54-7597590a6143",
   "metadata": {},
   "outputs": [
    {
     "name": "stdout",
     "output_type": "stream",
     "text": [
      "1 is positive.\n"
     ]
    }
   ],
   "source": [
    "x=1\n",
    "x>0 && println(\"$x is positive.\")"
   ]
  },
  {
   "cell_type": "markdown",
   "id": "eca1a9e2-12bd-4430-a343-4a8075668023",
   "metadata": {},
   "source": [
    "- 最初に 前方の `x > 0` の評価が行われ， `true` ならば後方（`println`部分）の評価が行われる．\n",
    "- もし，`false` ならば，２つ目の条件式の評価はスキップされる．"
   ]
  },
  {
   "cell_type": "code",
   "execution_count": 13,
   "id": "9fe868c0-9de0-4fdb-9812-491945ef8ae6",
   "metadata": {},
   "outputs": [
    {
     "data": {
      "text/plain": [
       "false"
      ]
     },
     "execution_count": 13,
     "metadata": {},
     "output_type": "execute_result"
    }
   ],
   "source": [
    "x=-1\n",
    "x>0 && println(\"$x is positive.\")  # (*)"
   ]
  },
  {
   "cell_type": "markdown",
   "id": "7af70f87-139f-4389-94aa-364d63930013",
   "metadata": {},
   "source": [
    "- `x>0`の判定が行われ，成立していないので `false` と評価される．この時点で (*)全体の評価が `false` となる． "
   ]
  },
  {
   "cell_type": "code",
   "execution_count": null,
   "id": "1717c487-fd2a-4496-892f-1b9d7d7efc0d",
   "metadata": {},
   "outputs": [],
   "source": []
  }
 ],
 "metadata": {
  "kernelspec": {
   "display_name": "Julia 1.9.0-beta3",
   "language": "julia",
   "name": "julia-1.9"
  },
  "language_info": {
   "file_extension": ".jl",
   "mimetype": "application/julia",
   "name": "julia",
   "version": "1.9.0"
  }
 },
 "nbformat": 4,
 "nbformat_minor": 5
}
