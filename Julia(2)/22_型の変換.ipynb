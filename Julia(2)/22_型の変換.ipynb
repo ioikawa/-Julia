{
 "cells": [
  {
   "cell_type": "markdown",
   "id": "14678e3d-21bf-449d-adf7-8665a430f75b",
   "metadata": {},
   "source": [
    "# 型の変換と昇格\n",
    "- 異なる型をもつ変数同士の加算を行うと型の（暗黙の）変換が行われる．"
   ]
  },
  {
   "cell_type": "code",
   "execution_count": 1,
   "id": "20aee027-d055-4b97-a06c-e1de96142f50",
   "metadata": {},
   "outputs": [
    {
     "data": {
      "text/plain": [
       "Float64"
      ]
     },
     "execution_count": 1,
     "metadata": {},
     "output_type": "execute_result"
    }
   ],
   "source": [
    "x = 1  # Int64\n",
    "y = 0.2 # Float64\n",
    "typeof(x + y)"
   ]
  },
  {
   "cell_type": "markdown",
   "id": "43aa9b2a-5fe0-47f8-bdcc-191450786bd4",
   "metadata": {},
   "source": [
    "- 型に関して `Int64` < `Float64` < `Complex` という包含関係があり，この場合は上位にある `Float64` に自動的に昇格 (promote) される．\n",
    "- 基本的には変数の値が損なわれないように変換されると思ってよい．\n",
    "- `promote()` で2つの変数がどのように昇格されるのかを確認できる．"
   ]
  },
  {
   "cell_type": "code",
   "execution_count": 17,
   "id": "a9ebac10-459d-41f1-a709-52d59e5e2e93",
   "metadata": {},
   "outputs": [
    {
     "name": "stdout",
     "output_type": "stream",
     "text": [
      "t = promote(x, y) = (100.0, 0.1)\n"
     ]
    },
    {
     "data": {
      "text/plain": [
       "Tuple{Float64, Float64}"
      ]
     },
     "execution_count": 17,
     "metadata": {},
     "output_type": "execute_result"
    }
   ],
   "source": [
    "@show t = promote(x, y) \n",
    "typeof(t)"
   ]
  },
  {
   "cell_type": "markdown",
   "id": "7e114676-2776-4c5b-b2d8-2b09219c9603",
   "metadata": {},
   "source": [
    "- 両方とも `Float64` 型に変換されることがわかる．\n",
    "- もちろん，`Int64` & `String` のように昇格規則が存在しない型のペアもある．"
   ]
  },
  {
   "cell_type": "code",
   "execution_count": 20,
   "id": "f038d39c-c99d-44e6-bb70-e484a4891b7c",
   "metadata": {},
   "outputs": [
    {
     "ename": "LoadError",
     "evalue": "promotion of types Int64 and String failed to change any arguments",
     "output_type": "error",
     "traceback": [
      "promotion of types Int64 and String failed to change any arguments",
      "",
      "Stacktrace:",
      " [1] error(::String, ::String, ::String)",
      "   @ Base ./error.jl:44",
      " [2] sametype_error(input::Tuple{Int64, String})",
      "   @ Base ./promotion.jl:405",
      " [3] not_sametype(x::Tuple{Int64, String}, y::Tuple{Int64, String})",
      "   @ Base ./promotion.jl:399",
      " [4] promote(x::Int64, y::String)",
      "   @ Base ./promotion.jl:382",
      " [5] top-level scope",
      "   @ In[20]:1"
     ]
    }
   ],
   "source": [
    "s = promote(100, \"str\")  # エラー！"
   ]
  },
  {
   "cell_type": "markdown",
   "id": "e10a46a6-f236-4871-824f-aad343498764",
   "metadata": {},
   "source": [
    "## 型の変換: `convert`\n",
    "変数の型の明示的な変換は `convert`で行う．"
   ]
  },
  {
   "cell_type": "code",
   "execution_count": 2,
   "id": "1cc9d950-3ac3-42c3-996d-53afdaf54dca",
   "metadata": {},
   "outputs": [
    {
     "name": "stdout",
     "output_type": "stream",
     "text": [
      "typeof(x) = Int64\n",
      "typeof(y) = UInt32\n"
     ]
    },
    {
     "data": {
      "text/plain": [
       "UInt32"
      ]
     },
     "execution_count": 2,
     "metadata": {},
     "output_type": "execute_result"
    }
   ],
   "source": [
    "x = 100\n",
    "@show typeof(x)\n",
    "y = convert(UInt32, x)   # 符号なし32bit整数へ変換\n",
    "@show typeof(y)"
   ]
  },
  {
   "cell_type": "markdown",
   "id": "67b0eaa3-29c2-4497-9909-cb52cb868b63",
   "metadata": {},
   "source": [
    "#### Note\n",
    "`convert(UInt32, x)` の代わりに`UInt32(x)`でも同じ結果を与える．\n",
    "（コーディングスタイルとしてどちらがよいだろうか？）"
   ]
  },
  {
   "cell_type": "code",
   "execution_count": 3,
   "id": "3942aa82-a1c5-4a7a-b1be-fd3fee324d80",
   "metadata": {},
   "outputs": [
    {
     "data": {
      "text/plain": [
       "UInt32"
      ]
     },
     "execution_count": 3,
     "metadata": {},
     "output_type": "execute_result"
    }
   ],
   "source": [
    "z = UInt32(x)\n",
    "typeof(z)"
   ]
  },
  {
   "cell_type": "markdown",
   "id": "7f0fe586-a420-4309-8768-a640c631c638",
   "metadata": {},
   "source": [
    "型の変換が定義されていない場合はエラーとなる．\n",
    "例えば，負の整数を符号なし整数へ convert しようとするとエラーとなる．"
   ]
  },
  {
   "cell_type": "code",
   "execution_count": 4,
   "id": "38461d1a-543a-4c78-8f72-b14bd844cda8",
   "metadata": {},
   "outputs": [
    {
     "ename": "LoadError",
     "evalue": "InexactError: trunc(UInt32, -100)",
     "output_type": "error",
     "traceback": [
      "InexactError: trunc(UInt32, -100)",
      "",
      "Stacktrace:",
      " [1] throw_inexacterror(f::Symbol, #unused#::Type{UInt32}, val::Int64)",
      "   @ Core ./boot.jl:634",
      " [2] checked_trunc_uint",
      "   @ ./boot.jl:664 [inlined]",
      " [3] toUInt32",
      "   @ ./boot.jl:748 [inlined]",
      " [4] UInt32",
      "   @ ./boot.jl:788 [inlined]",
      " [5] convert(#unused#::Type{UInt32}, x::Int64)",
      "   @ Base ./number.jl:7",
      " [6] top-level scope",
      "   @ In[4]:1"
     ]
    }
   ],
   "source": [
    "convert(UInt32,-100)   # エラー！"
   ]
  },
  {
   "cell_type": "markdown",
   "id": "c684a6c5-4382-4a40-8c35-5cb01f18e358",
   "metadata": {},
   "source": [
    "### 文字列から数値型への変換\n",
    "文字列を整数や浮動小数点数型へ convert することはできないが，\n",
    "`parse()`を用いれば数値化できる．"
   ]
  },
  {
   "cell_type": "code",
   "execution_count": 5,
   "id": "da6e0358-8bf0-483e-acca-b1683a7ac177",
   "metadata": {},
   "outputs": [
    {
     "data": {
      "text/plain": [
       "123"
      ]
     },
     "execution_count": 5,
     "metadata": {},
     "output_type": "execute_result"
    }
   ],
   "source": [
    "parse(Int64, \"123\")"
   ]
  },
  {
   "cell_type": "code",
   "execution_count": 6,
   "id": "72357b2d-dc44-4bdc-9ae3-703938b2c99b",
   "metadata": {},
   "outputs": [
    {
     "data": {
      "text/plain": [
       "123.456"
      ]
     },
     "execution_count": 6,
     "metadata": {},
     "output_type": "execute_result"
    }
   ],
   "source": [
    "parse(Float64, \"123.456\")"
   ]
  },
  {
   "cell_type": "code",
   "execution_count": 7,
   "id": "96d8de08-4e3c-4fca-b902-242871fc1e95",
   "metadata": {},
   "outputs": [
    {
     "data": {
      "text/plain": [
       "1.0 + 2.0im"
      ]
     },
     "execution_count": 7,
     "metadata": {},
     "output_type": "execute_result"
    }
   ],
   "source": [
    "parse(ComplexF64, \"1+2i\")"
   ]
  },
  {
   "cell_type": "code",
   "execution_count": 8,
   "id": "4acd6ac8-b7ba-4cc2-be30-42734c2da99d",
   "metadata": {},
   "outputs": [
    {
     "ename": "LoadError",
     "evalue": "ArgumentError: missing imaginary unit",
     "output_type": "error",
     "traceback": [
      "ArgumentError: missing imaginary unit",
      "",
      "Stacktrace:",
      " [1] tryparse_internal(#unused#::Type{ComplexF64}, s::String, i::Int64, e::Int64, raise::Bool)",
      "   @ Base ./parse.jl:337",
      " [2] parse(#unused#::Type{ComplexF64}, s::String)",
      "   @ Base ./parse.jl:381",
      " [3] top-level scope",
      "   @ In[8]:1"
     ]
    }
   ],
   "source": [
    "parse(ComplexF64, \"2i+1\")  # エラー！"
   ]
  },
  {
   "cell_type": "markdown",
   "id": "1c9dbeef-9d43-4676-a553-020eaf9696a3",
   "metadata": {},
   "source": [
    "## 型の昇格: `promote`\n",
    "`promote`関数は与えられた複数の変数に対して，\n",
    "値の情報を損なわないように型を揃えてくれる．\n",
    "これを昇格 (promotion) とよぶ．"
   ]
  },
  {
   "cell_type": "code",
   "execution_count": 9,
   "id": "a937fc79-5717-4a2d-a438-adbad60be41c",
   "metadata": {},
   "outputs": [
    {
     "name": "stdout",
     "output_type": "stream",
     "text": [
      "x = (100.0, 1.5)\n"
     ]
    },
    {
     "data": {
      "text/plain": [
       "Tuple{Float64, Float64}"
      ]
     },
     "execution_count": 9,
     "metadata": {},
     "output_type": "execute_result"
    }
   ],
   "source": [
    "x = promote(100, 1.5)   # Int64, Float64\n",
    "@show x\n",
    "typeof(x)"
   ]
  },
  {
   "cell_type": "markdown",
   "id": "1bd3b01a-bf24-460b-9bc3-a3ee00eade37",
   "metadata": {},
   "source": [
    "型によっては昇格できない（定義されていない）こともある．"
   ]
  }
 ],
 "metadata": {
  "kernelspec": {
   "display_name": "Julia 1.9.0-beta3",
   "language": "julia",
   "name": "julia-1.9"
  },
  "language_info": {
   "file_extension": ".jl",
   "mimetype": "application/julia",
   "name": "julia",
   "version": "1.9.0"
  }
 },
 "nbformat": 4,
 "nbformat_minor": 5
}
