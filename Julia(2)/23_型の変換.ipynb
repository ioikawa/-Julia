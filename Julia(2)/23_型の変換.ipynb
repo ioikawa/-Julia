{
 "cells": [
  {
   "cell_type": "markdown",
   "id": "5b22148a-6bab-4e3b-bddf-19841f17199d",
   "metadata": {},
   "source": [
    "# 型の変換\n",
    "## 型の変換: `convert`\n",
    "数学では，\n",
    "$\n",
    "\\mathbb{Z} \\subset \\mathbb{Q} \\subset \\mathbb{R} \\subset \\mathbb{C}\n",
    "$\n",
    "という包含関係がある．\n",
    "\n",
    "数値型に関しても，これに準じた型の変換が可能である．\n",
    "\n",
    "整数値 `1` を `convert()` で複素数型まで変換してみよう．"
   ]
  },
  {
   "cell_type": "code",
   "execution_count": 25,
   "id": "bba1db7e",
   "metadata": {},
   "outputs": [
    {
     "name": "stdout",
     "output_type": "stream",
     "text": [
      "one = convert(Rational, one) = 1//1\n",
      "one = convert(Float64, one) = 1.0\n",
      "one = convert(ComplexF64, one) = 1.0 + 0.0im\n"
     ]
    },
    {
     "data": {
      "text/plain": [
       "1.0 + 0.0im"
      ]
     },
     "metadata": {},
     "output_type": "display_data"
    }
   ],
   "source": [
    "one = 1   # Int64\n",
    "@show one = convert(Rational, one)  # Int64 → Rational\n",
    "@show one = convert(Float64, one)   # Rational → Float64\n",
    "@show one = convert(ComplexF64, one) # Float64 → ComplexF64\n"
   ]
  },
  {
   "cell_type": "markdown",
   "id": "a19c64a0",
   "metadata": {},
   "source": [
    "今度は逆向きに，整数値に変換して戻す．"
   ]
  },
  {
   "cell_type": "code",
   "execution_count": 23,
   "id": "2cc9bbd6",
   "metadata": {},
   "outputs": [
    {
     "name": "stdout",
     "output_type": "stream",
     "text": [
      "one = convert(Float64, one) = 1.0\n",
      "one = convert(Rational, one) = 1//1\n",
      "one = convert(Int64, one) = 1\n"
     ]
    },
    {
     "data": {
      "text/plain": [
       "1"
      ]
     },
     "metadata": {},
     "output_type": "display_data"
    }
   ],
   "source": [
    "one = 1.0 + 0.0im  # ComplexF64\n",
    "@show one = convert(Float64, one) # ComplexF64 → Float64\n",
    "@show one = convert(Rational, one) # Float64 → Rational\n",
    "@show one = convert(Int64, one) # Rational → Int64\n"
   ]
  },
  {
   "cell_type": "markdown",
   "id": "1799a99a",
   "metadata": {},
   "source": [
    "<div class=\"alert alert-block alert-warning\">\n",
    "<b>Warning:</b>\n",
    "`1.5` のような非整数値を `Int64`型に変換しようとしてもエラーが発生する．\n",
    "</div>"
   ]
  },
  {
   "cell_type": "markdown",
   "id": "c684a6c5-4382-4a40-8c35-5cb01f18e358",
   "metadata": {},
   "source": [
    "## 文字列から数値型への変換\n",
    "文字列を数値型へ convert で型の変換をすることはできないが，\n",
    "`parse()`を用いれば変換できる．"
   ]
  },
  {
   "cell_type": "code",
   "execution_count": 4,
   "id": "da6e0358-8bf0-483e-acca-b1683a7ac177",
   "metadata": {},
   "outputs": [
    {
     "name": "stdout",
     "output_type": "stream",
     "text": [
      "parse(Int64, \"123\") = 123\n",
      "parse(Float64, \"123.456\") = 123.456\n",
      "parse(Float64, \"123456e-3\") = 123.456\n",
      "parse(ComplexF64, \"1+2i\") = 1.0 + 2.0im\n"
     ]
    },
    {
     "data": {
      "text/plain": [
       "1.0 + 2.0im"
      ]
     },
     "metadata": {},
     "output_type": "display_data"
    }
   ],
   "source": [
    "@show parse(Int64, \"123\")\n",
    "@show parse(Float64, \"123.456\")\n",
    "@show parse(Float64, \"123456e-3\")\n",
    "@show parse(ComplexF64, \"1+2i\")  # \"1+2im でも可"
   ]
  }
 ],
 "metadata": {
  "kernelspec": {
   "display_name": "Julia 1.11.2",
   "language": "julia",
   "name": "julia-1.11"
  },
  "language_info": {
   "file_extension": ".jl",
   "mimetype": "application/julia",
   "name": "julia",
   "version": "1.11.2"
  }
 },
 "nbformat": 4,
 "nbformat_minor": 5
}
