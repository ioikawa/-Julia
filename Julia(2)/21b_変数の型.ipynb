{
 "cells": [
  {
   "cell_type": "markdown",
   "id": "07d68d26-c117-43d1-9427-0c3cd30ebe8c",
   "metadata": {},
   "source": [
    "# 変数の型: [Types](https://docs.julialang.org/en/v1/manual/types/)\n",
    "- 変数には**型 (type)** が定められている．型とは値の種類と思えばよい．\n",
    "- 型はJulia側が自動で決めてくれるのであまり意識しなくとも問題ないが，場合によっては bug (プログラムの予期せぬ不具合や誤動作）やエラーや発生させる．\n",
    "- 変数の型は`typeof()`で確認できる．\n"
   ]
  },
  {
   "cell_type": "code",
   "execution_count": 2,
   "id": "78505431-317b-4ce4-8ea8-3e21de79123f",
   "metadata": {},
   "outputs": [
    {
     "data": {
      "text/plain": [
       "Int64"
      ]
     },
     "execution_count": 2,
     "metadata": {},
     "output_type": "execute_result"
    }
   ],
   "source": [
    "x = 123\n",
    "typeof(x)"
   ]
  },
  {
   "cell_type": "markdown",
   "id": "1fef2347-7b50-4e13-84e3-9da3db6da48e",
   "metadata": {},
   "source": [
    "- 整数値は自動的に`Int64`という整数型になる．"
   ]
  },
  {
   "cell_type": "markdown",
   "id": "46d66d80-860f-425e-b925-91001aa4f097",
   "metadata": {},
   "source": [
    "## 変数の一覧表示\n",
    "- `varinfo()`で定義された変数を確認できる．"
   ]
  },
  {
   "cell_type": "code",
   "execution_count": 3,
   "id": "b6ea7218-897e-43f2-a889-236710108c71",
   "metadata": {},
   "outputs": [
    {
     "data": {
      "text/latex": [
       "\\begin{tabular}\n",
       "{l | r | l}\n",
       "name & size & summary \\\\\n",
       "\\hline\n",
       "Base &  & Module \\\\\n",
       "Core &  & Module \\\\\n",
       "Main &  & Module \\\\\n",
       "x & 8 bytes & Int64 \\\\\n",
       "y & 8 bytes & Int64 \\\\\n",
       "\\end{tabular}\n"
      ],
      "text/markdown": [
       "| name |    size | summary |\n",
       "|:---- | -------:|:------- |\n",
       "| Base |         | Module  |\n",
       "| Core |         | Module  |\n",
       "| Main |         | Module  |\n",
       "| x    | 8 bytes | Int64   |\n",
       "| y    | 8 bytes | Int64   |\n"
      ],
      "text/plain": [
       "  name    size summary\n",
       "  –––– ––––––– –––––––\n",
       "  Base         Module \n",
       "  Core         Module \n",
       "  Main         Module \n",
       "  x    8 bytes Int64  \n",
       "  y    8 bytes Int64  "
      ]
     },
     "execution_count": 3,
     "metadata": {},
     "output_type": "execute_result"
    }
   ],
   "source": [
    "y = 2\n",
    "varinfo()"
   ]
  },
  {
   "cell_type": "markdown",
   "id": "e245ea18-dc39-46ce-86df-9e2342f315fc",
   "metadata": {},
   "source": [
    "## 整数型: [Integers](https://docs.julialang.org/en/v1/manual/integers-and-floating-point-numbers/#Integers)\n",
    "- `Int64`型は64bit長の符号付き整数 (integer)を表す．\n",
    "-  Juliaでは整数型として `Int8`, `Int16`, `Int32`, `Int64`, `Int128`がある．\n",
    "- 数字として`1`や`-200`と記述した場合，暗黙的に`Int64`と解釈される．型を明示して代入することもできる．\n"
   ]
  },
  {
   "cell_type": "code",
   "execution_count": 10,
   "id": "67bd76a2-f68f-47fe-9b22-63ef84ed1e71",
   "metadata": {},
   "outputs": [
    {
     "data": {
      "text/plain": [
       "Int128"
      ]
     },
     "execution_count": 10,
     "metadata": {},
     "output_type": "execute_result"
    }
   ],
   "source": [
    "x = Int128(1)\n",
    "typeof(x)"
   ]
  },
  {
   "cell_type": "markdown",
   "id": "0f95d5cc-916b-4a74-be83-588e5ad04507",
   "metadata": {},
   "source": [
    "- 単に`Int`とするとシステム環境のbit数に依存して解釈される．cf. [Document/Integers](https://docs.julialang.org/en/v1/manual/integers-and-floating-point-numbers/#Integers)"
   ]
  },
  {
   "cell_type": "code",
   "execution_count": 5,
   "id": "d62b0d75-36e5-4a09-9531-92f0941193a1",
   "metadata": {},
   "outputs": [
    {
     "name": "stdout",
     "output_type": "stream",
     "text": [
      "typeof(Int(1)) = Int64\n",
      "Sys.WORD_SIZE = 64\n"
     ]
    },
    {
     "data": {
      "text/plain": [
       "64"
      ]
     },
     "execution_count": 5,
     "metadata": {},
     "output_type": "execute_result"
    }
   ],
   "source": [
    "@show typeof(Int(1))\n",
    "@show Sys.WORD_SIZE   # システム環境のbit数の確認"
   ]
  },
  {
   "cell_type": "markdown",
   "id": "2a01cdb6-125b-4aea-837a-1dd39d8612f9",
   "metadata": {},
   "source": [
    "- 整数型はビット数に応じて扱える整数の範囲に限界がある（[参考](https://docs.julialang.org/en/v1/manual/integers-and-floating-point-numbers/#Integers-and-Floating-Point-Numbers)）．\n",
    "\n",
    "- `typemax()`, `typemin()`で扱える整数の最大値と最小値が具体的に知ることができる．"
   ]
  },
  {
   "cell_type": "code",
   "execution_count": 12,
   "id": "682efc18-045b-4fdd-bd7e-a606f6aab10a",
   "metadata": {},
   "outputs": [
    {
     "name": "stdout",
     "output_type": "stream",
     "text": [
      "typemax(Int64) = 9223372036854775807\n",
      "typemin(Int64) = -9223372036854775808\n",
      "typemax(UInt64) = 0xffffffffffffffff\n",
      "typemin(UInt64) = 0x0000000000000000\n"
     ]
    },
    {
     "data": {
      "text/plain": [
       "0x0000000000000000"
      ]
     },
     "execution_count": 12,
     "metadata": {},
     "output_type": "execute_result"
    }
   ],
   "source": [
    "@show typemax(Int64)\n",
    "@show typemin(Int64)\n",
    "@show typemax(UInt64)\n",
    "@show typemin(UInt64)"
   ]
  },
  {
   "cell_type": "markdown",
   "id": "1ca82edd-44b8-4c47-b92c-ebba3ebefe49",
   "metadata": {},
   "source": [
    "限界の最大値に正の値を足そうとすると，overflowを起こして正常な結果が得られない．"
   ]
  },
  {
   "cell_type": "code",
   "execution_count": 6,
   "id": "b9d107c1-4527-42d0-bbfd-5682b4c9cd15",
   "metadata": {},
   "outputs": [
    {
     "data": {
      "text/plain": [
       "-9223372036854775808"
      ]
     },
     "execution_count": 6,
     "metadata": {},
     "output_type": "execute_result"
    }
   ],
   "source": [
    "typemax(Int64) + 1"
   ]
  },
  {
   "cell_type": "code",
   "execution_count": 7,
   "id": "7ec7fe23-3aef-4c4b-afd5-6ed723b5a733",
   "metadata": {},
   "outputs": [
    {
     "data": {
      "text/plain": [
       "0x0000000000000000"
      ]
     },
     "execution_count": 7,
     "metadata": {},
     "output_type": "execute_result"
    }
   ],
   "source": [
    "typemax(UInt64) + 1"
   ]
  },
  {
   "cell_type": "markdown",
   "id": "3002165d-f5e0-4962-abbc-fe2ea96219bc",
   "metadata": {},
   "source": [
    "### Note. \n",
    "- `Base.Checked.checked_add` を用いて加算の際に overflow が発生していることを検知できる．例えば，"
   ]
  },
  {
   "cell_type": "code",
   "execution_count": 14,
   "id": "ec91ed57-ffcc-4b22-9f85-73e53dad7283",
   "metadata": {},
   "outputs": [
    {
     "data": {
      "text/plain": [
       "-9223372036854775808"
      ]
     },
     "execution_count": 14,
     "metadata": {},
     "output_type": "execute_result"
    }
   ],
   "source": [
    "M = typemax(Int64)\n",
    "M + 1"
   ]
  },
  {
   "cell_type": "markdown",
   "id": "6274dbf7-8d23-4792-b4cd-9fb3352a6973",
   "metadata": {},
   "source": [
    "- これは overflow を起こしているが， `Base.Checked.checked_add` を噛ませることで例外（エラー）を発生させることができる．"
   ]
  },
  {
   "cell_type": "code",
   "execution_count": 15,
   "id": "c947555d-cff4-4d8b-8b26-0a03057a43bd",
   "metadata": {},
   "outputs": [
    {
     "ename": "LoadError",
     "evalue": "OverflowError: 9223372036854775807 + 1 overflowed for type Int64",
     "output_type": "error",
     "traceback": [
      "OverflowError: 9223372036854775807 + 1 overflowed for type Int64",
      "",
      "Stacktrace:",
      " [1] throw_overflowerr_binaryop(op::Symbol, x::Int64, y::Int64)",
      "   @ Base.Checked ./checked.jl:154",
      " [2] checked_add(x::Int64, y::Int64)",
      "   @ Base.Checked ./checked.jl:166",
      " [3] top-level scope",
      "   @ In[15]:1"
     ]
    }
   ],
   "source": [
    "Base.Checked.checked_add(M, 1)   # M+1 → overflowエラーが発生する"
   ]
  },
  {
   "cell_type": "markdown",
   "id": "d4b086c7-2483-4c5c-bf19-05b82f69d742",
   "metadata": {},
   "source": [
    "- もちろん，overflow が発生していなければ何も起こらない．"
   ]
  },
  {
   "cell_type": "code",
   "execution_count": 18,
   "id": "1ccfd4fc-d24d-4884-ac5a-f9e18d2c61e5",
   "metadata": {},
   "outputs": [
    {
     "name": "stdout",
     "output_type": "stream",
     "text": [
      "M = 100\n"
     ]
    }
   ],
   "source": [
    "M = 100\n",
    "Base.Checked.checked_add(M, 1)  # 100 + 1 = 101 なので overflowは発生しない\n",
    "@show M;"
   ]
  },
  {
   "cell_type": "markdown",
   "id": "bee63cb5-f4ce-4b81-b318-c81f5a0de467",
   "metadata": {},
   "source": [
    "## 数値型の一覧\n",
    "- よく使われる数値に関する型を挙げておく．\n",
    "    - `Int64` : 64bit長の整数\n",
    "    - `UInt64` : 64bit長の符号無し整数\n",
    "    - `Float64` : 倍精度型浮動小数点数（例：1.234✕10^5．仮数部は固定幅）\n",
    "    - `Complex64` 複素数．実部と虚部がそれぞれ倍精度型浮動小数点数"
   ]
  },
  {
   "cell_type": "code",
   "execution_count": null,
   "id": "00d9f63a-19a6-41af-8e5e-3c590f700441",
   "metadata": {},
   "outputs": [],
   "source": []
  }
 ],
 "metadata": {
  "kernelspec": {
   "display_name": "Julia 1.6.7",
   "language": "julia",
   "name": "julia-1.6"
  },
  "language_info": {
   "file_extension": ".jl",
   "mimetype": "application/julia",
   "name": "julia",
   "version": "1.6.7"
  }
 },
 "nbformat": 4,
 "nbformat_minor": 5
}
