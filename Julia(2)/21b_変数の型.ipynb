{
 "cells": [
  {
   "cell_type": "markdown",
   "id": "5e6797f3",
   "metadata": {},
   "source": [
    "# 変数の型: [Types](https://docs.julialang.org/en/v1/manual/types/)\n",
    "各変数には**型 (type)** が定められている．\n",
    "型は変数に格納されるデータの種類を表す．\n",
    "\n",
    "変数に値を代入すると，その変数の型は代入した値の型に自動的に設定される．\n",
    "\n",
    "変数の型は`typeof()`で確認できる．\n"
   ]
  },
  {
   "cell_type": "code",
   "execution_count": 1,
   "id": "426e27e0",
   "metadata": {},
   "outputs": [
    {
     "data": {
      "text/plain": [
       "Int64"
      ]
     },
     "metadata": {},
     "output_type": "display_data"
    }
   ],
   "source": [
    "x = 123\n",
    "typeof(x)"
   ]
  },
  {
   "cell_type": "markdown",
   "id": "2d33280a",
   "metadata": {},
   "source": [
    "整数値は自動的に`Int64`という整数型になる．"
   ]
  },
  {
   "cell_type": "markdown",
   "id": "f812b521",
   "metadata": {
    "vscode": {
     "languageId": "html"
    }
   },
   "source": [
    "<div class=\"alert alert-block alert-info\">\n",
    "Note: `varinfo()`で宣言された変数とその型のリストを表示できる． \n",
    "</div>"
   ]
  },
  {
   "cell_type": "markdown",
   "id": "b10758a0",
   "metadata": {},
   "source": [
    "## 整数型: [Integers](https://docs.julialang.org/en/v1/manual/integers-and-floating-point-numbers/#Integers)\n",
    "`Int64`型は64bit長の符号付き整数 (integer)を表す．\n",
    "bit別に\n",
    "\n",
    "- `Int8`, `Int16`, `Int32`, `Int64`, `Int128`\n",
    "\n",
    "などがある．\n",
    "\n",
    "数字リテラルで，整数値（`1`や`-200`など）を記述した場合，暗黙的に`Int64`と解釈される．"
   ]
  },
  {
   "cell_type": "code",
   "execution_count": 4,
   "id": "df2b3813",
   "metadata": {},
   "outputs": [
    {
     "data": {
      "text/plain": [
       "Int64"
      ]
     },
     "execution_count": 4,
     "metadata": {},
     "output_type": "execute_result"
    }
   ],
   "source": [
    "x = 1\n",
    "typeof(x)"
   ]
  },
  {
   "cell_type": "markdown",
   "id": "23eed67f",
   "metadata": {},
   "source": [
    "型を明示して代入することもできる．"
   ]
  },
  {
   "cell_type": "code",
   "execution_count": 5,
   "id": "5831ab02",
   "metadata": {},
   "outputs": [
    {
     "data": {
      "text/plain": [
       "Int128"
      ]
     },
     "execution_count": 5,
     "metadata": {},
     "output_type": "execute_result"
    }
   ],
   "source": [
    "x = Int128(10)\n",
    "typeof(x)"
   ]
  },
  {
   "cell_type": "markdown",
   "id": "0e5d0d6f",
   "metadata": {},
   "source": [
    "単に`Int`とタイプするとシステム環境のbit数に依存して解釈される．cf. [Document/Integers](https://docs.julialang.org/en/v1/manual/integers-and-floating-point-numbers/#Integers)"
   ]
  },
  {
   "cell_type": "code",
   "execution_count": 8,
   "id": "e876a5df",
   "metadata": {},
   "outputs": [
    {
     "name": "stdout",
     "output_type": "stream",
     "text": [
      "typeof(Int(123)) = Int64\n",
      "Sys.WORD_SIZE = 64\n"
     ]
    },
    {
     "data": {
      "text/plain": [
       "64"
      ]
     },
     "execution_count": 8,
     "metadata": {},
     "output_type": "execute_result"
    }
   ],
   "source": [
    "@show typeof(Int(123))\n",
    "@show Sys.WORD_SIZE   # システム環境のbit数の確認"
   ]
  },
  {
   "cell_type": "markdown",
   "id": "6cffb75f",
   "metadata": {},
   "source": [
    "整数型はビット数に応じて扱える整数の範囲に限界がある（[参考](https://docs.julialang.org/en/v1/manual/integers-and-floating-point-numbers/#Integers-and-Floating-Point-Numbers)）．\n",
    "\n",
    "`typemax()`, `typemin()`で扱える整数の最大値と最小値が具体的に知ることができる．"
   ]
  },
  {
   "cell_type": "code",
   "execution_count": 9,
   "id": "0486da31",
   "metadata": {},
   "outputs": [
    {
     "name": "stdout",
     "output_type": "stream",
     "text": [
      "typemax(Int64) = 9223372036854775807\n",
      "typemin(Int64) = -9223372036854775808\n",
      "typemax(UInt64) = 0xffffffffffffffff\n",
      "typemin(UInt64) = 0x0000000000000000\n"
     ]
    },
    {
     "data": {
      "text/plain": [
       "0x0000000000000000"
      ]
     },
     "execution_count": 9,
     "metadata": {},
     "output_type": "execute_result"
    }
   ],
   "source": [
    "@show typemax(Int64)\n",
    "@show typemin(Int64)\n",
    "@show typemax(UInt64)\n",
    "@show typemin(UInt64)"
   ]
  },
  {
   "cell_type": "markdown",
   "id": "94b2eac7",
   "metadata": {},
   "source": [
    "計算結果が限界値を超える場合，overflowを起こして正常な結果が得られない．"
   ]
  },
  {
   "cell_type": "code",
   "execution_count": 10,
   "id": "a42549df",
   "metadata": {},
   "outputs": [
    {
     "data": {
      "text/plain": [
       "-9223372036854775808"
      ]
     },
     "execution_count": 10,
     "metadata": {},
     "output_type": "execute_result"
    }
   ],
   "source": [
    "typemax(Int64) + 1"
   ]
  },
  {
   "cell_type": "markdown",
   "id": "16e0a35f",
   "metadata": {},
   "source": [
    "演算の際にoverflowを検知するためには，`Base.Checked.checked_add`などが使える．"
   ]
  },
  {
   "cell_type": "code",
   "execution_count": 13,
   "id": "5dc38d5b",
   "metadata": {},
   "outputs": [
    {
     "name": "stdout",
     "output_type": "stream",
     "text": [
      "Base.Checked.checked_add(100, 1) = 101\n"
     ]
    },
    {
     "ename": "LoadError",
     "evalue": "OverflowError: 9223372036854775807 + 1 overflowed for type Int64",
     "output_type": "error",
     "traceback": [
      "OverflowError: 9223372036854775807 + 1 overflowed for type Int64",
      "",
      "Stacktrace:",
      " [1] throw_overflowerr_binaryop(op::Symbol, x::Int64, y::Int64)",
      "   @ Base.Checked ./checked.jl:163",
      " [2] checked_add(x::Int64, y::Int64)",
      "   @ Base.Checked ./checked.jl:175",
      " [3] macro expansion",
      "   @ show.jl:1232 [inlined]",
      " [4] top-level scope",
      "   @ In[13]:3"
     ]
    }
   ],
   "source": [
    "@show Base.Checked.checked_add(100, 1)  # 100 + 1 = 101 で範囲内で問題なし．\n",
    "M = typemax(Int64)\n",
    "@show Base.Checked.checked_add(M, 1)   # M+1 → overflowエラーが発生する"
   ]
  }
 ],
 "metadata": {
  "kernelspec": {
   "display_name": "Julia 1.11.2",
   "language": "julia",
   "name": "julia-1.11"
  },
  "language_info": {
   "file_extension": ".jl",
   "mimetype": "application/julia",
   "name": "julia",
   "version": "1.11.2"
  }
 },
 "nbformat": 4,
 "nbformat_minor": 5
}
