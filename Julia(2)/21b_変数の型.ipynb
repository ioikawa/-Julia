{
 "cells": [
  {
   "cell_type": "markdown",
   "id": "5e6797f3",
   "metadata": {},
   "source": [
    "# 変数の型と昇格\n",
    "\n",
    "## 型 [Types](https://docs.julialang.org/en/v1/manual/types/)\n",
    "変数には紐づけられた値の種類を表す**型** (type) が定められている．\n",
    "\n",
    "変数に値を代入すると，その変数の型は代入した値の型に自動的に設定される．\n"
   ]
  },
  {
   "cell_type": "code",
   "execution_count": 2,
   "id": "426e27e0",
   "metadata": {},
   "outputs": [
    {
     "data": {
      "text/plain": [
       "1.0"
      ]
     },
     "metadata": {},
     "output_type": "display_data"
    }
   ],
   "source": [
    "base = 2\n",
    "height = 1\n",
    "area = 0.5 * base * height"
   ]
  },
  {
   "cell_type": "markdown",
   "id": "9ad52ff0",
   "metadata": {},
   "source": [
    "変数の型は  `typeof()` 関数で取得できる．"
   ]
  },
  {
   "cell_type": "code",
   "execution_count": 4,
   "id": "2d33280a",
   "metadata": {},
   "outputs": [
    {
     "name": "stdout",
     "output_type": "stream",
     "text": [
      "typeof(base) = Int64\n",
      "typeof(height) = Int64\n",
      "typeof(area) = Float64\n"
     ]
    },
    {
     "data": {
      "text/plain": [
       "Float64"
      ]
     },
     "metadata": {},
     "output_type": "display_data"
    }
   ],
   "source": [
    "@show typeof(base)\n",
    "@show typeof(height)\n",
    "@show typeof(area)"
   ]
  },
  {
   "cell_type": "markdown",
   "id": "f812b521",
   "metadata": {
    "vscode": {
     "languageId": "html"
    }
   },
   "source": [
    "<div class=\"alert alert-block alert-info\">\n",
    "Note: `varinfo()`で宣言された変数とその型のリストを表示できる． \n",
    "</div>"
   ]
  },
  {
   "cell_type": "markdown",
   "id": "b10758a0",
   "metadata": {},
   "source": [
    "`Int64`型は64bit長の符号付き整数型 ([integer](https://docs.julialang.org/en/v1/manual/integers-and-floating-point-numbers/#Integers))を表す．\n",
    "\n",
    "`base`, `height`のように，数値リテラルで整数を記述して代入した場合，暗黙的に`Int64`と解釈される．\n",
    "\n",
    "小数の場合は， 暗黙的に`Float64` 型になる．\n"
   ]
  },
  {
   "cell_type": "code",
   "execution_count": 5,
   "id": "d8a765da",
   "metadata": {},
   "outputs": [
    {
     "data": {
      "text/plain": [
       "Float64"
      ]
     },
     "metadata": {},
     "output_type": "display_data"
    }
   ],
   "source": [
    "typeof(0.5)"
   ]
  },
  {
   "cell_type": "markdown",
   "id": "ef56bfe0",
   "metadata": {},
   "source": [
    "## 型の昇格 (promotion)\n",
    "`area = 0.5 * base * height` の型が `Float64` になるのは，\n",
    "変数が演算の際に適切な型に**昇格** (promotion) されているからである．\n",
    "\n",
    "数値に関する型（以下，数値型）には次のようなものがある．\n",
    "* 整数型 `Int64`\n",
    "* 浮動小数点型 `Float64`\n",
    "* 複素数型 `ComplexF64`\n",
    "* 有理数型 `Rational`\n",
    "\n",
    "数値型の詳細については公式ドキュメントを参照されたい．\n",
    "* [Integers and Floating-Point Numbers](https://docs.julialang.org/en/v1/manual/integers-and-floating-point-numbers/#Integers-and-Floating-Point-Numbers)\n",
    "* [Complex and Rational Numbers](https://docs.julialang.org/en/v1/manual/complex-and-rational-numbers/#Complex-and-Rational-Numbers)\n",
    "\n",
    "同じ型同士の四則演算では型は変わらないが，異なる型同士の場合，\n",
    "あらかじめ定められた規則にしたがって型が昇格する．\n",
    "\n",
    "具体的にどのように昇格されるかは，`promote_type()`でわかる．"
   ]
  },
  {
   "cell_type": "code",
   "execution_count": 8,
   "id": "547cbb6f",
   "metadata": {},
   "outputs": [
    {
     "data": {
      "text/plain": [
       "Float64"
      ]
     },
     "metadata": {},
     "output_type": "display_data"
    }
   ],
   "source": [
    "promote_type(Int64, Float64)"
   ]
  },
  {
   "cell_type": "markdown",
   "id": "edecc919",
   "metadata": {},
   "source": [
    "`area` は `Float64` と `Int64`の乗算の際に `Float64`への昇格が発生していることがわかる．\n"
   ]
  }
 ],
 "metadata": {
  "kernelspec": {
   "display_name": "Julia 1.11.2",
   "language": "julia",
   "name": "julia-1.11"
  },
  "language_info": {
   "file_extension": ".jl",
   "mimetype": "application/julia",
   "name": "julia",
   "version": "1.11.2"
  }
 },
 "nbformat": 4,
 "nbformat_minor": 5
}
