{
 "cells": [
  {
   "cell_type": "markdown",
   "id": "45bced8b-9cfb-4712-85ed-f24a06566f1f",
   "metadata": {},
   "source": [
    "# 変数: [Variables](https://docs.julialang.org/en/v1/manual/variables/#man-variables)\n",
    "\n",
    "### 変数の宣言と代入\n",
    "三角形の底辺の長さと高さから面積を計算するコードを考えよう．"
   ]
  },
  {
   "cell_type": "code",
   "execution_count": 1,
   "id": "0dfe26e9-4b65-450f-9c21-d9e036254f64",
   "metadata": {},
   "outputs": [
    {
     "data": {
      "text/plain": [
       "1.0"
      ]
     },
     "execution_count": 1,
     "metadata": {},
     "output_type": "execute_result"
    }
   ],
   "source": [
    "base = 2\n",
    "height = 1\n",
    "area = 0.5 * base * height"
   ]
  },
  {
   "cell_type": "markdown",
   "id": "d2663be9",
   "metadata": {},
   "source": [
    "`base`, `height` , `area` は**変数**と呼ばれ，値を指し示す「ラベル」である．\n",
    "\n",
    "`base = 2` と記述することで， `base`という名前の変数が **宣言**され，\n",
    "同時に， 値 `2` が**代入** (assignment) される．\n",
    "\n",
    "`=` は**代入演算子** [(assignment operator)](https://docs.julialang.org/en/v1/base/base/#=)と呼ばれる．\n",
    "\n",
    "コード中に直接書かれた数値を**数値リテラル** ([literal](https://docs.julialang.org/en/v1/manual/integers-and-floating-point-numbers/?utm_source=chatgpt.com#Integers-and-Floating-Point-Numbers))という．"
   ]
  },
  {
   "cell_type": "markdown",
   "id": "5148b3dd",
   "metadata": {},
   "source": [
    "`area` には三角形の面積が計算されて値が代入される．\n",
    "\n",
    "変数 `area` の値\n",
    "[@show](https://docs.julialang.org/en/v1/base/base/#Base.@show)マクロを使って確認しておこう．"
   ]
  },
  {
   "cell_type": "code",
   "execution_count": 2,
   "id": "469c4fdd",
   "metadata": {},
   "outputs": [
    {
     "name": "stdout",
     "output_type": "stream",
     "text": [
      "area = 1.0\n"
     ]
    },
    {
     "data": {
      "text/plain": [
       "1.0"
      ]
     },
     "execution_count": 2,
     "metadata": {},
     "output_type": "execute_result"
    }
   ],
   "source": [
    "@show area"
   ]
  },
  {
   "cell_type": "markdown",
   "id": "6a63b824",
   "metadata": {},
   "source": [
    "<div class=\"alert alert-block alert-danger\">\n",
    "Alert: piなどの予約語（特別なキーワード）や演算子に対しても，代入で上書きできてしまうので要注意．\n",
    "\n",
    "混乱を招くだけなので予約語への代入は非推奨です．\n",
    "</div>"
   ]
  },
  {
   "cell_type": "markdown",
   "id": "cdbc447f",
   "metadata": {},
   "source": [
    "## 連鎖代入\n",
    "複数の変数に同じ値を代入する場合，連鎖代入で次のように書くこともできる．"
   ]
  },
  {
   "cell_type": "code",
   "execution_count": 3,
   "id": "363c1cec",
   "metadata": {},
   "outputs": [
    {
     "data": {
      "text/plain": [
       "1"
      ]
     },
     "execution_count": 3,
     "metadata": {},
     "output_type": "execute_result"
    }
   ],
   "source": [
    "base = height = 1"
   ]
  },
  {
   "cell_type": "markdown",
   "id": "7be8724e",
   "metadata": {},
   "source": [
    "これは\n",
    "```\n",
    "height = 1\n",
    "base = 1\n",
    "```\n",
    "と書くことと等価である．\n",
    "\n",
    "連鎖代入は右側から評価が行われるので，\n",
    "`height = 1` が先に実行されることに注意．\n",
    "\n",
    "代入の式自体が代入した値 `1` を返す（`1`と評価される）ので，\n",
    "次に `base = 1` が実行される．"
   ]
  }
 ],
 "metadata": {
  "kernelspec": {
   "display_name": "Julia 1.11.2",
   "language": "julia",
   "name": "julia-1.11"
  },
  "language_info": {
   "file_extension": ".jl",
   "mimetype": "application/julia",
   "name": "julia",
   "version": "1.11.2"
  }
 },
 "nbformat": 4,
 "nbformat_minor": 5
}
