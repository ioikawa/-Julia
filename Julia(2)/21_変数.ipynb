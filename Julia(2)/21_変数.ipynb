{
 "cells": [
  {
   "cell_type": "markdown",
   "id": "45bced8b-9cfb-4712-85ed-f24a06566f1f",
   "metadata": {},
   "source": [
    "# 変数: [Variables](https://docs.julialang.org/en/v1/manual/variables/#man-variables)\n",
    "\n",
    "## 変数の宣言\n",
    "Juliaにおける**変数**とは，数値や文字列などのデータを指し示す「ラベル」である．\n",
    "\n",
    "`変数名 = 値` と記述することで，変数の**宣言**と値の**代入** (assignment) が行われる．\n",
    "\n",
    "`=` は**代入演算子** [(assignment operator)](https://docs.julialang.org/en/v1/base/base/#=)と呼ばれる．\n"
   ]
  },
  {
   "cell_type": "code",
   "execution_count": 1,
   "id": "0dfe26e9-4b65-450f-9c21-d9e036254f64",
   "metadata": {},
   "outputs": [
    {
     "data": {
      "text/plain": [
       "123"
      ]
     },
     "metadata": {},
     "output_type": "display_data"
    }
   ],
   "source": [
    "x = 123"
   ]
  },
  {
   "cell_type": "markdown",
   "id": "5148b3dd",
   "metadata": {},
   "source": [
    "`x`への代入が終わったあと，`x = 123` という式自体が右辺の値に評価されることに注意[(Assignment expressions ...)](https://docs.julialang.org/en/v1/manual/variables/#man-assignment-expressions)．\n",
    "\n",
    "その結果，下のセルに `123` が表示されている．\n",
    "\n",
    "変数 `x`には `123` という値が格納されているはずなので，`x` の中身を\n",
    "[@show](https://docs.julialang.org/en/v1/base/base/#Base.@show)マクロを使って確認しておこう．"
   ]
  },
  {
   "cell_type": "code",
   "execution_count": 2,
   "id": "469c4fdd",
   "metadata": {},
   "outputs": [
    {
     "name": "stdout",
     "output_type": "stream",
     "text": [
      "x = 123\n"
     ]
    },
    {
     "data": {
      "text/plain": [
       "123"
      ]
     },
     "metadata": {},
     "output_type": "display_data"
    }
   ],
   "source": [
    "@show x"
   ]
  },
  {
   "cell_type": "markdown",
   "id": "367a36a3",
   "metadata": {},
   "source": [
    "`@show` マクロは与えられた式と，式の評価値の両方を出力する．"
   ]
  },
  {
   "cell_type": "code",
   "execution_count": 3,
   "id": "25fe60ab",
   "metadata": {},
   "outputs": [
    {
     "name": "stdout",
     "output_type": "stream",
     "text": [
      "x + 1 = 124\n"
     ]
    },
    {
     "data": {
      "text/plain": [
       "124"
      ]
     },
     "metadata": {},
     "output_type": "display_data"
    }
   ],
   "source": [
    "@show x + 1"
   ]
  },
  {
   "cell_type": "markdown",
   "id": "749eba5e",
   "metadata": {},
   "source": [
    "`@show` マクロは式 `x + 1`の評価値を出力すると同時に，その評価値自体も返すため，\n",
    "上記のように出力が重複することがある．\n",
    "\n",
    "文末にセミコロンを付ければ抑制できる．"
   ]
  },
  {
   "cell_type": "code",
   "execution_count": 4,
   "id": "e6a64897",
   "metadata": {},
   "outputs": [
    {
     "name": "stdout",
     "output_type": "stream",
     "text": [
      "x + 1 = 124\n"
     ]
    }
   ],
   "source": [
    "@show x + 1;"
   ]
  },
  {
   "cell_type": "markdown",
   "id": "ed514bc1-6892-47ac-be34-ba558067541b",
   "metadata": {},
   "source": [
    "## 既存変数への値の代入\n",
    "既存の変数に値を代入すると，変数の中身の種類にかかわらず上書きされる．\n",
    "\n",
    "例えば，数値の変数に文字列を代入することもできる．"
   ]
  },
  {
   "cell_type": "code",
   "execution_count": 5,
   "id": "e3c9f03e-5975-4a61-95cd-02b557c684ef",
   "metadata": {},
   "outputs": [
    {
     "name": "stdout",
     "output_type": "stream",
     "text": [
      "x = \"abc\"\n"
     ]
    }
   ],
   "source": [
    "x = 1\n",
    "x = \"abc\"\n",
    "@show x;     # 文末のセミコロンは，式 `x`自体が格納値を出力するのを防ぐため．"
   ]
  },
  {
   "cell_type": "markdown",
   "id": "1d0152ed",
   "metadata": {},
   "source": [
    "変数 `x` に，なにか別の変数 `y` を代入した場合，`x`, `y` のデータの種類によって挙動が異なる．\n",
    "\n",
    "データが値や文字列の場合，変数の中身ごとデータごと複製される．<br>\n",
    "（変数はラベルのようなものという説明とは整合しないが，この場合は「ラベル付きの箱」と考えたほうがよいかもしれない．）"
   ]
  },
  {
   "cell_type": "code",
   "execution_count": 6,
   "id": "3c80f798",
   "metadata": {},
   "outputs": [
    {
     "name": "stdout",
     "output_type": "stream",
     "text": [
      "x = 2\n",
      "y = \"abc\"\n"
     ]
    }
   ],
   "source": [
    "x = 1\n",
    "y = 2\n",
    "x = y   # x = 2 と等価\n",
    "y = \"abc\"\n",
    "@show x  # x = \"abc\" ではない\n",
    "@show y;"
   ]
  },
  {
   "cell_type": "markdown",
   "id": "d84a480a",
   "metadata": {
    "vscode": {
     "languageId": "html"
    }
   },
   "source": [
    "<div class=\"alert alert-block alert-danger\">\n",
    "Alert: piなどの予約語（特別なキーワード）や演算子に対しても，代入で上書きできてしまうので要注意．\n",
    "\n",
    "混乱を招くだけなので予約語への代入は非推奨です．\n",
    "</div>"
   ]
  },
  {
   "cell_type": "markdown",
   "id": "1d655a9e-6e9e-446c-95aa-9c35b459eaa7",
   "metadata": {},
   "source": [
    "## 代入時の評価\n",
    "変数に代入するとき，右辺は実行時に評価され，その評価値が変数に代入される．"
   ]
  },
  {
   "cell_type": "code",
   "execution_count": 7,
   "id": "70cfa501-b521-42be-96dd-449e1048c80d",
   "metadata": {},
   "outputs": [
    {
     "data": {
      "text/plain": [
       "8"
      ]
     },
     "metadata": {},
     "output_type": "display_data"
    }
   ],
   "source": [
    "x = 2^3"
   ]
  },
  {
   "cell_type": "markdown",
   "id": "db2211cf",
   "metadata": {},
   "source": [
    "なので，次のような書き方もできる．"
   ]
  },
  {
   "cell_type": "code",
   "execution_count": 8,
   "id": "17c4577c",
   "metadata": {},
   "outputs": [
    {
     "data": {
      "text/plain": [
       "101"
      ]
     },
     "metadata": {},
     "output_type": "display_data"
    }
   ],
   "source": [
    "x = 1\n",
    "x = x + 100"
   ]
  },
  {
   "cell_type": "markdown",
   "id": "89a4eac3",
   "metadata": {},
   "source": [
    "2行目は，実行時に右辺が `101`と評価されている．"
   ]
  },
  {
   "cell_type": "markdown",
   "id": "9c5dd0ba",
   "metadata": {},
   "source": [
    "ちなみに，`x = x + 100` は `x += 100` と略記できる． "
   ]
  },
  {
   "cell_type": "code",
   "execution_count": 9,
   "id": "155a3019",
   "metadata": {},
   "outputs": [
    {
     "data": {
      "text/plain": [
       "101"
      ]
     },
     "metadata": {},
     "output_type": "display_data"
    }
   ],
   "source": [
    "x = 1\n",
    "x += 100    # x = x + 100 と同じ"
   ]
  },
  {
   "cell_type": "markdown",
   "id": "024cef87",
   "metadata": {},
   "source": [
    "## [連鎖代入](https://docs.julialang.org/en/v1/manual/variables/#man-assignment-expressions)\n",
    "複数の変数 `x`, `y` に同時に値を代入する場合，\n",
    "```\n",
    "x = 1\n",
    "y = 1\n",
    "```\n",
    "と書く代わりに，連鎖代入で短縮して書くことができる．"
   ]
  },
  {
   "cell_type": "code",
   "execution_count": 10,
   "id": "f1d02635",
   "metadata": {},
   "outputs": [
    {
     "data": {
      "text/plain": [
       "1"
      ]
     },
     "metadata": {},
     "output_type": "display_data"
    }
   ],
   "source": [
    "x = y = 1"
   ]
  },
  {
   "cell_type": "markdown",
   "id": "ca9d2d0b",
   "metadata": {},
   "source": [
    "評価順序をカッコ書きで明示すると\n",
    "`x = (y = 1)` \n",
    "となる．"
   ]
  },
  {
   "cell_type": "markdown",
   "id": "f4408ab6",
   "metadata": {},
   "source": [
    "## 複数代入\n",
    "複数の変数に値を代入する場合，\n",
    "普通に考えれば次のように書くだろう．"
   ]
  },
  {
   "cell_type": "code",
   "execution_count": 11,
   "id": "da73cb99",
   "metadata": {},
   "outputs": [
    {
     "name": "stdout",
     "output_type": "stream",
     "text": [
      "x = 1\n",
      "y = 2\n",
      "z = 3\n"
     ]
    }
   ],
   "source": [
    "x = 1\n",
    "y = 2\n",
    "z = 3 \n",
    "@show x y z;"
   ]
  },
  {
   "cell_type": "markdown",
   "id": "a78f19d6",
   "metadata": {},
   "source": [
    "タプル ([tuple](https://docs.julialang.org/en/v1/manual/functions/#Tuples)) というものを用いて一行で書くこともできる．"
   ]
  },
  {
   "cell_type": "code",
   "execution_count": 12,
   "id": "a86f89e4",
   "metadata": {},
   "outputs": [
    {
     "name": "stdout",
     "output_type": "stream",
     "text": [
      "x = 1\n",
      "y = 2\n",
      "z = 3\n"
     ]
    }
   ],
   "source": [
    "x, y, z = 1, 2, 3\n",
    "@show x y z;"
   ]
  },
  {
   "cell_type": "markdown",
   "id": "d03bbbde",
   "metadata": {},
   "source": [
    "タプルによる代入は，値を交換を行う場合に非常に便利である．"
   ]
  },
  {
   "cell_type": "code",
   "execution_count": 13,
   "id": "5bf14590",
   "metadata": {},
   "outputs": [
    {
     "name": "stdout",
     "output_type": "stream",
     "text": [
      "x = \"abc\"\n",
      "y = 1\n"
     ]
    }
   ],
   "source": [
    "x, y = 1, \"abc\"\n",
    "x, y = y, x\n",
    "@show x y;"
   ]
  },
  {
   "cell_type": "markdown",
   "id": "baaa537a",
   "metadata": {},
   "source": [
    "## 変数の文字列化\n",
    "変数`x`に対して，文字列リテラル中に`$x` と書くと，\n",
    "`x`の値が文字列に埋め込まれる．\n",
    "\n",
    "ここで，文字列リテラルとはコード中の `\"...\"`と書かれた文のことを指す．"
   ]
  },
  {
   "cell_type": "code",
   "execution_count": 14,
   "id": "bdf6de50",
   "metadata": {},
   "outputs": [
    {
     "name": "stdout",
     "output_type": "stream",
     "text": [
      "x is 16\n"
     ]
    }
   ],
   "source": [
    "x = 16\n",
    "println(\"x is $x\")"
   ]
  },
  {
   "cell_type": "markdown",
   "id": "8621a572",
   "metadata": {},
   "source": [
    "より正確には， `$(式)`と書いたとき，`式`が先に評価されて文字列として埋め込まれる．"
   ]
  },
  {
   "cell_type": "code",
   "execution_count": 15,
   "id": "2ab1067a",
   "metadata": {},
   "outputs": [
    {
     "name": "stdout",
     "output_type": "stream",
     "text": [
      "sqrt(x) = 4.0\n",
      "The square root of x is 4.0.\n"
     ]
    }
   ],
   "source": [
    "x = 16\n",
    "@show sqrt(x)  # 確認用\n",
    "println(\"The square root of x is $(sqrt(x)).\")"
   ]
  },
  {
   "cell_type": "markdown",
   "id": "44d1e73f-449a-45a2-aefb-b53782f936c1",
   "metadata": {},
   "source": [
    "## 【参考】@time マクロ\n",
    "与えられた式を実行するのにかかった時間と allocation (メモリ割り当て) の総量を表示する．\n",
    "\n",
    "試しに，引数の秒数だけ停止するコマンド `sleep(t)` を実行してみよう．"
   ]
  },
  {
   "cell_type": "code",
   "execution_count": 16,
   "id": "126afb8c-a2e3-44e6-a96f-a7bec35ca194",
   "metadata": {},
   "outputs": [
    {
     "name": "stdout",
     "output_type": "stream",
     "text": [
      "  0.502784 seconds (25 allocations: 840 bytes)\n"
     ]
    }
   ],
   "source": [
    "@time sleep(0.5)    # 0.5[s] 停止するはず"
   ]
  },
  {
   "cell_type": "markdown",
   "id": "01c1cef9-2e65-4bef-8a7a-4059a808b1c8",
   "metadata": {
    "jp-MarkdownHeadingCollapsed": true,
    "tags": []
   },
   "source": [
    "\n",
    "## 【参考】変数の命名規則\n",
    "原則として，**変数名は他の人がコードを読んだときにわかりやすい名前をつける**ようにする．  \n",
    "そのために，曖昧な単語よりも\n",
    "* できるだけ明確な単語を選択する\n",
    "\n",
    "ことが大切である．例えば，`size` よりも `length` や `area`,  `volume` などのほうがわかりやすい．\n",
    "\n",
    "しかし，詳細に書こうとして，`lebesgue_measure` のような冗長な単語にしてしまうとわかりにくくなってしまう．\n",
    "\n",
    "また，\n",
    "- ループカウンタ（後述）には `i`,`j`,`k`などを使う\n",
    "ように，暗黙のルールのような慣習もある．\n",
    "\n",
    "厳密な命名規則があるわけでは無いが，プログラミング言語によって慣習や推奨ルールがある．\n",
    "\n",
    "Juliaの場合は，[Style Guide](https://docs.julialang.org/en/v1/manual/style-guide/)に書かれている．\n",
    "例えば，型やモジュール（独立したコード群のこと）について，\n",
    "> - modules and type names use capitalization and camel case: module SparseArrays, struct UnitRange.\n",
    "\n",
    "と規定されている．_camel case_ とは `camelCase` のように単語ごとに大文字にすることを意味している．\n",
    "\n",
    "ここでは _captitalization and camel case_ と言っているので，`CamelCase`となる．\n",
    "\n",
    "最後に，よく見る命名規則を列挙しておく．\n",
    "- 変数名は名詞とする．\n",
    "- 関数は動詞とする．\n",
    "\n",
    "\n"
   ]
  }
 ],
 "metadata": {
  "kernelspec": {
   "display_name": "Julia 1.11.2",
   "language": "julia",
   "name": "julia-1.11"
  },
  "language_info": {
   "file_extension": ".jl",
   "mimetype": "application/julia",
   "name": "julia",
   "version": "1.11.2"
  }
 },
 "nbformat": 4,
 "nbformat_minor": 5
}
