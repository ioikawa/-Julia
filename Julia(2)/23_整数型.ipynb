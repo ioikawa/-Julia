{
 "cells": [
  {
   "cell_type": "markdown",
   "metadata": {},
   "source": [
    "# 整数型 [Integers](https://docs.julialang.org/en/v1/manual/integers-and-floating-point-numbers/#Integers)\n",
    "\n",
    "整数型 `Int64` は整数値を扱う型とはいっても，数学における整数とは異なり，\n",
    "値の範囲には限界がある．"
   ]
  },
  {
   "cell_type": "code",
   "execution_count": 13,
   "metadata": {},
   "outputs": [
    {
     "name": "stdout",
     "output_type": "stream",
     "text": [
      "2 ^ 63 = -9223372036854775808\n"
     ]
    },
    {
     "data": {
      "text/plain": [
       "-9223372036854775808"
      ]
     },
     "metadata": {},
     "output_type": "display_data"
    }
   ],
   "source": [
    "@show 2^63"
   ]
  },
  {
   "cell_type": "code",
   "execution_count": null,
   "metadata": {},
   "outputs": [],
   "source": [
    "$2^{63}$は明らかなのに，なぜ負の値になってしまったのか？\n",
    "\n",
    "\n"
   ]
  },
  {
   "cell_type": "markdown",
   "metadata": {},
   "source": []
  },
  {
   "cell_type": "markdown",
   "metadata": {},
   "source": [
    "整数型はビット数に応じて扱える整数の範囲に限界がある（[参考](https://docs.julialang.org/en/v1/manual/integers-and-floating-point-numbers/#Integers-and-Floating-Point-Numbers)）．\n",
    "\n",
    "`typemax()`, `typemin()`で扱える整数の最大値と最小値が具体的に知ることができる．"
   ]
  },
  {
   "cell_type": "code",
   "execution_count": 35,
   "metadata": {},
   "outputs": [
    {
     "data": {
      "text/plain": [
       "\"0111111111111111111111111111111111111111111111111111111111111111\""
      ]
     },
     "metadata": {},
     "output_type": "display_data"
    }
   ],
   "source": [
    "bitstring(2^63-1)"
   ]
  },
  {
   "cell_type": "code",
   "execution_count": null,
   "metadata": {},
   "outputs": [
    {
     "name": "stdout",
     "output_type": "stream",
     "text": [
      "typemax(Int64) = 9223372036854775807\n",
      "typemin(Int64) = -9223372036854775808\n",
      "typemax(UInt64) = 0xffffffffffffffff\n",
      "typemin(UInt64) = 0x0000000000000000\n"
     ]
    },
    {
     "data": {
      "text/plain": [
       "0x0000000000000000"
      ]
     },
     "metadata": {},
     "output_type": "display_data"
    }
   ],
   "source": [
    "@show typemax(Int64)\n",
    "@show typemin(Int64)\n",
    "@show typemax(UInt64)\n",
    "@show typemin(UInt64)"
   ]
  },
  {
   "cell_type": "markdown",
   "metadata": {},
   "source": [
    "計算結果が限界値を超える場合，overflowを起こして正常な結果が得られない．"
   ]
  },
  {
   "cell_type": "code",
   "execution_count": 32,
   "metadata": {},
   "outputs": [
    {
     "data": {
      "text/plain": [
       "true"
      ]
     },
     "metadata": {},
     "output_type": "display_data"
    }
   ],
   "source": [
    "typemax(Int64) + 1 \n",
    "typemax(Int64) + 1 == typemin(Int64)"
   ]
  },
  {
   "cell_type": "markdown",
   "metadata": {},
   "source": [
    "演算の際にoverflowを検知するためには，`Base.Checked.checked_add`などが使える．"
   ]
  },
  {
   "cell_type": "code",
   "execution_count": null,
   "metadata": {},
   "outputs": [
    {
     "name": "stdout",
     "output_type": "stream",
     "text": [
      "Base.Checked.checked_add(100, 1) = 101\n"
     ]
    },
    {
     "ename": "LoadError",
     "evalue": "OverflowError: 9223372036854775807 + 1 overflowed for type Int64",
     "output_type": "error",
     "traceback": [
      "OverflowError: 9223372036854775807 + 1 overflowed for type Int64\n",
      "\n",
      "Stacktrace:\n",
      " [1] throw_overflowerr_binaryop(op::Symbol, x::Int64, y::Int64)\n",
      "   @ Base.Checked ./checked.jl:163\n",
      " [2] checked_add(x::Int64, y::Int64)\n",
      "   @ Base.Checked ./checked.jl:175\n",
      " [3] macro expansion\n",
      "   @ show.jl:1232 [inlined]\n",
      " [4] top-level scope\n",
      "   @ In[13]:3"
     ]
    }
   ],
   "source": [
    "@show Base.Checked.checked_add(100, 1)  # 100 + 1 = 101 で範囲内で問題なし．\n",
    "M = typemax(Int64)\n",
    "@show Base.Checked.checked_add(M, 1)   # M+1 → overflowエラーが発生する"
   ]
  },
  {
   "cell_type": "markdown",
   "metadata": {},
   "source": []
  },
  {
   "cell_type": "code",
   "execution_count": 27,
   "metadata": {},
   "outputs": [
    {
     "name": "stdout",
     "output_type": "stream",
     "text": [
      "typeof(x) = UInt8\n"
     ]
    },
    {
     "data": {
      "text/plain": [
       "UInt8"
      ]
     },
     "metadata": {},
     "output_type": "display_data"
    }
   ],
   "source": [
    "x = UInt8(255)\n",
    "@show typeof(x)"
   ]
  },
  {
   "cell_type": "code",
   "execution_count": 33,
   "metadata": {},
   "outputs": [
    {
     "ename": "InexactError",
     "evalue": "InexactError: trunc(UInt8, 256)",
     "output_type": "error",
     "traceback": [
      "InexactError: trunc(UInt8, 256)\n",
      "\n",
      "Stacktrace:\n",
      " [1] throw_inexacterror(::Symbol, ::Vararg{Any})\n",
      "   @ Core ./boot.jl:750\n",
      " [2] checked_trunc_uint\n",
      "   @ ./boot.jl:772 [inlined]\n",
      " [3] toUInt8\n",
      "   @ ./boot.jl:834 [inlined]\n",
      " [4] UInt8(x::Int64)\n",
      "   @ Core ./boot.jl:894\n",
      " [5] top-level scope\n",
      "   @ ~/GitHub/KeisankiEnshu-Julia/Julia(2)/jl_notebook_cell_df34fa98e69747e1a8f8a730347b8e2f_X24sZmlsZQ==.jl:1"
     ]
    }
   ],
   "source": [
    "y = UInt8(x + 1)\n",
    "@show typeof(x) y typeof(y)"
   ]
  },
  {
   "cell_type": "code",
   "execution_count": 21,
   "metadata": {},
   "outputs": [
    {
     "data": {
      "text/plain": [
       "255"
      ]
     },
     "metadata": {},
     "output_type": "display_data"
    }
   ],
   "source": [
    "Int(typemax(UInt8))\n"
   ]
  },
  {
   "cell_type": "code",
   "execution_count": null,
   "metadata": {},
   "outputs": [],
   "source": []
  }
 ],
 "metadata": {
  "kernelspec": {
   "display_name": "Julia 1.11.2",
   "language": "julia",
   "name": "julia-1.11"
  },
  "language_info": {
   "file_extension": ".jl",
   "mimetype": "application/julia",
   "name": "julia",
   "version": "1.11.2"
  }
 },
 "nbformat": 4,
 "nbformat_minor": 2
}
