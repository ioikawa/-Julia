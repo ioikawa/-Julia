{
 "cells": [
  {
   "cell_type": "markdown",
   "id": "1826cece-0868-4cb9-9de7-0178610d057b",
   "metadata": {},
   "source": [
    "# LinearAlgebraパッケージ\n",
    "- 行列式や固有値の計算などを行うには `LinearAlgebra` パッケージを読み込む必要がある．"
   ]
  },
  {
   "cell_type": "code",
   "execution_count": 2,
   "id": "96576bcc-3058-4206-a6a5-dee642e409d8",
   "metadata": {},
   "outputs": [],
   "source": [
    "using LinearAlgebra"
   ]
  },
  {
   "cell_type": "markdown",
   "id": "4a5e2f02-5ae8-437b-924e-bd6ca0531e35",
   "metadata": {},
   "source": [
    "## 内積: `dot()`"
   ]
  },
  {
   "cell_type": "code",
   "execution_count": 3,
   "id": "9303c2a4-b9f6-4899-92f1-2f6ef694607e",
   "metadata": {},
   "outputs": [
    {
     "data": {
      "text/plain": [
       "32"
      ]
     },
     "metadata": {},
     "output_type": "display_data"
    }
   ],
   "source": [
    "dot([1,2,3],[4,5,6])"
   ]
  },
  {
   "cell_type": "code",
   "execution_count": 4,
   "id": "5388cd82-c567-497a-b8f2-cd77acc0776f",
   "metadata": {},
   "outputs": [
    {
     "data": {
      "text/plain": [
       "3-element Vector{Int64}:\n",
       " 0\n",
       " 0\n",
       " 1"
      ]
     },
     "metadata": {},
     "output_type": "display_data"
    }
   ],
   "source": [
    "cross([1,0,0],[0,1,0])"
   ]
  },
  {
   "cell_type": "markdown",
   "id": "333da8ad-5474-463c-80ed-ee3e69aba014",
   "metadata": {},
   "source": [
    "## 行列式の計算 `det()`\n",
    "試しに，次のVandermondeの行列式([MathWorld](https://mathworld.wolfram.com/VandermondeDeterminant.html))を計算してみよう．"
   ]
  },
  {
   "cell_type": "code",
   "execution_count": 5,
   "id": "7b6cd65d-96b2-4d83-8e75-2f50646b7bda",
   "metadata": {},
   "outputs": [
    {
     "data": {
      "text/plain": [
       "3×3 Matrix{Int64}:\n",
       " 1  1  1\n",
       " 1  2  4\n",
       " 1  3  9"
      ]
     },
     "metadata": {},
     "output_type": "display_data"
    }
   ],
   "source": [
    "A = [ i^(j-1) for i in 1:3, j in 1:3]  "
   ]
  },
  {
   "cell_type": "code",
   "execution_count": 6,
   "id": "03f19f1a-06de-4d2f-a930-934cf31a56a2",
   "metadata": {},
   "outputs": [
    {
     "data": {
      "text/plain": [
       "2.0"
      ]
     },
     "metadata": {},
     "output_type": "display_data"
    }
   ],
   "source": [
    "det(A)   # = 2"
   ]
  },
  {
   "cell_type": "markdown",
   "id": "1a53687e",
   "metadata": {},
   "source": [
    "## `rank()`"
   ]
  },
  {
   "cell_type": "code",
   "execution_count": 7,
   "id": "c5bf2cbc",
   "metadata": {},
   "outputs": [
    {
     "data": {
      "text/plain": [
       "2"
      ]
     },
     "metadata": {},
     "output_type": "display_data"
    }
   ],
   "source": [
    "A = [1 2 3; 4 5 6; 7 8 9]\n",
    "rank(A)  # = 2"
   ]
  },
  {
   "cell_type": "markdown",
   "id": "d27caca8-6ea7-4795-919b-ea1c6f6ea797",
   "metadata": {},
   "source": [
    "## 固有値の計算\n",
    "正方行列 $A$の固有値と固有ベクトルはそれぞれ，以下の関数で計算できる．\n",
    "- `eigvals(A)`  : 固有値の配列\n",
    "- `eigvecs(A)`  : 固有ベクトルを列ごとに並べた行列\n",
    "固有値が番号と固有ベクトルの列数は対応している．\n",
    "\n",
    "固有値と固有ベクトルを同時に出力するには，\n",
    "- `eigen(A)`\n",
    "を用いる．\n",
    "\n",
    "\n",
    "$A$は対角行列 $D$ を適当な正則行列 $P$ 相似変換した行列とする\n",
    "（もちろん$A$の固有値は$D$の対角成分に等しい）．\n",
    "この行列$A$の固有値を数値計算してみよう．"
   ]
  },
  {
   "cell_type": "code",
   "execution_count": 8,
   "id": "c7c0bcde-80cb-49d2-b77e-5a99c1e9e867",
   "metadata": {},
   "outputs": [
    {
     "data": {
      "text/plain": [
       "3×3 Matrix{Int64}:\n",
       " 1  0  0\n",
       " 0  2  0\n",
       " 0  0  3"
      ]
     },
     "metadata": {},
     "output_type": "display_data"
    }
   ],
   "source": [
    "D = diagm([1,2,3])  # 対角行列"
   ]
  },
  {
   "cell_type": "markdown",
   "id": "3c5b8a02-f9f9-4e68-9853-27b4d258026d",
   "metadata": {},
   "source": [
    "`diagm()`については [LinearAlgebra.diagm](https://docs.julialang.org/en/v1/stdlib/LinearAlgebra/#LinearAlgebra.diagm)参照．"
   ]
  },
  {
   "cell_type": "code",
   "execution_count": 9,
   "id": "7c7a177b-5964-4f98-b3cc-95b85df2aba8",
   "metadata": {},
   "outputs": [
    {
     "data": {
      "text/plain": [
       "3×3 Matrix{Float64}:\n",
       "  2.5   1.0   0.5\n",
       "  0.5   2.0  -0.5\n",
       " -0.5  -1.0   1.5"
      ]
     },
     "metadata": {},
     "output_type": "display_data"
    }
   ],
   "source": [
    "Q = [0 1 1; 1 0 1; 1 1 0]\n",
    "A = inv(Q)*D*Q"
   ]
  },
  {
   "cell_type": "code",
   "execution_count": 10,
   "id": "f979e5d5-514c-4ca1-bc03-7931399778df",
   "metadata": {},
   "outputs": [
    {
     "data": {
      "text/plain": [
       "3-element Vector{Float64}:\n",
       " 0.9999999999999999\n",
       " 1.9999999999999993\n",
       " 2.999999999999999"
      ]
     },
     "metadata": {},
     "output_type": "display_data"
    }
   ],
   "source": [
    "eigvals(A)"
   ]
  },
  {
   "cell_type": "markdown",
   "id": "86cce2ec-0a39-44a9-a12b-46c620e54feb",
   "metadata": {},
   "source": [
    "ほぼ 1,2,3 となっており，正しく結果が得られている．\n",
    "次に固有ベクトルを計算する．"
   ]
  },
  {
   "cell_type": "code",
   "execution_count": 11,
   "id": "bf913183-d3da-4973-b50c-f4f5c02f390d",
   "metadata": {},
   "outputs": [
    {
     "data": {
      "text/plain": [
       "3×3 Matrix{Float64}:\n",
       " -0.57735   0.57735   0.57735\n",
       "  0.57735  -0.57735   0.57735\n",
       "  0.57735   0.57735  -0.57735"
      ]
     },
     "metadata": {},
     "output_type": "display_data"
    }
   ],
   "source": [
    "eigvecs(A)"
   ]
  },
  {
   "cell_type": "markdown",
   "id": "7a850276-0bf8-4089-949a-f39c6d2e995f",
   "metadata": {},
   "source": [
    "固有ベクトルは $P$ の各列を正規化したものに等しい（符号の違いは生じるかもしれない）．"
   ]
  },
  {
   "cell_type": "markdown",
   "id": "467ef746-9f2a-42a1-a474-252439957d40",
   "metadata": {},
   "source": [
    "最後に `eigen(A)` も出力しておく．"
   ]
  },
  {
   "cell_type": "code",
   "execution_count": 12,
   "id": "a8ab03b5-0ad8-4103-9fa2-3596e9f389f9",
   "metadata": {},
   "outputs": [
    {
     "data": {
      "text/plain": [
       "Eigen{Float64, Float64, Matrix{Float64}, Vector{Float64}}\n",
       "values:\n",
       "3-element Vector{Float64}:\n",
       " 0.9999999999999999\n",
       " 1.9999999999999993\n",
       " 2.999999999999999\n",
       "vectors:\n",
       "3×3 Matrix{Float64}:\n",
       " -0.57735   0.57735   0.57735\n",
       "  0.57735  -0.57735   0.57735\n",
       "  0.57735   0.57735  -0.57735"
      ]
     },
     "metadata": {},
     "output_type": "display_data"
    }
   ],
   "source": [
    "eigen(A)"
   ]
  },
  {
   "cell_type": "markdown",
   "id": "38350d93-2e1b-482b-b93d-d2cad8a46561",
   "metadata": {},
   "source": [
    "### 📝 線形代数ライブラリ\n",
    "Juliaでは行列に関する数値計算は[LAPACK](https://www.netlib.org/lapack/)([User's Guide](https://www.netlib.org/lapack/lug/))などの専用ライブラリを呼び出している．\n",
    "`eigen()`が具体的にどのようなライブラリ（の関数）を呼び出しているのは `@less eigen(A)` を実行すれば確認できる（が，該当部分を見つけてトレースするのはそれなりに時間がかかる）．"
   ]
  },
  {
   "cell_type": "markdown",
   "id": "7e31e943-ce24-4db4-8c40-7894b85d5744",
   "metadata": {},
   "source": [
    "## 対角化\n",
    "- 対角化を実行する関数は用意されていない(?)が，`eigen()` で簡単に実現できる．"
   ]
  },
  {
   "cell_type": "code",
   "execution_count": 13,
   "id": "6d1cf836-eeb2-4415-82b1-07ae505367b4",
   "metadata": {},
   "outputs": [
    {
     "data": {
      "text/plain": [
       "3×3 Matrix{Float64}:\n",
       " 1.0          -2.22045e-16   3.88578e-16\n",
       " 2.22045e-16   2.0          -1.55431e-15\n",
       " 6.76334e-16  -1.32207e-15   3.0"
      ]
     },
     "metadata": {},
     "output_type": "display_data"
    }
   ],
   "source": [
    "# テスト用行列の構成\n",
    "Q = [0 1 1; 1 0 1; 1 1 0]\n",
    "A = inv(Q)*diagm([1,2,3])*Q\n",
    "\n",
    "# 固有値・固有ベクトルの計算\n",
    "Λ, P = eigen(A)\n",
    "# 対角化の確認\n",
    "inv(P)*A*P"
   ]
  },
  {
   "cell_type": "markdown",
   "id": "86cf82d7-a70e-4cde-be1b-58553ff685be",
   "metadata": {},
   "source": [
    "## 特異値分解: `SVD()`"
   ]
  },
  {
   "cell_type": "code",
   "execution_count": 14,
   "id": "a3c9e850-c83d-4f1f-a89d-e924fbe6fa2e",
   "metadata": {},
   "outputs": [
    {
     "data": {
      "text/plain": [
       "SVD{Float64, Float64, Matrix{Float64}, Vector{Float64}}\n",
       "U factor:\n",
       "2×2 Matrix{Float64}:\n",
       " -0.707107  -0.707107\n",
       " -0.707107   0.707107\n",
       "singular values:\n",
       "2-element Vector{Float64}:\n",
       " 1.4142135623730951\n",
       " 1.414213562373095\n",
       "Vt factor:\n",
       "2×2 Matrix{Float64}:\n",
       " -1.0  -0.0\n",
       "  0.0   1.0"
      ]
     },
     "metadata": {},
     "output_type": "display_data"
    }
   ],
   "source": [
    "B = [1 -1; 1 1]\n",
    "U,Σ,V = svd(B)"
   ]
  },
  {
   "cell_type": "code",
   "execution_count": 15,
   "id": "4216dd67-f811-408e-944e-2684c4035e51",
   "metadata": {},
   "outputs": [
    {
     "data": {
      "text/plain": [
       "2×2 Matrix{Float64}:\n",
       " 1.0  -1.0\n",
       " 1.0   1.0"
      ]
     },
     "metadata": {},
     "output_type": "display_data"
    }
   ],
   "source": [
    "U*Diagonal(Σ)*V' # == B"
   ]
  },
  {
   "cell_type": "code",
   "execution_count": 24,
   "id": "08fd67e9-c124-4362-bb94-0c8d346879c2",
   "metadata": {},
   "outputs": [
    {
     "data": {
      "text/plain": [
       "2-element Vector{Float64}:\n",
       " 1.4142135623730951\n",
       " 1.4142135623730951"
      ]
     },
     "metadata": {},
     "output_type": "display_data"
    }
   ],
   "source": [
    "sqrt.(eigvals(B*B'))\n"
   ]
  },
  {
   "cell_type": "code",
   "execution_count": 17,
   "id": "601b301c",
   "metadata": {},
   "outputs": [],
   "source": []
  }
 ],
 "metadata": {
  "kernelspec": {
   "display_name": "Julia 1.9.2",
   "language": "julia",
   "name": "julia-1.9"
  },
  "language_info": {
   "file_extension": ".jl",
   "mimetype": "application/julia",
   "name": "julia",
   "version": "1.9.2"
  }
 },
 "nbformat": 4,
 "nbformat_minor": 5
}
