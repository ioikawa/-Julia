{
 "cells": [
  {
   "cell_type": "markdown",
   "id": "1826cece-0868-4cb9-9de7-0178610d057b",
   "metadata": {},
   "source": [
    "# LinearAlgebraパッケージ\n",
    "行列式や固有値の計算など行うには `LinearAlgebra` パッケージを読み込む必要がある．\n",
    "LinearAlgebraパッケージは標準で導入されているので，インストールは不要である．"
   ]
  },
  {
   "cell_type": "code",
   "execution_count": 1,
   "id": "96576bcc-3058-4206-a6a5-dee642e409d8",
   "metadata": {},
   "outputs": [],
   "source": [
    "using LinearAlgebra"
   ]
  },
  {
   "cell_type": "markdown",
   "id": "333da8ad-5474-463c-80ed-ee3e69aba014",
   "metadata": {},
   "source": [
    "## 行列式の計算 `det()`\n",
    "試しに，次のVandermondeの行列式([MathWorld](https://mathworld.wolfram.com/VandermondeDeterminant.html))を計算してみよう．"
   ]
  },
  {
   "cell_type": "code",
   "execution_count": 2,
   "id": "7b6cd65d-96b2-4d83-8e75-2f50646b7bda",
   "metadata": {},
   "outputs": [
    {
     "data": {
      "text/plain": [
       "3×3 Matrix{Int64}:\n",
       " 1  1  1\n",
       " 1  2  4\n",
       " 1  3  9"
      ]
     },
     "execution_count": 2,
     "metadata": {},
     "output_type": "execute_result"
    }
   ],
   "source": [
    "A = [i^(j - 1) for i in 1:3, j in 1:3]"
   ]
  },
  {
   "cell_type": "code",
   "execution_count": 6,
   "id": "03f19f1a-06de-4d2f-a930-934cf31a56a2",
   "metadata": {},
   "outputs": [
    {
     "data": {
      "text/plain": [
       "2.0"
      ]
     },
     "execution_count": 6,
     "metadata": {},
     "output_type": "execute_result"
    }
   ],
   "source": [
    "det(A)   # = 2"
   ]
  },
  {
   "cell_type": "markdown",
   "id": "d27caca8-6ea7-4795-919b-ea1c6f6ea797",
   "metadata": {},
   "source": [
    "## 固有値の計算\n",
    "正方行列 $A$の固有値と固有ベクトルはそれぞれ，以下の関数で計算できる．\n",
    "- `eigvals(A)`  : 固有値の配列\n",
    "- `eigvecs(A)`  : 固有ベクトルを列ごとに並べた行列\n",
    "固有値が番号と固有ベクトルの列数は対応している．\n",
    "\n",
    "固有値と固有ベクトルを同時に出力するには，\n",
    "- `eigen(A)`\n",
    "を用いる．\n",
    "\n",
    "\n",
    "$A$は対角行列 $D$ を適当な正則行列 $P$ 相似変換した行列とする\n",
    "（もちろん$A$の固有値は$D$の対角成分に等しい）．\n",
    "この行列$A$の固有値を数値計算してみよう．"
   ]
  },
  {
   "cell_type": "code",
   "execution_count": 10,
   "id": "c7c0bcde-80cb-49d2-b77e-5a99c1e9e867",
   "metadata": {},
   "outputs": [
    {
     "data": {
      "text/plain": [
       "3×3 Matrix{Int64}:\n",
       " 1  0  0\n",
       " 0  2  0\n",
       " 0  0  3"
      ]
     },
     "execution_count": 10,
     "metadata": {},
     "output_type": "execute_result"
    }
   ],
   "source": [
    "D = diagm([1, 2, 3])  # 対角行列"
   ]
  },
  {
   "cell_type": "markdown",
   "id": "3c5b8a02-f9f9-4e68-9853-27b4d258026d",
   "metadata": {},
   "source": [
    "`diagm()`については [LinearAlgebra.diagm](https://docs.julialang.org/en/v1/stdlib/LinearAlgebra/#LinearAlgebra.diagm)参照．"
   ]
  },
  {
   "cell_type": "code",
   "execution_count": 14,
   "id": "7c7a177b-5964-4f98-b3cc-95b85df2aba8",
   "metadata": {},
   "outputs": [
    {
     "data": {
      "text/plain": [
       "3×3 Matrix{Float64}:\n",
       "  2.5   1.0   0.5\n",
       "  0.5   2.0  -0.5\n",
       " -0.5  -1.0   1.5"
      ]
     },
     "execution_count": 14,
     "metadata": {},
     "output_type": "execute_result"
    }
   ],
   "source": [
    "P = [0 1 1; 1 0 1; 1 1 0]\n",
    "A = inv(P) * D * P"
   ]
  },
  {
   "cell_type": "code",
   "execution_count": 15,
   "id": "f979e5d5-514c-4ca1-bc03-7931399778df",
   "metadata": {},
   "outputs": [
    {
     "data": {
      "text/plain": [
       "3-element Vector{Float64}:\n",
       " 0.9999999999999998\n",
       " 1.9999999999999991\n",
       " 2.999999999999999"
      ]
     },
     "execution_count": 15,
     "metadata": {},
     "output_type": "execute_result"
    }
   ],
   "source": [
    "eigvals(A)"
   ]
  },
  {
   "cell_type": "markdown",
   "id": "86cce2ec-0a39-44a9-a12b-46c620e54feb",
   "metadata": {},
   "source": [
    "ほぼ 1,2,3 となっており，正しく結果が得られている．\n",
    "次に固有ベクトルを計算する．"
   ]
  },
  {
   "cell_type": "code",
   "execution_count": 16,
   "id": "bf913183-d3da-4973-b50c-f4f5c02f390d",
   "metadata": {},
   "outputs": [
    {
     "data": {
      "text/plain": [
       "3×3 Matrix{Float64}:\n",
       " -0.57735   0.57735   0.57735\n",
       "  0.57735  -0.57735   0.57735\n",
       "  0.57735   0.57735  -0.57735"
      ]
     },
     "execution_count": 16,
     "metadata": {},
     "output_type": "execute_result"
    }
   ],
   "source": [
    "eigvecs(A)"
   ]
  },
  {
   "cell_type": "markdown",
   "id": "7a850276-0bf8-4089-949a-f39c6d2e995f",
   "metadata": {},
   "source": [
    "固有ベクトルは $P$ の各列を正規化したものに等しい（符号の違いは生じるかもしれない）．"
   ]
  },
  {
   "cell_type": "code",
   "execution_count": 22,
   "id": "2ce75936-95fe-4d39-b8ce-6eb6a4204d86",
   "metadata": {},
   "outputs": [
    {
     "data": {
      "text/plain": [
       "3×3 Matrix{Float64}:\n",
       " -0.57735   0.57735   0.57735\n",
       "  0.57735  -0.57735   0.57735\n",
       "  0.57735   0.57735  -0.57735"
      ]
     },
     "execution_count": 22,
     "metadata": {},
     "output_type": "execute_result"
    }
   ],
   "source": [
    "Q = inv(P)\n",
    "Q / norm(Q[:, 1])  # norm()はベクトルの長さを返す "
   ]
  },
  {
   "cell_type": "markdown",
   "id": "467ef746-9f2a-42a1-a474-252439957d40",
   "metadata": {},
   "source": [
    "最後に `eigen(A)` も出力しておく．"
   ]
  },
  {
   "cell_type": "code",
   "execution_count": 23,
   "id": "a8ab03b5-0ad8-4103-9fa2-3596e9f389f9",
   "metadata": {},
   "outputs": [
    {
     "data": {
      "text/plain": [
       "Eigen{Float64, Float64, Matrix{Float64}, Vector{Float64}}\n",
       "values:\n",
       "3-element Vector{Float64}:\n",
       " 0.9999999999999998\n",
       " 1.9999999999999991\n",
       " 2.999999999999999\n",
       "vectors:\n",
       "3×3 Matrix{Float64}:\n",
       " -0.57735   0.57735   0.57735\n",
       "  0.57735  -0.57735   0.57735\n",
       "  0.57735   0.57735  -0.57735"
      ]
     },
     "execution_count": 23,
     "metadata": {},
     "output_type": "execute_result"
    }
   ],
   "source": [
    "eigen(A)"
   ]
  },
  {
   "cell_type": "markdown",
   "id": "38350d93-2e1b-482b-b93d-d2cad8a46561",
   "metadata": {},
   "source": [
    "### Note\n",
    "Juliaでは行列に関する数値計算は[LAPACK](https://www.netlib.org/lapack/)([User's Guide](https://www.netlib.org/lapack/lug/))などの専用ライブラリを呼び出している．\n",
    "`eigen()`が具体的にどのようなライブラリ（の関数）を呼び出しているのは `@less eigen(A)` を実行すれば確認できる（が，該当部分を見つけてトレースするのはそれなりに時間がかかる）．"
   ]
  },
  {
   "cell_type": "code",
   "execution_count": null,
   "id": "d9aecab1-9764-44a4-9d71-c41701da6723",
   "metadata": {},
   "outputs": [],
   "source": []
  }
 ],
 "metadata": {
  "kernelspec": {
   "display_name": "Julia 1.6.7",
   "language": "julia",
   "name": "julia-1.6"
  },
  "language_info": {
   "file_extension": ".jl",
   "mimetype": "application/julia",
   "name": "julia",
   "version": "1.6.7"
  }
 },
 "nbformat": 4,
 "nbformat_minor": 5
}
