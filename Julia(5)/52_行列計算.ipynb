{
 "cells": [
  {
   "cell_type": "markdown",
   "metadata": {},
   "source": [
    "# 行列計算\n",
    "\n",
    "## 基本メソッド一覧\n",
    "\n",
    "`A`, `B` を行列型 `Matrix` の変数とする．\n",
    "\n",
    "|  コード    |    内容  |        \n",
    "|-----------|-------------|\n",
    "| `[1 2 3; 4 5 6]` | 行列の記法  |\n",
    "| `Float64[1 2 3; 4 5 6]` | Float64型のMatrix  |\n",
    "| `A[i,j]` | $A$の第 $(i,j)$成分 |\n",
    "| `zeros(m,n)`| $m\\times n$のゼロ行列 |\n",
    "| `ones(m,n)` | すべての成分が1の$m\\times n$行列 |\n",
    "|`fill(a, m, n)` | すべての成分が `a` であるような $m \\times n$ 行列 |\n",
    "| `size(A)` | $A$のサイズ |\n",
    "| `A + B`   | $A + B$ |\n",
    "| `A - B`   | $A - B$ |\n",
    "| `A*B`     | $AB$    |\n",
    "| `inv(A)`  | $A^{-1}$ |\n",
    "| `A^-1`    |$A^{-1}$ |\n",
    "| `A\\b`     | $Ax = b$の求解 |\n",
    "| `A\\B`     | $AX = B$の求解 |\n",
    "| `[A B]`   |  列方向への連結 |\n",
    "| `[A; B]`  | 行方向への連結 |\n",
    "| `transpose(A)` | 転置行列 | \n",
    "| `adjoint(A)` | 随伴行列 | \n",
    "| `A'` | 随伴行列 (`adjoint(A)` と同じ) | \n",
    "\n",
    "\n",
    "以下はLinearAlgebraパッケージの読み込みが必要\n",
    "\n",
    "\n",
    "|  コード    |    内容  |  \n",
    "|-----------|-------------|\n",
    "| `det(A)` | $A$の行列式 |\n",
    "| `tr(A)` | $A$のとレース |\n",
    "| `rank(A)` |$A$のランク |\n",
    "| `norm(A,p)` | $A$の $p$-norm |\n",
    "| `I(n)` | n次単位行列 | \n",
    "| `I` | 単位行列を表す記号．サイズは演算時に自動で設定される． |\n",
    "| `eigvals(A)` | $A$の固有値 | \n",
    "| `eigvecs(A)` | $A$の固有ベクトル |\n",
    "\n",
    "\n",
    "## 行列の記述\n",
    "成分は行ごとに並べ，セミコロン `;` で区切る．"
   ]
  },
  {
   "cell_type": "code",
   "execution_count": 15,
   "metadata": {},
   "outputs": [
    {
     "data": {
      "text/plain": [
       "2×3 Matrix{Int64}:\n",
       " 1  2  3\n",
       " 4  5  6"
      ]
     },
     "metadata": {},
     "output_type": "display_data"
    }
   ],
   "source": [
    "# 行ごとに改行しても同じ．\n",
    "[1 2 3; 4 5 6]"
   ]
  },
  {
   "cell_type": "markdown",
   "metadata": {},
   "source": [
    "## 行列成分へのアクセス\n",
    "行列 `A` の第$(i,j)$成分にアクセスするには，\n",
    "`A[i,j]`と書けばよい．"
   ]
  },
  {
   "cell_type": "code",
   "execution_count": 3,
   "metadata": {},
   "outputs": [
    {
     "data": {
      "text/plain": [
       "2×3 Matrix{Int64}:\n",
       " 11  12  13\n",
       " 21  22  23"
      ]
     },
     "metadata": {},
     "output_type": "display_data"
    }
   ],
   "source": [
    "A = [11 12 13\n",
    "     21 22 23]"
   ]
  },
  {
   "cell_type": "code",
   "execution_count": 4,
   "metadata": {},
   "outputs": [
    {
     "name": "stdout",
     "output_type": "stream",
     "text": [
      "A[1, 1] = 11\n",
      "A[1, 2] = 12\n",
      "A[1, 3] = 13\n"
     ]
    },
    {
     "data": {
      "text/plain": [
       "13"
      ]
     },
     "metadata": {},
     "output_type": "display_data"
    }
   ],
   "source": [
    "@show A[1, 1] A[1, 2] A[1, 3]"
   ]
  },
  {
   "cell_type": "markdown",
   "metadata": {},
   "source": [
    "行列を部分的に抜き出したい場合は，例えば，`:`記号を使う．"
   ]
  },
  {
   "cell_type": "code",
   "execution_count": 5,
   "metadata": {},
   "outputs": [
    {
     "name": "stdout",
     "output_type": "stream",
     "text": [
      "A[:, 1] = [11, 21]\n",
      "A[:, 2] = [12, 22]\n",
      "A[:, 3] = [13, 23]\n"
     ]
    }
   ],
   "source": [
    "@show A[:, 1] # 第1列\n",
    "@show A[:, 2] # 第2列\n",
    "@show A[:, 3]; # 第3列"
   ]
  },
  {
   "cell_type": "code",
   "execution_count": 6,
   "metadata": {},
   "outputs": [
    {
     "name": "stdout",
     "output_type": "stream",
     "text": [
      "A[1, :] = [11, 12, 13]\n",
      "A[2, :] = [21, 22, 23]\n"
     ]
    }
   ],
   "source": [
    "@show A[1, :]  #第1行（1×3行列ではなく，ベクトルになることに注意）\n",
    "@show A[2, :]; #第2行 "
   ]
  },
  {
   "cell_type": "code",
   "execution_count": 7,
   "metadata": {},
   "outputs": [
    {
     "data": {
      "text/plain": [
       "2×2 Matrix{Int64}:\n",
       " 12  13\n",
       " 22  23"
      ]
     },
     "metadata": {},
     "output_type": "display_data"
    }
   ],
   "source": [
    "A[1:2, 2:3]"
   ]
  },
  {
   "cell_type": "markdown",
   "metadata": {},
   "source": [
    "## 行列の連結\n",
    "複数の行列をブロック行列の要領で並べれば，簡単に連結することができる．"
   ]
  },
  {
   "cell_type": "code",
   "execution_count": 8,
   "metadata": {},
   "outputs": [
    {
     "data": {
      "text/plain": [
       "2×3 Matrix{Int64}:\n",
       " 0  0  0\n",
       " 0  0  0"
      ]
     },
     "metadata": {},
     "output_type": "display_data"
    }
   ],
   "source": [
    "O = zeros(Int, 2, 3)    # 見やすくするために， `Int`型にする"
   ]
  },
  {
   "cell_type": "code",
   "execution_count": 9,
   "metadata": {},
   "outputs": [
    {
     "data": {
      "text/plain": [
       "2×2 Matrix{Int64}:\n",
       " 1  1\n",
       " 1  1"
      ]
     },
     "metadata": {},
     "output_type": "display_data"
    }
   ],
   "source": [
    "🐕 = ones(Int, 2, 2)"
   ]
  },
  {
   "cell_type": "code",
   "execution_count": 10,
   "metadata": {},
   "outputs": [
    {
     "data": {
      "text/plain": [
       "2×5 Matrix{Int64}:\n",
       " 0  0  0  1  1\n",
       " 0  0  0  1  1"
      ]
     },
     "metadata": {},
     "output_type": "display_data"
    }
   ],
   "source": [
    "[O 🐕] # 水平に連結"
   ]
  },
  {
   "cell_type": "code",
   "execution_count": 11,
   "metadata": {},
   "outputs": [
    {
     "data": {
      "text/plain": [
       "4×5 Matrix{Int64}:\n",
       " 0  0  0  1  1\n",
       " 0  0  0  1  1\n",
       " 1  1  0  0  0\n",
       " 1  1  0  0  0"
      ]
     },
     "metadata": {},
     "output_type": "display_data"
    }
   ],
   "source": [
    "[O 🐕; 🐕 O]  # 垂直方向にも連結"
   ]
  },
  {
   "cell_type": "markdown",
   "metadata": {},
   "source": [
    "## 内包表記による行列の生成\n",
    "二重ループを内包表記することで行列を生成"
   ]
  },
  {
   "cell_type": "code",
   "execution_count": 12,
   "metadata": {},
   "outputs": [
    {
     "data": {
      "text/plain": [
       "3×5 Matrix{Int64}:\n",
       " 11  12  13  14  15\n",
       " 21  22  23  24  25\n",
       " 31  32  33  34  35"
      ]
     },
     "metadata": {},
     "output_type": "display_data"
    }
   ],
   "source": [
    "M = [10i + j for i in 1:3, j in 1:5]"
   ]
  }
 ],
 "metadata": {
  "kernelspec": {
   "display_name": "Julia 1.11.2",
   "language": "julia",
   "name": "julia-1.11"
  },
  "language_info": {
   "file_extension": ".jl",
   "mimetype": "application/julia",
   "name": "julia",
   "version": "1.11.2"
  }
 },
 "nbformat": 4,
 "nbformat_minor": 2
}
