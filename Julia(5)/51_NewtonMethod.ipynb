{
 "cells": [
  {
   "cell_type": "markdown",
   "id": "a501d0f1-45a9-4b23-8b35-3ccbd58e15ce",
   "metadata": {},
   "source": [
    "# Newton法\n"
   ]
  },
  {
   "cell_type": "markdown",
   "id": "142e761d-4129-4ec4-b36f-7a8eac13847d",
   "metadata": {},
   "source": [
    "## 非線形方程式の近似値 \n",
    "\n",
    "$f(x)$ を実数全体で定義された微分可能な実数値関数とする．\n",
    "\n",
    "非線形方程式 \n",
    "$$\n",
    "f(x) = 0\n",
    "$$\n",
    "は解 $\\alpha$をもつとする．\n",
    "さらに，$x=\\alpha$ の近傍で $f'(x) \\neq 0$ が成り立ち，\n",
    " $f''(\\alpha) \\neq 0$ と仮定する．\n",
    "\n",
    "非線形方程式は一般に解くことができないので，$\\alpha$ の近似値を知るためには数値計算が必要となる．\n",
    "\n",
    "## Newton法\n",
    "方程式の解 $\\alpha$ の近似値を，次の漸化式で反復計算する方法を **Newton法** あるいはNewton-Raphson法という．\n",
    "\n",
    "$$\n",
    "x_{n+1} := x_n - \\frac{f(x_n)}{f'(x_n)} \\qquad (n \\ge 0) \n",
    "$$\n",
    "\n",
    "ただし，初項 $x_0$ は適切に取るものとする．\n",
    "\n",
    "反復計算の途中で，$f'(x_n) = 0$ となった場合はゼロ除算を避けるために計算を停止する．\n",
    "この場合は，Newton法は失敗ということになるので，初期値を取り直して再度計算を試みる．\n",
    "\n",
    "## 停止条件\n",
    "反復計算は $x_{n+1}$を漸化式により計算したとき，\n",
    "前のステップの$x_{n}$との差の絶対値が十分小さくなったら打ち切るものとする：\n",
    "$$\n",
    "  |x_{n+1} - x_n | < \\epsilon_{\\rm tol}.\n",
    "$$\n",
    "ただし，$\\epsilon_{\\rm tol}>0$はあらかじめ決めておいた（小さな値の）定数である．\n",
    "\n",
    "## アルゴリズム\n",
    "Newton法のアルゴリズムをまとめると次のようになる．\n",
    "\n",
    "1.  最大反復回数 $N$ を与える．\n",
    "2.  $x_0$ を与える．\n",
    "3.  $k = 0, 1, 2, ..., N-1$ に対して，次の3-5をループ処理で繰り返す．\n",
    "4.  $f'(x_k) = 0$ ならばループを抜けて計算を停止する． \n",
    "5.  $f'(x_k) \\neq 0$ ならば 漸化式により $x_{k+1}$ を計算する．\n",
    "6.  $\\quad |x_{k+1} - x_k| < \\epsilon_{\\rm tol}$ ならばループを抜ける．\n",
    "\n",
    "Newton法では最大反復回数を定める決まりはないが，\n",
    "無限ループを発生させないために設定しておいたほうがよい．"
   ]
  },
  {
   "cell_type": "markdown",
   "id": "26e2ded4-562c-42b5-84e4-1e296f2e3547",
   "metadata": {
    "jp-MarkdownHeadingCollapsed": true,
    "tags": []
   },
   "source": [
    "## Newton法の局所収束性について\n",
    "Newton法の反復列は一般には収束するとは限らないが，$x_0$ が $\\alpha$ の**十分近くにある場合は\n",
    "2次収束する** ことが知られている．つまり，ある $n$ に依存しない定数 $C$が存在し，十分大きな $n$ に対して\n",
    "次が成り立つ．\n",
    "$$\n",
    " |x_{n+1} - \\alpha| \\le C |x_{n} - \\alpha|^2.\n",
    "$$\n",
    "\n",
    "一方で，Newton法の大域的な挙動は一般に複雑である．"
   ]
  },
  {
   "cell_type": "markdown",
   "id": "978629f6-b9a8-42ac-be52-95d5e7a20dc5",
   "metadata": {},
   "source": [
    "## Note\n",
    "- 1669年に，万有引力で有名な Isaac Newton が 現在のNewton法に相当する方法を考案した．\n",
    "- Newton法はNewton-Raphson法とも呼ばれる．以下，山本(1979) の注からの引用である．\n",
    "\n",
    "> Newtonの友人Raphson(1948-1715)は一般な3次方程式 $x^3-ax-b=0$に対して，(0.3)と全く同一の反復公式を提案している．したがって，Newton法はNewton-Rapshon法と呼ばれることもある．\n",
    "\n",
    "- Newton法の歴史に関しては，Bićanić & Johnson (1979) を参照．\n",
    "- 参考文献：\n",
    "    - 山本哲朗，「Newton法とその周辺」, 1985. https://doi.org/10.11429/sugaku1947.37.1\n",
    "    - Bićanić, N. and Johnson, K.H. (1979), Who was ‘–Raphson’?. Int. J. Numer. Meth. Engng., 14: 148-152. https://doi.org/10.1002/nme.1620140112"
   ]
  },
  {
   "cell_type": "code",
   "execution_count": null,
   "id": "28792f66-3927-4578-b187-c3ea3e79ce97",
   "metadata": {},
   "outputs": [],
   "source": []
  }
 ],
 "metadata": {
  "kernelspec": {
   "display_name": "Julia 1.6.7",
   "language": "julia",
   "name": "julia-1.6"
  },
  "language_info": {
   "file_extension": ".jl",
   "mimetype": "application/julia",
   "name": "julia",
   "version": "1.6.7"
  }
 },
 "nbformat": 4,
 "nbformat_minor": 5
}
