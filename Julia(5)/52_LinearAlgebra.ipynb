{
 "cells": [
  {
   "cell_type": "markdown",
   "id": "2a8c3bd2-9c15-442f-8be5-6c7625036d7a",
   "metadata": {},
   "source": [
    "# 線形代数計算"
   ]
  },
  {
   "cell_type": "markdown",
   "id": "1f83771e-17c0-48ed-8d10-5cfc30346f19",
   "metadata": {},
   "source": [
    "## ベクトルの記述\n",
    "列ベクトルは成分をカンマ `,` で区切って記述する．"
   ]
  },
  {
   "cell_type": "code",
   "execution_count": 2,
   "id": "4b0fe42f-2dab-4d97-b261-7bd9491562f5",
   "metadata": {},
   "outputs": [
    {
     "data": {
      "text/plain": [
       "3-element Vector{Int64}:\n",
       " 1\n",
       " 2\n",
       " 3"
      ]
     },
     "execution_count": 2,
     "metadata": {},
     "output_type": "execute_result"
    }
   ],
   "source": [
    "[1, 2, 3]"
   ]
  },
  {
   "cell_type": "markdown",
   "id": "26edaa79-585c-4b7d-9a09-59f23f52685e",
   "metadata": {},
   "source": [
    "`;`や改行で区切ることもできる．"
   ]
  },
  {
   "cell_type": "code",
   "execution_count": 4,
   "id": "f89772eb-1cc5-4a1b-9acd-8f5ca3fbfe52",
   "metadata": {},
   "outputs": [
    {
     "data": {
      "text/plain": [
       "3-element Vector{Int64}:\n",
       " 1\n",
       " 2\n",
       " 3"
      ]
     },
     "execution_count": 4,
     "metadata": {},
     "output_type": "execute_result"
    }
   ],
   "source": [
    "[1; 2; 3]"
   ]
  },
  {
   "cell_type": "code",
   "execution_count": 5,
   "id": "861539c9-4e1e-4488-a9b7-e4beb94754c2",
   "metadata": {},
   "outputs": [
    {
     "data": {
      "text/plain": [
       "3-element Vector{Int64}:\n",
       " 1\n",
       " 2\n",
       " 3"
      ]
     },
     "execution_count": 5,
     "metadata": {},
     "output_type": "execute_result"
    }
   ],
   "source": [
    "[1\n",
    " 2\n",
    " 3]"
   ]
  },
  {
   "cell_type": "markdown",
   "id": "45539b13-4aaa-44b2-8416-738bef81efba",
   "metadata": {},
   "source": [
    "ただし，スペースで区切ると行ベクトル（1×3行列) となってしまうので注意．"
   ]
  },
  {
   "cell_type": "code",
   "execution_count": 6,
   "id": "05f0e215-218d-4778-927d-90ac689a7984",
   "metadata": {},
   "outputs": [
    {
     "data": {
      "text/plain": [
       "1×3 Matrix{Int64}:\n",
       " 1  2  3"
      ]
     },
     "execution_count": 6,
     "metadata": {},
     "output_type": "execute_result"
    }
   ],
   "source": [
    "[1 2 3]"
   ]
  },
  {
   "cell_type": "markdown",
   "id": "c4656467-0543-4ad8-b21c-035fe38999a0",
   "metadata": {},
   "source": [
    "## 行列の記述\n",
    "Julia言語では，行列を扱うために `Matrix{T}` 型が用意されている．`T`は行列の成分の型を表す type parameter である．\n",
    "\n",
    "例えば，`Matrix{Int64}` は各成分が `Int64` 型の行列になる．\n",
    "行列は `[...]` の内部に成分を記述して定義する．\n",
    "\n",
    "成分は行ごとに並べ，セミコロン `;` で区切る．"
   ]
  },
  {
   "cell_type": "code",
   "execution_count": 7,
   "id": "f8be0909-1421-42b3-bb1e-454ed9221983",
   "metadata": {},
   "outputs": [
    {
     "data": {
      "text/plain": [
       "2×3 Matrix{Int64}:\n",
       " 1  2  3\n",
       " 4  5  6"
      ]
     },
     "execution_count": 7,
     "metadata": {},
     "output_type": "execute_result"
    }
   ],
   "source": [
    "[1 2 3; 4 5 6]"
   ]
  },
  {
   "cell_type": "code",
   "execution_count": 8,
   "id": "d67d44c8-6927-4930-ac2c-14f41db5e550",
   "metadata": {},
   "outputs": [
    {
     "data": {
      "text/plain": [
       "2×3 Matrix{Int64}:\n",
       " 1  2  3\n",
       " 4  5  6"
      ]
     },
     "execution_count": 8,
     "metadata": {},
     "output_type": "execute_result"
    }
   ],
   "source": [
    "# 行ごとに改行しても同じ．\n",
    "[1 2 3\n",
    " 4 5 6]"
   ]
  },
  {
   "cell_type": "markdown",
   "id": "2759abfd-1a5a-4542-9075-e1d336e18414",
   "metadata": {},
   "source": [
    "これは成分すべてが `Int64`型であるため，`Matrix{Int64}`型になっているが，\n",
    "次のように明示的に型を指定することもできる．"
   ]
  },
  {
   "cell_type": "code",
   "execution_count": 9,
   "id": "c23bb4ca-4834-4465-8839-371ec4740d01",
   "metadata": {},
   "outputs": [
    {
     "data": {
      "text/plain": [
       "2×3 Matrix{Float64}:\n",
       " 1.0  2.0  3.0\n",
       " 4.0  5.0  6.0"
      ]
     },
     "execution_count": 9,
     "metadata": {},
     "output_type": "execute_result"
    }
   ],
   "source": [
    "Float64[1 2 3; 4 5 6]"
   ]
  },
  {
   "cell_type": "markdown",
   "id": "d987350c-4b7f-461c-8f44-80d8539db76a",
   "metadata": {},
   "source": [
    "## 行列成分へのアクセス\n",
    "変数`A`に格納した場合，第$(i,j)$成分にアクセスするには，\n",
    "`A[i,j]`と書けばよい．"
   ]
  },
  {
   "cell_type": "code",
   "execution_count": 10,
   "id": "7bae973d-8e12-4325-af03-34e2b5980536",
   "metadata": {},
   "outputs": [
    {
     "data": {
      "text/plain": [
       "2×3 Matrix{Int64}:\n",
       " 11  12  13\n",
       " 21  22  23"
      ]
     },
     "execution_count": 10,
     "metadata": {},
     "output_type": "execute_result"
    }
   ],
   "source": [
    "A = [11 12 13; 21 22 23]"
   ]
  },
  {
   "cell_type": "code",
   "execution_count": 11,
   "id": "9499a57d-714c-4c32-8fb9-b5cda2c3b058",
   "metadata": {},
   "outputs": [
    {
     "data": {
      "text/plain": [
       "21"
      ]
     },
     "execution_count": 11,
     "metadata": {},
     "output_type": "execute_result"
    }
   ],
   "source": [
    "A[2,1]"
   ]
  },
  {
   "cell_type": "markdown",
   "id": "a4b1a527-f37a-42ba-b588-a2482f8b25f4",
   "metadata": {},
   "source": [
    "行列を部分的に抜き出したい場合は，例えば，`:`記号を使う．"
   ]
  },
  {
   "cell_type": "code",
   "execution_count": 12,
   "id": "4e39ba44-63d2-4b76-9c14-07b578627257",
   "metadata": {},
   "outputs": [
    {
     "data": {
      "text/plain": [
       "2-element Vector{Int64}:\n",
       " 13\n",
       " 23"
      ]
     },
     "execution_count": 12,
     "metadata": {},
     "output_type": "execute_result"
    }
   ],
   "source": [
    "A[:,3] # 第3列"
   ]
  },
  {
   "cell_type": "code",
   "execution_count": 13,
   "id": "b16529e6-4a16-41ca-9746-c4e6201d9110",
   "metadata": {},
   "outputs": [
    {
     "data": {
      "text/plain": [
       "3-element Vector{Int64}:\n",
       " 21\n",
       " 22\n",
       " 23"
      ]
     },
     "execution_count": 13,
     "metadata": {},
     "output_type": "execute_result"
    }
   ],
   "source": [
    "A[2,:] # 第2行（1×3行列ではなく，ベクトルになることに注意）"
   ]
  },
  {
   "cell_type": "code",
   "execution_count": 14,
   "id": "7e0321c3-ebfc-43ee-9fab-d12e238c4f71",
   "metadata": {},
   "outputs": [
    {
     "data": {
      "text/plain": [
       "2×2 Matrix{Int64}:\n",
       " 11  12\n",
       " 21  22"
      ]
     },
     "execution_count": 14,
     "metadata": {},
     "output_type": "execute_result"
    }
   ],
   "source": [
    "A[1:2,1:2] # (1,1)成分から見て2x2の部分のみを抜き出す"
   ]
  },
  {
   "cell_type": "markdown",
   "id": "5de0d75b-3523-4fb2-85ff-23820e40b6e1",
   "metadata": {},
   "source": [
    "## 逆行列\n",
    "正則行列 `A` の逆行列は `inv(A)` あるいは `A^-1` などで計算できる．"
   ]
  },
  {
   "cell_type": "code",
   "execution_count": 29,
   "id": "c4985a85-1328-494a-b5ab-6d4b8c335ce0",
   "metadata": {},
   "outputs": [
    {
     "data": {
      "text/plain": [
       "3×3 Matrix{Int64}:\n",
       " 1  1  1\n",
       " 1  2  4\n",
       " 1  3  9"
      ]
     },
     "execution_count": 29,
     "metadata": {},
     "output_type": "execute_result"
    }
   ],
   "source": [
    "X = [1 1 1; 1 2 4; 1 3 9]"
   ]
  },
  {
   "cell_type": "code",
   "execution_count": 31,
   "id": "5b1e8e44-5b5a-4ffe-a728-dc17743a0322",
   "metadata": {},
   "outputs": [
    {
     "data": {
      "text/plain": [
       "3×3 Matrix{Float64}:\n",
       "  3.0  -3.0   1.0\n",
       " -2.5   4.0  -1.5\n",
       "  0.5  -1.0   0.5"
      ]
     },
     "execution_count": 31,
     "metadata": {},
     "output_type": "execute_result"
    }
   ],
   "source": [
    "Y = inv(X)   # 逆行列"
   ]
  },
  {
   "cell_type": "code",
   "execution_count": 32,
   "id": "a1117ec9-0934-42bb-a11e-8e2871e95ddb",
   "metadata": {},
   "outputs": [
    {
     "data": {
      "text/plain": [
       "3×3 Matrix{Float64}:\n",
       " 1.0  0.0  0.0\n",
       " 0.0  1.0  0.0\n",
       " 0.0  0.0  1.0"
      ]
     },
     "execution_count": 32,
     "metadata": {},
     "output_type": "execute_result"
    }
   ],
   "source": [
    "X*Y   # 単位行列に等しいことを確認"
   ]
  },
  {
   "cell_type": "markdown",
   "id": "8837a151-40b5-4714-880b-00570b27a328",
   "metadata": {},
   "source": [
    "## 行列の生成\n",
    "次のようなコマンドでも行列を生成できる．\n",
    "\n",
    "|               |                       |\n",
    "|:--------------|:----------------------|\n",
    "|`zeros(m, n)`  | $m \\times n$ のゼロ行列  |\n",
    "|`ones(m, n)`   | すべての成分が `1` であるような $m \\times n$ 行列 |\n",
    "|`fill(a, m, n)` | すべての成分が `a` であるような $m \\times n$ 行列 |\n",
    "|`Array{Float64}(undef, m, n)`| 中身が初期化されていない $m \\times n$ 行列 |"
   ]
  },
  {
   "cell_type": "code",
   "execution_count": 34,
   "id": "3587c491-9e22-49ac-b50d-21279d1acf68",
   "metadata": {},
   "outputs": [
    {
     "data": {
      "text/plain": [
       "3×5 Matrix{Float64}:\n",
       " 0.0  0.0  0.0  0.0  0.0\n",
       " 0.0  0.0  0.0  0.0  0.0\n",
       " 0.0  0.0  0.0  0.0  0.0"
      ]
     },
     "execution_count": 34,
     "metadata": {},
     "output_type": "execute_result"
    }
   ],
   "source": [
    "zeros(3,5)"
   ]
  },
  {
   "cell_type": "code",
   "execution_count": 35,
   "id": "ccff0397-2a19-483b-9951-337842d22a57",
   "metadata": {},
   "outputs": [
    {
     "data": {
      "text/plain": [
       "3×5 Matrix{Float64}:\n",
       " 1.0  1.0  1.0  1.0  1.0\n",
       " 1.0  1.0  1.0  1.0  1.0\n",
       " 1.0  1.0  1.0  1.0  1.0"
      ]
     },
     "execution_count": 35,
     "metadata": {},
     "output_type": "execute_result"
    }
   ],
   "source": [
    "ones(3,5)"
   ]
  },
  {
   "cell_type": "code",
   "execution_count": 36,
   "id": "a114ad74-a1a5-4c24-b6ed-a39841831c3a",
   "metadata": {},
   "outputs": [
    {
     "data": {
      "text/plain": [
       "3×5 Matrix{Irrational{:π}}:\n",
       " π  π  π  π  π\n",
       " π  π  π  π  π\n",
       " π  π  π  π  π"
      ]
     },
     "execution_count": 36,
     "metadata": {},
     "output_type": "execute_result"
    }
   ],
   "source": [
    "fill(pi, 3, 5)"
   ]
  },
  {
   "cell_type": "code",
   "execution_count": 37,
   "id": "82671baa-f6fa-451c-9c54-9591bcd6c14c",
   "metadata": {},
   "outputs": [
    {
     "data": {
      "text/plain": [
       "3×5 Matrix{Float64}:\n",
       " 6.91162e-310  6.91162e-310  6.91162e-310  6.91162e-310  6.91162e-310\n",
       " 6.91162e-310  6.91162e-310  6.91162e-310  6.91162e-310  6.91162e-310\n",
       " 6.91162e-310  6.91162e-310  6.91162e-310  6.91162e-310  6.91162e-310"
      ]
     },
     "execution_count": 37,
     "metadata": {},
     "output_type": "execute_result"
    }
   ],
   "source": [
    "Array{Float64}(undef, 3, 5)"
   ]
  },
  {
   "cell_type": "markdown",
   "id": "073588cd-ff55-40e9-8474-5b44cff3d238",
   "metadata": {},
   "source": [
    "### Note\n",
    "- 型 `T` に対して，`Matrix{T}` は `Array{T,2}` は同じ．\n",
    "- 例えば，`Matrix{Int64}` は `Array{Int64, 2}` と同じ．"
   ]
  },
  {
   "cell_type": "markdown",
   "id": "7a884ffc-6d6e-4e45-81a4-cfb330efe326",
   "metadata": {},
   "source": [
    "## 行列のサイズ取得 `size`"
   ]
  },
  {
   "cell_type": "code",
   "execution_count": 38,
   "id": "e7fd62ce-5465-45cc-b58d-4ba461fbb783",
   "metadata": {},
   "outputs": [
    {
     "data": {
      "text/plain": [
       "(2, 3)"
      ]
     },
     "execution_count": 38,
     "metadata": {},
     "output_type": "execute_result"
    }
   ],
   "source": [
    "size([1 2 3; 4 5 6])     # 2x3の行列"
   ]
  },
  {
   "cell_type": "markdown",
   "id": "e79d4ea3-1e2c-4daa-a1d1-2cbb41d1d132",
   "metadata": {},
   "source": [
    "## 行列演算\n",
    "行列 `A`, `B`の和と差は`A + B`, `A - B` で計算される．\n",
    "積も同様に，"
   ]
  },
  {
   "cell_type": "code",
   "execution_count": 40,
   "id": "f56525e0-dbdd-4b34-8609-871ed1aef2f2",
   "metadata": {},
   "outputs": [
    {
     "data": {
      "text/plain": [
       "2×2 Matrix{Int64}:\n",
       " 0  0\n",
       " 1  1"
      ]
     },
     "execution_count": 40,
     "metadata": {},
     "output_type": "execute_result"
    }
   ],
   "source": [
    "P = [1 1; 0 0] \n",
    "Q = [0 0; 1 1]"
   ]
  },
  {
   "cell_type": "code",
   "execution_count": 41,
   "id": "8a58ca2d-1c05-47e1-9d59-500379bc4072",
   "metadata": {},
   "outputs": [
    {
     "data": {
      "text/plain": [
       "2×2 Matrix{Int64}:\n",
       " 1  1\n",
       " 0  0"
      ]
     },
     "execution_count": 41,
     "metadata": {},
     "output_type": "execute_result"
    }
   ],
   "source": [
    "P * Q     # 行列積の計算例1"
   ]
  },
  {
   "cell_type": "code",
   "execution_count": 42,
   "id": "01aa1ac0-6d8b-4efe-a459-cc2a6121ccfd",
   "metadata": {},
   "outputs": [
    {
     "data": {
      "text/plain": [
       "2×2 Matrix{Int64}:\n",
       " 0  0\n",
       " 1  1"
      ]
     },
     "execution_count": 42,
     "metadata": {},
     "output_type": "execute_result"
    }
   ],
   "source": [
    "Q * P     # 行列積の計算例2"
   ]
  },
  {
   "cell_type": "code",
   "execution_count": 43,
   "id": "32e73d0b-381d-4164-8290-1010cd607c94",
   "metadata": {},
   "outputs": [
    {
     "data": {
      "text/plain": [
       "2×2 Matrix{Int64}:\n",
       " 0  0\n",
       " 0  0"
      ]
     },
     "execution_count": 43,
     "metadata": {},
     "output_type": "execute_result"
    }
   ],
   "source": [
    "P .* Q    # 演算子の左に dot `.` を付けると成分ごとの計算になる"
   ]
  },
  {
   "cell_type": "code",
   "execution_count": 44,
   "id": "00cb4f31-43ff-4ebc-9343-6e091e54354b",
   "metadata": {},
   "outputs": [
    {
     "data": {
      "text/plain": [
       "2×2 Matrix{Int64}:\n",
       " 1   4\n",
       " 9  16"
      ]
     },
     "execution_count": 44,
     "metadata": {},
     "output_type": "execute_result"
    }
   ],
   "source": [
    "[1 2; 3 4].^2   # 成分ごとに2乗する"
   ]
  },
  {
   "cell_type": "markdown",
   "id": "2a6156e6-7f9c-497c-9fd8-1421f154477a",
   "metadata": {},
   "source": [
    "## 転置行列\n",
    "行列`A`の転置行列は`transepose(A)`で， 随伴（複素共役転置） `adjoint(A)` or `A'`で与えられる．\n",
    "これらは遅延評価であるので，実体化したい場合は`Matrix()`などを使えばよい．"
   ]
  },
  {
   "cell_type": "code",
   "execution_count": 45,
   "id": "206def9e-e60e-4bec-ae22-ca46832d21b2",
   "metadata": {},
   "outputs": [
    {
     "data": {
      "text/plain": [
       "2×3 Matrix{Complex{Int64}}:\n",
       " 11+0im   12+0im   13+0im\n",
       "  0+21im   0+22im   0+23im"
      ]
     },
     "execution_count": 45,
     "metadata": {},
     "output_type": "execute_result"
    }
   ],
   "source": [
    "A = [11 12 13; 21im 22im 23im]"
   ]
  },
  {
   "cell_type": "code",
   "execution_count": 46,
   "id": "7f7e89b0-1084-49f3-8b58-39c57c7abaed",
   "metadata": {},
   "outputs": [
    {
     "data": {
      "text/plain": [
       "3×2 transpose(::Matrix{Complex{Int64}}) with eltype Complex{Int64}:\n",
       " 11+0im  0+21im\n",
       " 12+0im  0+22im\n",
       " 13+0im  0+23im"
      ]
     },
     "execution_count": 46,
     "metadata": {},
     "output_type": "execute_result"
    }
   ],
   "source": [
    "transpose(A)"
   ]
  },
  {
   "cell_type": "code",
   "execution_count": 47,
   "id": "947b8166-aa86-4ab0-8054-c3d1ac5df908",
   "metadata": {},
   "outputs": [
    {
     "data": {
      "text/plain": [
       "3×2 adjoint(::Matrix{Complex{Int64}}) with eltype Complex{Int64}:\n",
       " 11+0im  0-21im\n",
       " 12+0im  0-22im\n",
       " 13+0im  0-23im"
      ]
     },
     "execution_count": 47,
     "metadata": {},
     "output_type": "execute_result"
    }
   ],
   "source": [
    "adjoint(A)"
   ]
  },
  {
   "cell_type": "code",
   "execution_count": 21,
   "id": "371c85f6-2955-4f06-be5a-b07ed4a36be4",
   "metadata": {},
   "outputs": [
    {
     "data": {
      "text/plain": [
       "3×2 adjoint(::Matrix{Complex{Int64}}) with eltype Complex{Int64}:\n",
       " 11+0im  0-21im\n",
       " 12+0im  0-22im\n",
       " 13+0im  0-23im"
      ]
     },
     "execution_count": 21,
     "metadata": {},
     "output_type": "execute_result"
    }
   ],
   "source": [
    "A'  # =adjoint(A)"
   ]
  },
  {
   "cell_type": "code",
   "execution_count": 22,
   "id": "50f73327-4a6e-45b4-963e-a46b64436ef5",
   "metadata": {},
   "outputs": [
    {
     "data": {
      "text/plain": [
       "3×2 Matrix{Complex{Int64}}:\n",
       " 11+0im  0-21im\n",
       " 12+0im  0-22im\n",
       " 13+0im  0-23im"
      ]
     },
     "execution_count": 22,
     "metadata": {},
     "output_type": "execute_result"
    }
   ],
   "source": [
    "Matrix(A') # 実体化"
   ]
  },
  {
   "cell_type": "markdown",
   "id": "e1d2eb5c-e7f4-4cfe-bb49-0e2277ac09f2",
   "metadata": {},
   "source": [
    "## 行列の連結\n",
    "複数の行列をブロック行列の要領で並べれば，簡単に連結することができる．"
   ]
  },
  {
   "cell_type": "code",
   "execution_count": 23,
   "id": "b128d86d-92b0-4d10-ba58-22c1b99080c6",
   "metadata": {},
   "outputs": [
    {
     "data": {
      "text/plain": [
       "2×3 Matrix{Int64}:\n",
       " 0  0  0\n",
       " 0  0  0"
      ]
     },
     "execution_count": 23,
     "metadata": {},
     "output_type": "execute_result"
    }
   ],
   "source": [
    "A = zeros(Int, 2,3)    # 見やすくするために， `Int`型にする"
   ]
  },
  {
   "cell_type": "code",
   "execution_count": 24,
   "id": "a28e6819-da1c-4c8e-bb7d-10a3a3372281",
   "metadata": {},
   "outputs": [
    {
     "data": {
      "text/plain": [
       "2×2 Matrix{Int64}:\n",
       " 1  1\n",
       " 1  1"
      ]
     },
     "execution_count": 24,
     "metadata": {},
     "output_type": "execute_result"
    }
   ],
   "source": [
    "B = ones(Int, 2,2)"
   ]
  },
  {
   "cell_type": "code",
   "execution_count": 25,
   "id": "af763a6d-34b7-41e9-9cd9-8edcb8a6c6d8",
   "metadata": {},
   "outputs": [
    {
     "data": {
      "text/plain": [
       "2×5 Matrix{Int64}:\n",
       " 0  0  0  1  1\n",
       " 0  0  0  1  1"
      ]
     },
     "execution_count": 25,
     "metadata": {},
     "output_type": "execute_result"
    }
   ],
   "source": [
    "[A B] # 水平に連結"
   ]
  },
  {
   "cell_type": "code",
   "execution_count": 26,
   "id": "9cc19bd8-de58-47fe-9ef0-8f4ec747c7fe",
   "metadata": {},
   "outputs": [
    {
     "data": {
      "text/plain": [
       "4×5 Matrix{Int64}:\n",
       " 0  0  0  1  1\n",
       " 0  0  0  1  1\n",
       " 1  1  0  0  0\n",
       " 1  1  0  0  0"
      ]
     },
     "execution_count": 26,
     "metadata": {},
     "output_type": "execute_result"
    }
   ],
   "source": [
    "[A B\n",
    " B A]  # 垂直方向にも連結"
   ]
  },
  {
   "cell_type": "markdown",
   "id": "f83d7e3f-5d1c-4dc7-83f3-2bb630589ccf",
   "metadata": {},
   "source": [
    "## 内包表記による行列の生成\n",
    "二重ループを内包表記することで行列を生成"
   ]
  },
  {
   "cell_type": "code",
   "execution_count": 48,
   "id": "22ad0394-0cf5-4d3e-ae64-89745a4a085f",
   "metadata": {},
   "outputs": [
    {
     "data": {
      "text/plain": [
       "3×5 Matrix{Int64}:\n",
       " 11  12  13  14  15\n",
       " 21  22  23  24  25\n",
       " 31  32  33  34  35"
      ]
     },
     "execution_count": 48,
     "metadata": {},
     "output_type": "execute_result"
    }
   ],
   "source": [
    "M = [10i+j for i in 1:3, j in 1:5]"
   ]
  }
 ],
 "metadata": {
  "kernelspec": {
   "display_name": "Julia 1.6.7",
   "language": "julia",
   "name": "julia-1.6"
  },
  "language_info": {
   "file_extension": ".jl",
   "mimetype": "application/julia",
   "name": "julia",
   "version": "1.6.7"
  }
 },
 "nbformat": 4,
 "nbformat_minor": 5
}
