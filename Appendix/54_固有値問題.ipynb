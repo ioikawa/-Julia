{
 "cells": [
  {
   "cell_type": "markdown",
   "metadata": {},
   "source": [
    "## 固有値の計算\n",
    "正方行列 $A$の固有値と固有ベクトルはそれぞれ，以下の関数で計算できる．\n",
    "- `eigvals(A)`  : 固有値の配列\n",
    "- `eigvecs(A)`  : 固有ベクトルを列ごとに並べた行列\n",
    "固有値が番号と固有ベクトルの列数は対応している．\n",
    "\n",
    "固有値と固有ベクトルを同時に出力するには，\n",
    "- `eigen(A)`\n",
    "を用いる．\n",
    "\n",
    "\n",
    "$A$は対角行列 $D$ を適当な正則行列 $P$ 相似変換した行列とする\n",
    "（もちろん$A$の固有値は$D$の対角成分に等しい）．\n",
    "この行列$A$の固有値を数値計算してみよう．"
   ]
  },
  {
   "cell_type": "code",
   "execution_count": null,
   "metadata": {
    "vscode": {
     "languageId": "julia"
    }
   },
   "outputs": [
    {
     "data": {
      "text/plain": [
       "3×3 Matrix{Int64}:\n",
       " 1  0  0\n",
       " 0  2  0\n",
       " 0  0  3"
      ]
     },
     "metadata": {},
     "output_type": "display_data"
    }
   ],
   "source": [
    "D = diagm([1, 2, 3])  # 対角行列"
   ]
  },
  {
   "cell_type": "markdown",
   "metadata": {},
   "source": [
    "`diagm()`については [LinearAlgebra.diagm](https://docs.julialang.org/en/v1/stdlib/LinearAlgebra/#LinearAlgebra.diagm)参照．"
   ]
  },
  {
   "cell_type": "code",
   "execution_count": null,
   "metadata": {
    "vscode": {
     "languageId": "julia"
    }
   },
   "outputs": [
    {
     "data": {
      "text/plain": [
       "3×3 Matrix{Float64}:\n",
       "  2.5   1.0   0.5\n",
       "  0.5   2.0  -0.5\n",
       " -0.5  -1.0   1.5"
      ]
     },
     "metadata": {},
     "output_type": "display_data"
    }
   ],
   "source": [
    "P = [0 1 1; 1 0 1; 1 1 0]\n",
    "A = inv(P) * D * P"
   ]
  },
  {
   "cell_type": "code",
   "execution_count": null,
   "metadata": {
    "vscode": {
     "languageId": "julia"
    }
   },
   "outputs": [
    {
     "data": {
      "text/plain": [
       "3-element Vector{Float64}:\n",
       " 0.9999999999999998\n",
       " 1.9999999999999991\n",
       " 2.999999999999999"
      ]
     },
     "metadata": {},
     "output_type": "display_data"
    }
   ],
   "source": [
    "eigvals(A)"
   ]
  },
  {
   "cell_type": "markdown",
   "metadata": {},
   "source": [
    "ほぼ 1,2,3 となっており，正しく結果が得られている．\n",
    "次に固有ベクトルを計算する．"
   ]
  },
  {
   "cell_type": "code",
   "execution_count": null,
   "metadata": {
    "vscode": {
     "languageId": "julia"
    }
   },
   "outputs": [
    {
     "data": {
      "text/plain": [
       "3×3 Matrix{Float64}:\n",
       " -0.57735   0.57735   0.57735\n",
       "  0.57735  -0.57735   0.57735\n",
       "  0.57735   0.57735  -0.57735"
      ]
     },
     "metadata": {},
     "output_type": "display_data"
    }
   ],
   "source": [
    "eigvecs(A)"
   ]
  },
  {
   "cell_type": "markdown",
   "metadata": {},
   "source": [
    "固有ベクトルは $P$ の各列を正規化したものに等しい（符号の違いは生じるかもしれない）．"
   ]
  },
  {
   "cell_type": "code",
   "execution_count": null,
   "metadata": {
    "vscode": {
     "languageId": "julia"
    }
   },
   "outputs": [
    {
     "data": {
      "text/plain": [
       "3×3 Matrix{Float64}:\n",
       " -0.57735   0.57735   0.57735\n",
       "  0.57735  -0.57735   0.57735\n",
       "  0.57735   0.57735  -0.57735"
      ]
     },
     "metadata": {},
     "output_type": "display_data"
    }
   ],
   "source": [
    "Q = inv(P)\n",
    "Q / norm(Q[:, 1])  # norm()はベクトルの長さを返す "
   ]
  },
  {
   "cell_type": "markdown",
   "metadata": {},
   "source": [
    "最後に `eigen(A)` も出力しておく．"
   ]
  },
  {
   "cell_type": "code",
   "execution_count": null,
   "metadata": {
    "vscode": {
     "languageId": "julia"
    }
   },
   "outputs": [
    {
     "data": {
      "text/plain": [
       "Eigen{Float64, Float64, Matrix{Float64}, Vector{Float64}}\n",
       "values:\n",
       "3-element Vector{Float64}:\n",
       " 0.9999999999999998\n",
       " 1.9999999999999991\n",
       " 2.999999999999999\n",
       "vectors:\n",
       "3×3 Matrix{Float64}:\n",
       " -0.57735   0.57735   0.57735\n",
       "  0.57735  -0.57735   0.57735\n",
       "  0.57735   0.57735  -0.57735"
      ]
     },
     "metadata": {},
     "output_type": "display_data"
    }
   ],
   "source": [
    "eigen(A)"
   ]
  },
  {
   "cell_type": "markdown",
   "metadata": {},
   "source": [
    "### Note\n",
    "Juliaでは行列に関する数値計算は[LAPACK](https://www.netlib.org/lapack/)([User's Guide](https://www.netlib.org/lapack/lug/))などの専用ライブラリを呼び出している．\n",
    "`eigen()`が具体的にどのようなライブラリ（の関数）を呼び出しているのは `@less eigen(A)` を実行すれば確認できる（が，該当部分を見つけてトレースするのはそれなりに時間がかかる）．"
   ]
  }
 ],
 "metadata": {
  "language_info": {
   "name": "python"
  }
 },
 "nbformat": 4,
 "nbformat_minor": 2
}
