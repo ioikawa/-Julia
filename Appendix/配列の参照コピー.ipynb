{
 "cells": [
  {
   "cell_type": "markdown",
   "metadata": {},
   "source": [
    "# 配列の参照とコピー：`deepcopy`\n",
    "Julia言語では，配列のコピーは **参照コピー**である．\n",
    "つまり，配列の要素が記録されているメモリアドレスのコピーになる．\n",
    "次の例を見れば参照がどういうものかわかると思う．"
   ]
  },
  {
   "cell_type": "code",
   "execution_count": null,
   "metadata": {
    "vscode": {
     "languageId": "julia"
    }
   },
   "outputs": [
    {
     "name": "stdout",
     "output_type": "stream",
     "text": [
      "(a, b) = ([100, 2, 3], [100, 2, 3])\n"
     ]
    }
   ],
   "source": [
    "a = [1,2,3]\n",
    "b = a     # 参照のコピー\n",
    "a[1] = 100   \n",
    "@show a, b;  # aを変えるとbも変わる"
   ]
  },
  {
   "cell_type": "code",
   "execution_count": null,
   "metadata": {
    "vscode": {
     "languageId": "julia"
    }
   },
   "outputs": [
    {
     "name": "stdout",
     "output_type": "stream",
     "text": [
      "(a, b) = ([100, -123, 3], [100, -123, 3])\n"
     ]
    }
   ],
   "source": [
    "b[2] = -123 \n",
    "@show a, b;  # bを変えるとaも変わる"
   ]
  },
  {
   "cell_type": "markdown",
   "metadata": {},
   "source": [
    "`a`, `b` のメモリアドレスを表示する．両者は一致しているはずである．"
   ]
  },
  {
   "cell_type": "code",
   "execution_count": null,
   "metadata": {
    "vscode": {
     "languageId": "julia"
    }
   },
   "outputs": [
    {
     "name": "stdout",
     "output_type": "stream",
     "text": [
      "pointer(a) = Ptr{Int64} @0x00007f6b107a60b0\n",
      "pointer(b) = Ptr{Int64} @0x00007f6b107a60b0\n"
     ]
    },
    {
     "data": {
      "text/plain": [
       "Ptr{Int64} @0x00007f6b107a60b0"
      ]
     },
     "metadata": {},
     "output_type": "display_data"
    }
   ],
   "source": [
    "@show pointer(a)\n",
    "@show pointer(b)"
   ]
  },
  {
   "cell_type": "markdown",
   "metadata": {},
   "source": [
    "配列を複製してコピーするには `deepcopy()`を用いる．"
   ]
  },
  {
   "cell_type": "code",
   "execution_count": null,
   "metadata": {
    "vscode": {
     "languageId": "julia"
    }
   },
   "outputs": [
    {
     "name": "stdout",
     "output_type": "stream",
     "text": [
      "(a, c) = ([100, 2, 3], [1, 2, 3])\n"
     ]
    }
   ],
   "source": [
    "a = [1,2,3]    # 再定義\n",
    "c = deepcopy(a)     # 配列そのものを複製\n",
    "a[1] = 100   # cは書き換わらない \n",
    "@show a, c;  "
   ]
  },
  {
   "cell_type": "code",
   "execution_count": null,
   "metadata": {
    "vscode": {
     "languageId": "julia"
    }
   },
   "outputs": [
    {
     "name": "stdout",
     "output_type": "stream",
     "text": [
      "(a, c) = ([100, 2, 3], [1, 200, 3])\n"
     ]
    }
   ],
   "source": [
    "c[2] = 200 　# aは書き換わらない\n",
    "@show a, c;  "
   ]
  },
  {
   "cell_type": "markdown",
   "metadata": {},
   "source": [
    "`deepcopy()`で `c` は `a` と別のメモリアドレスにデータが複製されている．"
   ]
  },
  {
   "cell_type": "code",
   "execution_count": null,
   "metadata": {
    "vscode": {
     "languageId": "julia"
    }
   },
   "outputs": [
    {
     "name": "stdout",
     "output_type": "stream",
     "text": [
      "pointer(a) = Ptr{Int64} @0x00007f6afa9be580\n",
      "pointer(c) = Ptr{Int64} @0x00007f6afa7fc9f0\n"
     ]
    },
    {
     "data": {
      "text/plain": [
       "Ptr{Int64} @0x00007f6afa7fc9f0"
      ]
     },
     "metadata": {},
     "output_type": "display_data"
    }
   ],
   "source": [
    "@show pointer(a)\n",
    "@show pointer(c)"
   ]
  },
  {
   "cell_type": "markdown",
   "metadata": {},
   "source": [
    "<img src=\"deepcopy.png\">"
   ]
  },
  {
   "cell_type": "markdown",
   "metadata": {},
   "source": [
    "#### Warning\n",
    "`deepcopy()`は配列がそのまま複製されるので，コピーするのに時間もかかるし，新たにメモリも確保されるので注意．"
   ]
  },
  {
   "cell_type": "code",
   "execution_count": null,
   "metadata": {
    "vscode": {
     "languageId": "julia"
    }
   },
   "outputs": [
    {
     "name": "stdout",
     "output_type": "stream",
     "text": [
      "  0.000000 seconds\n",
      "  0.000002 seconds (3 allocations: 480 bytes)\n"
     ]
    },
    {
     "data": {
      "text/plain": [
       "3-element Vector{Int64}:\n",
       " 1\n",
       " 2\n",
       " 3"
      ]
     },
     "metadata": {},
     "output_type": "display_data"
    }
   ],
   "source": [
    "a = [1,2,3]\n",
    "@time b = a    # アロケーション（割当）は行われない\n",
    "@time c = deepcopy(a)   # アロケーションされる "
   ]
  },
  {
   "cell_type": "markdown",
   "metadata": {},
   "source": [
    "## 浅いコピーと深いコピー\n",
    "配列をコピーする関数には，\n",
    "- `deepcopy()` : **深いコピー (deepcopy)** \n",
    "- `copy()`:  **浅いコピー(shallow copy)**\n",
    "の2種類がある．\n",
    "\n",
    "`deepcopy()`は配列に格納された値をすべてそのままコピーして新しい配列を生成する．\n",
    "これに対して，`copy()`は は各要素の**参照**をコピーする．\n",
    "\n",
    "両者の違いは，配列の中に配列が含まれる場合に明確に現れる．\n",
    "\n",
    "まずは 深いコピーの挙動を見る．"
   ]
  }
 ],
 "metadata": {
  "language_info": {
   "name": "python"
  }
 },
 "nbformat": 4,
 "nbformat_minor": 2
}
