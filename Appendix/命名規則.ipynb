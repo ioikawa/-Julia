{
 "cells": [
  {
   "cell_type": "markdown",
   "metadata": {},
   "source": [
    "\n",
    "## 変数の命名規則\n",
    "原則として，**変数名は他の人がコードを読んだときにわかりやすい名前をつける**ようにする．  \n",
    "そのために，曖昧な単語よりも\n",
    "* できるだけ明確な単語を選択する\n",
    "\n",
    "ことが大切である．例えば，`size` よりも `length` や `area`,  `volume` などのほうがわかりやすい．\n",
    "\n",
    "しかし，詳細に書こうとして，`lebesgue_measure` のような冗長な単語にしてしまうとわかりにくくなってしまう．\n",
    "\n",
    "また，\n",
    "- ループカウンタ（後述）には `i`,`j`,`k`などを使う\n",
    "ように，暗黙のルールのような慣習もある．\n",
    "\n",
    "厳密な命名規則があるわけでは無いが，プログラミング言語によって慣習や推奨ルールがある．\n",
    "\n",
    "Juliaの場合は，[Style Guide](https://docs.julialang.org/en/v1/manual/style-guide/)に書かれている．\n",
    "例えば，型やモジュール（独立したコード群のこと）について，\n",
    "> - modules and type names use capitalization and camel case: module SparseArrays, struct UnitRange.\n",
    "\n",
    "と規定されている．_camel case_ とは `camelCase` のように単語ごとに大文字にすることを意味している．\n",
    "\n",
    "ここでは _captitalization and camel case_ と言っているので，`CamelCase`となる．\n",
    "\n",
    "\n",
    "\n"
   ]
  },
  {
   "cell_type": "markdown",
   "metadata": {},
   "source": []
  }
 ],
 "metadata": {
  "language_info": {
   "name": "python"
  }
 },
 "nbformat": 4,
 "nbformat_minor": 2
}
