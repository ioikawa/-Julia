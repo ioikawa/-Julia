{
 "cells": [
  {
   "cell_type": "markdown",
   "metadata": {},
   "source": [
    "\n",
    "\n",
    "#### Note: `bitstring()`によるFloat64の格納bit列表示\n",
    "浮動小数点数は計算機内部では2進数で実装されているが，\n",
    "プログラムコードではわかりやすさのために10進数で表記される．\n",
    "\n",
    "倍精度浮動小数点数がどのように2進数（bit列）で格納されているか見てみよう．\n",
    "最も簡単な例として，`1.0`の場合："
   ]
  },
  {
   "cell_type": "code",
   "execution_count": null,
   "metadata": {
    "vscode": {
     "languageId": "julia"
    }
   },
   "outputs": [
    {
     "data": {
      "text/plain": [
       "\"0011111111110000000000000000000000000000000000000000000000000000\""
      ]
     },
     "metadata": {},
     "output_type": "display_data"
    }
   ],
   "source": [
    "bitstring(1.0)"
   ]
  },
  {
   "cell_type": "markdown",
   "metadata": {},
   "source": [
    "先頭のbitは符号が格納されている．`0`はプラス，`1`はマイナスである．`-1.0`のbit列は先頭が`1`になる．"
   ]
  },
  {
   "cell_type": "code",
   "execution_count": null,
   "metadata": {
    "vscode": {
     "languageId": "julia"
    }
   },
   "outputs": [
    {
     "data": {
      "text/plain": [
       "\"1011111111110000000000000000000000000000000000000000000000000000\""
      ]
     },
     "metadata": {},
     "output_type": "display_data"
    }
   ],
   "source": [
    "bitstring(-1.0)"
   ]
  },
  {
   "cell_type": "markdown",
   "metadata": {},
   "source": [
    "2〜12bitに格納されている値 $e$ は指数に対応している．\n",
    "$e$ は $0$以上$1 11111 11111_2 = 2047$以下の整数値を取りうる．\n",
    "次のような規則で指数あるいは特殊値に変換される．\n",
    "\n",
    "- $e=0$:  ゼロ（仮数部が全て0) or 非正規化数（仮数部が非ゼロ)\n",
    "- $1 \\le e \\le 2046$: $e - 1023$ が指数．\n",
    "- $e = 2047$: `Inf`,`-Inf` (仮数部が全て0) or `NaN`（仮数部が非ゼロ)\n",
    "\n",
    "【例】\n",
    "- `bitstring(1.0)` の場合は $e=0111111111_2 = 1023$ だから指数は $e-1023 = 0$である．\n",
    "仮数部の情報は13bit以降に格納されている．\n",
    "\n",
    "- $1+2^{-5} = 1.0001$ (2進数) の場合："
   ]
  },
  {
   "cell_type": "code",
   "execution_count": null,
   "metadata": {
    "vscode": {
     "languageId": "julia"
    }
   },
   "outputs": [
    {
     "data": {
      "text/plain": [
       "\"0000100000000000000000000000000000000000000000000000\""
      ]
     },
     "metadata": {},
     "output_type": "display_data"
    }
   ],
   "source": [
    "bitstring(1 + 2^-5)[13:end]"
   ]
  },
  {
   "cell_type": "markdown",
   "metadata": {},
   "source": [
    "仮数部のbit列は（先頭の桁は省略されて）`0000100...0`となっている．\n",
    "\n",
    "- $0.1$ (10進数） は有限小数であるが，2進数では無限小数となる．\n",
    "$0.1$ を倍精度に変換すると，途中で桁が打ち切られるので，丸め誤差が生じる．"
   ]
  },
  {
   "cell_type": "code",
   "execution_count": null,
   "metadata": {
    "vscode": {
     "languageId": "julia"
    }
   },
   "outputs": [
    {
     "data": {
      "text/plain": [
       "\"1001100110011001100110011001100110011001100110011010\""
      ]
     },
     "metadata": {},
     "output_type": "display_data"
    }
   ],
   "source": [
    "bitstring(0.1)[13:end]"
   ]
  },
  {
   "cell_type": "markdown",
   "metadata": {},
   "source": [
    "以下，特徴的な浮動小数点数のbit列を表示してみる．"
   ]
  },
  {
   "cell_type": "code",
   "execution_count": null,
   "metadata": {
    "vscode": {
     "languageId": "julia"
    }
   },
   "outputs": [
    {
     "data": {
      "text/plain": [
       "\"0000000000000000000000000000000000000000000000000000000000000000\""
      ]
     },
     "metadata": {},
     "output_type": "display_data"
    }
   ],
   "source": [
    "bitstring(0.0)  # ゼロ"
   ]
  },
  {
   "cell_type": "code",
   "execution_count": null,
   "metadata": {
    "vscode": {
     "languageId": "julia"
    }
   },
   "outputs": [
    {
     "data": {
      "text/plain": [
       "\"1000000000000000000000000000000000000000000000000000000000000000\""
      ]
     },
     "metadata": {},
     "output_type": "display_data"
    }
   ],
   "source": [
    "bitstring(-0.0)  # 負のゼロ"
   ]
  },
  {
   "cell_type": "code",
   "execution_count": null,
   "metadata": {
    "vscode": {
     "languageId": "julia"
    }
   },
   "outputs": [
    {
     "data": {
      "text/plain": [
       "\"0111111111101111111111111111111111111111111111111111111111111111\""
      ]
     },
     "metadata": {},
     "output_type": "display_data"
    }
   ],
   "source": [
    "bitstring(floatmax(Float64))  # 最大の正の正規化数＝1.111...11e1023"
   ]
  },
  {
   "cell_type": "code",
   "execution_count": null,
   "metadata": {
    "vscode": {
     "languageId": "julia"
    }
   },
   "outputs": [
    {
     "data": {
      "text/plain": [
       "\"0000000000000000000000000000000000000000000000000000000000000001\""
      ]
     },
     "metadata": {},
     "output_type": "display_data"
    }
   ],
   "source": [
    "bitstring(eps(0.0)) # 最小の正の非正規化数＝0.000...01e-1022"
   ]
  },
  {
   "cell_type": "code",
   "execution_count": null,
   "metadata": {
    "vscode": {
     "languageId": "julia"
    }
   },
   "outputs": [
    {
     "data": {
      "text/plain": [
       "\"0111111111110000000000000000000000000000000000000000000000000000\""
      ]
     },
     "metadata": {},
     "output_type": "display_data"
    }
   ],
   "source": [
    "bitstring(Inf)  #形式的には 1.000...00e1024"
   ]
  },
  {
   "cell_type": "code",
   "execution_count": null,
   "metadata": {
    "vscode": {
     "languageId": "julia"
    }
   },
   "outputs": [
    {
     "data": {
      "text/plain": [
       "\"1111111111110000000000000000000000000000000000000000000000000000\""
      ]
     },
     "metadata": {},
     "output_type": "display_data"
    }
   ],
   "source": [
    "bitstring(-Inf)  # Infとは符号bitのみ異なる"
   ]
  },
  {
   "cell_type": "code",
   "execution_count": null,
   "metadata": {
    "vscode": {
     "languageId": "julia"
    }
   },
   "outputs": [
    {
     "data": {
      "text/plain": [
       "\"0111111111111000000000000000000000000000000000000000000000000000\""
      ]
     },
     "metadata": {},
     "output_type": "display_data"
    }
   ],
   "source": [
    "bitstring(NaN)   # 形式的には 1.100.00e1024"
   ]
  }
 ],
 "metadata": {
  "language_info": {
   "name": "python"
  }
 },
 "nbformat": 4,
 "nbformat_minor": 2
}
