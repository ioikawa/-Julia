{
 "cells": [
  {
   "cell_type": "markdown",
   "id": "45bced8b-9cfb-4712-85ed-f24a06566f1f",
   "metadata": {},
   "source": [
    "# 変数: [Variables](https://docs.julialang.org/en/v1/manual/variables/#man-variables)\n",
    "\n",
    "## 変数の宣言\n",
    "プログラミング言語における**変数**とは値や文字列などのデータを格納する箱のようなものである．\n",
    "\n",
    "Juliaでは `変数名 = 値` の形で記述することで，変数の**宣言**と値の**代入**が行われる．\n"
   ]
  },
  {
   "cell_type": "code",
   "execution_count": 1,
   "id": "0dfe26e9-4b65-450f-9c21-d9e036254f64",
   "metadata": {},
   "outputs": [
    {
     "data": {
      "text/plain": [
       "123"
      ]
     },
     "execution_count": 1,
     "metadata": {},
     "output_type": "execute_result"
    }
   ],
   "source": [
    "x = 123"
   ]
  },
  {
   "cell_type": "markdown",
   "id": "ed514bc1-6892-47ac-be34-ba558067541b",
   "metadata": {},
   "source": [
    "プログラミング言語における `=` は等号ではなく**代入**を表す．\n",
    "既存の変数に別の値を代入すると変数の値は更新される．"
   ]
  },
  {
   "cell_type": "code",
   "execution_count": 2,
   "id": "e3c9f03e-5975-4a61-95cd-02b557c684ef",
   "metadata": {},
   "outputs": [
    {
     "name": "stdout",
     "output_type": "stream",
     "text": [
      "x = 2\n"
     ]
    }
   ],
   "source": [
    "x = 1\n",
    "x = 2\n",
    "@show x;     # @show は変数の中身を表示する"
   ]
  },
  {
   "cell_type": "code",
   "execution_count": 3,
   "id": "ee0e22f6-cd18-41aa-a542-20be19c47e21",
   "metadata": {},
   "outputs": [
    {
     "data": {
      "text/plain": [
       "101"
      ]
     },
     "execution_count": 3,
     "metadata": {},
     "output_type": "execute_result"
    }
   ],
   "source": [
    "x = 1\n",
    "x = x + 100"
   ]
  },
  {
   "cell_type": "markdown",
   "id": "e0cbf4e5-3544-4607-91e7-bfe23a452ba4",
   "metadata": {},
   "source": [
    "`x = x + 100` は `x += 100` と略記できる． "
   ]
  },
  {
   "cell_type": "code",
   "execution_count": 4,
   "id": "748b6531-d2c7-4af7-a941-8096acb8705d",
   "metadata": {},
   "outputs": [
    {
     "data": {
      "text/plain": [
       "101"
      ]
     },
     "execution_count": 4,
     "metadata": {},
     "output_type": "execute_result"
    }
   ],
   "source": [
    "x = 1\n",
    "x += 100    # x = x + 100 と同じ"
   ]
  },
  {
   "cell_type": "markdown",
   "id": "8dced64b-3a80-4156-8b56-d5a4f6ee6f6d",
   "metadata": {},
   "source": [
    "## 変数の文字列化\n",
    "変数`x`に対して，文字列リテラル中に`$x` と書くと\n",
    "変数`x`の値が文字列に埋め込まれる．\n",
    "\n",
    "同様に `$(式)`と書くと\n",
    "`式`が評価（計算）されて文字列として埋め込まれる．"
   ]
  },
  {
   "cell_type": "code",
   "execution_count": 5,
   "id": "b6bb10c2-0e9b-4296-8802-9ff8a98c7afc",
   "metadata": {},
   "outputs": [
    {
     "name": "stdout",
     "output_type": "stream",
     "text": [
      "x is 16\n",
      "The square root of x is 4.0.\n"
     ]
    }
   ],
   "source": [
    "x = 16\n",
    "println(\"x is $x\")\n",
    "println(\"The square root of x is $(sqrt(x)).\")"
   ]
  },
  {
   "cell_type": "markdown",
   "id": "7788e268-6dca-4c4d-867d-abdda6cfdcdf",
   "metadata": {},
   "source": [
    "## @show マクロ: [Base.@show](https://docs.julialang.org/en/v1/base/base/#Base.@show)\n",
    "`@show 変数 or 式` で変数の中身を表示できる．\n",
    "変数のところに式を書くこともできる．"
   ]
  },
  {
   "cell_type": "code",
   "execution_count": 6,
   "id": "13b20aab-bcc0-4248-b07d-4e2844cb32bc",
   "metadata": {},
   "outputs": [
    {
     "name": "stdout",
     "output_type": "stream",
     "text": [
      "x = 10\n",
      "x ^ 2 = 100\n",
      "x ^ 3 = 1000\n",
      "x ^ 4 = 10000\n"
     ]
    }
   ],
   "source": [
    "x = 10\n",
    "@show x\n",
    "@show x^2 x^3 x^4;"
   ]
  },
  {
   "cell_type": "markdown",
   "id": "44d1e73f-449a-45a2-aefb-b53782f936c1",
   "metadata": {},
   "source": [
    "## @time マクロ\n",
    "与えられた式を実行するのにかかった時間と allocation (メモリ割り当て) の総量を表示する．"
   ]
  },
  {
   "cell_type": "code",
   "execution_count": 7,
   "id": "126afb8c-a2e3-44e6-a96f-a7bec35ca194",
   "metadata": {},
   "outputs": [
    {
     "name": "stdout",
     "output_type": "stream",
     "text": [
      "  0.500697 seconds (21 allocations: 800 bytes)\n"
     ]
    }
   ],
   "source": [
    "@time sleep(0.5)    # `sleep(t)`は `t`[s]だけ実行を停止するコマンド "
   ]
  },
  {
   "cell_type": "markdown",
   "id": "315a5739-d4a7-433b-9cef-e4d81ebb1c2d",
   "metadata": {},
   "source": [
    "# 変数のスコープ\n",
    "変数にはスコープ（有効範囲）の違いによってglobal変数とlocal変数の２種類に分けられる．\n",
    "通常はどこでも参照可能なglobal変数になる．\n",
    "\n",
    "スコープ範囲を作り出すコマンドとして，例えば `let ... end` がある．\n",
    "`let ... end` で囲まれた部分で宣言した変数のスコープはコードブロック内に限定される．\n",
    "つまり，暗黙のうちにlocal変数となる．\n"
   ]
  },
  {
   "cell_type": "code",
   "execution_count": 8,
   "id": "8aebf8da-828a-48d7-8c61-5dc400cc2bfe",
   "metadata": {},
   "outputs": [
    {
     "name": "stdout",
     "output_type": "stream",
     "text": [
      "foo = 1\n",
      "foo = -10000\n",
      "foo = 1\n"
     ]
    },
    {
     "data": {
      "text/plain": [
       "1"
      ]
     },
     "execution_count": 8,
     "metadata": {},
     "output_type": "execute_result"
    }
   ],
   "source": [
    "foo = 1          # global変数\n",
    "@show foo        # メタ構文変数： 特に意味のない変数名．\n",
    "\n",
    "let\n",
    "    foo = -10000    # local変数のfoo\n",
    "    @show foo    # local変数のfoo\n",
    "end\n",
    "\n",
    "@show foo       # local変数の foo"
   ]
  },
  {
   "cell_type": "markdown",
   "id": "16b1e67e-162f-40b2-bc47-bbee1142d9f8",
   "metadata": {},
   "source": [
    "`let ... end` ブロック内で global変数にアクセスしたい場合は，`global 変数名` と記述する．"
   ]
  },
  {
   "cell_type": "code",
   "execution_count": 9,
   "id": "5893d2ea-1b7d-4c4a-89a0-3c550bad8e3a",
   "metadata": {},
   "outputs": [
    {
     "name": "stdout",
     "output_type": "stream",
     "text": [
      "foo = 1\n",
      "foo = -10000\n",
      "foo = -10000\n"
     ]
    },
    {
     "data": {
      "text/plain": [
       "-10000"
      ]
     },
     "execution_count": 9,
     "metadata": {},
     "output_type": "execute_result"
    }
   ],
   "source": [
    "foo = 1          # global変数\n",
    "@show foo        # メタ構文変数： 特に意味のない変数名．\n",
    "\n",
    "let\n",
    "    global foo = -10000   # \"global\" 変数のfoo   ← global宣言に変更\n",
    "    @show foo    # \"global\" 変数のfoo\n",
    "end\n",
    "\n",
    "@show foo       # グローバル変数の foo"
   ]
  },
  {
   "cell_type": "markdown",
   "id": "01c1cef9-2e65-4bef-8a7a-4059a808b1c8",
   "metadata": {},
   "source": [
    "# 変数の名前\n",
    "原則として，**変数名は他の人がコードを読んだときにわかりやすい名前をつける**ようにする．  \n",
    "\n",
    "\n",
    "変数の用途を的確に表す単語やフレーズにすることが望ましい．    \n",
    "変数名は通常は英語で書くが，ローマ字でもわかりやすければ全然問題ない．\n",
    "\n",
    "例えば，幅と高さから長方形の面積を計算値をある変数に格納する場合は，\n",
    "```\n",
    "   area = width*height\n",
    "```\n",
    "よりも\n",
    "```\n",
    "   area_rectangle = width*height\n",
    "```\n",
    "と書いたほうがより明確になる．\n",
    "右辺の計算式から変数の意味や用途を推測できるような場合でも，このように\n",
    "はっきり書いてあったほうが読み手にとっては負担が少なくなる．\n",
    "\n",
    "冗長すぎる変数名は逆にわかりにくくしてしまうので注意が必要である．\n",
    "```\n",
    "    two_dimensional_lebesgue_measure_rectangle = width*height  \n",
    "```\n",
    "\n",
    "もし，一時的にしか使わないのならば，短い変数名にしてコメントで説明を書いておく\n",
    "というのも有効である．\n",
    "```\n",
    "   S = width*height    # 長方形の面積\n",
    "```\n",
    "このように変数名は短すぎると意味がわかりにくくなり，長すぎると冗長で読みにくくなる．\n",
    "適切な変数名をつけることは案外難しいが，以下のようなことに気をつけるだけでも\n",
    "十分にわかりやすくなる．\n",
    "\n",
    "- 変数名は名詞とする．\n",
    "- できるだけ明確な単語を選択する: size → length, area, volume, など．\n",
    "- スコープが狭ければ短く，スコープが広ければ詳しく．\n",
    "- ループカウンタ（後述）は短い変数名にする． `i`,`j`,`k`などを使う慣習がある．\n",
    "\n",
    "### *参考文献*\n",
    " - 「リーダブルコード」(O'Reilly)\n",
    " -  Juliaにおける命名規則：[スタイルガイド](https://docs.julialang.org/en/v1/manual/variables/#Stylistic-Conventions)を参照．\n"
   ]
  },
  {
   "cell_type": "markdown",
   "id": "433135cd-d541-4938-8e43-608202687221",
   "metadata": {},
   "source": [
    "# 変数の型: [Types](https://docs.julialang.org/en/v1/manual/types/)\n",
    "各変数には**型 (type)** が定められている．型はどのようなデータを格納しているか表すラベルのようなものである．\n",
    "\n",
    "初出の変数名に値を代入すると，代入した値の型が自動的に設定される．\n",
    "\n",
    "変数の型は`typeof()`で確認できる．\n"
   ]
  },
  {
   "cell_type": "code",
   "execution_count": 10,
   "id": "edc3d80e-cb8a-4b7a-9d9d-61987cbb443e",
   "metadata": {},
   "outputs": [
    {
     "data": {
      "text/plain": [
       "Int64"
      ]
     },
     "execution_count": 10,
     "metadata": {},
     "output_type": "execute_result"
    }
   ],
   "source": [
    "x = 123\n",
    "typeof(x)"
   ]
  },
  {
   "cell_type": "markdown",
   "id": "8501e663-4702-4166-b9d3-a193b917ed8f",
   "metadata": {},
   "source": [
    "整数値は自動的に`Int64`という整数型になる．型の種類についてはすぐ後で説明する．\n"
   ]
  },
  {
   "cell_type": "markdown",
   "id": "8b0d9513-2cd9-4013-b1a4-f3e7929a9148",
   "metadata": {},
   "source": [
    "## 宣言された変数の確認\n",
    "`varinfo()`で宣言された変数リストを表示できる．"
   ]
  },
  {
   "cell_type": "code",
   "execution_count": 11,
   "id": "26e6a9ec-391e-451d-9d42-97652a792253",
   "metadata": {},
   "outputs": [
    {
     "data": {
      "text/latex": [
       "\\begin{tabular}\n",
       "{l | r | l}\n",
       "name & size & summary \\\\\n",
       "\\hline\n",
       "Base &  & Module \\\\\n",
       "Core &  & Module \\\\\n",
       "Main &  & Module \\\\\n",
       "foo & 8 bytes & Int64 \\\\\n",
       "x & 8 bytes & Int64 \\\\\n",
       "\\end{tabular}\n"
      ],
      "text/markdown": [
       "| name |    size | summary |\n",
       "|:---- | -------:|:------- |\n",
       "| Base |         | Module  |\n",
       "| Core |         | Module  |\n",
       "| Main |         | Module  |\n",
       "| foo  | 8 bytes | Int64   |\n",
       "| x    | 8 bytes | Int64   |\n"
      ],
      "text/plain": [
       "  name    size summary\n",
       "  –––– ––––––– –––––––\n",
       "  Base         Module \n",
       "  Core         Module \n",
       "  Main         Module \n",
       "  foo  8 bytes Int64  \n",
       "  x    8 bytes Int64  "
      ]
     },
     "execution_count": 11,
     "metadata": {},
     "output_type": "execute_result"
    }
   ],
   "source": [
    "varinfo()"
   ]
  },
  {
   "cell_type": "markdown",
   "id": "ceacabc0-8f93-42f9-b8e6-308d80cb4b36",
   "metadata": {},
   "source": [
    "## 整数型: [Integers](https://docs.julialang.org/en/v1/manual/integers-and-floating-point-numbers/#Integers)\n",
    "`Int64`型は64bit長の符号付き整数 (integer)を表す．整数型には`Int8`, `Int16`, `Int32`, `Int64`, `Int128`がある．\n",
    "\n",
    "数字として`1`や`-200`と記述した場合，暗黙的に`Int64`と解釈される．型を明示して代入することもできる．\n"
   ]
  },
  {
   "cell_type": "code",
   "execution_count": 12,
   "id": "506e4ebf-d3cd-41bd-9eba-8e155dbf673b",
   "metadata": {},
   "outputs": [
    {
     "data": {
      "text/plain": [
       "Int128"
      ]
     },
     "execution_count": 12,
     "metadata": {},
     "output_type": "execute_result"
    }
   ],
   "source": [
    "x = Int128(1)\n",
    "typeof(x)"
   ]
  },
  {
   "cell_type": "markdown",
   "id": "220485c2-f134-4fc1-80d3-d78df9b43f97",
   "metadata": {},
   "source": [
    "単に`Int`とタイプするとシステム環境のbit数に依存して解釈される．cf. [Document/Integers](https://docs.julialang.org/en/v1/manual/integers-and-floating-point-numbers/#Integers)"
   ]
  },
  {
   "cell_type": "code",
   "execution_count": 13,
   "id": "6a0a8fae-3762-4c55-9b81-65eaf4c74edd",
   "metadata": {},
   "outputs": [
    {
     "data": {
      "text/plain": [
       "64"
      ]
     },
     "execution_count": 13,
     "metadata": {},
     "output_type": "execute_result"
    }
   ],
   "source": [
    "typeof(Int(1))\n",
    "Sys.WORD_SIZE   # システム環境のbit数の確認"
   ]
  },
  {
   "cell_type": "markdown",
   "id": "7a462b57-34e2-45dc-be75-b005eeb019ab",
   "metadata": {},
   "source": [
    "整数型はビット数に応じて扱える整数の範囲に限界がある（[参考](https://docs.julialang.org/en/v1/manual/integers-and-floating-point-numbers/#Integers-and-Floating-Point-Numbers)）．\n",
    "\n",
    "`typemax()`, `typemin()`で扱える整数の最大値と最小値が具体的に知ることができる．"
   ]
  },
  {
   "cell_type": "code",
   "execution_count": 14,
   "id": "ba91c6ba-8562-4a09-a4f6-507b26c3185f",
   "metadata": {},
   "outputs": [
    {
     "name": "stdout",
     "output_type": "stream",
     "text": [
      "typemax(Int64) = 9223372036854775807\n",
      "typemin(Int64) = -9223372036854775808\n",
      "typemax(UInt64) = 0xffffffffffffffff\n",
      "typemin(UInt64) = 0x0000000000000000\n"
     ]
    },
    {
     "data": {
      "text/plain": [
       "0x0000000000000000"
      ]
     },
     "execution_count": 14,
     "metadata": {},
     "output_type": "execute_result"
    }
   ],
   "source": [
    "@show typemax(Int64)\n",
    "@show typemin(Int64)\n",
    "@show typemax(UInt64)\n",
    "@show typemin(UInt64)"
   ]
  },
  {
   "cell_type": "markdown",
   "id": "9d01fb25-12dd-47e3-be70-4b32910088db",
   "metadata": {},
   "source": [
    "限界の最大値に正の値を足そうとすると，overflowを起こして正常な結果が得られない．"
   ]
  },
  {
   "cell_type": "code",
   "execution_count": 15,
   "id": "93823547-3977-4aa8-b796-69dd112ebbc8",
   "metadata": {},
   "outputs": [
    {
     "data": {
      "text/plain": [
       "-9223372036854775808"
      ]
     },
     "execution_count": 15,
     "metadata": {},
     "output_type": "execute_result"
    }
   ],
   "source": [
    "typemax(Int64) + 1"
   ]
  },
  {
   "cell_type": "code",
   "execution_count": 16,
   "id": "90283e31-c1ce-4f3e-b4ee-00f16d7e049b",
   "metadata": {},
   "outputs": [
    {
     "data": {
      "text/plain": [
       "0x0000000000000000"
      ]
     },
     "execution_count": 16,
     "metadata": {},
     "output_type": "execute_result"
    }
   ],
   "source": [
    "typemax(UInt64) + 1"
   ]
  },
  {
   "cell_type": "markdown",
   "id": "447afae0-ba76-470f-ab66-4a969a6bcbaf",
   "metadata": {},
   "source": [
    "演算の際にoverflowを検知するためには，`Base.Checked.checked_add`などが使える．"
   ]
  },
  {
   "cell_type": "code",
   "execution_count": 17,
   "id": "80b1614a-3ef1-457c-add2-9a7c63441173",
   "metadata": {},
   "outputs": [
    {
     "ename": "LoadError",
     "evalue": "OverflowError: 9223372036854775807 + 1 overflowed for type Int64",
     "output_type": "error",
     "traceback": [
      "OverflowError: 9223372036854775807 + 1 overflowed for type Int64",
      "",
      "Stacktrace:",
      " [1] throw_overflowerr_binaryop(op::Symbol, x::Int64, y::Int64)",
      "   @ Base.Checked ./checked.jl:154",
      " [2] checked_add(x::Int64, y::Int64)",
      "   @ Base.Checked ./checked.jl:166",
      " [3] top-level scope",
      "   @ In[17]:4",
      " [4] eval",
      "   @ ./boot.jl:360 [inlined]",
      " [5] include_string(mapexpr::typeof(REPL.softscope), mod::Module, code::String, filename::String)",
      "   @ Base ./loading.jl:1116"
     ]
    }
   ],
   "source": [
    "Base.Checked.checked_add(100, 1)  # 100 + 1 = 101 で範囲内で問題なし．\n",
    "M = typemax(Int64)\n",
    "m = typemin(Int64)\n",
    "Base.Checked.checked_add(M, 1)   # M+1 → overflowエラーが発生する"
   ]
  },
  {
   "cell_type": "code",
   "execution_count": 18,
   "id": "0dffbddf-5368-4ef2-b0d2-a54f3cc550c3",
   "metadata": {},
   "outputs": [
    {
     "ename": "LoadError",
     "evalue": "OverflowError: 9223372036854775807 * 2 overflowed for type Int64",
     "output_type": "error",
     "traceback": [
      "OverflowError: 9223372036854775807 * 2 overflowed for type Int64",
      "",
      "Stacktrace:",
      " [1] throw_overflowerr_binaryop(op::Symbol, x::Int64, y::Int64)",
      "   @ Base.Checked ./checked.jl:154",
      " [2] checked_mul(x::Int64, y::Int64)",
      "   @ Base.Checked ./checked.jl:288",
      " [3] top-level scope",
      "   @ In[18]:1",
      " [4] eval",
      "   @ ./boot.jl:360 [inlined]",
      " [5] include_string(mapexpr::typeof(REPL.softscope), mod::Module, code::String, filename::String)",
      "   @ Base ./loading.jl:1116"
     ]
    }
   ],
   "source": [
    "Base.Checked.checked_mul(M, 2)   # M*2 → overflowエラーが発生する"
   ]
  },
  {
   "cell_type": "markdown",
   "id": "3904275f-15bb-4097-bef0-497b574603e7",
   "metadata": {},
   "source": [
    "## 浮動小数点数: [Floating-Point Numbers](https://docs.julialang.org/en/v1/manual/integers-and-floating-point-numbers/#Floating-Point-Numbers)\n",
    "プログラミング言語では小数は浮動小数点数という形式で扱われる．"
   ]
  },
  {
   "cell_type": "code",
   "execution_count": 19,
   "id": "22a1d38a-09e9-4865-8dcc-5a78be5da980",
   "metadata": {},
   "outputs": [
    {
     "name": "stdout",
     "output_type": "stream",
     "text": [
      "x = 2 / 3 = 0.6666666666666666\n"
     ]
    },
    {
     "data": {
      "text/plain": [
       "Float64"
      ]
     },
     "execution_count": 19,
     "metadata": {},
     "output_type": "execute_result"
    }
   ],
   "source": [
    "@show x = 2/3\n",
    "typeof(x)"
   ]
  },
  {
   "cell_type": "markdown",
   "id": "7d910f17-38a6-4d09-8bd2-a2f2e2343c3c",
   "metadata": {},
   "source": [
    "浮動小数点数については後で説明する．"
   ]
  },
  {
   "cell_type": "markdown",
   "id": "a8807963-f0d1-4261-9c68-2bde192fa89a",
   "metadata": {},
   "source": [
    "## 複素数\n",
    "複素数は`Complex`型であり，$x+yi$の値を持つ変数は `Complex(x,y)` で生成できる．"
   ]
  },
  {
   "cell_type": "code",
   "execution_count": 20,
   "id": "6b8fa843-18c6-48a5-92f0-5f868c5e585e",
   "metadata": {},
   "outputs": [
    {
     "name": "stdout",
     "output_type": "stream",
     "text": [
      "z = Complex(1, 2) = 1 + 2im\n",
      "z ^ 2 = -3 + 4im\n"
     ]
    },
    {
     "data": {
      "text/plain": [
       "-3 + 4im"
      ]
     },
     "execution_count": 20,
     "metadata": {},
     "output_type": "execute_result"
    }
   ],
   "source": [
    "@show z = Complex(1,2)\n",
    "@show z^2"
   ]
  },
  {
   "cell_type": "markdown",
   "id": "f90e1e9b-da25-4ac2-a7fa-df32f1b01f53",
   "metadata": {},
   "source": [
    "虚数単位は `im` である． `Complex(x,y)` は `x+y*im`と書くこともできる．"
   ]
  },
  {
   "cell_type": "code",
   "execution_count": 21,
   "id": "25c031a7-341c-4fe9-9897-a56853af75fc",
   "metadata": {},
   "outputs": [
    {
     "name": "stdout",
     "output_type": "stream",
     "text": [
      "z = 1 + 2im = 1 + 2im\n",
      "z ^ 2 = -3 + 4im\n"
     ]
    },
    {
     "data": {
      "text/plain": [
       "-3 + 4im"
      ]
     },
     "execution_count": 21,
     "metadata": {},
     "output_type": "execute_result"
    }
   ],
   "source": [
    "@show z = 1 + 2*im\n",
    "@show z^2"
   ]
  },
  {
   "cell_type": "markdown",
   "id": "e40a02ec-a98a-4399-9321-e32394968764",
   "metadata": {},
   "source": [
    "次のような基本的な関数は実装済みである．\n",
    "\n",
    "| 数学関数      |    Julia      |\n",
    "|:-------------|:--------------|\n",
    "| 実部 $\\mathrm{Re} z$    | `real(z)`      |\n",
    "| 虚部 $\\mathrm{Im} z$    | `imag(z)`      |\n",
    "| $z$ の絶対値      | `abs(z)`      |\n",
    "| $\\mathrm{Arg} z \\in (-\\pi, \\pi]$    | `angle(z)`      |"
   ]
  },
  {
   "cell_type": "code",
   "execution_count": 22,
   "id": "d15ef9e9-7b7b-4dfe-8965-a0262abdf709",
   "metadata": {},
   "outputs": [
    {
     "name": "stdout",
     "output_type": "stream",
     "text": [
      "real(z) = 1.0\n",
      "imag(z) = 1.7320508075688772\n",
      "abs(z) = 2.0\n",
      "θ = angle(z) = 1.0471975511965976\n",
      "θ / π = 0.3333333333333333\n"
     ]
    },
    {
     "data": {
      "text/plain": [
       "0.3333333333333333"
      ]
     },
     "execution_count": 22,
     "metadata": {},
     "output_type": "execute_result"
    }
   ],
   "source": [
    "z = 1.0+sqrt(3)*im    # `im`は虚数単位\n",
    "@show real(z)\n",
    "@show imag(z)\n",
    "@show abs(z)\n",
    "@show θ = angle(z)\n",
    "@show θ/π"
   ]
  },
  {
   "cell_type": "code",
   "execution_count": null,
   "id": "9d9ef0c6-c6fc-4232-8979-94054d0de595",
   "metadata": {},
   "outputs": [],
   "source": []
  }
 ],
 "metadata": {
  "kernelspec": {
   "display_name": "Julia 1.6.7",
   "language": "julia",
   "name": "julia-1.6"
  },
  "language_info": {
   "file_extension": ".jl",
   "mimetype": "application/julia",
   "name": "julia",
   "version": "1.6.7"
  }
 },
 "nbformat": 4,
 "nbformat_minor": 5
}
