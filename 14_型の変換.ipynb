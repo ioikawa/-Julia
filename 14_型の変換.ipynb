{
 "cells": [
  {
   "cell_type": "markdown",
   "id": "5b22148a-6bab-4e3b-bddf-19841f17199d",
   "metadata": {},
   "source": [
    "# 型の変換と昇格\n",
    "\n",
    "## 型の変換: `convert`\n",
    "変数の型の明示的な変換は `convert`で行う．"
   ]
  },
  {
   "cell_type": "code",
   "execution_count": 1,
   "id": "1cc9d950-3ac3-42c3-996d-53afdaf54dca",
   "metadata": {},
   "outputs": [
    {
     "name": "stdout",
     "output_type": "stream",
     "text": [
      "typeof(x) = Int64\n",
      "typeof(y) = UInt32\n"
     ]
    },
    {
     "data": {
      "text/plain": [
       "UInt32"
      ]
     },
     "execution_count": 1,
     "metadata": {},
     "output_type": "execute_result"
    }
   ],
   "source": [
    "x = 100\n",
    "@show typeof(x)\n",
    "y = convert(UInt32, x)   # 符号なし32bit整数へ変換\n",
    "@show typeof(y)"
   ]
  },
  {
   "cell_type": "markdown",
   "id": "67b0eaa3-29c2-4497-9909-cb52cb868b63",
   "metadata": {},
   "source": [
    "### *Note*\n",
    "`convert(UInt32, x)` の代わりに`UInt32(x)`でも同じ結果を与える．\n",
    "（コーディングスタイルとしてどちらがよいのかはわからない．）"
   ]
  },
  {
   "cell_type": "code",
   "execution_count": 2,
   "id": "3942aa82-a1c5-4a7a-b1be-fd3fee324d80",
   "metadata": {},
   "outputs": [
    {
     "data": {
      "text/plain": [
       "UInt32"
      ]
     },
     "execution_count": 2,
     "metadata": {},
     "output_type": "execute_result"
    }
   ],
   "source": [
    "z = UInt32(x)\n",
    "typeof(z)"
   ]
  },
  {
   "cell_type": "markdown",
   "id": "7f0fe586-a420-4309-8768-a640c631c638",
   "metadata": {},
   "source": [
    "型の変換が定義されていない場合はエラーとなる．\n",
    "例えば，負の整数を符号なし整数へ convert しようとするとエラーとなる．"
   ]
  },
  {
   "cell_type": "code",
   "execution_count": 3,
   "id": "38461d1a-543a-4c78-8f72-b14bd844cda8",
   "metadata": {},
   "outputs": [
    {
     "ename": "LoadError",
     "evalue": "InexactError: trunc(UInt32, -100)",
     "output_type": "error",
     "traceback": [
      "InexactError: trunc(UInt32, -100)",
      "",
      "Stacktrace:",
      " [1] throw_inexacterror(f::Symbol, #unused#::Type{UInt32}, val::Int64)",
      "   @ Core ./boot.jl:602",
      " [2] checked_trunc_uint",
      "   @ ./boot.jl:632 [inlined]",
      " [3] toUInt32",
      "   @ ./boot.jl:716 [inlined]",
      " [4] UInt32",
      "   @ ./boot.jl:756 [inlined]",
      " [5] convert(#unused#::Type{UInt32}, x::Int64)",
      "   @ Base ./number.jl:7",
      " [6] top-level scope",
      "   @ In[3]:1",
      " [7] eval",
      "   @ ./boot.jl:360 [inlined]",
      " [8] include_string(mapexpr::typeof(REPL.softscope), mod::Module, code::String, filename::String)",
      "   @ Base ./loading.jl:1116"
     ]
    }
   ],
   "source": [
    "y = convert(UInt32,-100)   # エラー！"
   ]
  },
  {
   "cell_type": "markdown",
   "id": "c684a6c5-4382-4a40-8c35-5cb01f18e358",
   "metadata": {},
   "source": [
    "### 文字列から数値型への変換\n",
    "文字列を整数や浮動小数点数型へ convert することはできないが，\n",
    "`parse()`を用いて数値化は可能である．"
   ]
  },
  {
   "cell_type": "code",
   "execution_count": 4,
   "id": "da6e0358-8bf0-483e-acca-b1683a7ac177",
   "metadata": {},
   "outputs": [
    {
     "data": {
      "text/plain": [
       "123"
      ]
     },
     "execution_count": 4,
     "metadata": {},
     "output_type": "execute_result"
    }
   ],
   "source": [
    "parse(Int64, \"123\")"
   ]
  },
  {
   "cell_type": "code",
   "execution_count": 5,
   "id": "72357b2d-dc44-4bdc-9ae3-703938b2c99b",
   "metadata": {},
   "outputs": [
    {
     "data": {
      "text/plain": [
       "123.456"
      ]
     },
     "execution_count": 5,
     "metadata": {},
     "output_type": "execute_result"
    }
   ],
   "source": [
    "parse(Float64, \"123.456\")"
   ]
  },
  {
   "cell_type": "code",
   "execution_count": null,
   "id": "96d8de08-4e3c-4fca-b902-242871fc1e95",
   "metadata": {},
   "outputs": [],
   "source": [
    "parse(ComplexF64, \"1+2i\")"
   ]
  },
  {
   "cell_type": "code",
   "execution_count": null,
   "id": "4acd6ac8-b7ba-4cc2-be30-42734c2da99d",
   "metadata": {},
   "outputs": [],
   "source": [
    "parse(ComplexF64, \"2i+1\")  # エラー！"
   ]
  },
  {
   "cell_type": "markdown",
   "id": "1c9dbeef-9d43-4676-a553-020eaf9696a3",
   "metadata": {},
   "source": [
    "## 型の昇格: `promote`\n",
    "`promote`関数は与えられた複数の変数に対して，\n",
    "値の情報を損なわないように型を揃えてくれる．\n",
    "これを昇格 (promotion) とよぶ．"
   ]
  },
  {
   "cell_type": "code",
   "execution_count": null,
   "id": "a937fc79-5717-4a2d-a438-adbad60be41c",
   "metadata": {},
   "outputs": [],
   "source": [
    "x = promote(100, 1.5)\n",
    "@show x\n",
    "typeof(x)"
   ]
  },
  {
   "cell_type": "markdown",
   "id": "1bd3b01a-bf24-460b-9bc3-a3ee00eade37",
   "metadata": {},
   "source": [
    "型によっては昇格できないこともある．"
   ]
  },
  {
   "cell_type": "code",
   "execution_count": null,
   "id": "27a1bade-e898-4aa0-baf8-9eec667f043c",
   "metadata": {},
   "outputs": [],
   "source": [
    "promote(100, \"abc\")"
   ]
  },
  {
   "cell_type": "markdown",
   "id": "9b4a1733-6e63-4ff7-9987-fc1add91a862",
   "metadata": {},
   "source": [
    "異なる数値型どうしの演算では自動的にpromoteが呼び出されて適切な型変換が行われるので，\n",
    "大抵の場合，型の変換を意識する必要はない．"
   ]
  },
  {
   "cell_type": "code",
   "execution_count": null,
   "id": "7be57614-2338-4a94-aa0e-25830a61f103",
   "metadata": {},
   "outputs": [],
   "source": [
    "x = Int64(100)\n",
    "y = Float64(0.1) \n",
    "typeof(x+y)"
   ]
  }
 ],
 "metadata": {
  "kernelspec": {
   "display_name": "Julia 1.6.7",
   "language": "julia",
   "name": "julia-1.6"
  },
  "language_info": {
   "file_extension": ".jl",
   "mimetype": "application/julia",
   "name": "julia",
   "version": "1.6.5"
  }
 },
 "nbformat": 4,
 "nbformat_minor": 5
}
