{
 "cells": [
  {
   "cell_type": "markdown",
   "id": "ae83854c-2742-41d2-97e1-8af62b90c91b",
   "metadata": {
    "tags": []
   },
   "source": [
    "# 関数: [Functions](https://docs.julialang.org/en/v1/manual/functions/)\n",
    "\n",
    "## 関数の記述\n",
    "プログラミングにおける関数 (function) とは，与えられた引数 (argument)をもとに\n",
    "一連の処理を実行し，結果を値として返却するコードブロックのことと考えておけばよい．\n",
    "\n",
    "数学における関数（写像）とは異なる概念であることに注意．\n",
    "\n",
    "Julia言語では関数は `function ... end` で定義する．\n",
    "\n",
    "例として，底辺と高さから三角形の面積を返却する関数を定義する．"
   ]
  },
  {
   "cell_type": "code",
   "execution_count": 3,
   "id": "c4745405",
   "metadata": {},
   "outputs": [
    {
     "name": "stdout",
     "output_type": "stream",
     "text": [
      "triangle_area(2, 1) = 1.0\n"
     ]
    }
   ],
   "source": [
    "function triangle_area(base, height)\n",
    "    return 0.5 * base * height\n",
    "end\n",
    "\n",
    "@show triangle_area(2, 1);   # 関数の呼び出し"
   ]
  },
  {
   "cell_type": "markdown",
   "id": "2bc985dc-ecbc-441f-a02c-9d907713f618",
   "metadata": {},
   "source": [
    "これは，数学の関数と同じような形式で書くこともできる．"
   ]
  },
  {
   "cell_type": "code",
   "execution_count": 4,
   "id": "aed25057-abce-44cb-aef8-d3fbadc6ceb2",
   "metadata": {},
   "outputs": [
    {
     "name": "stdout",
     "output_type": "stream",
     "text": [
      "triangle_area2(2, 1) = 1.0\n"
     ]
    }
   ],
   "source": [
    "triangle_area2(base, height) = 0.5 * base * height\n",
    "@show triangle_area2(2, 1);"
   ]
  },
  {
   "cell_type": "markdown",
   "id": "1366811d",
   "metadata": {},
   "source": [
    "## オプション引数 ([optional argument](https://docs.julialang.org/en/v1/manual/functions/#Optional-Arguments))\n",
    "引数のデフォルト値を設定しておくことも可能である．"
   ]
  },
  {
   "cell_type": "code",
   "execution_count": 5,
   "id": "52dbd2ab",
   "metadata": {},
   "outputs": [
    {
     "name": "stdout",
     "output_type": "stream",
     "text": [
      "triangle_area() = 0.5\n"
     ]
    }
   ],
   "source": [
    "function triangle_area(base=1, height=1)\n",
    "    return 0.5 * base * height\n",
    "end\n",
    "\n",
    "@show triangle_area();   # 関数の呼び出し"
   ]
  },
  {
   "cell_type": "markdown",
   "id": "cbdd3899",
   "metadata": {},
   "source": [
    "## キーワード引数 ([keyword arugment](https://docs.julialang.org/en/v1/manual/functions/#Keyword-Argum))\n",
    "本講義では説明を省略．公式ドキュメントを参照してほしい．\n"
   ]
  },
  {
   "cell_type": "markdown",
   "id": "95ec6172-bb11-49a4-9a03-62c4cab97c0e",
   "metadata": {},
   "source": [
    "## 関数オブジェクト\n",
    "Juliaでは関数は変数と同じように扱うことができる．"
   ]
  },
  {
   "cell_type": "code",
   "execution_count": 13,
   "id": "a8d9e4c4-a6d6-4e60-a26e-f62793fefb64",
   "metadata": {},
   "outputs": [
    {
     "name": "stdout",
     "output_type": "stream",
     "text": [
      "h(2) = 8\n"
     ]
    }
   ],
   "source": [
    "f(x) = x^2\n",
    "g(x) = 2x\n",
    "h(x) = f(x) + g(x)\n",
    "\n",
    "@show h(2); # = f(2) + g(2) = 2^2 + 2*2"
   ]
  },
  {
   "cell_type": "markdown",
   "id": "c8d452ab-a6fb-4475-a481-fe38c274caa9",
   "metadata": {},
   "source": [
    "$f,g$の合成関数は次のように書くことができる．"
   ]
  },
  {
   "cell_type": "code",
   "execution_count": 14,
   "id": "8ba1ec7d-2094-466e-80ea-88361776f233",
   "metadata": {},
   "outputs": [
    {
     "name": "stdout",
     "output_type": "stream",
     "text": [
      "h(10) = 200\n"
     ]
    }
   ],
   "source": [
    "h(x) = g(f(x)) # = 2*(x^2)\n",
    "\n",
    "@show h(10);"
   ]
  },
  {
   "cell_type": "markdown",
   "id": "c52c22f7",
   "metadata": {},
   "source": [
    "関数の引数に関数を渡すこともできる．"
   ]
  },
  {
   "cell_type": "code",
   "execution_count": 23,
   "id": "4feddf4b",
   "metadata": {},
   "outputs": [
    {
     "name": "stdout",
     "output_type": "stream",
     "text": [
      "abcabc from print_function()\n",
      "print_function(f, \"abc\") = nothing\n"
     ]
    }
   ],
   "source": [
    "function print_function(f, x)\n",
    "    println(\"$(f(x)) from print_function()\")\n",
    "end\n",
    "\n",
    "@show print_function(f, \"abc\")"
   ]
  },
  {
   "cell_type": "markdown",
   "id": "43a38b69",
   "metadata": {},
   "source": [
    "関数を名前をつけず定義せずに，その場で定義して引数に渡すこともできる．"
   ]
  },
  {
   "cell_type": "code",
   "execution_count": 25,
   "id": "a8de82c2",
   "metadata": {},
   "outputs": [
    {
     "name": "stdout",
     "output_type": "stream",
     "text": [
      "abcabc from print_function()\n"
     ]
    }
   ],
   "source": [
    "print_function(x -> x^2, \"abc\") # 無名関数"
   ]
  },
  {
   "cell_type": "markdown",
   "id": "235682e5-6e6e-4c69-aaa3-cb9a096625e2",
   "metadata": {},
   "source": [
    "## 変数のスコープ\n",
    "変数にはスコープ（有効範囲）の違いによってglobal変数とlocal変数の２種類に分けられる．\n",
    "\n",
    "通常はどこでも参照可能なglobal変数になる．\n",
    "\n",
    "スコープを作り出すコマンドとして，`function ... end` や `let ... end` がある．\n",
    "\n",
    "これらのコマンドで囲まれた部分で宣言した変数の暗黙的に local変数となり，\n",
    "変数のスコープはコードブロック内に限定される．"
   ]
  },
  {
   "cell_type": "code",
   "execution_count": 26,
   "id": "9e6b6826-e7ca-454d-a368-d6408e448c3e",
   "metadata": {},
   "outputs": [
    {
     "name": "stdout",
     "output_type": "stream",
     "text": [
      "foo = \"Before let\"\n",
      "foo = \"Inside let\"\n",
      "foo = \"Before let\"\n"
     ]
    }
   ],
   "source": [
    "foo = \"Before let\"          # global変数\n",
    "@show foo        # メタ構文変数： 特に意味のない変数名．\n",
    "\n",
    "let\n",
    "    foo = \"Inside let\"    # local変数のfoo\n",
    "    @show foo    # local変数のfoo\n",
    "end\n",
    "\n",
    "@show foo;       # local変数の foo"
   ]
  },
  {
   "cell_type": "markdown",
   "id": "e8314f7f-dc62-4f74-ac2a-1a575f7cee3e",
   "metadata": {},
   "source": [
    "`let ... end` ブロック内で global変数にアクセスしたい場合は，`global 変数名` と記述する．"
   ]
  },
  {
   "cell_type": "code",
   "execution_count": null,
   "id": "34ddd422-e982-4c9b-b570-fc69548467f2",
   "metadata": {},
   "outputs": [
    {
     "name": "stdout",
     "output_type": "stream",
     "text": [
      "foo = \"Before let\"\n",
      "foo = \"Inside let\"\n",
      "foo = \"Inside let\"\n"
     ]
    },
    {
     "data": {
      "text/plain": [
       "\"Inside let\""
      ]
     },
     "metadata": {},
     "output_type": "display_data"
    }
   ],
   "source": [
    "foo = \"Before let\"\n",
    "@show foo\n",
    "\n",
    "let\n",
    "    global foo = \"Inside let\"   # \"global\" 変数のfoo   \n",
    "    @show foo\n",
    "end\n",
    "\n",
    "@show foo;"
   ]
  }
 ],
 "metadata": {
  "kernelspec": {
   "display_name": "Julia 1.11.2",
   "language": "julia",
   "name": "julia-1.11"
  },
  "language_info": {
   "file_extension": ".jl",
   "mimetype": "application/julia",
   "name": "julia",
   "version": "1.11.2"
  }
 },
 "nbformat": 4,
 "nbformat_minor": 5
}
