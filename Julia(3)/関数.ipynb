{
 "cells": [
  {
   "cell_type": "markdown",
   "id": "ae83854c-2742-41d2-97e1-8af62b90c91b",
   "metadata": {
    "tags": []
   },
   "source": [
    "# 関数: [Functions](https://docs.julialang.org/en/v1/manual/functions/)\n",
    "\n",
    "## 関数の記述\n",
    "プログラミングにおける関数 (function) とは，与えられた引数 (argument)をもとに\n",
    "一連の処理を実行し，結果を値として返却するコードブロックのことと考えておけばよい．\n",
    "\n",
    "Julia言語では関数は `function ... end` で定義する．\n",
    "\n",
    "例として，底辺と高さから三角形の面積を返却する関数を定義する．"
   ]
  },
  {
   "cell_type": "code",
   "execution_count": 55,
   "id": "c4745405",
   "metadata": {},
   "outputs": [
    {
     "name": "stdout",
     "output_type": "stream",
     "text": [
      "triangle_area(2, 1) = 1.0\n"
     ]
    }
   ],
   "source": [
    "function triangle_area(base, height)\n",
    "    return 0.5 * base * height\n",
    "end\n",
    "\n",
    "@show triangle_area(2, 1);   # 関数の呼び出し"
   ]
  },
  {
   "cell_type": "markdown",
   "id": "2bc985dc-ecbc-441f-a02c-9d907713f618",
   "metadata": {},
   "source": [
    "これは，数学の関数と同じような形式で書くこともできる．"
   ]
  },
  {
   "cell_type": "code",
   "execution_count": 27,
   "id": "aed25057-abce-44cb-aef8-d3fbadc6ceb2",
   "metadata": {},
   "outputs": [
    {
     "name": "stdout",
     "output_type": "stream",
     "text": [
      "triangle_area2(2, 1) = 1.0\n"
     ]
    }
   ],
   "source": [
    "triangle_area2(base, height) = 0.5 * base * height\n",
    "@show triangle_area2(2, 1);"
   ]
  },
  {
   "cell_type": "markdown",
   "id": "5662c808",
   "metadata": {},
   "source": [
    "<div class=\"alert alert-warning\">\n",
    "Warning: プログラミング言語における関数と数学における関数（写像）とは異なる概念である．\n",
    "</div>"
   ]
  },
  {
   "cell_type": "markdown",
   "id": "1366811d",
   "metadata": {},
   "source": [
    "## オプション引数 ([optional argument](https://docs.julialang.org/en/v1/manual/functions/#Optional-Arguments))\n",
    "引数のデフォルト値を設定しておくことも可能である．"
   ]
  },
  {
   "cell_type": "code",
   "execution_count": 30,
   "id": "52dbd2ab",
   "metadata": {},
   "outputs": [
    {
     "name": "stdout",
     "output_type": "stream",
     "text": [
      "triangle_area() = 0.5\n"
     ]
    }
   ],
   "source": [
    "function triangle_area(base=1, height=1)\n",
    "    return 0.5 * base * height\n",
    "end\n",
    "\n",
    "@show triangle_area();   # triangle_area(1, 1) と同じ"
   ]
  },
  {
   "cell_type": "markdown",
   "id": "cbdd3899",
   "metadata": {},
   "source": [
    "## キーワード引数 ([keyword arugment](https://docs.julialang.org/en/v1/manual/functions/#Keyword-Argum))\n",
    "本講義では説明を省略．公式ドキュメントを参照してほしい．\n"
   ]
  },
  {
   "cell_type": "markdown",
   "id": "95ec6172-bb11-49a4-9a03-62c4cab97c0e",
   "metadata": {},
   "source": [
    "## 関数の和\n",
    "`triangle_area()`を使って，台形の面積を三角形２つの和として計算する関数を定義する．\n",
    "\n",
    "![trapezoidal](trapezoidal.svg)"
   ]
  },
  {
   "cell_type": "code",
   "execution_count": 40,
   "id": "a8d9e4c4-a6d6-4e60-a26e-f62793fefb64",
   "metadata": {},
   "outputs": [
    {
     "name": "stdout",
     "output_type": "stream",
     "text": [
      "trapezoidal_area(2, 3, 1) = 2.5\n"
     ]
    }
   ],
   "source": [
    "trapezoidal_area(a, b, height) = triangle_area(a, height) + triangle_area(b, height)\n",
    "\n",
    "@show trapezoidal_area(2, 3, 1); # = 0.5*2*1 + 0.5*3*1 = 2.5"
   ]
  },
  {
   "cell_type": "markdown",
   "id": "c8d452ab-a6fb-4475-a481-fe38c274caa9",
   "metadata": {},
   "source": [
    "## 関数の合成"
   ]
  },
  {
   "cell_type": "code",
   "execution_count": 17,
   "id": "8ba1ec7d-2094-466e-80ea-88361776f233",
   "metadata": {},
   "outputs": [
    {
     "name": "stdout",
     "output_type": "stream",
     "text": [
      "g(0.5) = 1.0\n"
     ]
    }
   ],
   "source": [
    "f(x) = π * x\n",
    "g(x) = sin(f(x)) # = sin(π*x)\n",
    "\n",
    "@show g(0.5);"
   ]
  },
  {
   "cell_type": "code",
   "execution_count": 18,
   "id": "274444ef",
   "metadata": {},
   "outputs": [
    {
     "name": "stdout",
     "output_type": "stream",
     "text": [
      "g(0.5) = 1.0\n"
     ]
    }
   ],
   "source": [
    "g2 = sin ∘ f  # ∘は合成を表す演算子．\\circ[TAB]で入力\n",
    "@show g(0.5);"
   ]
  },
  {
   "cell_type": "markdown",
   "id": "c52c22f7",
   "metadata": {},
   "source": [
    "## 関数オブジェクト\n",
    "Juliaにおける関数は，変数や値と同じように型をもったデータで，\n",
    "変数に代入したり，関数に引数として渡したりできる．  \n",
    "変数，値，関数などを総称して，オブジェクトと呼ぶことにする．\n",
    "\n",
    "被積分関数 $f$を受け取って，定積分を台形公式\n",
    "$$\n",
    " \\int_a^{b} f(x) dx \\approx \\frac{b-a}{2} (f(a) + f(b))\n",
    "$$\n",
    "で数値計算するコードを次のように書くことができる．"
   ]
  },
  {
   "cell_type": "code",
   "execution_count": 2,
   "id": "4feddf4b",
   "metadata": {},
   "outputs": [
    {
     "data": {
      "text/plain": [
       "1.8591409142295225"
      ]
     },
     "metadata": {},
     "output_type": "display_data"
    }
   ],
   "source": [
    "# f: 被積分関数\n",
    "# a, b: 積分区間\n",
    "function trapezoidal_rule(f, a, b)\n",
    "    return 0.5(b - a) * (f(a) + f(b))\n",
    "end\n",
    "\n",
    "f(x) = exp(x)\n",
    "trapezoidal_rule(f, 0, 1) # 真値は exp(1) - 1 = 1.7182..."
   ]
  },
  {
   "cell_type": "markdown",
   "id": "43a38b69",
   "metadata": {},
   "source": [
    "関数を名前をつけず定義せずに，その場で定義して引数に渡すこともできる．"
   ]
  },
  {
   "cell_type": "code",
   "execution_count": 52,
   "id": "a8de82c2",
   "metadata": {},
   "outputs": [
    {
     "data": {
      "text/plain": [
       "1.8591409142295225"
      ]
     },
     "metadata": {},
     "output_type": "display_data"
    }
   ],
   "source": [
    "trapezoidal_rule(x -> exp(x), 0, 1) # 無名関数"
   ]
  },
  {
   "cell_type": "markdown",
   "id": "235682e5-6e6e-4c69-aaa3-cb9a096625e2",
   "metadata": {},
   "source": [
    "## 変数のスコープ\n",
    "変数にはスコープ（有効範囲）の違いによってglobal変数とlocal変数の２種類に分けられる．  \n",
    "通常はどこでも参照可能なglobal変数になる．\n",
    "\n",
    "ローカルスコープを作り出すコマンドとして，`function ... end` や `let ... end` がある．  \n",
    "これらのコマンドで囲まれた部分で宣言した変数の暗黙的に local変数となり，\n",
    "変数のスコープはコードブロック内に限定される．"
   ]
  },
  {
   "cell_type": "code",
   "execution_count": 5,
   "id": "9e6b6826-e7ca-454d-a368-d6408e448c3e",
   "metadata": {},
   "outputs": [
    {
     "name": "stdout",
     "output_type": "stream",
     "text": [
      "a = \"Global\"\n",
      "a = \"Defined in scope_test()\"\n",
      "a = \"Global\"\n"
     ]
    }
   ],
   "source": [
    "a = \"Global\"          # global変数\n",
    "@show a\n",
    "\n",
    "function scope_test()\n",
    "    a = \"Defined in scope_test()\"    # local変数\n",
    "    @show a\n",
    "end\n",
    "\n",
    "scope_test()\n",
    "@show a;"
   ]
  },
  {
   "cell_type": "markdown",
   "id": "e8314f7f-dc62-4f74-ac2a-1a575f7cee3e",
   "metadata": {},
   "source": [
    "`scope_test()`内で， global変数 `a` \n",
    "にアクセスしたい場合は，そのスコープ内で `global a` と記述する．  "
   ]
  },
  {
   "cell_type": "code",
   "execution_count": null,
   "id": "34ddd422-e982-4c9b-b570-fc69548467f2",
   "metadata": {},
   "outputs": [
    {
     "name": "stdout",
     "output_type": "stream",
     "text": [
      "a = \"Global\"\n",
      "a = \"Changed in scope_test()\"\n",
      "a = \"Changed in scope_test()\"\n"
     ]
    }
   ],
   "source": [
    "a = \"Global\"          # global変数\n",
    "@show a\n",
    "\n",
    "function scope_test()\n",
    "    global a = \"Changed in scope_test()\"    # global変数\n",
    "    @show a\n",
    "end\n",
    "\n",
    "scope_test()\n",
    "@show a;"
   ]
  },
  {
   "cell_type": "markdown",
   "id": "d5296e69",
   "metadata": {},
   "source": [
    "<div class =\"alert alert-block alert-warning\">\n",
    "Warning: ローカルスコープ内から global変数へのアクセスはコードの可読性を損なう．\n",
    "</div>"
   ]
  },
  {
   "cell_type": "markdown",
   "id": "1b7b0bf0",
   "metadata": {},
   "source": []
  }
 ],
 "metadata": {
  "kernelspec": {
   "display_name": "Julia 1.11.2",
   "language": "julia",
   "name": "julia-1.11"
  },
  "language_info": {
   "file_extension": ".jl",
   "mimetype": "application/julia",
   "name": "julia",
   "version": "1.11.2"
  }
 },
 "nbformat": 4,
 "nbformat_minor": 5
}
