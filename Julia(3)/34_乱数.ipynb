{
 "cells": [
  {
   "cell_type": "markdown",
   "id": "b87f7a5a-b5d5-4dfb-9b23-4fb4d621c815",
   "metadata": {},
   "source": [
    "# 乱数：[Random Numbers](https://docs.julialang.org/en/v1/stdlib/Random/)\n",
    "\n",
    " - `rand()` は擬似乱数アルゴリズムによりランダムな値を発生させる．（疑似乱数は本来の乱数とは異なるものであるが，ここではその違いについては考慮しない．）\n",
    "- `rand()`の引数は，発生させる乱数値の「範囲」と「個数」である．\n",
    "- デフォルトでは $[0,1]$ における一様乱数を1つ生成する．"
   ]
  },
  {
   "cell_type": "code",
   "execution_count": 1,
   "id": "fc0842d3-1338-4a70-b313-35b0aa6b966b",
   "metadata": {},
   "outputs": [
    {
     "data": {
      "text/plain": [
       "0.8855989355620622"
      ]
     },
     "execution_count": 1,
     "metadata": {},
     "output_type": "execute_result"
    }
   ],
   "source": [
    "rand() # = rand(Float64, 1) "
   ]
  },
  {
   "cell_type": "code",
   "execution_count": 2,
   "id": "0f9af9a9-b421-4776-8741-f97e5f8a4cdc",
   "metadata": {},
   "outputs": [
    {
     "data": {
      "text/plain": [
       "5-element Vector{Float64}:\n",
       " 0.07769788656408938\n",
       " 0.7816020343047696\n",
       " 0.5440875710407975\n",
       " 0.498856602833208\n",
       " 0.3115875951245184"
      ]
     },
     "execution_count": 2,
     "metadata": {},
     "output_type": "execute_result"
    }
   ],
   "source": [
    "rand(5)  # 乱数5個からなる配列を生成する"
   ]
  },
  {
   "cell_type": "code",
   "execution_count": 3,
   "id": "6267af3e-0281-43b1-ab58-4f2278df1a39",
   "metadata": {},
   "outputs": [
    {
     "data": {
      "text/plain": [
       "5-element Vector{Int64}:\n",
       " 4\n",
       " 9\n",
       " 5\n",
       " 2\n",
       " 1"
      ]
     },
     "execution_count": 3,
     "metadata": {},
     "output_type": "execute_result"
    }
   ],
   "source": [
    "rand(1:9, 5)"
   ]
  },
  {
   "cell_type": "code",
   "execution_count": 4,
   "id": "78ed7734-c21b-4d6e-8f3b-1aa5f6d9afde",
   "metadata": {},
   "outputs": [
    {
     "data": {
      "text/plain": [
       "5-element Vector{String}:\n",
       " \"a\"\n",
       " \"b\"\n",
       " \"a\"\n",
       " \"a\"\n",
       " \"a\""
      ]
     },
     "execution_count": 4,
     "metadata": {},
     "output_type": "execute_result"
    }
   ],
   "source": [
    "rand([\"a\", \"b\", \"c\"], 5)"
   ]
  },
  {
   "cell_type": "code",
   "execution_count": 5,
   "id": "d7ba94bd-4555-48b6-9304-f00411bf766c",
   "metadata": {},
   "outputs": [
    {
     "data": {
      "text/plain": [
       "5-element Vector{Char}:\n",
       " 'x': ASCII/Unicode U+0078 (category Ll: Letter, lowercase)\n",
       " 'y': ASCII/Unicode U+0079 (category Ll: Letter, lowercase)\n",
       " 'x': ASCII/Unicode U+0078 (category Ll: Letter, lowercase)\n",
       " 'z': ASCII/Unicode U+007A (category Ll: Letter, lowercase)\n",
       " 'y': ASCII/Unicode U+0079 (category Ll: Letter, lowercase)"
      ]
     },
     "execution_count": 5,
     "metadata": {},
     "output_type": "execute_result"
    }
   ],
   "source": [
    "rand(\"xyz\", 5)"
   ]
  },
  {
   "cell_type": "markdown",
   "id": "10c6052a-3bb9-416e-8574-8fd305457c93",
   "metadata": {},
   "source": [
    "### 📝 ランダム行列\n",
    "個数として tuple を与えると，乱数の多次元配列が生成される．<br>\n",
    "特に，`rand([範囲]，(m,n))` は$m \\times n$のランダム行列を生成する．"
   ]
  },
  {
   "cell_type": "code",
   "execution_count": 6,
   "id": "2bf0c5c1-fd88-4119-9f18-c32c172ac462",
   "metadata": {},
   "outputs": [
    {
     "data": {
      "text/plain": [
       "2"
      ]
     },
     "execution_count": 6,
     "metadata": {},
     "output_type": "execute_result"
    }
   ],
   "source": [
    "rand((2,5))"
   ]
  },
  {
   "cell_type": "code",
   "execution_count": 7,
   "id": "de6ef237-0b58-458f-bf3a-a67ee10265e2",
   "metadata": {},
   "outputs": [
    {
     "data": {
      "text/plain": [
       "2×5 Matrix{Float64}:\n",
       " 0.519161  0.753865  0.801028  0.265539  0.215367\n",
       " 0.845322  0.647952  0.868176  0.075895  0.812304"
      ]
     },
     "execution_count": 7,
     "metadata": {},
     "output_type": "execute_result"
    }
   ],
   "source": [
    "rand(2,5)  # 同じ"
   ]
  },
  {
   "cell_type": "markdown",
   "id": "2d391ed6-ecbb-411c-837a-cab0541cfa45",
   "metadata": {},
   "source": [
    "#### 📝`Random`パッケージ\n",
    "- 初期シードや疑似乱数アルゴリズムを変更するためには，`Random`パッケージが必要．\n",
    "- ここでは省略．"
   ]
  },
  {
   "cell_type": "code",
   "execution_count": null,
   "id": "c2b0b347-47fb-417e-816c-4b73ab1283c8",
   "metadata": {},
   "outputs": [],
   "source": []
  }
 ],
 "metadata": {
  "kernelspec": {
   "display_name": "Julia 1.6.7",
   "language": "julia",
   "name": "julia-1.6"
  },
  "language_info": {
   "file_extension": ".jl",
   "mimetype": "application/julia",
   "name": "julia",
   "version": "1.6.7"
  }
 },
 "nbformat": 4,
 "nbformat_minor": 5
}
