{
 "cells": [
  {
   "cell_type": "markdown",
   "metadata": {},
   "source": [
    "# 計算機誤差\n",
    "\n",
    "浮動小数点数は仮数部の桁数が限られているため，演算を行うたびに微小な誤差が発生する．\n",
    "\n",
    "浮動小数点数演算から生じる誤差はしばしば**計算機誤差**と総称される．\n",
    "\n",
    "## 丸め誤差\n",
    "浮動小数点数どうしを四則演算して得られた値は浮動小数点数になるとは限らない．"
   ]
  },
  {
   "cell_type": "code",
   "execution_count": null,
   "metadata": {},
   "outputs": [
    {
     "data": {
      "text/plain": [
       "1.2345679009876545"
      ]
     },
     "metadata": {},
     "output_type": "display_data"
    }
   ],
   "source": [
    "1.111111111^2"
   ]
  },
  {
   "cell_type": "markdown",
   "metadata": {},
   "source": [
    "正確な値は $1.111111111^2 = 1.234567900987654321$ であり，この場合は下4桁分が切り捨てられている．\n",
    "\n",
    "このように演算結果の値に近い浮動小数点数への近似を **丸め** (rounding) といい，\n",
    "その際に生じる誤差を **丸め誤差** (rounding error)  という．\n",
    "\n",
    "丸め誤差は浮動小数点数の計算において，ほぼ必然的に発生する．\n",
    "丸め方には，正/負の無限大の方向，原点方向，最近点への丸めなどがある．"
   ]
  },
  {
   "cell_type": "markdown",
   "metadata": {},
   "source": [
    "## 情報落ち\n",
    "浮動小数点数では，相対的に極めて小さな値（正確には絶対値が machine epsilonより小さな値）を加算しても，\n",
    "丸めによって値が変化しないことがある．\n",
    "これを情報落ちという．\n",
    "\n",
    "倍精度のmachine epsilonは `eps(Float64)` or `eps(1.0)`などで取得できる．"
   ]
  },
  {
   "cell_type": "code",
   "execution_count": null,
   "metadata": {},
   "outputs": [
    {
     "data": {
      "text/plain": [
       "2.220446049250313e-16"
      ]
     },
     "metadata": {},
     "output_type": "display_data"
    }
   ],
   "source": [
    "ϵ = eps(Float64)"
   ]
  },
  {
   "cell_type": "code",
   "execution_count": null,
   "metadata": {},
   "outputs": [
    {
     "data": {
      "text/plain": [
       "1.0"
      ]
     },
     "metadata": {},
     "output_type": "display_data"
    }
   ],
   "source": [
    "1.0 + 1e-16"
   ]
  },
  {
   "cell_type": "markdown",
   "metadata": {},
   "source": [
    "この例では情報落ちはやむを得ないが，\n",
    "計算順序を変えることで情報落ちを回避できることもある．"
   ]
  },
  {
   "cell_type": "code",
   "execution_count": null,
   "metadata": {},
   "outputs": [
    {
     "data": {
      "text/plain": [
       "0.0"
      ]
     },
     "metadata": {},
     "output_type": "display_data"
    }
   ],
   "source": [
    "(1e-16 + 1.0) - 1.0"
   ]
  },
  {
   "cell_type": "code",
   "execution_count": null,
   "metadata": {},
   "outputs": [
    {
     "data": {
      "text/plain": [
       "1.0e-16"
      ]
     },
     "metadata": {},
     "output_type": "display_data"
    }
   ],
   "source": [
    "1e-16 + (1.0 - 1.0)"
   ]
  },
  {
   "cell_type": "markdown",
   "metadata": {},
   "source": [
    "##  桁落ち\n",
    "近い値の２つの浮動小数点数を引き算すると有効桁数が減少する．これを**桁落ち**と呼ぶ．"
   ]
  },
  {
   "cell_type": "code",
   "execution_count": 2,
   "metadata": {},
   "outputs": [
    {
     "data": {
      "text/plain": [
       "9.99999993922529e-9"
      ]
     },
     "metadata": {},
     "output_type": "display_data"
    }
   ],
   "source": [
    "1.23456789 - 1.23456788"
   ]
  },
  {
   "cell_type": "markdown",
   "metadata": {},
   "source": [
    "有効数字9桁どうしの引き算をした結果，有効数字は1桁になってしまった．\n",
    "\n",
    "これも計算の仕方を工夫することで回避できることがある．"
   ]
  },
  {
   "cell_type": "markdown",
   "metadata": {},
   "source": [
    "## 桁落ちの回避：2次方程式の解の公式\n",
    "\n",
    " $b$ を正の実数とする．\n",
    "2次方程式　$f(x) = x^2 - 2bx + 1 = 0$ の解は，解の公式より\n",
    "$$\n",
    "  \\alpha := b - \\sqrt{b^2 - 1}, \\quad \\beta := b + \\sqrt{b^2 - 1} \n",
    "$$\n",
    "と表される．\n",
    "$b^2 \\gg 1$の場合，\n",
    "$\\alpha$をこのまま計算すると， $\\sqrt{b^2 - 1} \\approx b$ であるから桁落ちが生じる．"
   ]
  },
  {
   "cell_type": "code",
   "execution_count": null,
   "metadata": {},
   "outputs": [
    {
     "data": {
      "text/plain": [
       "0.0"
      ]
     },
     "metadata": {},
     "output_type": "display_data"
    }
   ],
   "source": [
    "b = 1e8  # 1e8 = 10^8 \n",
    "alpha = b - sqrt(b^2 - 1)"
   ]
  },
  {
   "cell_type": "markdown",
   "metadata": {},
   "source": [
    "計算値は `0.0` であるが，これが解ではないことは代入してみれば明らかである．\n",
    "\n",
    "次のように式変形してから計算すると，真値に近い値が得られる．\n",
    "$$\n",
    "b - \\sqrt{b^2 - 1}  = \\frac{1}{b + \\sqrt{b^2 - 1}} \n",
    "$$\n"
   ]
  },
  {
   "cell_type": "code",
   "execution_count": null,
   "metadata": {},
   "outputs": [
    {
     "data": {
      "text/plain": [
       "5.0e-9"
      ]
     },
     "metadata": {},
     "output_type": "display_data"
    }
   ],
   "source": [
    "b = 1e8\n",
    "x = 1 / (b + sqrt(b^2 - 1))"
   ]
  },
  {
   "cell_type": "markdown",
   "metadata": {},
   "source": [
    "<div class=\"alert alert-warning\">\n",
    "Warning:  上の計算式は万能ではなく，b が負 かつ |b|が極めて大きい場合，桁落ちが発生する．\n",
    "</div>\n",
    "\n",
    "    "
   ]
  },
  {
   "cell_type": "markdown",
   "metadata": {},
   "source": []
  }
 ],
 "metadata": {
  "kernelspec": {
   "display_name": "Julia 1.11.2",
   "language": "julia",
   "name": "julia-1.11"
  },
  "language_info": {
   "file_extension": ".jl",
   "mimetype": "application/julia",
   "name": "julia",
   "version": "1.11.2"
  }
 },
 "nbformat": 4,
 "nbformat_minor": 2
}
