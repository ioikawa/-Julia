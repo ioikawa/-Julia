{
 "cells": [
  {
   "cell_type": "markdown",
   "metadata": {},
   "source": [
    "# 計算機誤差\n",
    "\n",
    "浮動小数点数は仮数部の桁数が限られているため，演算を行うたびに微小な誤差が発生する．\n",
    "\n",
    "浮動小数点数演算から生じる誤差はしばしば**計算機誤差**と総称される．\n",
    "\n",
    "## 丸め誤差\n",
    "浮動小数点数どうしを四則演算して得られた値は浮動小数点数になるとは限らない．"
   ]
  },
  {
   "cell_type": "code",
   "execution_count": 4,
   "metadata": {},
   "outputs": [
    {
     "data": {
      "text/plain": [
       "1.2345679009876545"
      ]
     },
     "metadata": {},
     "output_type": "display_data"
    }
   ],
   "source": [
    "1.111111111^2"
   ]
  },
  {
   "cell_type": "markdown",
   "metadata": {},
   "source": [
    "正確な値は $1.111111111^2 = 1.234567900987654321$ であり，この場合は下4桁分が切り捨てられている．\n",
    "\n",
    "このように演算結果の値に近い浮動小数点数への近似を **丸め** (rounding) といい，\n",
    "その際に生じる誤差を **丸め誤差** (rounding error)  という．\n",
    "\n",
    "丸め誤差は浮動小数点数の計算において，ほぼ必然的に発生する．\n",
    "丸め方には，正/負の無限大の方向，原点方向，最近点への丸めなどがある．"
   ]
  },
  {
   "cell_type": "markdown",
   "metadata": {},
   "source": [
    "## 情報落ち\n",
    "`1.0` と，その右隣にある浮動小数点数との距離を machine epsilon という．\n",
    "\n",
    "倍精度の場合，先頭の桁を除いた仮数部が52bitなのでmachine epsilon は $0.00 \\cdots 01_2 = 2^{-52}$ である．\n",
    "\n",
    "Juliaでは，倍精度のmachine epsilonは `eps(1.0)` `eps(Float64)` や などで取得できる．"
   ]
  },
  {
   "cell_type": "code",
   "execution_count": 5,
   "metadata": {},
   "outputs": [
    {
     "data": {
      "text/plain": [
       "2.220446049250313e-16"
      ]
     },
     "metadata": {},
     "output_type": "display_data"
    }
   ],
   "source": [
    "ϵ = eps(1.0)"
   ]
  },
  {
   "cell_type": "markdown",
   "metadata": {},
   "source": [
    "machine epsilon より小さな値を加算したとき，丸めによって値が変化しないことがある．"
   ]
  },
  {
   "cell_type": "code",
   "execution_count": 6,
   "metadata": {},
   "outputs": [
    {
     "name": "stdout",
     "output_type": "stream",
     "text": [
      "1.0 + eps(1.0) = 1.0000000000000002\n",
      "1.0 + 1.0e-16 = 1.0\n"
     ]
    },
    {
     "data": {
      "text/plain": [
       "1.0"
      ]
     },
     "metadata": {},
     "output_type": "display_data"
    }
   ],
   "source": [
    "@show 1.0 + eps(1.0) \n",
    "@show 1.0 + 1e-16"
   ]
  },
  {
   "cell_type": "markdown",
   "metadata": {},
   "source": [
    "![machine-epsilon](machine-epsilon.svg)\n",
    "\n",
    "同様に，浮動小数点数 `x` の右隣りの浮動小数点数は `x + eps(x)` であるから，\n",
    "`x` に `eps(x)`より小さな値を加算しても，丸めによって値が変化しないことがある．\n",
    "\n",
    "これを**情報落ち**という．\n",
    "\n",
    "\n",
    "`1.0 + 1e-16` の計算で情報落ちすることは避けることはできない．\n",
    "\n",
    "しかし，計算順序を変えることで情報落ちを回避できる場合もある．"
   ]
  },
  {
   "cell_type": "code",
   "execution_count": 7,
   "metadata": {},
   "outputs": [
    {
     "data": {
      "text/plain": [
       "0.0"
      ]
     },
     "metadata": {},
     "output_type": "display_data"
    }
   ],
   "source": [
    "(1e-16 + 1.0) - 1.0"
   ]
  },
  {
   "cell_type": "code",
   "execution_count": 8,
   "metadata": {},
   "outputs": [
    {
     "data": {
      "text/plain": [
       "1.0e-16"
      ]
     },
     "metadata": {},
     "output_type": "display_data"
    }
   ],
   "source": [
    "1e-16 + (1.0 - 1.0)"
   ]
  },
  {
   "cell_type": "markdown",
   "metadata": {},
   "source": [
    "##  桁落ち\n",
    "$b$ を正の実数とする．\n",
    "2次方程式　$f(x) = x^2 - 2bx + 1 = 0$ の解は，解の公式より\n",
    "$$\n",
    "  \\alpha := b - \\sqrt{b^2 - 1}, \\quad \\beta := b + \\sqrt{b^2 - 1} \n",
    "$$\n",
    "と表される．\n",
    "$b^2 \\gg 1$の場合，\n",
    "$\\alpha$をこのまま計算すると， $\\sqrt{b^2 - 1} \\approx b$ であるから仮数部が打ち消し合って有効桁数が減少する．"
   ]
  },
  {
   "cell_type": "code",
   "execution_count": 9,
   "metadata": {},
   "outputs": [
    {
     "data": {
      "text/plain": [
       "0.0"
      ]
     },
     "metadata": {},
     "output_type": "display_data"
    }
   ],
   "source": [
    "b = 1e8  # 1e8 = 10^8 \n",
    "alpha = b - sqrt(b^2 - 1)"
   ]
  },
  {
   "cell_type": "markdown",
   "metadata": {},
   "source": [
    "計算値は `0.0` であるが，これが解ではないことは代入してみれば明らかである．\n",
    "\n",
    "このように値が近い２つの浮動小数点数の減算により有効桁数が減少することを**桁落ち**と呼ぶ．\n",
    "\n",
    "これも計算の仕方を工夫することで回避できることがある．"
   ]
  },
  {
   "cell_type": "markdown",
   "metadata": {},
   "source": [
    "## 桁落ちの回避"
   ]
  },
  {
   "cell_type": "markdown",
   "metadata": {},
   "source": [
    "\n",
    "\n",
    "次のように式変形してから計算すると，真値に近い値が得られる．\n",
    "$$\n",
    "b - \\sqrt{b^2 - 1}  = \\frac{1}{b + \\sqrt{b^2 - 1}} \n",
    "$$\n"
   ]
  },
  {
   "cell_type": "code",
   "execution_count": 10,
   "metadata": {},
   "outputs": [
    {
     "data": {
      "text/plain": [
       "5.0e-9"
      ]
     },
     "metadata": {},
     "output_type": "display_data"
    }
   ],
   "source": [
    "b = 1e8\n",
    "x = 1 / (b + sqrt(b^2 - 1))"
   ]
  },
  {
   "cell_type": "markdown",
   "metadata": {},
   "source": [
    "<div class=\"alert alert-warning\">\n",
    "Warning:  上の計算式は万能ではなく，b<0 かつ |b|が極めて大きい場合，桁落ちが発生する．\n",
    "</div>\n",
    "\n",
    "    "
   ]
  },
  {
   "cell_type": "markdown",
   "metadata": {},
   "source": []
  }
 ],
 "metadata": {
  "kernelspec": {
   "display_name": "Julia 1.11.2",
   "language": "julia",
   "name": "julia-1.11"
  },
  "language_info": {
   "file_extension": ".jl",
   "mimetype": "application/julia",
   "name": "julia",
   "version": "1.11.2"
  }
 },
 "nbformat": 4,
 "nbformat_minor": 2
}
