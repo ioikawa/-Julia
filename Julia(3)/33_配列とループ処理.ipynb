{
 "cells": [
  {
   "cell_type": "markdown",
   "id": "a62fbb38-cfb9-47e9-8b98-9afae482dfc7",
   "metadata": {},
   "source": [
    "# 配列とループ処理\n",
    "\n",
    "## 配列によるforループ\n",
    "`A`を配列とする．for ループに範囲において`x in A`と書くと，\n",
    "`x`が配列`A`の先頭から末尾へと動くようなループが書ける．"
   ]
  },
  {
   "cell_type": "code",
   "execution_count": 1,
   "id": "e36072a2-21cb-4fec-8e44-5bd7fc55ba5d",
   "metadata": {},
   "outputs": [
    {
     "name": "stdout",
     "output_type": "stream",
     "text": [
      "x = 1\n",
      "x = [2]\n",
      "x = \"three\"\n"
     ]
    }
   ],
   "source": [
    "A = [1,[2],\"three\"] \n",
    "\n",
    "for x in A \n",
    "    @show x\n",
    "end"
   ]
  },
  {
   "cell_type": "markdown",
   "id": "b52da722-14b8-48cb-a282-470a2facbffe",
   "metadata": {},
   "source": [
    "## 要素番号の取得: `enumerate`\n",
    "カウンタ変数が配列内を動くとき，要素の中身だけでなく番号も取得したい場合もある．\n",
    "その場合は，`enumerate()` を使う．"
   ]
  },
  {
   "cell_type": "code",
   "execution_count": 2,
   "id": "c8bec8ac-15ba-4508-956b-f45afce6391e",
   "metadata": {},
   "outputs": [
    {
     "name": "stdout",
     "output_type": "stream",
     "text": [
      "(i, x) = (1, 1)\n",
      "(i, x) = (2, [2])\n",
      "(i, x) = (3, \"three\")\n"
     ]
    }
   ],
   "source": [
    "A = [1,[2],\"three\"] \n",
    "\n",
    "for (i,x) in enumerate(A) \n",
    "    @show i,x\n",
    "end"
   ]
  },
  {
   "cell_type": "markdown",
   "id": "d0f23b40-faaa-4636-b809-19f2e767592f",
   "metadata": {},
   "source": [
    "## 内包表記 (Comprehensions)\n",
    "ブラケット `[ ... ]` の内部に `for` ループを記述することで配列を生成できる．"
   ]
  },
  {
   "cell_type": "code",
   "execution_count": 3,
   "id": "cf97aba6-5c14-4a13-bf5c-3cbfdaf2e63d",
   "metadata": {},
   "outputs": [
    {
     "data": {
      "text/plain": [
       "5-element Vector{Int64}:\n",
       "  1\n",
       "  4\n",
       "  9\n",
       " 16\n",
       " 25"
      ]
     },
     "execution_count": 3,
     "metadata": {},
     "output_type": "execute_result"
    }
   ],
   "source": [
    "A = [i^2 for i in 1:5]  # =[1^2, 2^2, 3^2, 4^2, 5^2]"
   ]
  },
  {
   "cell_type": "markdown",
   "id": "a7bac6a5-1366-4bbb-b47f-2d385273618e",
   "metadata": {},
   "source": [
    "#### Note: BitVector による部分配列の抽出\n",
    "例として，実数の要素からなる配列 `A` から，正の値をもつ要素だけを取り出すことを考える．\n",
    "これは次のようにインデックスに条件式を与えることで実現できる．"
   ]
  },
  {
   "cell_type": "code",
   "execution_count": 4,
   "id": "cf0f8fe2-7d83-40b1-adbb-bbeb161013de",
   "metadata": {},
   "outputs": [
    {
     "data": {
      "text/plain": [
       "2-element Vector{Int64}:\n",
       " 2\n",
       " 4"
      ]
     },
     "execution_count": 4,
     "metadata": {},
     "output_type": "execute_result"
    }
   ],
   "source": [
    "A = [0, -1, 2, -3, 4, -5];  # a_i = (-1)^i\n",
    "A[A .> 0]"
   ]
  },
  {
   "cell_type": "markdown",
   "id": "1e2daa91-ad4d-48e6-b019-a65b46191515",
   "metadata": {},
   "source": [
    " これの仕組みをもう少し具体的に見てみよう．\n",
    " \n",
    "配列のインデックスに，`0` or `1` の要素のみを含む配列\n",
    "`BitVector`を渡すと，`1`の要素に対応する部分配列を抽出できる．"
   ]
  },
  {
   "cell_type": "code",
   "execution_count": 5,
   "id": "b67f2a77-305d-45a0-9b7d-b68cefc3cc43",
   "metadata": {},
   "outputs": [
    {
     "data": {
      "text/plain": [
       "3-element Vector{Int64}:\n",
       " -3\n",
       "  4\n",
       " -5"
      ]
     },
     "execution_count": 5,
     "metadata": {},
     "output_type": "execute_result"
    }
   ],
   "source": [
    "idx = BitVector([0,0,0,1,1,1])   \n",
    "A[idx]  "
   ]
  },
  {
   "cell_type": "markdown",
   "id": "e7668ea7-1c77-433f-b01d-ae78265311c8",
   "metadata": {},
   "source": [
    " `A .> 0` は`A`の要素ごとに 条件式`>0`を適用し，`true`の場合は`1`を，`false`の場合は`0`を返す．\n",
    "結果は `BitVector`型の配列となる．"
   ]
  },
  {
   "cell_type": "code",
   "execution_count": 6,
   "id": "9d5573b7-f751-4e2d-98eb-a691ce8191bd",
   "metadata": {},
   "outputs": [
    {
     "data": {
      "text/plain": [
       "6-element BitVector:\n",
       " 0\n",
       " 0\n",
       " 1\n",
       " 0\n",
       " 1\n",
       " 0"
      ]
     },
     "execution_count": 6,
     "metadata": {},
     "output_type": "execute_result"
    }
   ],
   "source": [
    "A .> 0"
   ]
  },
  {
   "cell_type": "markdown",
   "id": "0c462be3-e1fe-4c01-9b6a-79112c53d885",
   "metadata": {},
   "source": [
    "#### Note: 配列から特定の値を除去する\n",
    "配列から `missing`（統計データの欠損を表す値）を取り除く処理を考える．\n",
    "値が`missing`かどうかの判定には`ismissing()`を用いる．"
   ]
  },
  {
   "cell_type": "code",
   "execution_count": 7,
   "id": "f5e9b57f-bef8-4931-aae7-d1dee6a3a24d",
   "metadata": {},
   "outputs": [
    {
     "data": {
      "text/plain": [
       "false"
      ]
     },
     "execution_count": 7,
     "metadata": {},
     "output_type": "execute_result"
    }
   ],
   "source": [
    "ismissing(missing)\n",
    "ismissing(100)"
   ]
  },
  {
   "cell_type": "markdown",
   "id": "fa0e8b83-1a47-473c-8669-b76a480c7fed",
   "metadata": {},
   "source": [
    " `.ismissin.(A)`で `missing`を含む要素の`BitVector`が得られるので，これを\n",
    "`.!` で反転させて抽出する．"
   ]
  },
  {
   "cell_type": "code",
   "execution_count": 8,
   "id": "da9b3622-3507-4942-b8cd-20a46b85ecff",
   "metadata": {},
   "outputs": [
    {
     "data": {
      "text/plain": [
       "5-element Vector{Union{Missing, Int64}}:\n",
       " 1\n",
       " 2\n",
       "  missing\n",
       " 4\n",
       "  missing"
      ]
     },
     "execution_count": 8,
     "metadata": {},
     "output_type": "execute_result"
    }
   ],
   "source": [
    "A = [1,2,missing,4,missing]"
   ]
  },
  {
   "cell_type": "code",
   "execution_count": 9,
   "id": "edf6e5c9-e10e-4109-ace0-9bca05244821",
   "metadata": {},
   "outputs": [
    {
     "data": {
      "text/plain": [
       "3-element Vector{Union{Missing, Int64}}:\n",
       " 1\n",
       " 2\n",
       " 4"
      ]
     },
     "execution_count": 9,
     "metadata": {},
     "output_type": "execute_result"
    }
   ],
   "source": [
    "A[.!ismissing.(A)]   "
   ]
  },
  {
   "cell_type": "markdown",
   "id": "0492fecf-74f0-4ad9-b5e1-baaddd56e2f7",
   "metadata": {},
   "source": [
    "`.!ismissing.`は `(!ismissing).`と書くこともできるし，\n",
    "`map()`を使ったほうが場合によっては見やすい．"
   ]
  },
  {
   "cell_type": "code",
   "execution_count": 10,
   "id": "629490e0-82f0-4689-8df3-197ac962cc20",
   "metadata": {},
   "outputs": [
    {
     "data": {
      "text/plain": [
       "3-element Vector{Union{Missing, Int64}}:\n",
       " 1\n",
       " 2\n",
       " 4"
      ]
     },
     "execution_count": 10,
     "metadata": {},
     "output_type": "execute_result"
    }
   ],
   "source": [
    "A = [1,2,missing,4,missing]\n",
    "A[(!ismissing).(A)]   \n",
    "A[map(!, ismissing.(A))]   "
   ]
  },
  {
   "cell_type": "code",
   "execution_count": null,
   "id": "8cfa5836-584f-4ef2-9902-224b339fcd17",
   "metadata": {},
   "outputs": [],
   "source": []
  }
 ],
 "metadata": {
  "kernelspec": {
   "display_name": "Julia 1.6.7",
   "language": "julia",
   "name": "julia-1.6"
  },
  "language_info": {
   "file_extension": ".jl",
   "mimetype": "application/julia",
   "name": "julia",
   "version": "1.6.7"
  }
 },
 "nbformat": 4,
 "nbformat_minor": 5
}
