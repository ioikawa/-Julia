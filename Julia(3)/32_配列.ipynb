{
 "cells": [
  {
   "cell_type": "markdown",
   "id": "b8bc996d-00e4-41e6-9a1a-cc616a4fede5",
   "metadata": {},
   "source": [
    "# 配列: [Array](https://docs.julialang.org/en/v1/manual/arrays/)\n",
    "次のように複数の変数を1列に並べて， `[...]` で囲ったものを配列という．"
   ]
  },
  {
   "cell_type": "code",
   "execution_count": 1,
   "id": "5bcc0140-7f8b-4ac3-ac47-cd5caad3487d",
   "metadata": {},
   "outputs": [
    {
     "data": {
      "text/plain": [
       "4-element Vector{Any}:\n",
       " 1\n",
       "  \"two\"\n",
       " 3\n",
       "  \"d\""
      ]
     },
     "execution_count": 1,
     "metadata": {},
     "output_type": "execute_result"
    }
   ],
   "source": [
    "A = [1, \"two\" , 3, \"d\"]"
   ]
  },
  {
   "cell_type": "markdown",
   "id": "87e842b1-063d-46d6-b88b-b5087f8e3df5",
   "metadata": {},
   "source": [
    "配列の左から`i`番目の要素にアクセスするには，`A[i]`と書く．"
   ]
  },
  {
   "cell_type": "code",
   "execution_count": 2,
   "id": "f64ca250-caee-4209-8158-67255b9e5564",
   "metadata": {},
   "outputs": [
    {
     "name": "stdout",
     "output_type": "stream",
     "text": [
      "A[1] = 1\n",
      "A[2] = \"two\"\n",
      "A[3] = 3\n",
      "A[4] = \"d\"\n"
     ]
    },
    {
     "data": {
      "text/plain": [
       "\"d\""
      ]
     },
     "execution_count": 2,
     "metadata": {},
     "output_type": "execute_result"
    }
   ],
   "source": [
    "@show A[1]\n",
    "@show A[2]\n",
    "@show A[3]\n",
    "@show A[4]"
   ]
  },
  {
   "cell_type": "markdown",
   "id": "e96c5c98-3abc-42f6-98d4-dcae9ab4f1f6",
   "metadata": {},
   "source": [
    "配列の先頭と末尾の要素はそれぞれ `A[begin]`, `A[end]`と書いてアクセスできる．"
   ]
  },
  {
   "cell_type": "code",
   "execution_count": 3,
   "id": "5b53ac6a-17c2-4dbc-90ff-3794699737e4",
   "metadata": {},
   "outputs": [
    {
     "name": "stdout",
     "output_type": "stream",
     "text": [
      "A[begin] = 1\n",
      "A[end] = \"d\"\n",
      "A[end - 1] = 3\n"
     ]
    },
    {
     "data": {
      "text/plain": [
       "3"
      ]
     },
     "execution_count": 3,
     "metadata": {},
     "output_type": "execute_result"
    }
   ],
   "source": [
    "@show A[begin]\n",
    "@show A[end]\n",
    "@show A[end-1] # 末尾から１つ前"
   ]
  },
  {
   "cell_type": "markdown",
   "id": "ff147404-0e1f-4ed4-a74d-3149e8c95f01",
   "metadata": {},
   "source": [
    "## 配列サイズ\n",
    "配列のサイズ（要素数）は `lendth()`で取得する"
   ]
  },
  {
   "cell_type": "code",
   "execution_count": 4,
   "id": "2fc7c26f-ad6c-4b9c-bd8b-2c31c955ae40",
   "metadata": {},
   "outputs": [
    {
     "data": {
      "text/plain": [
       "4"
      ]
     },
     "execution_count": 4,
     "metadata": {},
     "output_type": "execute_result"
    }
   ],
   "source": [
    "length(A)  "
   ]
  },
  {
   "cell_type": "markdown",
   "id": "f8dcc244-b21a-4e50-924c-f0e02e17f49c",
   "metadata": {},
   "source": [
    "## コロンによる配列の抜き出し\n",
    "例として整数の連番からなる配列を考える．"
   ]
  },
  {
   "cell_type": "code",
   "execution_count": 5,
   "id": "1eaddc35-87ee-419b-9ad1-f1bb1e865638",
   "metadata": {},
   "outputs": [
    {
     "data": {
      "text/plain": [
       "10-element Vector{Int64}:\n",
       "  1\n",
       "  2\n",
       "  3\n",
       "  4\n",
       "  5\n",
       "  6\n",
       "  7\n",
       "  8\n",
       "  9\n",
       " 10"
      ]
     },
     "execution_count": 5,
     "metadata": {},
     "output_type": "execute_result"
    }
   ],
   "source": [
    "A = collect(1:10)     # A = [1,2, ..., 10]"
   ]
  },
  {
   "cell_type": "markdown",
   "id": "1ae210fd-72a0-4317-8db8-b67a07560c58",
   "metadata": {},
   "source": [
    "`1:10`は1,2,...,10 という範囲を表す．\n",
    "`collect()`で範囲が配列に変換されたということである．\n",
    "\n",
    "次のように書いても同じである．"
   ]
  },
  {
   "cell_type": "code",
   "execution_count": 6,
   "id": "7709d40f-0efc-4262-ace4-4e634ae3b8d9",
   "metadata": {},
   "outputs": [
    {
     "data": {
      "text/plain": [
       "10-element Vector{Int64}:\n",
       "  1\n",
       "  2\n",
       "  3\n",
       "  4\n",
       "  5\n",
       "  6\n",
       "  7\n",
       "  8\n",
       "  9\n",
       " 10"
      ]
     },
     "execution_count": 6,
     "metadata": {},
     "output_type": "execute_result"
    }
   ],
   "source": [
    "A = Vector(1:10)"
   ]
  },
  {
   "cell_type": "markdown",
   "id": "b7018fc6-b852-4ebc-a8f2-e1cc41b650d8",
   "metadata": {},
   "source": [
    "配列の一部分にまとめてアクセスしたい場合は，`A[範囲]`の形で書く．"
   ]
  },
  {
   "cell_type": "code",
   "execution_count": 7,
   "id": "eb049412-dddf-4078-9256-6ddda3fea2fb",
   "metadata": {},
   "outputs": [
    {
     "name": "stdout",
     "output_type": "stream",
     "text": [
      "A[3:6] = [3, 4, 5, 6]\n",
      "A[1:3:end] = [1, 4, 7, 10]\n"
     ]
    },
    {
     "data": {
      "text/plain": [
       "4-element Vector{Int64}:\n",
       "  1\n",
       "  4\n",
       "  7\n",
       " 10"
      ]
     },
     "execution_count": 7,
     "metadata": {},
     "output_type": "execute_result"
    }
   ],
   "source": [
    "@show A[3:6]      \n",
    "@show A[1:3:end]    # 1 から end まで 3刻み"
   ]
  },
  {
   "cell_type": "markdown",
   "id": "9e4f873f-9e56-437f-8fb7-a6af50c2c33b",
   "metadata": {},
   "source": [
    "## 配列の連結\n",
    "２つの配列`A`, `B` を連結させる場合は，`[A; B]` と書けば良い．"
   ]
  },
  {
   "cell_type": "code",
   "execution_count": 8,
   "id": "d6e745b3-20ad-48d9-b85c-e547e56613d9",
   "metadata": {},
   "outputs": [
    {
     "data": {
      "text/plain": [
       "6-element Vector{Any}:\n",
       " 1\n",
       " 2\n",
       " 3\n",
       "  \"a\"\n",
       "  \"b\"\n",
       "  \"c\""
      ]
     },
     "execution_count": 8,
     "metadata": {},
     "output_type": "execute_result"
    }
   ],
   "source": [
    "A = [1,2,3]\n",
    "B = [\"a\", \"b\", \"c\"]\n",
    "[A; B] "
   ]
  },
  {
   "cell_type": "markdown",
   "id": "cc7c8c9e-9446-499d-a29d-502abceb29cf",
   "metadata": {
    "tags": []
   },
   "source": [
    "`;` は改行に相当すると解釈でき，次のように書いても同じである．"
   ]
  },
  {
   "cell_type": "code",
   "execution_count": 9,
   "id": "448440fd-ed80-49e8-8762-25735f9439ea",
   "metadata": {},
   "outputs": [
    {
     "data": {
      "text/plain": [
       "6-element Vector{Any}:\n",
       " 1\n",
       " 2\n",
       " 3\n",
       "  \"a\"\n",
       "  \"b\"\n",
       "  \"c\""
      ]
     },
     "execution_count": 9,
     "metadata": {},
     "output_type": "execute_result"
    }
   ],
   "source": [
    "[A\n",
    " B]"
   ]
  },
  {
   "cell_type": "markdown",
   "id": "0d51a588-f508-405d-a238-729766b11d10",
   "metadata": {},
   "source": [
    "あるいは `vcat()` を用いてもよい．"
   ]
  },
  {
   "cell_type": "code",
   "execution_count": 10,
   "id": "b29cd379-cf16-4f0f-8c0f-25b0d09bcdb0",
   "metadata": {},
   "outputs": [
    {
     "data": {
      "text/plain": [
       "6-element Vector{Any}:\n",
       " 1\n",
       " 2\n",
       " 3\n",
       "  \"a\"\n",
       "  \"b\"\n",
       "  \"c\""
      ]
     },
     "execution_count": 10,
     "metadata": {},
     "output_type": "execute_result"
    }
   ],
   "source": [
    "vcat(A,B)"
   ]
  },
  {
   "cell_type": "markdown",
   "id": "20ef544c-f19d-4603-b66d-781dc68d546c",
   "metadata": {},
   "source": [
    "## 要素の push と pop\n",
    "配列の末尾に要素を追加するには `push!(配列, 追加する要素)`を用いる．\n",
    "関数名に`!`がついているのは，引数を変更する関数であることを表している．"
   ]
  },
  {
   "cell_type": "code",
   "execution_count": 11,
   "id": "7ab80b21-160c-4866-abb8-12beea2c0fb3",
   "metadata": {},
   "outputs": [
    {
     "data": {
      "text/plain": [
       "3-element Vector{Int64}:\n",
       " 1\n",
       " 2\n",
       " 3"
      ]
     },
     "execution_count": 11,
     "metadata": {},
     "output_type": "execute_result"
    }
   ],
   "source": [
    "A = [1,2,3]"
   ]
  },
  {
   "cell_type": "code",
   "execution_count": 12,
   "id": "dd6314e3-e848-4116-9913-9ce21a7d7c3e",
   "metadata": {},
   "outputs": [
    {
     "data": {
      "text/plain": [
       "4-element Vector{Int64}:\n",
       "   1\n",
       "   2\n",
       "   3\n",
       " 100"
      ]
     },
     "execution_count": 12,
     "metadata": {},
     "output_type": "execute_result"
    }
   ],
   "source": [
    "push!(A, 100)"
   ]
  },
  {
   "cell_type": "markdown",
   "id": "f195ba2f-7f4a-4657-bd72-4e6396875bfb",
   "metadata": {},
   "source": [
    "配列の末尾から要素を取り出すには `pop!`を用いる．"
   ]
  },
  {
   "cell_type": "code",
   "execution_count": 13,
   "id": "5fcc1970-58a8-4a3d-ae90-67f8068a7f7c",
   "metadata": {},
   "outputs": [
    {
     "data": {
      "text/plain": [
       "100"
      ]
     },
     "execution_count": 13,
     "metadata": {},
     "output_type": "execute_result"
    }
   ],
   "source": [
    "pop!(A)"
   ]
  },
  {
   "cell_type": "code",
   "execution_count": 14,
   "id": "9e1c49be-de42-4464-b1ca-cde30e914c5c",
   "metadata": {},
   "outputs": [
    {
     "name": "stdout",
     "output_type": "stream",
     "text": [
      "A = [1, 2, 3]\n"
     ]
    },
    {
     "data": {
      "text/plain": [
       "3-element Vector{Int64}:\n",
       " 1\n",
       " 2\n",
       " 3"
      ]
     },
     "execution_count": 14,
     "metadata": {},
     "output_type": "execute_result"
    }
   ],
   "source": [
    "@show A  # 取り出したものは無くなっているはず"
   ]
  },
  {
   "cell_type": "markdown",
   "id": "1a94afab-c90b-4a12-a092-8a42267d7b68",
   "metadata": {},
   "source": [
    "一部分を取り出したい場合は`splice!()`が使える．"
   ]
  },
  {
   "cell_type": "code",
   "execution_count": 15,
   "id": "abe556ad-43d8-4e5a-b2a8-55c318a5062d",
   "metadata": {},
   "outputs": [
    {
     "data": {
      "text/plain": [
       "3-element Vector{Int64}:\n",
       " 2\n",
       " 3\n",
       " 4"
      ]
     },
     "execution_count": 15,
     "metadata": {},
     "output_type": "execute_result"
    }
   ],
   "source": [
    "A = [1,2,3,4,5]\n",
    "splice!(A,2:4)   # A[2:4]を取り出す"
   ]
  },
  {
   "cell_type": "code",
   "execution_count": 16,
   "id": "0f48018c-a56c-4dce-902e-944fd3704447",
   "metadata": {},
   "outputs": [
    {
     "name": "stdout",
     "output_type": "stream",
     "text": [
      "A = [1, 5]\n"
     ]
    },
    {
     "data": {
      "text/plain": [
       "2-element Vector{Int64}:\n",
       " 1\n",
       " 5"
      ]
     },
     "execution_count": 16,
     "metadata": {},
     "output_type": "execute_result"
    }
   ],
   "source": [
    "@show A   # 確認のため表示．取り出した部分は残っていない"
   ]
  },
  {
   "cell_type": "markdown",
   "id": "45f743f4-f6e8-4ce7-9c4a-6a8842907b7e",
   "metadata": {},
   "source": [
    "## 配列に対する関数\n",
    "Juliaでは，配列を渡すと総和を返す関数 `sum()` などが予め用意されている．"
   ]
  },
  {
   "cell_type": "code",
   "execution_count": 17,
   "id": "41ea9319-6630-4a29-963f-83c004f5288a",
   "metadata": {
    "tags": []
   },
   "outputs": [
    {
     "name": "stdout",
     "output_type": "stream",
     "text": [
      "sum(A) = 15\n",
      "prod(A) = 120\n",
      "maximum(A) = 5\n",
      "minimum(A) = 1\n"
     ]
    },
    {
     "data": {
      "text/plain": [
       "1"
      ]
     },
     "execution_count": 17,
     "metadata": {},
     "output_type": "execute_result"
    }
   ],
   "source": [
    "A = [1,2,3,4,5]\n",
    "@show sum(A)      # 配列の要素の総和\n",
    "@show prod(A)     # 総乗\n",
    "@show maximum(A)  # 最大値\n",
    "@show minimum(A)  # 最小値"
   ]
  },
  {
   "cell_type": "markdown",
   "id": "33b89566-621f-4a53-826c-658eaea48172",
   "metadata": {
    "tags": []
   },
   "source": [
    "配列の中身を小さい順にソート（並べ替える）する関数も用意されている．"
   ]
  },
  {
   "cell_type": "code",
   "execution_count": 18,
   "id": "135e69c9-fc44-4c7e-a886-64afe7d503e5",
   "metadata": {},
   "outputs": [
    {
     "data": {
      "text/plain": [
       "5-element Vector{Int64}:\n",
       " 1\n",
       " 2\n",
       " 3\n",
       " 4\n",
       " 5"
      ]
     },
     "execution_count": 18,
     "metadata": {},
     "output_type": "execute_result"
    }
   ],
   "source": [
    "sort([5,4,3,2,1])"
   ]
  },
  {
   "cell_type": "code",
   "execution_count": 19,
   "id": "7e4a32e9-9889-44f3-8387-49c22a0211ff",
   "metadata": {},
   "outputs": [
    {
     "data": {
      "text/plain": [
       "6-element Vector{String}:\n",
       " \"A\"\n",
       " \"aaa\"\n",
       " \"aab\"\n",
       " \"ab\"\n",
       " \"baa\"\n",
       " \"bbb\""
      ]
     },
     "execution_count": 19,
     "metadata": {},
     "output_type": "execute_result"
    }
   ],
   "source": [
    "sort([\"aaa\", \"bbb\", \"baa\", \"aab\", \"ab\", \"A\"])"
   ]
  },
  {
   "cell_type": "code",
   "execution_count": 20,
   "id": "2a509ca6-dd20-4f09-aa46-6373ddb18be8",
   "metadata": {},
   "outputs": [
    {
     "ename": "LoadError",
     "evalue": "syntax: invalid character \"，\" near column 24",
     "output_type": "error",
     "traceback": [
      "syntax: invalid character \"，\" near column 24",
      "",
      "Stacktrace:",
      " [1] top-level scope",
      "   @ In[20]:2",
      " [2] eval",
      "   @ ./boot.jl:360 [inlined]",
      " [3] include_string(mapexpr::typeof(REPL.softscope), mod::Module, code::String, filename::String)",
      "   @ Base ./loading.jl:1116"
     ]
    }
   ],
   "source": [
    "## dot 演算子：要素ごとの操作\n",
    "配列`A`の要素ごとに演算，あるいは関数を作用させたい場合，\n",
    "dot演算子 `.` を用いる．"
   ]
  },
  {
   "cell_type": "code",
   "execution_count": 21,
   "id": "08731f8a-2f03-474d-aab0-c1e57785120f",
   "metadata": {},
   "outputs": [
    {
     "data": {
      "text/plain": [
       "5-element Vector{Float64}:\n",
       " 1.0\n",
       " 1.4142135623730951\n",
       " 1.7320508075688772\n",
       " 2.0\n",
       " 2.23606797749979"
      ]
     },
     "execution_count": 21,
     "metadata": {},
     "output_type": "execute_result"
    }
   ],
   "source": [
    "A = [1,2,3,4,5]\n",
    "A .+ 1     # [1+1, 2+1, 3+1, 4+1, 5+1]\n",
    "A .^ 2     # [1^2, 2^2, 3^2, 4^2, 5^2]\n",
    "sqrt.(A)   # [sqrt(1), sqrt(2), sqrt(3),sqrt(4),sqrt(5)]"
   ]
  },
  {
   "cell_type": "code",
   "execution_count": 22,
   "id": "2503b346-f4e7-40a2-a21d-f2234b2d515e",
   "metadata": {},
   "outputs": [],
   "source": [
    "## 空の配列"
   ]
  },
  {
   "cell_type": "code",
   "execution_count": 23,
   "id": "2d4f0ca5-4938-46df-a7e3-84e0006f3189",
   "metadata": {},
   "outputs": [
    {
     "data": {
      "text/plain": [
       "Float64[]"
      ]
     },
     "execution_count": 23,
     "metadata": {},
     "output_type": "execute_result"
    }
   ],
   "source": [
    "empty_array = []   # 空の配列．任意の型の変数を\n",
    "vec = Float64[]    # 要素の型を指定する"
   ]
  },
  {
   "cell_type": "code",
   "execution_count": 24,
   "id": "09193a0a-4f3e-4878-b3de-f15b76ed7064",
   "metadata": {},
   "outputs": [],
   "source": [
    "## 配列の生成"
   ]
  },
  {
   "cell_type": "code",
   "execution_count": 25,
   "id": "341fcb2c-34dd-491b-9984-e2f7b4c5720b",
   "metadata": {},
   "outputs": [
    {
     "data": {
      "text/plain": [
       "3-element Vector{String}:\n",
       " \"abc\"\n",
       " \"abc\"\n",
       " \"abc\""
      ]
     },
     "execution_count": 25,
     "metadata": {},
     "output_type": "execute_result"
    }
   ],
   "source": [
    "zeros(3)         # `0`が3個の配列\n",
    "ones(3)          # `1`が3個の配列\n",
    "fill(\"abc\", 3)  # \"abc\"が3個の配列"
   ]
  },
  {
   "cell_type": "markdown",
   "id": "8011c8ca-df28-4506-8897-0825f28631ee",
   "metadata": {},
   "source": [
    "#### Note: 配列の参照とコピー：`deepcopy`\n",
    "Julia言語では，配列のコピーは **参照コピー**である．\n",
    "つまり，配列の要素が記録されているメモリアドレスのコピーになる．\n",
    "次の例を見れば参照がどういうものかわかると思う．"
   ]
  },
  {
   "cell_type": "code",
   "execution_count": 26,
   "id": "63023a2a-1168-4b16-b460-439fed1511d6",
   "metadata": {},
   "outputs": [
    {
     "name": "stdout",
     "output_type": "stream",
     "text": [
      "(a, b) = ([100, 2, 3], [100, 2, 3])\n"
     ]
    }
   ],
   "source": [
    "a = [1,2,3]\n",
    "b = a     # 参照のコピー\n",
    "a[1] = 100   \n",
    "@show a, b;  # aを変えるとbも変わる"
   ]
  },
  {
   "cell_type": "code",
   "execution_count": 27,
   "id": "f19920fc-638d-4c84-9f30-17bb117a2b21",
   "metadata": {},
   "outputs": [
    {
     "name": "stdout",
     "output_type": "stream",
     "text": [
      "(a, b) = ([100, -123, 3], [100, -123, 3])\n"
     ]
    }
   ],
   "source": [
    "b[2] = -123 \n",
    "@show a, b;  # bを変えるとaも変わる"
   ]
  },
  {
   "cell_type": "markdown",
   "id": "91b58eca-efc0-41a1-a562-8550de23ac13",
   "metadata": {},
   "source": [
    "`a`, `b` のメモリアドレスを表示する．両者は一致しているはずである．"
   ]
  },
  {
   "cell_type": "code",
   "execution_count": 28,
   "id": "c50c06ed-5142-4fbd-ae24-6914a6c05ec9",
   "metadata": {},
   "outputs": [
    {
     "name": "stdout",
     "output_type": "stream",
     "text": [
      "pointer(a) = Ptr{Int64} @0x00007f6b107a60b0\n",
      "pointer(b) = Ptr{Int64} @0x00007f6b107a60b0\n"
     ]
    },
    {
     "data": {
      "text/plain": [
       "Ptr{Int64} @0x00007f6b107a60b0"
      ]
     },
     "execution_count": 28,
     "metadata": {},
     "output_type": "execute_result"
    }
   ],
   "source": [
    "@show pointer(a)\n",
    "@show pointer(b)"
   ]
  },
  {
   "cell_type": "markdown",
   "id": "97173997-236f-48c3-be4a-edc88d677bed",
   "metadata": {},
   "source": [
    "配列を複製してコピーするには `deepcopy()`を用いる．"
   ]
  },
  {
   "cell_type": "code",
   "execution_count": 29,
   "id": "d56600d1-c4ad-4fc5-a8a2-858a8ba2b35d",
   "metadata": {},
   "outputs": [
    {
     "name": "stdout",
     "output_type": "stream",
     "text": [
      "(a, c) = ([100, 2, 3], [1, 2, 3])\n"
     ]
    }
   ],
   "source": [
    "a = [1,2,3]    # 再定義\n",
    "c = deepcopy(a)     # 配列そのものを複製\n",
    "a[1] = 100   # cは書き換わらない \n",
    "@show a, c;  "
   ]
  },
  {
   "cell_type": "code",
   "execution_count": 30,
   "id": "7bf9f037-6b85-441f-ae10-cf75248e3f9b",
   "metadata": {},
   "outputs": [
    {
     "name": "stdout",
     "output_type": "stream",
     "text": [
      "(a, c) = ([100, 2, 3], [1, 200, 3])\n"
     ]
    }
   ],
   "source": [
    "c[2] = 200 　# aは書き換わらない\n",
    "@show a, c;  "
   ]
  },
  {
   "cell_type": "markdown",
   "id": "e0c870f3-e77e-46fb-811b-6b7de089d92a",
   "metadata": {},
   "source": [
    "`deepcopy()`で `c` は `a` と別のメモリアドレスにデータが複製されている．"
   ]
  },
  {
   "cell_type": "code",
   "execution_count": 31,
   "id": "1b291ba4-a565-4150-8fec-cdf08c73d11c",
   "metadata": {},
   "outputs": [
    {
     "name": "stdout",
     "output_type": "stream",
     "text": [
      "pointer(a) = Ptr{Int64} @0x00007f6afa9be580\n",
      "pointer(c) = Ptr{Int64} @0x00007f6afa7fc9f0\n"
     ]
    },
    {
     "data": {
      "text/plain": [
       "Ptr{Int64} @0x00007f6afa7fc9f0"
      ]
     },
     "execution_count": 31,
     "metadata": {},
     "output_type": "execute_result"
    }
   ],
   "source": [
    "@show pointer(a)\n",
    "@show pointer(c)"
   ]
  },
  {
   "cell_type": "markdown",
   "id": "35e5125c-7853-425e-bf06-0d2195ff9c2f",
   "metadata": {},
   "source": [
    "<img src=\"deepcopy.png\">"
   ]
  },
  {
   "cell_type": "markdown",
   "id": "269f52d4-b43a-4780-aa30-c9dd87486f23",
   "metadata": {},
   "source": [
    "#### Warning\n",
    "`deepcopy()`は配列がそのまま複製されるので，コピーするのに時間もかかるし，新たにメモリも確保されるので注意．"
   ]
  },
  {
   "cell_type": "code",
   "execution_count": 32,
   "id": "5207fda0-60b3-47ff-982f-83e4df5531fe",
   "metadata": {},
   "outputs": [
    {
     "name": "stdout",
     "output_type": "stream",
     "text": [
      "  0.000000 seconds\n",
      "  0.000002 seconds (3 allocations: 480 bytes)\n"
     ]
    },
    {
     "data": {
      "text/plain": [
       "3-element Vector{Int64}:\n",
       " 1\n",
       " 2\n",
       " 3"
      ]
     },
     "execution_count": 32,
     "metadata": {},
     "output_type": "execute_result"
    }
   ],
   "source": [
    "a = [1,2,3]\n",
    "@time b = a    # アロケーション（割当）は行われない\n",
    "@time c = deepcopy(a)   # アロケーションされる "
   ]
  },
  {
   "cell_type": "markdown",
   "id": "3d586539-3fab-4b01-8150-52a6b2e899fd",
   "metadata": {},
   "source": [
    "## 浅いコピーと深いコピー\n",
    "配列をコピーする関数には，\n",
    "- `deepcopy()` : **深いコピー (deepcopy)** \n",
    "- `copy()`:  **浅いコピー(shallow copy)**\n",
    "の2種類がある．\n",
    "\n",
    "`deepcopy()`は配列に格納された値をすべてそのままコピーして新しい配列を生成する．\n",
    "これに対して，`copy()`は は各要素の**参照**をコピーする．\n",
    "\n",
    "両者の違いは，配列の中に配列が含まれる場合に明確に現れる．\n",
    "\n",
    "まずは 深いコピーの挙動を見る．"
   ]
  },
  {
   "cell_type": "code",
   "execution_count": 33,
   "id": "44eb2e41-01ca-4e3e-a562-897f1bde1f73",
   "metadata": {},
   "outputs": [
    {
     "name": "stdout",
     "output_type": "stream",
     "text": [
      "a = Any[100, 2, [300, 4]]\n",
      "deep_a = Any[1, 2, [3, 4]]\n"
     ]
    }
   ],
   "source": [
    "a = [1,2,[3,4]]\n",
    "deep_a = deepcopy(a)\n",
    "a[1] = 100    # 1 を 100に\n",
    "a[3][1] = 300   # [3,4] を [300, 4] に\n",
    "@show a\n",
    "@show deep_a;   # deep_a は何も変わっていない"
   ]
  },
  {
   "cell_type": "markdown",
   "id": "d55773d8-816d-4c05-b3f4-7872c7e418fa",
   "metadata": {},
   "source": [
    "次に浅いコピーの場合："
   ]
  },
  {
   "cell_type": "code",
   "execution_count": 34,
   "id": "58dcb8f2-8960-4b4d-88a8-b646c9a5ddb3",
   "metadata": {},
   "outputs": [
    {
     "name": "stdout",
     "output_type": "stream",
     "text": [
      "a = Any[100, 2, [300, 4]]\n",
      "shallow_a = Any[1, 2, [300, 4]]\n"
     ]
    }
   ],
   "source": [
    "a = [1,2,[3,4]]\n",
    "shallow_a = copy(a)     # 浅いコピー\n",
    "a[1] = 100    # 1 → 100に\n",
    "a[3][1] = 300   # [3,4] → [300, 4] に\n",
    "@show a\n",
    "@show shallow_a;   # shallow_a[1]は変わっていないが，shallow_a[3]は変わっている"
   ]
  },
  {
   "cell_type": "markdown",
   "id": "3073ff3c-871d-4a01-8d84-9bed4fdb6ab6",
   "metadata": {},
   "source": [
    "深いコピー`deepcopy(a)`の場合，`a` に配列が含まれている場合，その配列の中身も丸ごとコピーされて，\n",
    "`b = [値, 値, [値, 値]]` となる．それに対して，\n",
    "\n",
    "浅いコピー`copy(a)` の場合，`a`内の配列は参照がコピーされる：`b = [値，値，参照]` ．\n",
    "この結果，`b[3]`は `a[3] = [3,4]` への参照となる．"
   ]
  },
  {
   "cell_type": "markdown",
   "id": "e938ecd6-4249-4a71-b3bd-e6cf988cfbc3",
   "metadata": {},
   "source": [
    "#### Note\n",
    "Julia言語やC/C++, Pythonでは，`配列=配列`は参照コピーになる．\n",
    "一方で，FortranやMATLABでは値コピーになるので，注意が必要である．\n",
    "値コピーの方がコードの挙動がわかりやすいが，\n",
    "無頓着に書きならべると無駄なアロケーションを発生させてしまう可能性がある．\n",
    "例えば，与えられた配列`a`に対して，"
   ]
  },
  {
   "cell_type": "code",
   "execution_count": 35,
   "id": "8cf8307c-3d15-4213-a5e6-155ac7cea83e",
   "metadata": {},
   "outputs": [
    {
     "name": "stdout",
     "output_type": "stream",
     "text": [
      "  0.000000 seconds\n",
      "  0.000000 seconds\n",
      "  0.132551 seconds (530.09 k allocations: 30.455 MiB, 7.13% gc time, 99.89% compilation time)\n"
     ]
    },
    {
     "data": {
      "text/plain": [
       "3-element Vector{Any}:\n",
       " 200\n",
       "   4\n",
       "    [600, 8]"
      ]
     },
     "execution_count": 35,
     "metadata": {},
     "output_type": "execute_result"
    }
   ],
   "source": [
    "@time b = a        # 参照コピー\n",
    "@time c = a        # 参照コピー\n",
    "@time x = b + c    # 配列生成（アロケーション発生）"
   ]
  },
  {
   "cell_type": "markdown",
   "id": "7a5b842e-6f23-4d6c-be53-671fb30e19cb",
   "metadata": {},
   "source": [
    "というコードを考えてみよう．Julia言語の場合は上のコメントに書いてあるとおり，\n",
    "上2行は参照コピーで，3行目で新たに配列が生成されるので，アロケーションは1回だけである．\n",
    "もし，仮に`=`が値コピーを行う場合は，上記コードは次と等価になる．"
   ]
  },
  {
   "cell_type": "code",
   "execution_count": 36,
   "id": "d059f727-2c4c-4989-b686-1d8329da35a2",
   "metadata": {},
   "outputs": [
    {
     "name": "stdout",
     "output_type": "stream",
     "text": [
      "  0.000001 seconds (1 allocation: 112 bytes)\n",
      "  0.000001 seconds (1 allocation: 112 bytes)\n",
      "  0.000012 seconds (14 allocations: 848 bytes)\n"
     ]
    },
    {
     "data": {
      "text/plain": [
       "3-element Vector{Any}:\n",
       " 200\n",
       "   4\n",
       "    [600, 8]"
      ]
     },
     "execution_count": 36,
     "metadata": {},
     "output_type": "execute_result"
    }
   ],
   "source": [
    "@time b = copy(a)      # 値コピー（アロケーション発生）\n",
    "@time c = copy(a)      # 値コピー（アロケーション発生）\n",
    "@time x = b + c        # 配列生成（アロケーション発生）"
   ]
  },
  {
   "cell_type": "markdown",
   "id": "069ddf72-05c5-4677-be74-f2cf80598c61",
   "metadata": {},
   "source": [
    "この場合，アロケーションは3回発生する．\n",
    "（しかし，そもそも `x = a + a`と書けば無駄なアロケーションは発生しないので，\n",
    "上の例はあまり意味が無い．もっと良い例はないか？）"
   ]
  },
  {
   "cell_type": "code",
   "execution_count": null,
   "id": "a2811f02-9566-412e-af0b-8cdd63bffc8c",
   "metadata": {},
   "outputs": [],
   "source": []
  }
 ],
 "metadata": {
  "kernelspec": {
   "display_name": "Julia 1.6.7",
   "language": "julia",
   "name": "julia-1.6"
  },
  "language_info": {
   "file_extension": ".jl",
   "mimetype": "application/julia",
   "name": "julia",
   "version": "1.6.7"
  }
 },
 "nbformat": 4,
 "nbformat_minor": 5
}
