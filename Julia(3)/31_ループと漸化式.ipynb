{
 "cells": [
  {
   "cell_type": "markdown",
   "id": "adb1d2a3-d830-4d54-bf49-90452b2e55ac",
   "metadata": {},
   "source": [
    "# ループ処理\n",
    "\n",
    "- コードを繰り返し実行したい場合，for文を用いる．"
   ]
  },
  {
   "cell_type": "code",
   "execution_count": 1,
   "id": "2e9b0d57-79bd-44e6-9b9b-0c1f7917e912",
   "metadata": {},
   "outputs": [
    {
     "name": "stdout",
     "output_type": "stream",
     "text": [
      "i = 1\n",
      "i = 2\n",
      "i = 3\n",
      "i = 4\n",
      "i = 5\n"
     ]
    }
   ],
   "source": [
    "for i in 1:5\n",
    "   @show i\n",
    "end"
   ]
  },
  {
   "cell_type": "markdown",
   "id": "980eb32f-6fd8-4da0-8172-45d09a543fd7",
   "metadata": {},
   "source": [
    "- `i` はカウンタ変数と呼ばれ，直後に指定された指定された範囲を動く．\n",
    "- `i in 1:5` と書けば `i = 1, 2 , ..., 5` と1刻みで動く． \n",
    "    - `i in 1:5` は `i = 1:5` とかいても同じである．\n",
    "- 刻み（カウンタ変数の増分）を `k` に変更したい場合は，`i in 1:k:5`　と書く．"
   ]
  },
  {
   "cell_type": "code",
   "execution_count": 2,
   "id": "d707a99b-862a-4155-a8b4-416fb74267bb",
   "metadata": {},
   "outputs": [
    {
     "name": "stdout",
     "output_type": "stream",
     "text": [
      "i = 1.0\n",
      "i = 1.5\n",
      "i = 2.0\n",
      "i = 2.5\n",
      "i = 3.0\n",
      "i = 3.5\n",
      "i = 4.0\n",
      "i = 4.5\n",
      "i = 5.0\n"
     ]
    }
   ],
   "source": [
    "for i in 1:0.5:5    \n",
    "    @show i \n",
    "end"
   ]
  },
  {
   "cell_type": "markdown",
   "id": "085d8266-b662-4f02-a286-908ddded2107",
   "metadata": {
    "tags": []
   },
   "source": [
    "## 多重ループ\n",
    "- for ループは入れ子にできる．"
   ]
  },
  {
   "cell_type": "code",
   "execution_count": 3,
   "id": "8fff11ef-7f95-4ae6-9323-9baf2ec16ee5",
   "metadata": {},
   "outputs": [
    {
     "name": "stdout",
     "output_type": "stream",
     "text": [
      "(i, j) = (1, 1)\n",
      "(i, j) = (1, 2)\n",
      "(i, j) = (1, 3)\n",
      "(i, j) = (1, 4)\n",
      "(i, j) = (1, 5)\n",
      "(i, j) = (2, 1)\n",
      "(i, j) = (2, 2)\n",
      "(i, j) = (2, 3)\n",
      "(i, j) = (2, 4)\n",
      "(i, j) = (2, 5)\n",
      "(i, j) = (3, 1)\n",
      "(i, j) = (3, 2)\n",
      "(i, j) = (3, 3)\n",
      "(i, j) = (3, 4)\n",
      "(i, j) = (3, 5)\n"
     ]
    }
   ],
   "source": [
    "for i in 1:3\n",
    "    for j in 1:5\n",
    "        @show i, j\n",
    "    end\n",
    "end"
   ]
  },
  {
   "cell_type": "markdown",
   "id": "fadfec48-84c2-43ba-a77c-28f2537a20da",
   "metadata": {},
   "source": [
    "- Julia言語では多重ループは次のように書くこともできる\n",
    "    - PythonやC言語ではサポートされていない．"
   ]
  },
  {
   "cell_type": "code",
   "execution_count": 4,
   "id": "5d6904be-2e37-4139-8389-35582330904b",
   "metadata": {},
   "outputs": [
    {
     "name": "stdout",
     "output_type": "stream",
     "text": [
      "(i, j) = (1, 1)\n",
      "(i, j) = (1, 2)\n",
      "(i, j) = (1, 3)\n",
      "(i, j) = (1, 4)\n",
      "(i, j) = (1, 5)\n",
      "(i, j) = (2, 1)\n",
      "(i, j) = (2, 2)\n",
      "(i, j) = (2, 3)\n",
      "(i, j) = (2, 4)\n",
      "(i, j) = (2, 5)\n",
      "(i, j) = (3, 1)\n",
      "(i, j) = (3, 2)\n",
      "(i, j) = (3, 3)\n",
      "(i, j) = (3, 4)\n",
      "(i, j) = (3, 5)\n"
     ]
    }
   ],
   "source": [
    "for i in 1:3, j in 1:5\n",
    "    @show i, j\n",
    "end"
   ]
  },
  {
   "cell_type": "markdown",
   "id": "6a8be353-803e-476e-bfae-46235287a821",
   "metadata": {},
   "source": [
    "# ループからの脱出: `break`\n",
    "-  `break`コマンドでループから抜けることができる．"
   ]
  },
  {
   "cell_type": "code",
   "execution_count": 5,
   "id": "e20aa5bc-116a-4152-9a2d-a95cf75d46af",
   "metadata": {},
   "outputs": [
    {
     "name": "stdout",
     "output_type": "stream",
     "text": [
      "(i, s) = (1, 1)\n",
      "(i, s) = (2, 3)\n",
      "(i, s) = (3, 6)\n",
      "(i, s) = (4, 10)\n",
      "(i, s) = (5, 15)\n",
      "(i, s) = (6, 21)\n",
      "(i, s) = (7, 28)\n",
      "(i, s) = (8, 36)\n",
      "(i, s) = (9, 45)\n",
      "(i, s) = (10, 55)\n"
     ]
    }
   ],
   "source": [
    "s = 0\n",
    "for i in 1:100\n",
    "    s += i\n",
    "    @show i, s\n",
    "    if s > 50       # 総和が50を超えたループを抜ける   \n",
    "        break        \n",
    "    end\n",
    "end"
   ]
  },
  {
   "cell_type": "markdown",
   "id": "713e0dd1-ac4b-49a0-851f-4908f45c25b6",
   "metadata": {},
   "source": [
    "- ループを抜けずにループの先頭に戻りたい場合は `continue`コマンドを使う．\n",
    "\n",
    "### Note\n",
    "- ある条件をみたすまでループを際限なく繰り返したい場合は，[while](https://docs.julialang.org/en/v1/base/base/#while) 文\n",
    " も使えるが，数値計算においては最大反復回数が定められている for ループを使ったほうが安全である．\n",
    " whileでは予期せず無限ループを生み出す危険性がある．"
   ]
  },
  {
   "cell_type": "markdown",
   "id": "9d81f16d-1bfe-4e0c-8a21-309716dd02bd",
   "metadata": {},
   "source": [
    "# 漸化式の計算\n",
    "- 漸化式\n",
    "$\n",
    " a_{n+1} = a_n + 1，\\ a_1 = 1,\n",
    "$\n",
    "を `for` ループで $a_{10}$ まで計算するコードは次のようになる．\n",
    " "
   ]
  },
  {
   "cell_type": "code",
   "execution_count": 6,
   "id": "da482c3b-9c75-4804-ad4c-03d29a082825",
   "metadata": {},
   "outputs": [
    {
     "name": "stdout",
     "output_type": "stream",
     "text": [
      "a = 2\n",
      "a = 3\n",
      "a = 4\n",
      "a = 5\n",
      "a = 6\n",
      "a = 7\n",
      "a = 8\n",
      "a = 9\n",
      "a = 10\n"
     ]
    }
   ],
   "source": [
    "a = 1      # 初項を与える\n",
    "for i in 1:9\n",
    "   a = a + 1     # 漸化式\n",
    "   @show a       # 値表示\n",
    "end"
   ]
  },
  {
   "cell_type": "markdown",
   "id": "a68cd7e6-a79b-4c11-a30d-f641a10c68f8",
   "metadata": {},
   "source": [
    "- 途中の数列 ($a_1, a_2, \\ldots, a_9$)の値を保持する必要がないのであれば，同じ変数は使いまわして次々と書き換えた方がメモリの節約になる．"
   ]
  },
  {
   "cell_type": "markdown",
   "id": "6dac5119-05ee-4ff1-8762-356554cd3aaf",
   "metadata": {
    "tags": []
   },
   "source": [
    "## tupleを用いたニ項間漸化式の計算\n",
    "フィボナッチ数列\n",
    "$$\n",
    "a_{n+2} = a_{n+1} + a_n, \\quad a_1 = a_2 = 1\n",
    "$$\n",
    "を計算することを考える．モダンな言語では tuple（タプル）を用いると簡潔に記述できる．\n",
    "まず，tupleについて簡単に説明する．\n",
    "tupleとは（複数の）値を括弧でくくったものである．"
   ]
  },
  {
   "cell_type": "code",
   "execution_count": 7,
   "id": "bb32b98b-c02e-4634-919d-4fd26ce9c310",
   "metadata": {},
   "outputs": [
    {
     "data": {
      "text/plain": [
       "(1, 2, \"c\")"
      ]
     },
     "execution_count": 7,
     "metadata": {},
     "output_type": "execute_result"
    }
   ],
   "source": [
    "(1,2,\"c\")"
   ]
  },
  {
   "cell_type": "code",
   "execution_count": 8,
   "id": "40eee238-666c-41b2-aa5d-e75f79e50a3c",
   "metadata": {},
   "outputs": [
    {
     "data": {
      "text/plain": [
       "(1, 2, \"c\")"
      ]
     },
     "execution_count": 8,
     "metadata": {},
     "output_type": "execute_result"
    }
   ],
   "source": [
    "1,2,\"c\"    # カッコなしでも同じ．"
   ]
  },
  {
   "cell_type": "markdown",
   "id": "963af889-467d-4cde-9fb3-e0880f2cf023",
   "metadata": {},
   "source": [
    "tuple は複数の変数に一度に代入する場合に役に立つ．\n",
    "\n",
    "例えば，`x=2; y=2`のようなコードは次のように書ける．"
   ]
  },
  {
   "cell_type": "code",
   "execution_count": 9,
   "id": "73a3ded4-d97b-444c-aaf9-06e4ddb4fc6e",
   "metadata": {},
   "outputs": [
    {
     "data": {
      "text/plain": [
       "(1, 2)"
      ]
     },
     "execution_count": 9,
     "metadata": {},
     "output_type": "execute_result"
    }
   ],
   "source": [
    "x, y = 1, 2"
   ]
  },
  {
   "cell_type": "markdown",
   "id": "8b8971e1-cd89-4384-a8e5-afe5707ef94f",
   "metadata": {},
   "source": [
    "また，値の交換も直感的に記述できる．"
   ]
  },
  {
   "cell_type": "code",
   "execution_count": 10,
   "id": "6553ee1b-aa03-4498-943d-aedfe85adaef",
   "metadata": {},
   "outputs": [
    {
     "name": "stdout",
     "output_type": "stream",
     "text": [
      "(x, y) = (1, 2)\n",
      "(x, y) = (2, 1)\n"
     ]
    }
   ],
   "source": [
    "x, y = 1, 2\n",
    "@show x, y;\n",
    "   \n",
    "x, y = y, x    # 交換\n",
    "@show x, y;     # 確認"
   ]
  },
  {
   "cell_type": "markdown",
   "id": "0a764d97-e4f2-4164-bc65-5793701b765e",
   "metadata": {},
   "source": [
    "tupleを用いたフィボナッチ数列の計算コードは次のようになる．"
   ]
  },
  {
   "cell_type": "code",
   "execution_count": 11,
   "id": "e9bcce8c-2c21-4703-8957-a1fafb7e3634",
   "metadata": {},
   "outputs": [
    {
     "name": "stdout",
     "output_type": "stream",
     "text": [
      "a = 2\n",
      "a = 3\n",
      "a = 5\n",
      "a = 8\n",
      "a = 13\n",
      "a = 21\n",
      "a = 34\n",
      "a = 55\n",
      "a = 89\n"
     ]
    }
   ],
   "source": [
    "a, b = 1, 1      # 初項を与える\n",
    "for i in 1:9\n",
    "   a, b = a + b, a     # 漸化式\n",
    "   @show a       # 値表示\n",
    "end"
   ]
  },
  {
   "cell_type": "markdown",
   "id": "922bbf08-65c2-4714-b268-5b23db06ee0c",
   "metadata": {},
   "source": [
    "#### Remark: tupleを使わない実装\n",
    "tupleを使わない場合は，一時変数を用いて次のように\n",
    "記述する．"
   ]
  },
  {
   "cell_type": "code",
   "execution_count": 12,
   "id": "5356c478-d2fa-43f0-a4d1-a011ed90ce72",
   "metadata": {},
   "outputs": [
    {
     "name": "stdout",
     "output_type": "stream",
     "text": [
      "a2 = 2\n",
      "a2 = 3\n",
      "a2 = 5\n",
      "a2 = 8\n",
      "a2 = 13\n",
      "a2 = 21\n",
      "a2 = 34\n",
      "a2 = 55\n",
      "a2 = 89\n"
     ]
    }
   ],
   "source": [
    "a1 = 1\n",
    "a2 = 1 \n",
    "\n",
    "for i in 1:9\n",
    "   tmp = a2\n",
    "   a2 = a2 + a1\n",
    "   a1 = tmp\n",
    "   @show a2       # 値表示\n",
    "end"
   ]
  },
  {
   "cell_type": "markdown",
   "id": "fdd63a86-85f2-4806-8a82-91dc35635f73",
   "metadata": {},
   "source": [
    "一時変数を用いると，このような単純なコードでも可読性が下がるので注意．"
   ]
  },
  {
   "cell_type": "markdown",
   "id": "027ba352-5868-4a6e-87d2-26b7746d1193",
   "metadata": {},
   "source": [
    "#### Note: tuple内の値は変更できない"
   ]
  },
  {
   "cell_type": "code",
   "execution_count": 13,
   "id": "c2545bf7-250a-4d60-a8ef-bf9526cf3381",
   "metadata": {},
   "outputs": [
    {
     "data": {
      "text/plain": [
       "(1, 2, 3)"
      ]
     },
     "execution_count": 13,
     "metadata": {},
     "output_type": "execute_result"
    }
   ],
   "source": [
    "a = (1,2,3)   # tupleの宣言"
   ]
  },
  {
   "cell_type": "code",
   "execution_count": 14,
   "id": "deb6379c-f91c-40be-9739-851540090c5e",
   "metadata": {},
   "outputs": [
    {
     "data": {
      "text/plain": [
       "2"
      ]
     },
     "execution_count": 14,
     "metadata": {},
     "output_type": "execute_result"
    }
   ],
   "source": [
    "a[2]   # 2番目の要素を確認"
   ]
  },
  {
   "cell_type": "code",
   "execution_count": 15,
   "id": "44df855b-cf98-418e-b7d1-6cecef848f92",
   "metadata": {},
   "outputs": [
    {
     "ename": "LoadError",
     "evalue": "MethodError: no method matching setindex!(::Tuple{Int64, Int64, Int64}, ::Int64, ::Int64)",
     "output_type": "error",
     "traceback": [
      "MethodError: no method matching setindex!(::Tuple{Int64, Int64, Int64}, ::Int64, ::Int64)",
      "",
      "Stacktrace:",
      " [1] top-level scope",
      "   @ In[15]:1",
      " [2] eval",
      "   @ ./boot.jl:360 [inlined]",
      " [3] include_string(mapexpr::typeof(REPL.softscope), mod::Module, code::String, filename::String)",
      "   @ Base ./loading.jl:1116"
     ]
    }
   ],
   "source": [
    "a[2] = 200   # 2番目の要素への代入はエラーとなる．"
   ]
  },
  {
   "cell_type": "markdown",
   "id": "8a901df4-2d99-4419-ad15-8cfa429b9b0a",
   "metadata": {},
   "source": [
    "# 再帰関数に関する注意\n",
    "自分自身を呼び出すような関数を**再帰関数**という．"
   ]
  },
  {
   "cell_type": "code",
   "execution_count": 16,
   "id": "fa907010-58f0-4181-949f-adf33e29ab9c",
   "metadata": {},
   "outputs": [
    {
     "data": {
      "text/plain": [
       "f (generic function with 1 method)"
      ]
     },
     "execution_count": 16,
     "metadata": {},
     "output_type": "execute_result"
    }
   ],
   "source": [
    "f(x) = f(x) + 1"
   ]
  },
  {
   "cell_type": "markdown",
   "id": "a56f6e3e-6736-4a48-9b01-3301473ec2f8",
   "metadata": {},
   "source": [
    "- 上で定義した再帰関数に対して `f(1)` を実行すると，ひたすら自分自身の呼び出しを繰り返し，StackOverFlowError を起こして停止する．"
   ]
  },
  {
   "cell_type": "code",
   "execution_count": 17,
   "id": "412706cd-bd85-4826-bd0f-89ea075acdc5",
   "metadata": {},
   "outputs": [
    {
     "ename": "LoadError",
     "evalue": "StackOverflowError:",
     "output_type": "error",
     "traceback": [
      "StackOverflowError:",
      "",
      "Stacktrace:",
      " [1] f(x::Int64) (repeats 79984 times)",
      "   @ Main ./In[16]:1"
     ]
    }
   ],
   "source": [
    "f(1)"
   ]
  },
  {
   "cell_type": "markdown",
   "id": "b161912f-0e85-4c32-a6ef-ebd126dfe02b",
   "metadata": {},
   "source": [
    "- 関数の呼び出しには引数の保存などにスタック（によるメモリ消費）が発生する．再帰関数では無尽蔵にメモリが消費され，エラーが発生する．\n",
    "- したがって，漸化式を再帰関数で計算しようとしても，割と早い段階で StackOverFlowError で止まってしまう．\n",
    "さらに，スタック処理はメモリ消費だけでなく計算速度の低下も招くため，数値計算では再帰関数は採用されない．"
   ]
  }
 ],
 "metadata": {
  "kernelspec": {
   "display_name": "Julia 1.6.7",
   "language": "julia",
   "name": "julia-1.6"
  },
  "language_info": {
   "file_extension": ".jl",
   "mimetype": "application/julia",
   "name": "julia",
   "version": "1.6.7"
  }
 },
 "nbformat": 4,
 "nbformat_minor": 5
}
