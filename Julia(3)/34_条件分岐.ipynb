{
 "cells": [
  {
   "cell_type": "markdown",
   "id": "44328ec7-8dee-4423-9b09-b55b62b1df49",
   "metadata": {},
   "source": [
    "# 条件分岐 if-elseif-else 構文\n",
    "次の関数は引数 `x` が `x>0` であるときに \"positive\" という文字列を返却する．"
   ]
  },
  {
   "cell_type": "code",
   "execution_count": 1,
   "id": "020ca77b-cfd7-41b8-bc6e-c031ba08b099",
   "metadata": {},
   "outputs": [
    {
     "name": "stdout",
     "output_type": "stream",
     "text": [
      "is_positive(1) = true\n",
      "is_positive(-100) = nothing\n"
     ]
    }
   ],
   "source": [
    "function is_positive(x)\n",
    "    if x > 0   # 条件式 \n",
    "        true\n",
    "    end\n",
    "end\n",
    "\n",
    "@show is_positive(1);\n",
    "@show is_positive(-100);\n"
   ]
  },
  {
   "cell_type": "markdown",
   "id": "c9f572b9",
   "metadata": {},
   "source": [
    "`if x>0` は `x>0`のときに限り，中のコードが実行される．"
   ]
  },
  {
   "cell_type": "markdown",
   "id": "95680f15-a0ef-4a62-bcfc-0e2bbd0cd427",
   "metadata": {},
   "source": [
    "`x < 0` のとき \"Negative\" と返す処理を追加しよう．\n",
    "`elseif` で条件式と処理を書き足す．"
   ]
  },
  {
   "cell_type": "code",
   "execution_count": 2,
   "id": "b755c234-edd7-4313-8548-c169133341d1",
   "metadata": {},
   "outputs": [
    {
     "name": "stdout",
     "output_type": "stream",
     "text": [
      "show_positive_or_negative(1) = \"Positive\"\n",
      "show_positive_or_negative(-100) = \"Negative\"\n"
     ]
    }
   ],
   "source": [
    "function show_positive_or_negative(x)\n",
    "    if x > 0\n",
    "        \"Positive\"\n",
    "    elseif x < 0      # <== 追加\n",
    "        \"Negative\"    # <== 追加\n",
    "    end\n",
    "end\n",
    "\n",
    "@show show_positive_or_negative(1);\n",
    "@show show_positive_or_negative(-100);"
   ]
  },
  {
   "cell_type": "markdown",
   "id": "7b0614ac-0d4d-40d8-9a64-39791f6dc90d",
   "metadata": {},
   "source": [
    "`x<0` でも `x>0` でもないときは，`x` は 0 である，と言いたいところだが，\n",
    "計算機ではそれ以外の可能性もありうる．  \n",
    " `else` を用いて次のように書いておこう．"
   ]
  },
  {
   "cell_type": "code",
   "execution_count": 20,
   "id": "56a80d83-91e4-475d-aac3-70a3fccfbb7d",
   "metadata": {},
   "outputs": [
    {
     "name": "stdout",
     "output_type": "stream",
     "text": [
      "show_sign(1) = \"Positive\"\n",
      "show_sign(-100) = \"Negative\"\n",
      "show_sign(0) = \"Zero or something\"\n",
      "show_sign(NaN) = \"Zero or something\"\n"
     ]
    }
   ],
   "source": [
    "function show_sign(x)\n",
    "    if x > 0\n",
    "        \"Positive\"\n",
    "    elseif x < 0\n",
    "        \"Negative\"\n",
    "    else                      # <== 追加\n",
    "        \"Zero or something\"   # <== 追加\n",
    "    end\n",
    "end\n",
    "\n",
    "@show show_sign(1);\n",
    "@show show_sign(-100);\n",
    "@show show_sign(0);\n",
    "@show show_sign(NaN);"
   ]
  },
  {
   "cell_type": "markdown",
   "id": "6835e135",
   "metadata": {},
   "source": [
    "if文は入れ子にできる．  \n",
    "次のように書いても同じであるが，if-elseif-else構文より読みにくい．\n",
    "\n",
    "```\n",
    "if x > 0 \n",
    "    \"Positive\"\n",
    "else\n",
    "    if x < 0      \n",
    "        \"Negative\"\n",
    "    else                      \n",
    "        \"Zero or something\"   \n",
    "    end\n",
    "end\n",
    "```"
   ]
  },
  {
   "cell_type": "markdown",
   "id": "be7d4214-15af-4230-8974-96c269af755d",
   "metadata": {},
   "source": [
    "## 比較演算子・論理演算子\n",
    "変数や値を比較する演算子は次の通り．\n",
    "\n",
    "| 比較演算子 | 条件式     |\n",
    "|---------|------------|\n",
    "| `x == y`|  $x=y$     |    \n",
    "| `x != y`|  $x\\neq y$ |    \n",
    "| `x > y` |  $x > y$   |    \n",
    "| `x >= y`| $x \\ge y$ |    \n",
    "\n"
   ]
  },
  {
   "cell_type": "code",
   "execution_count": 5,
   "id": "1191143c",
   "metadata": {},
   "outputs": [
    {
     "data": {
      "text/plain": [
       "true"
      ]
     },
     "metadata": {},
     "output_type": "display_data"
    }
   ],
   "source": [
    "1 == 2 - 1"
   ]
  },
  {
   "cell_type": "markdown",
   "id": "5b32752e",
   "metadata": {},
   "source": [
    "`true` は 命題における真を表す `Bool`型の値である．\n",
    "偽は `false` である．\n",
    "\n",
    "浮動小数点数と整数型は型が異なるが，比較演算子では型の違いを意識することなく適切に処理してくれる．"
   ]
  },
  {
   "cell_type": "code",
   "execution_count": 32,
   "id": "6ca73de6",
   "metadata": {},
   "outputs": [
    {
     "name": "stdout",
     "output_type": "stream",
     "text": [
      "1 == 1.0 = true\n",
      "1 == 1.0 + 0.0im = true\n",
      "0.0 == -0.0 = true\n"
     ]
    },
    {
     "data": {
      "text/plain": [
       "true"
      ]
     },
     "metadata": {},
     "output_type": "display_data"
    }
   ],
   "source": [
    "@show 1 == 1.0;\n",
    "@show 1 == 1.0 + 0.0im\n",
    "@show 0.0 == -0.0\n"
   ]
  },
  {
   "cell_type": "markdown",
   "id": "3434da47",
   "metadata": {},
   "source": [
    "`0.0` と `-0.0`は数学的には同一なので，`==`による判定で問題ないが，\n",
    "浮動小数点数としては別物であることに注意．\n",
    "\n",
    "これらを区別したい場合はオブジェクトのハッシュ値で判定する`isequal()` を用いる．\n"
   ]
  },
  {
   "cell_type": "code",
   "execution_count": 31,
   "id": "9a71ee22",
   "metadata": {},
   "outputs": [
    {
     "name": "stdout",
     "output_type": "stream",
     "text": [
      "isequal(1, 1.0) = true\n",
      "isequal(1, 1.0 + 0.0im) = true\n",
      "isequal(0.0, -0.0) = false\n"
     ]
    },
    {
     "data": {
      "text/plain": [
       "false"
      ]
     },
     "metadata": {},
     "output_type": "display_data"
    }
   ],
   "source": [
    "@show isequal(1, 1.0)\n",
    "@show isequal(1, 1.0 + 0.0im)\n",
    "@show isequal(0.0, -0.0)"
   ]
  },
  {
   "cell_type": "markdown",
   "id": "a0d282d0",
   "metadata": {},
   "source": [
    "型の違いまでも含めて同一性を判定するには，`===`を使う．"
   ]
  },
  {
   "cell_type": "code",
   "execution_count": 36,
   "id": "7abdcf77",
   "metadata": {},
   "outputs": [
    {
     "data": {
      "text/plain": [
       "false"
      ]
     },
     "metadata": {},
     "output_type": "display_data"
    }
   ],
   "source": [
    "1 === 1.0"
   ]
  },
  {
   "cell_type": "markdown",
   "id": "7b244e77",
   "metadata": {},
   "source": [
    "## 論理演算"
   ]
  },
  {
   "cell_type": "markdown",
   "id": "36e73f00",
   "metadata": {},
   "source": [
    "論理演算に関する演算子は次のとおり．\n",
    "\n",
    "|論理演算 | 演算子     |\n",
    "|----|-----|\n",
    "| AND| `&&` |\n",
    "| OR |  `\\|\\|`   |\n",
    "| NOT|  `!` | "
   ]
  },
  {
   "cell_type": "code",
   "execution_count": 42,
   "id": "c815943f-afec-4455-a52a-7e756c5bc57f",
   "metadata": {},
   "outputs": [
    {
     "data": {
      "text/plain": [
       "true"
      ]
     },
     "metadata": {},
     "output_type": "display_data"
    }
   ],
   "source": [
    "1 < 2 && 2 < 3"
   ]
  },
  {
   "cell_type": "markdown",
   "id": "fe2d0722-ba8b-437a-8ebc-ba8121afb569",
   "metadata": {},
   "source": [
    "これは次のように書くこともできる．"
   ]
  },
  {
   "cell_type": "code",
   "execution_count": 5,
   "id": "abfab409-9f6c-416a-8150-0733245f9378",
   "metadata": {},
   "outputs": [
    {
     "data": {
      "text/plain": [
       "true"
      ]
     },
     "execution_count": 5,
     "metadata": {},
     "output_type": "execute_result"
    }
   ],
   "source": [
    "1 < 2 < 3"
   ]
  },
  {
   "cell_type": "code",
   "execution_count": 38,
   "id": "00d30611",
   "metadata": {},
   "outputs": [
    {
     "name": "stdout",
     "output_type": "stream",
     "text": [
      "true || true = true\n",
      "true || false = true\n",
      "false || true = true\n",
      "false || false = false\n",
      "!true = false\n",
      "!false = true\n"
     ]
    },
    {
     "data": {
      "text/plain": [
       "true"
      ]
     },
     "metadata": {},
     "output_type": "display_data"
    }
   ],
   "source": [
    "@show true || true\n",
    "@show true || false\n",
    "@show false || true\n",
    "@show false || false\n",
    "\n",
    "@show !true\n",
    "@show !false"
   ]
  },
  {
   "cell_type": "markdown",
   "id": "2f966925-2dcf-4d2a-8457-f02a25255aec",
   "metadata": {},
   "source": [
    "## 短絡評価\n",
    "`A && B` と書いた場合，`A = false` ならば `B`の真偽を判定されずに\n",
    " `A && B = false`と評価される（短絡評価）．\n",
    "\n",
    "短絡評価の仕組みを利用すると，if文を使うことなく条件分岐が実現できる．"
   ]
  },
  {
   "cell_type": "code",
   "execution_count": null,
   "id": "90b616f8-8b44-4138-aa54-7597590a6143",
   "metadata": {},
   "outputs": [
    {
     "name": "stdout",
     "output_type": "stream",
     "text": [
      "is_positive2(1) = true\n",
      "is_positive2(-100) = false\n"
     ]
    }
   ],
   "source": [
    "is_positive2(x) = (x > 0) && true\n",
    "\n",
    "@show is_positive2(1);\n",
    "@show is_positive2(-100);"
   ]
  },
  {
   "cell_type": "markdown",
   "id": "eca1a9e2-12bd-4430-a343-4a8075668023",
   "metadata": {},
   "source": [
    "最初に 前方の `x > 0` の評価が行われ， `true` ならば後方（`println`部分）の評価が行われる．\n",
    "\n",
    "\n",
    "もし，`false` ならば，残りの条件式の評価はスキップされる．"
   ]
  }
 ],
 "metadata": {
  "kernelspec": {
   "display_name": "Julia 1.11.2",
   "language": "julia",
   "name": "julia-1.11"
  },
  "language_info": {
   "file_extension": ".jl",
   "mimetype": "application/julia",
   "name": "julia",
   "version": "1.11.2"
  }
 },
 "nbformat": 4,
 "nbformat_minor": 5
}
