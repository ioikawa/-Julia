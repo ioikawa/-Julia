{
 "cells": [
  {
   "cell_type": "markdown",
   "id": "675be079-bf39-4e79-b030-8c9f3db140b8",
   "metadata": {
    "tags": []
   },
   "source": [
    "# 浮動小数点数\n",
    "\n",
    "## 浮動小数点数 (Floating Point Number)\n",
    "計算機において小数は，**浮動小数点数**として実装されている．\n"
   ]
  },
  {
   "cell_type": "code",
   "execution_count": 2,
   "id": "98c82a90",
   "metadata": {},
   "outputs": [
    {
     "data": {
      "text/plain": [
       "1.23e-5"
      ]
     },
     "metadata": {},
     "output_type": "display_data"
    }
   ],
   "source": [
    "0.0000123"
   ]
  },
  {
   "cell_type": "markdown",
   "id": "2e95d1c4-15fb-466e-86fa-fd5bc2441322",
   "metadata": {},
   "source": [
    "浮動小数点数の標準規格はIEEE754で策定されており，次のような要素で構成される．\n",
    "- 正規化数 (normal number)\n",
    "- 非正規化数 (subnormal number)\n",
    "- 特殊な値：`Inf` （無限大） や `NaN` (Not a Number) など．\n"
   ]
  },
  {
   "cell_type": "markdown",
   "id": "0d4df268-e63e-4091-8882-b03b1a9816f6",
   "metadata": {},
   "source": [
    "## 単精度と倍精度\n",
    "\n",
    "多くの計算機でハードウェアレベルで実装されている浮動小数点数は\n",
    " - 単精度 (single precision) ：2進数23桁\n",
    " - 倍精度 (double precision) ：2進数52桁\n",
    " \n",
    "の２種類である．違いは表現可能な実数の範囲だけであり，倍精度の方が表現できる実数の範囲が広い． \n",
    "\n",
    "Juliaでは `Float64`が倍精度，`Float32`が単精度，に対応している．\n",
    " \n",
    "小数の数値リテラルは，暗黙のうちに `Float64` と解釈される．\n"
   ]
  },
  {
   "cell_type": "code",
   "execution_count": 3,
   "id": "037cb246-4eb7-4c56-a327-1f8c66575dfa",
   "metadata": {},
   "outputs": [
    {
     "data": {
      "text/plain": [
       "Float64"
      ]
     },
     "metadata": {},
     "output_type": "display_data"
    }
   ],
   "source": [
    "typeof(0.1)"
   ]
  },
  {
   "cell_type": "markdown",
   "id": "a7686b3f-ce73-459b-96c3-14167963b2fe",
   "metadata": {},
   "source": [
    "特別な理由がない限り，普通は倍精度を用いる．\n",
    "\n",
    "これ以降，倍精度を具体例として浮動小数点数の説明を述べる．"
   ]
  },
  {
   "cell_type": "markdown",
   "id": "a1b49d91-7372-474d-9dc0-bcf98119d676",
   "metadata": {
    "jp-MarkdownHeadingCollapsed": true,
    "tags": []
   },
   "source": [
    "## 正規化数，非正規化数\n",
    "正規化数とは，`1.0101e-5` のように先頭桁が1の浮動小数点数である．\n",
    "\n",
    "仮数部は2進数表示である．\n",
    "\n",
    "- $d_1, d_2, \\ldots, d_{52} \\in \\{0, 1\\}$\n",
    "- $-1022 \\le e \\le 1023$\n",
    "    \n",
    "非正規化数は，$0.d_1 d_2 \\cdots d_{52} \\times 2^{-1023}$の形で表される小数のことである．\n",
    "$d_1,...d_{52}$は正規化数と同様に 0 or 1 の値を取る．\n",
    "<br>\n",
    "\n",
    "正規化数を数直線上にプロットすると原点付近で相対的に大きな隙間が生まれる．\n",
    "非正規化数はこの隙間を均質に埋める役割を担っている．\n",
    "\n",
    "<img src = \"fpn01.png\" width=\"80%\">"
   ]
  },
  {
   "cell_type": "markdown",
   "id": "476feffc-d097-4376-8560-02688ed1d32c",
   "metadata": {},
   "source": [
    "## E表記 `e`, `E`\n",
    "倍精度浮動小数点数では， `e` あるいは `E` の後ろに指数を表記する．"
   ]
  },
  {
   "cell_type": "code",
   "execution_count": 2,
   "id": "8a31e682-a44b-479d-aeba-71866ec74b3d",
   "metadata": {},
   "outputs": [
    {
     "data": {
      "text/plain": [
       "1.23e-7"
      ]
     },
     "execution_count": 2,
     "metadata": {},
     "output_type": "execute_result"
    }
   ],
   "source": [
    "0.000000123"
   ]
  },
  {
   "cell_type": "code",
   "execution_count": 5,
   "id": "7c5e2169-95eb-41ed-b2ea-b7f5891d9910",
   "metadata": {},
   "outputs": [
    {
     "data": {
      "text/plain": [
       "123450.0"
      ]
     },
     "execution_count": 5,
     "metadata": {},
     "output_type": "execute_result"
    }
   ],
   "source": [
    "0.12345e+6  "
   ]
  },
  {
   "cell_type": "markdown",
   "id": "01e7f95a-859c-47ba-bd1f-10dd90a293c3",
   "metadata": {},
   "source": [
    "## Overflow\n",
    "倍精度で扱える最大の正の正規化数は`floatmax(Float64)`で取得できる．"
   ]
  },
  {
   "cell_type": "code",
   "execution_count": 7,
   "id": "d64d59ac-b4ce-4335-a729-455aaff1933c",
   "metadata": {},
   "outputs": [
    {
     "data": {
      "text/plain": [
       "1.7976931348623157e308"
      ]
     },
     "execution_count": 7,
     "metadata": {},
     "output_type": "execute_result"
    }
   ],
   "source": [
    "x_max = floatmax(Float64)"
   ]
  },
  {
   "cell_type": "markdown",
   "id": "91cab129-cc45-4574-a92a-1f20b3ab2b1a",
   "metadata": {},
   "source": [
    "浮動小数点数の演算の結果が `x_max`を超えた場合，無限大を表す `Inf` に変換される．\n",
    "このような現象を overflow という．"
   ]
  },
  {
   "cell_type": "code",
   "execution_count": 8,
   "id": "0be62fa0-8bb2-492b-8e90-b5283c763d84",
   "metadata": {},
   "outputs": [
    {
     "data": {
      "text/plain": [
       "Inf"
      ]
     },
     "execution_count": 8,
     "metadata": {},
     "output_type": "execute_result"
    }
   ],
   "source": [
    "2 * x_max"
   ]
  },
  {
   "cell_type": "markdown",
   "id": "045f998f-e892-4a16-9e8a-8bdc9fb67aee",
   "metadata": {},
   "source": [
    "#### Note\n",
    "`x_max`は $1.11\\cdots 1_2 \\times 2^{1023}$に等しい．\n",
    "添字の2は2進数を表す．\n",
    "\n",
    "`BigFloat`で計算して一致することを確認する．\n",
    "仮数部を10進数に直すと，\n",
    "$$\n",
    "2^{0} + 2^{-1} + \\cdots + 2^{-53} = \\frac{1 - 2^{-54}}{1- 2^{-1}}\n",
    " = 2 - 2^{-54}.\n",
    "$$\n"
   ]
  },
  {
   "cell_type": "code",
   "execution_count": 9,
   "id": "8c9f2656-1ab7-4729-8a09-ed05bb650917",
   "metadata": {},
   "outputs": [
    {
     "data": {
      "text/plain": [
       "1.797693134862315857833297452421029442208659153021342421048019300690888220491329e+308"
      ]
     },
     "execution_count": 9,
     "metadata": {},
     "output_type": "execute_result"
    }
   ],
   "source": [
    "(2 - big(2.0)^(-54)) * big(2.0)^1023"
   ]
  },
  {
   "cell_type": "markdown",
   "id": "983555c2-1480-4111-848d-67058c8bb215",
   "metadata": {},
   "source": [
    "確かに一致している．"
   ]
  },
  {
   "cell_type": "markdown",
   "id": "7131b7b1-8dd2-4c6f-bd21-5e9270c83e8f",
   "metadata": {},
   "source": [
    "#### Note\n",
    "倍精度で扱える *最小の正の正規化数* を知りたい場合は，`floatmin`を使う．"
   ]
  },
  {
   "cell_type": "code",
   "execution_count": 10,
   "id": "efb7b741-c053-469a-9d94-24c1d3b2e8ab",
   "metadata": {},
   "outputs": [
    {
     "data": {
      "text/plain": [
       "2.2250738585072014e-308"
      ]
     },
     "execution_count": 10,
     "metadata": {},
     "output_type": "execute_result"
    }
   ],
   "source": [
    "x_min = floatmin(Float64)"
   ]
  },
  {
   "cell_type": "markdown",
   "id": "2fc414c9-0508-43c5-8345-022369f82bb5",
   "metadata": {},
   "source": [
    "## Underflow\n",
    "最小の正の非正規化数は `eps(0.0)` で取得できる．"
   ]
  },
  {
   "cell_type": "code",
   "execution_count": 11,
   "id": "810a6868-8797-4e56-ab06-dc6287abe8b0",
   "metadata": {},
   "outputs": [
    {
     "data": {
      "text/plain": [
       "5.0e-324"
      ]
     },
     "execution_count": 11,
     "metadata": {},
     "output_type": "execute_result"
    }
   ],
   "source": [
    "subnormal_min = eps(0.0)"
   ]
  },
  {
   "cell_type": "markdown",
   "id": "a72e8a90-09d0-46a9-99d9-5958284b75e8",
   "metadata": {},
   "source": [
    "（正しい値は $0.00\\cdots 01_2 \\times 2^{-1022} = 4.940\\cdots \\times 10^{-324}$なので，表示されている数値は誤りです．\n",
    "内部的には正しい値が格納されているようなので，表示上のバグかもしれません．原因が分かる人は教えてください．）"
   ]
  },
  {
   "cell_type": "code",
   "execution_count": 12,
   "id": "59e93ef3-c8c9-4047-a1ff-c39a6657ff37",
   "metadata": {},
   "outputs": [
    {
     "data": {
      "text/plain": [
       "\"0000000000000000000000000000000000000000000000000000000000000001\""
      ]
     },
     "execution_count": 12,
     "metadata": {},
     "output_type": "execute_result"
    }
   ],
   "source": [
    "bitstring(subnormal_min) # bit列の表示．これは問題ない．"
   ]
  },
  {
   "cell_type": "markdown",
   "id": "f241caf0-65a2-488b-b948-41bbff2c0526",
   "metadata": {},
   "source": [
    "演算結果が この値を下回ると `0.0` に丸められることがあり，これを underflow という．"
   ]
  },
  {
   "cell_type": "code",
   "execution_count": 13,
   "id": "d354dbc7-990f-4597-a948-0fe6f77c0cbe",
   "metadata": {},
   "outputs": [
    {
     "data": {
      "text/plain": [
       "0.0"
      ]
     },
     "execution_count": 13,
     "metadata": {},
     "output_type": "execute_result"
    }
   ],
   "source": [
    "subnormal_min / 2"
   ]
  },
  {
   "cell_type": "markdown",
   "id": "ce8ce247-19b3-46cb-bda6-5fedb4d454a9",
   "metadata": {},
   "source": [
    "#### Note\n",
    "`subnormal_min` は $0.00\\cdots 01_2 \\times 2^{-1022}$に等しい．\n",
    "仮数部は10進数で表すと，$2^{-52}$だから，$2^{-(1022 + 52)} = 2^{-1074}$.\n",
    "`BigFloat`で表示してみる．"
   ]
  },
  {
   "cell_type": "code",
   "execution_count": 14,
   "id": "7c6df022-829f-4169-9f8e-42811c9e4ec8",
   "metadata": {},
   "outputs": [
    {
     "data": {
      "text/plain": [
       "4.940656458412465441765687928682213723650598026143247644255856825006755072702088e-324"
      ]
     },
     "execution_count": 14,
     "metadata": {},
     "output_type": "execute_result"
    }
   ],
   "source": [
    "big(2.0)^(-1074)"
   ]
  },
  {
   "cell_type": "code",
   "execution_count": 15,
   "id": "f24121dc-d86d-4b74-9b19-5aa5fdc410f7",
   "metadata": {},
   "outputs": [
    {
     "data": {
      "text/plain": [
       "4.940656458412465441765687928682213723650598026143247644255856825006755072702088e-324"
      ]
     },
     "execution_count": 15,
     "metadata": {},
     "output_type": "execute_result"
    }
   ],
   "source": [
    "big(eps(0.0))   # BigFloatで確認．一致する．"
   ]
  },
  {
   "cell_type": "markdown",
   "id": "44386d94-d61b-49a7-968e-2b253e061205",
   "metadata": {},
   "source": [
    "## `NaN` (Not a Number)\n",
    "\n",
    "浮動小数点数において未定義な演算等を行った結果，`NaN` という特殊な浮動小数点数が発生することがある．\n",
    "\n",
    "例えば，0を0で割ると `Nan` が発生する．"
   ]
  },
  {
   "cell_type": "code",
   "execution_count": 16,
   "id": "22356668-aa9d-4f5d-b705-fb6c2ab18eb0",
   "metadata": {},
   "outputs": [
    {
     "data": {
      "text/plain": [
       "NaN"
      ]
     },
     "execution_count": 16,
     "metadata": {},
     "output_type": "execute_result"
    }
   ],
   "source": [
    "0 / 0"
   ]
  },
  {
   "cell_type": "markdown",
   "id": "a972d814-6986-4a17-a2f4-2bbe66fd2d3c",
   "metadata": {},
   "source": [
    "ちなみに0以外の正の浮動小数点数をゼロで割ると`Inf`になる．"
   ]
  },
  {
   "cell_type": "code",
   "execution_count": 17,
   "id": "f9b2d200-91a9-47e9-9278-d9413a0eae2e",
   "metadata": {},
   "outputs": [
    {
     "data": {
      "text/plain": [
       "Inf"
      ]
     },
     "execution_count": 17,
     "metadata": {},
     "output_type": "execute_result"
    }
   ],
   "source": [
    "1 / 0"
   ]
  },
  {
   "cell_type": "markdown",
   "id": "14ce5882-deb6-4099-bce5-38aa0a468bff",
   "metadata": {},
   "source": [
    "これ以外にも，`Inf`に関する四則演算の結果，`NaN` が発生することがある． "
   ]
  },
  {
   "cell_type": "code",
   "execution_count": 18,
   "id": "567bacc8-7a4c-4179-88f6-eb8079367c1a",
   "metadata": {},
   "outputs": [
    {
     "name": "stdout",
     "output_type": "stream",
     "text": [
      "Inf + Inf = Inf\n",
      "Inf - Inf = NaN\n",
      "Inf * Inf = Inf\n",
      "Inf * 0 = NaN\n",
      "Inf / Inf = NaN\n"
     ]
    },
    {
     "data": {
      "text/plain": [
       "NaN"
      ]
     },
     "execution_count": 18,
     "metadata": {},
     "output_type": "execute_result"
    }
   ],
   "source": [
    "@show Inf + Inf\n",
    "@show Inf - Inf    # ∞ - ∞\n",
    "@show Inf * Inf\n",
    "@show Inf * 0      # ∞ ✕ 0\n",
    "@show Inf / Inf    # ∞ ÷ ∞"
   ]
  },
  {
   "cell_type": "markdown",
   "id": "69003ef4-5113-49e6-bd3a-b2e49c02c21d",
   "metadata": {},
   "source": [
    "不定形の極限に対応するような演算を行うと `NaN` が発生すると覚えておけばよい．\n",
    "\n",
    "#### Warning\n",
    "- `Inf` や `NaN` の発生を前提としたコード設計はしないようにしてください．\n",
    "`Inf` や `NaN`の挙動を完全に把握することは非常に困難で，bug （プログラムにおける予期しない動作やエラー）\n",
    "を生みやすいです．さらに，読み手にとっても理解しにくいコードになります．\n",
    "- Juliaでは `isfinite(x)` で `x` が有限値であるかどうか， `isnan(x)`で `x` が `NaN` であるかどうかの判定ができます．\n",
    "    "
   ]
  }
 ],
 "metadata": {
  "kernelspec": {
   "display_name": "Julia 1.11.2",
   "language": "julia",
   "name": "julia-1.11"
  },
  "language_info": {
   "file_extension": ".jl",
   "mimetype": "application/julia",
   "name": "julia",
   "version": "1.11.2"
  }
 },
 "nbformat": 4,
 "nbformat_minor": 5
}
