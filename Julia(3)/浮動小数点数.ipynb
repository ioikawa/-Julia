{
 "cells": [
  {
   "cell_type": "markdown",
   "id": "675be079-bf39-4e79-b030-8c9f3db140b8",
   "metadata": {
    "tags": []
   },
   "source": [
    "# 浮動小数点数\n",
    "\n",
    "## 浮動小数点数 (Floating Point Number)\n",
    "計算機において小数は，**浮動小数点数**として実装されている．\n"
   ]
  },
  {
   "cell_type": "code",
   "execution_count": 10,
   "id": "98c82a90",
   "metadata": {},
   "outputs": [
    {
     "data": {
      "text/plain": [
       "1.23e-5"
      ]
     },
     "metadata": {},
     "output_type": "display_data"
    }
   ],
   "source": [
    "0.0000123"
   ]
  },
  {
   "cell_type": "markdown",
   "id": "d8f7d96d",
   "metadata": {},
   "source": [
    "![fpn](fpn.svg)"
   ]
  },
  {
   "cell_type": "markdown",
   "id": "2e95d1c4-15fb-466e-86fa-fd5bc2441322",
   "metadata": {},
   "source": [
    "浮動小数点数の標準規格はIEEE754で策定されており，次のような要素で構成される．\n",
    "\n",
    "- 正規化数 (normal number)\n",
    "- 非正規化数 (subnormal number)\n",
    "- 特殊な値：`Inf` （無限大） や `NaN` (Not a Number) など．\n"
   ]
  },
  {
   "cell_type": "markdown",
   "id": "0d4df268-e63e-4091-8882-b03b1a9816f6",
   "metadata": {},
   "source": [
    "## 単精度と倍精度\n",
    "\n",
    "多くの計算機でハードウェアレベルで実装されている浮動小数点数は\n",
    " - 単精度 (single precision) \n",
    " - 倍精度 (double precision) \n",
    "\n",
    "の２種類である．違いは表現可能な実数の範囲だけであり，倍精度の方が表現できる実数の範囲が広い．   \n",
    "特別な理由がない限り，**倍精度**を用いる．\n",
    "\n",
    "| 精度  | 仮数部     | 指数部 |10進桁数   | 型 |\n",
    "|-------|----------|-------|------------|----|\n",
    "| 単精度  | 23bit   | -1022 ～ +1023     | 約8桁    | `Float32` |\n",
    "| 倍精度  | 52bit   | -126 ～ +127      | 約16桁   | `Float64` |\n"
   ]
  },
  {
   "cell_type": "code",
   "execution_count": 4,
   "id": "a598c73f",
   "metadata": {},
   "outputs": [
    {
     "name": "stdout",
     "output_type": "stream",
     "text": [
      "Float32(1) / 3 = 0.33333334f0\n",
      "1 / 3 = 0.3333333333333333\n"
     ]
    },
    {
     "data": {
      "text/plain": [
       "0.3333333333333333"
      ]
     },
     "metadata": {},
     "output_type": "display_data"
    }
   ],
   "source": [
    "@show Float32(1)/3; # 単精度 Float32\n",
    "@show 1/3   # 倍精度 Float64\n"
   ]
  },
  {
   "cell_type": "markdown",
   "id": "a1b49d91-7372-474d-9dc0-bcf98119d676",
   "metadata": {
    "jp-MarkdownHeadingCollapsed": true,
    "tags": []
   },
   "source": [
    "## 正規化数，非正規化数\n",
    "**正規化数**(normal number) とは，`1.0101e-5`（仮数部２進表記）のように先頭桁が1の浮動小数点数である．\n",
    "\n",
    "- 最小の正の正規化数は 1e-1022\n",
    "- 最大の正の正規化数は 1.11....1e1022 = $10^{1023} - 1$\n",
    "\n",
    "正規化数を数直線上にプロットすると原点付近で相対的に大きな隙間が生まれる．  \n",
    "この隙間を均等に埋めるのが**非正規化数** (subnormal number)である．  \n",
    "\n",
    "非正規化数は `0.1101e-1022`のように先頭桁が0で，指数部が最小の浮動小数点数と定義される．\n",
    "\n",
    "\n",
    "![subnormal](subnormal.svg)"
   ]
  },
  {
   "cell_type": "markdown",
   "id": "01e7f95a-859c-47ba-bd1f-10dd90a293c3",
   "metadata": {},
   "source": [
    "## Overflow\n",
    "倍精度で扱える最大の正の正規化数は表示しよう．"
   ]
  },
  {
   "cell_type": "code",
   "execution_count": 17,
   "id": "d64d59ac-b4ce-4335-a729-455aaff1933c",
   "metadata": {},
   "outputs": [
    {
     "name": "stdout",
     "output_type": "stream",
     "text": [
      "x_max = floatmax(Float64) = 1.7976931348623157e308\n"
     ]
    }
   ],
   "source": [
    "@show x_max = floatmax(Float64);"
   ]
  },
  {
   "cell_type": "markdown",
   "id": "91cab129-cc45-4574-a92a-1f20b3ab2b1a",
   "metadata": {},
   "source": [
    "浮動小数点数の演算の結果が `x_max`を超えた場合，無限大を表す浮動小数点数 `Inf` に変換される．  \n",
    "このような現象を overflow という．"
   ]
  },
  {
   "cell_type": "code",
   "execution_count": 15,
   "id": "0be62fa0-8bb2-492b-8e90-b5283c763d84",
   "metadata": {},
   "outputs": [
    {
     "data": {
      "text/plain": [
       "Inf"
      ]
     },
     "metadata": {},
     "output_type": "display_data"
    }
   ],
   "source": [
    "2 * x_max"
   ]
  },
  {
   "cell_type": "markdown",
   "id": "8987b031",
   "metadata": {},
   "source": [
    "`Inf`の型は `Float64` である．"
   ]
  },
  {
   "cell_type": "code",
   "execution_count": 5,
   "id": "c2a302d4",
   "metadata": {},
   "outputs": [
    {
     "name": "stdout",
     "output_type": "stream",
     "text": [
      "typeof(Inf) = Float64\n"
     ]
    },
    {
     "data": {
      "text/plain": [
       "Float64"
      ]
     },
     "metadata": {},
     "output_type": "display_data"
    }
   ],
   "source": [
    "@show typeof(Inf)"
   ]
  },
  {
   "cell_type": "markdown",
   "id": "045f998f-e892-4a16-9e8a-8bdc9fb67aee",
   "metadata": {},
   "source": [
    "#### Note\n",
    "`x_max`は $1.11\\cdots 1_2 \\times 2^{1023}$に等しい．\n",
    "添字の2は2進数を表す．\n",
    "\n",
    "`BigFloat`で計算して一致することを確認する．\n",
    "仮数部を10進数に直すと，\n",
    "$$\n",
    "2^{0} + 2^{-1} + \\cdots + 2^{-53} = \\frac{1 - 2^{-54}}{1- 2^{-1}}\n",
    " = 2 - 2^{-54}.\n",
    "$$\n"
   ]
  },
  {
   "cell_type": "code",
   "execution_count": 16,
   "id": "8c9f2656-1ab7-4729-8a09-ed05bb650917",
   "metadata": {},
   "outputs": [
    {
     "data": {
      "text/plain": [
       "1.797693134862315857833297452421029442208659153021342421048019300690888220491329e+308"
      ]
     },
     "metadata": {},
     "output_type": "display_data"
    }
   ],
   "source": [
    "(2 - big(2.0)^(-54)) * big(2.0)^1023"
   ]
  },
  {
   "cell_type": "markdown",
   "id": "983555c2-1480-4111-848d-67058c8bb215",
   "metadata": {},
   "source": [
    "確かに一致している．"
   ]
  },
  {
   "cell_type": "markdown",
   "id": "7131b7b1-8dd2-4c6f-bd21-5e9270c83e8f",
   "metadata": {},
   "source": [
    "#### Note\n",
    "倍精度で扱える *最小の正の正規化数* を知りたい場合は，`floatmin`を使う．"
   ]
  },
  {
   "cell_type": "code",
   "execution_count": 17,
   "id": "efb7b741-c053-469a-9d94-24c1d3b2e8ab",
   "metadata": {},
   "outputs": [
    {
     "data": {
      "text/plain": [
       "2.2250738585072014e-308"
      ]
     },
     "metadata": {},
     "output_type": "display_data"
    }
   ],
   "source": [
    "x_min = floatmin(Float64)"
   ]
  },
  {
   "cell_type": "markdown",
   "id": "2fc414c9-0508-43c5-8345-022369f82bb5",
   "metadata": {},
   "source": [
    "## Underflow\n",
    "最小の正の**非**正規化数は `eps(0.0)` で取得できる．"
   ]
  },
  {
   "cell_type": "code",
   "execution_count": 2,
   "id": "810a6868-8797-4e56-ab06-dc6287abe8b0",
   "metadata": {},
   "outputs": [
    {
     "data": {
      "text/plain": [
       "5.0e-324"
      ]
     },
     "metadata": {},
     "output_type": "display_data"
    }
   ],
   "source": [
    "subnormal_min = eps(0.0)"
   ]
  },
  {
   "cell_type": "markdown",
   "id": "f241caf0-65a2-488b-b948-41bbff2c0526",
   "metadata": {},
   "source": [
    "演算結果が この値を下回ると `0.0` に丸められることがあり，これを underflow という．"
   ]
  },
  {
   "cell_type": "code",
   "execution_count": 20,
   "id": "d354dbc7-990f-4597-a948-0fe6f77c0cbe",
   "metadata": {},
   "outputs": [
    {
     "data": {
      "text/plain": [
       "0.0"
      ]
     },
     "metadata": {},
     "output_type": "display_data"
    }
   ],
   "source": [
    "subnormal_min / 2"
   ]
  },
  {
   "cell_type": "markdown",
   "id": "a72e8a90-09d0-46a9-99d9-5958284b75e8",
   "metadata": {},
   "source": [
    "<div class=\"alert alert-block alert-warning\">\n",
    "Warning: `eps(0.0)`の出力する数値は誤りです．\n",
    "内部的には正しい値が格納されているようなので表示上のバグだと思いますが，原因が分かった人は教えてください．\n",
    "</div>"
   ]
  },
  {
   "cell_type": "markdown",
   "id": "ce8ce247-19b3-46cb-bda6-5fedb4d454a9",
   "metadata": {},
   "source": [
    "### NOTE\n",
    "`subnormal_min` は $0.00\\cdots 01_2 \\times 2^{-1022}$に等しい．\n",
    "\n",
    "仮数部を10進数で表すと，$2^{-52}$だから，$2^{-(1022 + 52)} = 2^{-1074}$.\n",
    "\n",
    "`BigFloat`で表示してみる．"
   ]
  },
  {
   "cell_type": "code",
   "execution_count": 21,
   "id": "7c6df022-829f-4169-9f8e-42811c9e4ec8",
   "metadata": {},
   "outputs": [
    {
     "data": {
      "text/plain": [
       "4.940656458412465441765687928682213723650598026143247644255856825006755072702088e-324"
      ]
     },
     "metadata": {},
     "output_type": "display_data"
    }
   ],
   "source": [
    "big(2.0)^(-1074)"
   ]
  },
  {
   "cell_type": "code",
   "execution_count": 1,
   "id": "f24121dc-d86d-4b74-9b19-5aa5fdc410f7",
   "metadata": {},
   "outputs": [
    {
     "data": {
      "text/plain": [
       "4.940656458412465441765687928682213723650598026143247644255856825006755072702088e-324"
      ]
     },
     "metadata": {},
     "output_type": "display_data"
    }
   ],
   "source": [
    "big(eps(0.0))   # BigFloatで確認すると一致している．"
   ]
  },
  {
   "cell_type": "code",
   "execution_count": 5,
   "id": "63a8d4f6",
   "metadata": {},
   "outputs": [
    {
     "data": {
      "text/plain": [
       "\"0000000000000000000000000000000000000000000000000000000000000001\""
      ]
     },
     "metadata": {},
     "output_type": "display_data"
    }
   ],
   "source": [
    "bitstring(eps(0.0)) # bit列の表示．これは問題ない．"
   ]
  },
  {
   "cell_type": "markdown",
   "id": "44386d94-d61b-49a7-968e-2b253e061205",
   "metadata": {},
   "source": [
    "## `NaN` (Not a Number)\n",
    "\n",
    "浮動小数点数において未定義な演算等を行った結果，`NaN` という特殊な浮動小数点数が発生することがある．\n",
    "\n",
    "例えば，0を0で割ると `Nan` が発生する．"
   ]
  },
  {
   "cell_type": "code",
   "execution_count": 23,
   "id": "22356668-aa9d-4f5d-b705-fb6c2ab18eb0",
   "metadata": {},
   "outputs": [
    {
     "data": {
      "text/plain": [
       "NaN"
      ]
     },
     "metadata": {},
     "output_type": "display_data"
    }
   ],
   "source": [
    "0 / 0"
   ]
  },
  {
   "cell_type": "markdown",
   "id": "a972d814-6986-4a17-a2f4-2bbe66fd2d3c",
   "metadata": {},
   "source": [
    "ちなみに0以外の正の浮動小数点数をゼロで割ると`Inf`になる．"
   ]
  },
  {
   "cell_type": "code",
   "execution_count": 24,
   "id": "f9b2d200-91a9-47e9-9278-d9413a0eae2e",
   "metadata": {},
   "outputs": [
    {
     "data": {
      "text/plain": [
       "Inf"
      ]
     },
     "metadata": {},
     "output_type": "display_data"
    }
   ],
   "source": [
    "1 / 0"
   ]
  },
  {
   "cell_type": "markdown",
   "id": "14ce5882-deb6-4099-bce5-38aa0a468bff",
   "metadata": {},
   "source": [
    "これ以外にも，`Inf`に関する四則演算の結果，`NaN` が発生することがある． "
   ]
  },
  {
   "cell_type": "code",
   "execution_count": 25,
   "id": "567bacc8-7a4c-4179-88f6-eb8079367c1a",
   "metadata": {},
   "outputs": [
    {
     "name": "stdout",
     "output_type": "stream",
     "text": [
      "Inf + Inf = Inf\n",
      "Inf - Inf = NaN\n",
      "Inf * Inf = Inf\n",
      "Inf * 0 = NaN\n",
      "Inf / Inf = NaN\n"
     ]
    },
    {
     "data": {
      "text/plain": [
       "NaN"
      ]
     },
     "metadata": {},
     "output_type": "display_data"
    }
   ],
   "source": [
    "@show Inf + Inf\n",
    "@show Inf - Inf    # ∞ - ∞\n",
    "@show Inf * Inf\n",
    "@show Inf * 0      # ∞ ✕ 0\n",
    "@show Inf / Inf    # ∞ ÷ ∞"
   ]
  },
  {
   "cell_type": "markdown",
   "id": "69003ef4-5113-49e6-bd3a-b2e49c02c21d",
   "metadata": {},
   "source": [
    "不定形の極限に対応するような演算を行うと `NaN` が発生すると覚えておけばよい．\n",
    "\n",
    "<div class=\"alert alert-block alert-warning\">\n",
    "Warning:\n",
    " `Inf` や `NaN` の発生を前提としたコード設計はしないようにしてください．\n",
    "\n",
    "`Inf` や `NaN`の挙動を完全に把握することは非常に困難で，bug （プログラムにおける予期しない動作やエラー）\n",
    "を生みやすいです．  \n",
    "さらに，読み手にとっても理解しにくいコードになります．  \n",
    "Juliaでは `isfinite(x)` で `x` が有限値であるかどうか， `isnan(x)`で `x` が `NaN` であるかどうかの判定ができます．\n",
    "</div>"
   ]
  },
  {
   "cell_type": "markdown",
   "id": "6784b041",
   "metadata": {},
   "source": [
    "## 変数に`Inf`や`NaN`ではないことの確認"
   ]
  },
  {
   "cell_type": "markdown",
   "id": "d2db4bb0",
   "metadata": {},
   "source": [
    "`Float64`型の変数は， `Inf`あるいは`NaN`といった小数ではない特殊値を取りうる．  \n",
    "これらを判定するには，`isfinite()`，`isinf()`，`isnan()`を使う．"
   ]
  },
  {
   "cell_type": "code",
   "execution_count": 17,
   "id": "37701987",
   "metadata": {},
   "outputs": [
    {
     "name": "stdout",
     "output_type": "stream",
     "text": [
      "isfinite(1) = true\n",
      "isfinite(-Inf) = false\n",
      "isfinite(NaN) = false\n"
     ]
    }
   ],
   "source": [
    "@show isfinite(1) isfinite(-Inf) isfinite(NaN);"
   ]
  },
  {
   "cell_type": "code",
   "execution_count": 15,
   "id": "327202ad",
   "metadata": {},
   "outputs": [
    {
     "name": "stdout",
     "output_type": "stream",
     "text": [
      "isnan(1) = false\n",
      "isnan(-Inf) = false\n",
      "isnan(NaN) = true\n"
     ]
    }
   ],
   "source": [
    "@show isnan(1) isnan(-Inf) isnan(NaN);"
   ]
  },
  {
   "cell_type": "code",
   "execution_count": 13,
   "id": "a930445f",
   "metadata": {},
   "outputs": [
    {
     "name": "stdout",
     "output_type": "stream",
     "text": [
      "isinf(1) = false\n",
      "isinf(-Inf) = true\n",
      "isnan(NaN) = true\n"
     ]
    }
   ],
   "source": [
    "@show isinf(1) isinf(-Inf) isnan(NaN);"
   ]
  },
  {
   "cell_type": "markdown",
   "id": "a400b464",
   "metadata": {},
   "source": [
    "`ComplexF64`型も同様に判定できる．"
   ]
  },
  {
   "cell_type": "code",
   "execution_count": 21,
   "id": "acafe81e",
   "metadata": {},
   "outputs": [
    {
     "name": "stdout",
     "output_type": "stream",
     "text": [
      "isfinite(1) = true\n",
      "isfinite(1 - Inf * im) = false\n",
      "isfinite(Inf + NaN * im) = false\n",
      "isinf(1) = false\n",
      "isinf(1 - Inf * im) = true\n",
      "isinf(Inf + NaN * im) = true\n",
      "isnan(1) = false\n",
      "isnan(1 - Inf * im) = false\n",
      "isnan(Inf + NaN * im) = true\n"
     ]
    }
   ],
   "source": [
    "@show isfinite(1) isfinite(1 - Inf*im)  isfinite(Inf + NaN*im)\n",
    "@show isinf(1) isinf(1 - Inf*im)  isinf(Inf + NaN*im)\n",
    "@show isnan(1) isnan(1 - Inf*im)  isnan(Inf + NaN*im);"
   ]
  }
 ],
 "metadata": {
  "kernelspec": {
   "display_name": "Julia 1.11.2",
   "language": "julia",
   "name": "julia-1.11"
  },
  "language_info": {
   "file_extension": ".jl",
   "mimetype": "application/julia",
   "name": "julia",
   "version": "1.11.2"
  }
 },
 "nbformat": 4,
 "nbformat_minor": 5
}
