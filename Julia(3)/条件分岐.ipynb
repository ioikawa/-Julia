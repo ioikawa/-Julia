{
 "cells": [
  {
   "cell_type": "markdown",
   "id": "44328ec7-8dee-4423-9b09-b55b62b1df49",
   "metadata": {},
   "source": [
    "# 条件分岐\n",
    "次の関数は引数 `x` が `x>0` であるときに \"positive\" という文字列を返却する．"
   ]
  },
  {
   "cell_type": "code",
   "execution_count": null,
   "id": "020ca77b-cfd7-41b8-bc6e-c031ba08b099",
   "metadata": {},
   "outputs": [
    {
     "name": "stdout",
     "output_type": "stream",
     "text": [
      "ispositive(1) = \"positive\"\n",
      "ispositive(-100) = nothing\n"
     ]
    }
   ],
   "source": [
    "function is_positive(x)\n",
    "    if x > 0   # 条件式 \n",
    "        \"Positive\"  # 条件式が true のときのみ実行\n",
    "    end\n",
    "end\n",
    "\n",
    "@show is_positive(1);\n",
    "@show is_positive(-100);\n"
   ]
  },
  {
   "cell_type": "markdown",
   "id": "c9f572b9",
   "metadata": {},
   "source": [
    "`if x>0` は `x>0`のときに限り，中のコードが実行される．"
   ]
  },
  {
   "cell_type": "markdown",
   "id": "95680f15-a0ef-4a62-bcfc-0e2bbd0cd427",
   "metadata": {},
   "source": [
    "さｒに，`x < 0` のとき \"Negative\" と返したい場合は，`elseif` で条件式を追加すればよい．"
   ]
  },
  {
   "cell_type": "code",
   "execution_count": 12,
   "id": "b755c234-edd7-4313-8548-c169133341d1",
   "metadata": {},
   "outputs": [
    {
     "name": "stdout",
     "output_type": "stream",
     "text": [
      "is_positive_or_negative(1) = \"Positive\"\n",
      "is_positive_or_negative(-100) = \"Negative\"\n"
     ]
    }
   ],
   "source": [
    "function is_positive_or_negative(x)\n",
    "    if x > 0 \n",
    "        \"Positive\"\n",
    "    elseif x < 0      # <== 追加\n",
    "        \"Negative\"    # <== 追加\n",
    "    end\n",
    "end\n",
    "\n",
    "@show is_positive_or_negative(1);\n",
    "@show is_positive_or_negative(-100);"
   ]
  },
  {
   "cell_type": "markdown",
   "id": "7b0614ac-0d4d-40d8-9a64-39791f6dc90d",
   "metadata": {},
   "source": [
    "`x<0` でも `x>0` でもないときは，`x` は 0 と言いたいところだが，それ以外の可能性もありうる．  \n",
    " `else` を用いて次のように書いておこう．"
   ]
  },
  {
   "cell_type": "code",
   "execution_count": 20,
   "id": "56a80d83-91e4-475d-aac3-70a3fccfbb7d",
   "metadata": {},
   "outputs": [
    {
     "name": "stdout",
     "output_type": "stream",
     "text": [
      "show_sign(1) = \"Positive\"\n",
      "show_sign(-100) = \"Negative\"\n",
      "show_sign(0) = \"Zero or something\"\n",
      "show_sign(NaN) = \"Zero or something\"\n"
     ]
    }
   ],
   "source": [
    "function show_sign(x)\n",
    "    if x > 0 \n",
    "        \"Positive\"\n",
    "    elseif x < 0      \n",
    "        \"Negative\"\n",
    "    else                      # <== 追加\n",
    "        \"Zero or something\"   # <== 追加\n",
    "    end\n",
    "end\n",
    "\n",
    "@show show_sign(1);\n",
    "@show show_sign(-100);\n",
    "@show show_sign(0);\n",
    "@show show_sign(NaN);"
   ]
  },
  {
   "cell_type": "markdown",
   "id": "6835e135",
   "metadata": {},
   "source": [
    "if文は入れ子にできる．  \n",
    "次のように書いても同じであるが，if-elseif-else構文より読みにくい．\n",
    "\n",
    "```\n",
    "if x > 0 \n",
    "    \"Positive\"\n",
    "else\n",
    "    if x < 0      \n",
    "        \"Negative\"\n",
    "    else                      \n",
    "        \"Zero or something\"   \n",
    "    end\n",
    "end\n",
    "```"
   ]
  },
  {
   "cell_type": "markdown",
   "id": "be7d4214-15af-4230-8974-96c269af755d",
   "metadata": {},
   "source": [
    "## 比較演算子\n",
    "変数や値を比較する演算子は次の通り．\n",
    "\n",
    "| 比較演算子 | 条件式     |\n",
    "|---------|------------|\n",
    "| `x == y`|  $x=y$     |    \n",
    "| `x != y`|  $x\\neq y$ |    \n",
    "| `x > y` |  $x > y$   |    \n",
    "| `x >= y`| $x \\ge y$ |    \n",
    "\n",
    "論理積（AND）は `&&`，論理和 (OR) は `||` が対応している．例えば，"
   ]
  },
  {
   "cell_type": "code",
   "execution_count": 4,
   "id": "c815943f-afec-4455-a52a-7e756c5bc57f",
   "metadata": {},
   "outputs": [
    {
     "data": {
      "text/plain": [
       "true"
      ]
     },
     "execution_count": 4,
     "metadata": {},
     "output_type": "execute_result"
    }
   ],
   "source": [
    "1 < 2 && 2 < 3"
   ]
  },
  {
   "cell_type": "markdown",
   "id": "fe2d0722-ba8b-437a-8ebc-ba8121afb569",
   "metadata": {},
   "source": [
    "これは次のように書くこともできる．"
   ]
  },
  {
   "cell_type": "code",
   "execution_count": 5,
   "id": "abfab409-9f6c-416a-8150-0733245f9378",
   "metadata": {},
   "outputs": [
    {
     "data": {
      "text/plain": [
       "true"
      ]
     },
     "execution_count": 5,
     "metadata": {},
     "output_type": "execute_result"
    }
   ],
   "source": [
    "1 < 2 < 3"
   ]
  },
  {
   "cell_type": "markdown",
   "id": "2f966925-2dcf-4d2a-8457-f02a25255aec",
   "metadata": {},
   "source": [
    "## 短絡評価\n",
    "```\n",
    "x=1\n",
    "if x > 0 \n",
    "    println(\"$x is positive.\")\n",
    "end\n",
    "\n",
    "```"
   ]
  },
  {
   "cell_type": "markdown",
   "id": "07fc1267-9910-43b4-8fe7-35f366c8b46a",
   "metadata": {},
   "source": [
    "という条件分岐コードは `&&` を用いて次のように書くこともできる．"
   ]
  },
  {
   "cell_type": "code",
   "execution_count": 6,
   "id": "90b616f8-8b44-4138-aa54-7597590a6143",
   "metadata": {},
   "outputs": [
    {
     "name": "stdout",
     "output_type": "stream",
     "text": [
      "1 is positive.\n"
     ]
    }
   ],
   "source": [
    "x=1\n",
    "x>0 && println(\"$x is positive.\")"
   ]
  },
  {
   "cell_type": "markdown",
   "id": "eca1a9e2-12bd-4430-a343-4a8075668023",
   "metadata": {},
   "source": [
    "最初に 前方の `x > 0` の評価が行われ， `true` ならば後方（`println`部分）の評価が行われる．\n",
    "\n",
    "\n",
    "もし，`false` ならば，残りの条件式の評価はスキップされる．"
   ]
  }
 ],
 "metadata": {
  "kernelspec": {
   "display_name": "Julia 1.11.2",
   "language": "julia",
   "name": "julia-1.11"
  },
  "language_info": {
   "file_extension": ".jl",
   "mimetype": "application/julia",
   "name": "julia",
   "version": "1.11.2"
  }
 },
 "nbformat": 4,
 "nbformat_minor": 5
}
