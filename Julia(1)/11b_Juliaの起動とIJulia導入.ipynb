{
 "cells": [
  {
   "cell_type": "markdown",
   "id": "8e74a4fb-1935-4ca8-80d4-e5ee5cd98945",
   "metadata": {},
   "source": [
    "# Juliaの起動とIJulia導入"
   ]
  },
  {
   "cell_type": "markdown",
   "id": "087a6e0f-4899-4315-992d-264fb8c55d9b",
   "metadata": {},
   "source": [
    "### Juliaの起動\n",
    "- はじめに Terminal を`Ctrl+Alt+T` あるいは 「`Super` (Windowsキーのこと）＞検索窓で`terminal`と入力＞Terminalアイコン」で起動する．\n",
    "- Terminalのプロンプトで \n",
    "```\n",
    "$ julia \n",
    "```\n",
    "と入力し，Enterを押す．\n",
    "\n",
    "- Juliaが起動後，**Juliaのバージョンが v1.6.7 である**ことを確認してほしい．\n",
    "- 全学計算機ではこれ以外のバージョンでは Jupyter Notebook が正常に動作しない．\n",
    "<img src = \"./RunJulia.png\" width=70%> \n"
   ]
  },
  {
   "cell_type": "markdown",
   "id": "e96cd9f7-cc3e-466a-ba35-e3476b8541d5",
   "metadata": {},
   "source": [
    "## Jupyter Notebook の導入: cf. [GitHub](https://github.com/JuliaLang/IJulia.jl)\n",
    "\n",
    "- `julia>` プロンプトで`]`キーを押して`pkg`モードに入り，IJuliaパッケージを追加する．\n",
    "\n",
    "```\n",
    "julia> ]  \n",
    "pkg> add IJulia\n",
    "```\n",
    "\n",
    "\n",
    "- `backspace`キーなどで `pkg`をモードを抜ける．下記のコマンドを実行する．\n",
    "```\n",
    "julia> using IJulia\n",
    "\n",
    "julia> notebook()\n",
    "```\n",
    "\n",
    "- IJuliaパッケージが正常に導入されていれば，ブラウザが立ち上がり，Jupyter Notebookが起動する．\n",
    "\n",
    "\n",
    "\n",
    "- 一度上記手順でIJuliaパッケージの導入が完了すれば，次回からは terminal からJupyter Notebook を起動しても良い．\n",
    "```\n",
    " $ jupyter notebook\n",
    "```\n",
    "\n",
    "### `add IJulia`実行時にエラーが発生する場合\n",
    "- `add Julia` 実行時にエラーが発生したら，再度 `add IJulia` を実行してみる．それでもエラーが発生する場合は要相談．\n",
    "- `using IJulia` を実行したときにエラーが発生する場合は，IJuliaをビルドしてから再度，同じ手順でJupyter Notebookの起動を試してみる．\n",
    "```\n",
    "julia> ]\n",
    "pkg> build IJulia\n",
    "julia> notebook()\n",
    "```\n",
    "\n",
    "### Jupyter Notebook起動時にブラウザが立ち上がらない（表示されない）場合\n",
    "- Terminalから `jupyter notebook` を実行し，出力ログから <br>\n",
    "```\n",
    "http://localhost:8888/?token=abcd12345678...\n",
    "```\n",
    "をコピーし，ブラウザのURL欄に貼り付けて開く．\n",
    "- すでに Jupyter Notebook を起動している場合は，次のコマンドでアドレスが表示される．\n",
    "```\n",
    " $ jupyter notebook list\n",
    "```"
   ]
  },
  {
   "cell_type": "markdown",
   "id": "e68271e5-a443-4708-982d-a562dc9eab2a",
   "metadata": {},
   "source": [
    "## Jupyter Notebookの動作確認\n",
    "\n",
    "- `新規(New)＞Julia 1.6.7`を選択し，空のノートブックを開く．\n",
    "\n",
    "<img src=\"./JupyterNotebook.png\" width=70%>\n",
    "          \n",
    "- セルに`versioninfo()`を入力し，`Shift+Enter`を押す．以下のように表示されればOK.\n"
   ]
  },
  {
   "cell_type": "code",
   "execution_count": 1,
   "id": "970073b9-8dde-4f0a-8c34-512814a18aa6",
   "metadata": {},
   "outputs": [
    {
     "name": "stdout",
     "output_type": "stream",
     "text": [
      "Julia Version 1.6.7\n",
      "Commit 3b76b25b64 (2022-07-19 15:11 UTC)\n",
      "Platform Info:\n",
      "  OS: Linux (x86_64-pc-linux-gnu)\n",
      "  CPU: AMD Ryzen 9 5950X 16-Core Processor\n",
      "  WORD_SIZE: 64\n",
      "  LIBM: libopenlibm\n",
      "  LLVM: libLLVM-11.0.1 (ORCJIT, generic)\n"
     ]
    }
   ],
   "source": [
    "versioninfo()"
   ]
  },
  {
   "cell_type": "markdown",
   "id": "b3baeb5a-29f9-4a77-8200-2d8f69ba8d78",
   "metadata": {},
   "source": [
    "## Jupyter Notebook の操作メモ：[User Documentation](https://jupyter-notebook.readthedocs.io/en/latest/notebook.html)\n",
    "- Command mode: セルに対しコピーや移動などの操作を行うモード\n",
    "    - `Enter`: 選択セルに対して edit modeに入る\n",
    "    - `m`: セルを Markdown に変更\n",
    "    - `y`: セルを Code に変更\n",
    "- Edit mode: セルの内容を編集するモード\n",
    "    - `Esc`: command modeに変更\n"
   ]
  },
  {
   "cell_type": "markdown",
   "id": "9b1d1211-77fd-4577-bcaf-ff320ec6644c",
   "metadata": {},
   "source": [
    "## ノーブックファイルの保存\n",
    "- ノートブックを開いた時点でノートブックファイルは`Untitled.ipynb`というファイル名で保存されている．\n",
    "- ファイル名を変更するには，上部に表示されているファイル名 (`Untitled.ipynb`)をクリックするか，`ファイル＞リネーム`を選択する．\n",
    "- レポートのファイル名は授業で説明があった通りに適切に設定する．\n",
    "\n",
    "## HTMLファイルへの変換\n",
    "-  `ファイル＞名前を付けてダウンロード＞HTML (.html) `を選択．\n",
    "- ipynbファイルがHTML形式に変換されて保存される．\n"
   ]
  }
 ],
 "metadata": {
  "kernelspec": {
   "display_name": "Julia 1.9.0-beta3",
   "language": "julia",
   "name": "julia-1.9"
  },
  "language_info": {
   "file_extension": ".jl",
   "mimetype": "application/julia",
   "name": "julia",
   "version": "1.9.0"
  }
 },
 "nbformat": 4,
 "nbformat_minor": 5
}
