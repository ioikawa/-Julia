{
 "cells": [
  {
   "cell_type": "markdown",
   "id": "1531efd1-5154-440f-88a0-e572e7648e4f",
   "metadata": {},
   "source": [
    "# 文字列：[Strings](https://docs.julialang.org/en/v1/manual/strings/)\n",
    "\n",
    "## 文字列リテラル\n",
    "\n",
    "`\" ... \"`で囲まれた部分はコードではなく，文字列（リテラル）となる．"
   ]
  },
  {
   "cell_type": "code",
   "execution_count": 1,
   "id": "7bfc3452-093f-4035-a97c-523b757983c7",
   "metadata": {},
   "outputs": [
    {
     "data": {
      "text/plain": [
       "\"Hello, World!\""
      ]
     },
     "execution_count": 1,
     "metadata": {},
     "output_type": "execute_result"
    }
   ],
   "source": [
    "\"Hello, World!\""
   ]
  },
  {
   "cell_type": "markdown",
   "id": "1003c2c2-2a17-4cc9-b34d-77122a4a7a71",
   "metadata": {},
   "source": [
    "文字列の連結は `*` で行う．"
   ]
  },
  {
   "cell_type": "code",
   "execution_count": 2,
   "id": "07f92274-a27d-4902-a69a-a058588957f5",
   "metadata": {},
   "outputs": [
    {
     "data": {
      "text/plain": [
       "\"Hello, World!\""
      ]
     },
     "execution_count": 2,
     "metadata": {},
     "output_type": "execute_result"
    }
   ],
   "source": [
    "\"Hello, \" * \"World!\""
   ]
  },
  {
   "cell_type": "markdown",
   "id": "9724142d-8c5a-407c-8f87-8540d3b7e5e7",
   "metadata": {},
   "source": [
    "累乗 `^` で文字列を繰り返し連結できる．"
   ]
  },
  {
   "cell_type": "code",
   "execution_count": 3,
   "id": "3c371f12-2bf0-44b6-a6b0-926b7afd8ab4",
   "metadata": {},
   "outputs": [
    {
     "data": {
      "text/plain": [
       "\"Hello!Hello!Hello!Hello!Hello!\""
      ]
     },
     "execution_count": 3,
     "metadata": {},
     "output_type": "execute_result"
    }
   ],
   "source": [
    "\"Hello!\"^5"
   ]
  },
  {
   "cell_type": "markdown",
   "id": "396e584d-86cd-44a6-80bd-cb3181ac873d",
   "metadata": {},
   "source": [
    "## 文字列の出力: `println()`  "
   ]
  },
  {
   "cell_type": "markdown",
   "id": "d94cd659-fd87-4e15-a998-458b124219d1",
   "metadata": {},
   "source": [
    "文字列を明示的に出力するには `println()`を用いる．"
   ]
  },
  {
   "cell_type": "code",
   "execution_count": 4,
   "id": "2ad7db6f-c4e9-42d9-a251-826233dd168c",
   "metadata": {},
   "outputs": [
    {
     "name": "stdout",
     "output_type": "stream",
     "text": [
      "Hello, World!\n"
     ]
    }
   ],
   "source": [
    "println(\"Hello, World!\")"
   ]
  },
  {
   "cell_type": "markdown",
   "id": "e911e337-aa3c-45c9-8834-3f8b53ea1b3e",
   "metadata": {},
   "source": [
    "`println()`は自動的に末尾に改行コードが入るが，`print()`は入らない．"
   ]
  },
  {
   "cell_type": "code",
   "execution_count": 5,
   "id": "32f60084-fe94-4fca-b99f-d5b86bf7f733",
   "metadata": {},
   "outputs": [
    {
     "name": "stdout",
     "output_type": "stream",
     "text": [
      "Hello, \n",
      "World!\n"
     ]
    }
   ],
   "source": [
    "println(\"Hello, \")       # 改行あり\n",
    "println(\"World!\")     # 改行あり"
   ]
  },
  {
   "cell_type": "code",
   "execution_count": 6,
   "id": "5e2c6507-07cc-4eec-9e1d-0cc043c52564",
   "metadata": {},
   "outputs": [
    {
     "name": "stdout",
     "output_type": "stream",
     "text": [
      "Hello, World!"
     ]
    }
   ],
   "source": [
    "print(\"Hello, \")       # 改行なし\n",
    "print(\"World!\")     # 改行なし"
   ]
  },
  {
   "cell_type": "markdown",
   "id": "7697142d-dced-4363-8548-1c9d1464a459",
   "metadata": {},
   "source": [
    "文字列中の`\\n`は改行と解釈される．"
   ]
  },
  {
   "cell_type": "code",
   "execution_count": 7,
   "id": "f083d239-c39a-4f17-953f-dd4da9326eaa",
   "metadata": {},
   "outputs": [
    {
     "name": "stdout",
     "output_type": "stream",
     "text": [
      "Hello, \n",
      "World!\n"
     ]
    }
   ],
   "source": [
    "println(\"Hello, \\nWorld!\")  "
   ]
  },
  {
   "cell_type": "markdown",
   "id": "181ac782-5ee5-4e72-adf6-d0620198dba8",
   "metadata": {},
   "source": [
    "複数行の文字列は，`\"\"\" ... \"\"\"` で囲む．"
   ]
  },
  {
   "cell_type": "code",
   "execution_count": 8,
   "id": "7e200b5a-1ef2-456b-8caa-635c6ccbc0b1",
   "metadata": {},
   "outputs": [
    {
     "name": "stdout",
     "output_type": "stream",
     "text": [
      "Hello,\n",
      "World!\n",
      "\n"
     ]
    }
   ],
   "source": [
    "println(\"\"\"\n",
    "    Hello,\n",
    "    World!\n",
    "    \"\"\")"
   ]
  }
 ],
 "metadata": {
  "kernelspec": {
   "display_name": "Julia 1.11.2",
   "language": "julia",
   "name": "julia-1.11"
  },
  "language_info": {
   "file_extension": ".jl",
   "mimetype": "application/julia",
   "name": "julia",
   "version": "1.11.2"
  }
 },
 "nbformat": 4,
 "nbformat_minor": 5
}
