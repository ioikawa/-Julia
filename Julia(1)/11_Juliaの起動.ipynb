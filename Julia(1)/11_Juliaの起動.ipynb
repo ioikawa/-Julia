{
 "cells": [
  {
   "cell_type": "markdown",
   "id": "8c96e044-eff9-4972-be78-f53065911a88",
   "metadata": {},
   "source": [
    "# Juliaの起動とIJuliaパッケージの導入\n",
    "全学計算機システムのUbuntu環境におけるJuliaの起動からJupyter Notebookの導入手順まで\n",
    "説明する．\n",
    "\n",
    "## Ubuntuの起動\n",
    " 端末の電源をONにした後，OS選択画面でUbuntuを選択する．\n",
    " \n",
    " Ubuntuにログインすると，デスクトップ画面には次のようなインターフェースが現れる．\n",
    " \n",
    "（Launcherのアイコンはカスタマイズ可能で，人によって異なる．）\n",
    "\n",
    "<img src = \"UbuntuDesktop.png\" width=70%> \n",
    "\n",
    "\n"
   ]
  },
  {
   "cell_type": "markdown",
   "id": "087a6e0f-4899-4315-992d-264fb8c55d9b",
   "metadata": {},
   "source": [
    "### Juliaの起動\n",
    "はじめに Terminal を`Ctrl+Alt+T` あるいは 「`Super` (Windowsキーのこと）＞検索窓で`terminal`と入力＞Terminalアイコン」\n",
    "で起動する．Terminalのプロンプトで \n",
    "```\n",
    "$ julia \n",
    "```\n",
    "と入力し，Enterを押す．\n",
    "\n",
    "Juliaが起動後，**Juliaのバージョンが v1.6.7 である**ことを確認してほしい．<br>\n",
    "（v1.9.3 では Jupyter Notebook で正常に動作しない．）\n",
    "\n",
    "<img src = \"./RunJulia.png\" width=70%> \n",
    "\n",
    "<!--\n",
    "【注意】2023年度の全学計算機システムには v1.9.3 と v1.6.7 (LTS) の両方がインストールされている．\n",
    " リモートデスクトップでは `$ julia` で v1.6.7 が起動するが，サテライト室の端末では v1.9.3が起動してしまう．\n",
    "-->"
   ]
  },
  {
   "cell_type": "markdown",
   "id": "e96cd9f7-cc3e-466a-ba35-e3476b8541d5",
   "metadata": {},
   "source": [
    "## Jupyter Notebook の導入: cf. [GitHub](https://github.com/JuliaLang/IJulia.jl)\n",
    "\n",
    "1. `julia>` プロンプトで`]`キーを押して`pkg`モードに入り，IJuliaパッケージを追加する．\n",
    "\n",
    "```\n",
    "julia> ]  \n",
    "pkg> add IJulia\n",
    "```\n",
    "\n",
    "\n",
    "2. `backspace`キーなどで `pkg`をモードを抜ける．下記のコマンドを実行する．\n",
    "```\n",
    "julia> using IJulia\n",
    "\n",
    "julia> notebook()\n",
    "```\n",
    "\n",
    "IJuliaパッケージが正常に導入されていれば，ブラウザが立ち上がり，Jupyter Notebookが起動する．\n",
    "\n",
    "### ⚠️エラー発生時に試すこと\n",
    "- `add Julia` 実行時にエラーが発生したら，再度 `add IJulia` を実行してみる．それでもエラーが発生する場合は要相談．\n",
    "- `using IJulia` を実行したときにエラーが発生する場合は，IJuliaをビルドしてから再度，同じ手順でJupyter Notebookの起動を試してみる．\n",
    "```\n",
    "julia> ]\n",
    "pkg> build IJulia\n",
    "julia> notebook()\n",
    "```\n",
    "\n"
   ]
  },
  {
   "cell_type": "markdown",
   "id": "e68271e5-a443-4708-982d-a562dc9eab2a",
   "metadata": {},
   "source": [
    "## Jupyter Notebookの動作確認\n",
    "\n",
    "`新規＞Julia 1.6.7`を選択し，空のノートブックを開く．\n",
    "\n",
    "<img src=\"./JupyterNotebook.png\" width=70%>\n",
    "          \n",
    "セルに`versioninfo()`を入力し，`Shift+Enter`を押す．\n"
   ]
  },
  {
   "cell_type": "code",
   "execution_count": 1,
   "id": "970073b9-8dde-4f0a-8c34-512814a18aa6",
   "metadata": {},
   "outputs": [
    {
     "name": "stdout",
     "output_type": "stream",
     "text": [
      "Julia Version 1.6.7\n",
      "Commit 3b76b25b64 (2022-07-19 15:11 UTC)\n",
      "Platform Info:\n",
      "  OS: Linux (x86_64-pc-linux-gnu)\n",
      "  CPU: AMD Ryzen 9 5950X 16-Core Processor\n",
      "  WORD_SIZE: 64\n",
      "  LIBM: libopenlibm\n",
      "  LLVM: libLLVM-11.0.1 (ORCJIT, generic)\n"
     ]
    }
   ],
   "source": [
    "versioninfo()"
   ]
  },
  {
   "cell_type": "markdown",
   "id": "f5fa1537-b6ff-4c34-bb44-22df4978c0e4",
   "metadata": {},
   "source": [
    "このように表示されればOK."
   ]
  },
  {
   "cell_type": "markdown",
   "id": "b3baeb5a-29f9-4a77-8200-2d8f69ba8d78",
   "metadata": {},
   "source": [
    "## Jupyter Notebook の操作メモ：[User Documentation](https://jupyter-notebook.readthedocs.io/en/latest/notebook.html)\n",
    "- Command mode: セルに対しコピーや移動などの操作を行うモード\n",
    "    - `Enter`: 選択セルに対して edit modeに入る\n",
    "    - `m`: セルを Markdown に変更\n",
    "    - `y`: セルを Code に変更\n",
    "- Edit mode: セルの内容を編集するモード\n",
    "    - `Esc`: command modeに変更\n"
   ]
  },
  {
   "cell_type": "markdown",
   "id": "9b1d1211-77fd-4577-bcaf-ff320ec6644c",
   "metadata": {},
   "source": [
    "## ノーブックファイルの保存とPDFファイルへの変換\n",
    "ノートブックを開いた時点でノートブックファイルは`Untitled.ipynb`\n",
    "というファイル名で保存されている．\n",
    "<br>\n",
    "ファイル名を変更するには，上部に表示されているファイル名 (`Untitled.ipynb`)をクリックするか，\n",
    "`ファイル＞リネーム`を選択する．\n",
    "<br>\n",
    "レポートのファイル名は授業で説明があった通りに適切に設定する．\n",
    "\n",
    "PDFファイルへの変換にはブラウザの印刷機能を用いる．\n",
    "\n",
    "1. `ファイル＞印刷プレビュー`と選択するとノートブックがHTML変換されて表示される．\n",
    "2. ブラウザの印刷ダイアログを開く（例えば，`メニュー＞ファイル＞印刷`or `右クリック＞印刷`，など）．\n",
    "3. 送信先が`PDFに保存`になっていることを確認し，保存ボタンを押す．\n",
    "（これはChromeブラウザの場合で，他のブラウザでは表記が異なる可能性がある．）\n"
   ]
  },
  {
   "cell_type": "code",
   "execution_count": null,
   "id": "c1f12612-bd63-4a5b-a8c4-f3a80eba56f8",
   "metadata": {},
   "outputs": [],
   "source": []
  }
 ],
 "metadata": {
  "kernelspec": {
   "display_name": "Julia 1.6.7",
   "language": "julia",
   "name": "julia-1.6"
  },
  "language_info": {
   "file_extension": ".jl",
   "mimetype": "application/julia",
   "name": "julia",
   "version": "1.6.7"
  }
 },
 "nbformat": 4,
 "nbformat_minor": 5
}
