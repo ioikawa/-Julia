{
 "cells": [
  {
   "cell_type": "markdown",
   "id": "2f943146",
   "metadata": {},
   "source": [
    "\n",
    "# Jupyter Notebookの準備\n",
    "\n",
    "Julia の実行環境として，Jupyter Notebook (ジュピターノートブック）の準備を行う．\n",
    "\n",
    "Jupyter は Julia, Python, R などのプログラミング言語に対してインタラクティブな実行環境\n",
    "を提供するソフトウェア群である．\n",
    "\n",
    "ここでは，Webブラウザ上でJuliaを実行できる Jupyter Notebook を導入する．\n",
    "\n",
    "全学計算機システムでは （Windows, Ubuntuともに） Jupyter Notebook はインストール済みであるが，\n",
    "Juliaカーネル と Jupyter Notebook を連携するために，**IJuliaパッケージのインストール**を行う必要がある．\n",
    "\n",
    "  \n",
    "## Juliaの起動\n",
    "\n",
    "はじめに，Julia を起動する．\n",
    "\n",
    "<img src=\"win-julia.png\" width=50%>\n",
    "\n",
    "\n",
    "プロンプト `julia>` にコマンドを入力して実行することができる．\n",
    "<br>\n",
    "このモードを [Julian mode](https://docs.julialang.org/en/v1/stdlib/REPL/#The-Julian-mode) と呼ぶ．\n",
    "\n",
    "<img src=\"julia-app.png\" width=50%>\n"
   ]
  },
  {
   "cell_type": "markdown",
   "id": "ed401d81",
   "metadata": {},
   "source": [
    "コマンドの入力と結果の出力を交互に繰り返す実行環境を REPL(read-eval-print loop) という．"
   ]
  },
  {
   "cell_type": "markdown",
   "id": "1780ac25",
   "metadata": {},
   "source": [
    "## IJuliaパッケージのインストール\n",
    "\n",
    "`]`キーで**pkgモード**に入る．\n",
    "\n",
    "```\n",
    "pkg> add IJulia  <ENTER> \n",
    "```\n",
    "を実行する．`<ENTER>`はEnter(Return)キーを押すという意味．\n",
    "\n",
    "実行後しばらく待つと，ログ（経過出力）の最後に\n",
    "```\n",
    "15 dependencies successfully precompiled in 29 seconds\n",
    "```\n",
    "のように表示されていることを確認しよう．\n",
    "これでIJuliaインストールは正常に\n",
    "\n",
    "\n",
    "<div class=\"alert alert-block alert-warning\"> \n",
    "Warning: `fail` や `ERROR` 等の文字列が表示されている場合はエラーが発生しているので，再度 `add Julia` を実行する．\n",
    "それでもエラーが発生する場合は速やかに報告してください．\n",
    "</div>"
   ]
  },
  {
   "cell_type": "markdown",
   "id": "4c3ab1ac",
   "metadata": {},
   "source": [
    "## Juliaカーネルの登録\n",
    "続けて，Jupyter notebookへJuliaカーネルを登録する．\n",
    "（まだpkgモードにいる場合は，`backspace`キーでjulian modeに戻る）\n",
    "\n",
    "```\n",
    "juila> using IJulia; notebook(detached=true)\n",
    "```\n",
    "\n",
    "これでJupyter NotebookへJuliaカーネルの登録が行われ，Webブラウザが立ち上がる．\n",
    "カーネルの登録作業は１度だけでよい．次回以降は直接，Jupyter Notebookを起動する．\n",
    "\n",
    "<div class=\"alert alert-block alert-info\"> \n",
    "Note: UbuntuではIJuliaパッケージはインストール済みである．\n",
    "ただし，REPLモードで下記コマンドを１度だけ実行する必要がある．\n",
    "\n",
    "```\n",
    "using IJulia\n",
    "IJulia.installkernel(\"Julia MyProjectEnv\", \"--project=$(Base.active_project())\")\n",
    "notebook(detached=true)\n",
    "```\n",
    "</div>\n",
    "\n",
    "## Jupyter Notebookの起動\n",
    "Jupyter Notebookアプリを起動する．\n",
    "\n",
    "デフォルトブラウザが立ち上がってJupyter Notebookの画面が表示される．\n",
    "\n",
    "ここでは動作確認のため，新規で空のノートブックを作成する．\n",
    "右側にある `New`＞`Julia 1.10.3` を選択する．\n",
    "（バージョン`1.10.3` はインストールされているJuliaのバージョン）\n",
    "\n",
    "空のセルに適当なコマンドを入れて実行してみよう．"
   ]
  },
  {
   "cell_type": "code",
   "execution_count": 3,
   "id": "c1fba3c1",
   "metadata": {},
   "outputs": [
    {
     "data": {
      "text/plain": [
       "3"
      ]
     },
     "execution_count": 3,
     "metadata": {},
     "output_type": "execute_result"
    }
   ],
   "source": [
    "1 + 2  # <Shift+Enter>"
   ]
  },
  {
   "cell_type": "markdown",
   "id": "1a4d3261",
   "metadata": {},
   "source": [
    "<div class=\"alert alert-block alert-warning\"> \n",
    "⚠️ ここでエラーが発生する場合はJupyter NotebookにJuliaカーネルが正常に連携されていない可能性が高いので，\n",
    "IJuliaを再インストールをしてください．\n",
    "</div>"
   ]
  },
  {
   "cell_type": "markdown",
   "id": "eddc2bf5",
   "metadata": {},
   "source": [
    "## Jupyter Notebook の操作メモ：[User Documentation](https://jupyter-notebook.readthedocs.io/en/latest/notebook.html)\n",
    "- Command mode: セルに対しコピーや移動などの操作を行うモード\n",
    "    - `Enter`: 選択セルに対して edit modeに入る\n",
    "    - `m`: セルを Markdown に変更\n",
    "    - `y`: セルを Code に変更\n",
    "- Edit mode: セルの内容を編集するモード\n",
    "    - `Esc`: command modeに変更\n"
   ]
  },
  {
   "cell_type": "markdown",
   "id": "1d8f8a9b",
   "metadata": {},
   "source": [
    "## ノーブックファイルの保存\n",
    "ノートブックを開いた時点でノートブックファイルは`Untitled.ipynb`\n",
    "というファイル名で保存されている．\n",
    "<br>\n",
    "ファイル名を変更するには，上部に表示されているファイル名 (`Untitled.ipynb`)をクリックするか，\n",
    "`ファイル＞リネーム`を選択する．\n",
    "\n",
    "\n",
    "## HTMLファイルへの変換\n",
    "`File＞Download as＞HTML(.html)`と選択するとHTMLに変換されたノートブックがダウンロードされる．\n"
   ]
  },
  {
   "cell_type": "code",
   "execution_count": null,
   "id": "b4edc35c-7b53-4368-9c57-a073f4453d44",
   "metadata": {},
   "outputs": [],
   "source": []
  }
 ],
 "metadata": {
  "kernelspec": {
   "display_name": "Julia 1.9.0-rc1",
   "language": "julia",
   "name": "julia-1.9"
  },
  "language_info": {
   "file_extension": ".jl",
   "mimetype": "application/julia",
   "name": "julia",
   "version": "1.9.0"
  }
 },
 "nbformat": 4,
 "nbformat_minor": 5
}
