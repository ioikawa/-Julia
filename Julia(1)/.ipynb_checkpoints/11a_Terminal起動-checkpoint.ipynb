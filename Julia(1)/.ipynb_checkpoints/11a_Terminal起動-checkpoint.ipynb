{
 "cells": [
  {
   "cell_type": "markdown",
   "id": "8e74a4fb-1935-4ca8-80d4-e5ee5cd98945",
   "metadata": {},
   "source": [
    "# Terminal起動とUnixコマンド"
   ]
  },
  {
   "cell_type": "markdown",
   "id": "236632c6-e964-4f60-8c38-942e26b3c78b",
   "metadata": {},
   "source": [
    "## Ubuntuの起動\n",
    "- 端末の電源をONにした後，OS選択画面でUbuntuを選択する．\n",
    "- Ubuntuにログインすると，デスクトップ画面には次のようなインターフェースが現れる．\n",
    " （Launcherのアイコンはカスタマイズ可能で，人によって異なる．）\n",
    "\n",
    "<img src = \"UbuntuDesktop.png\" width=50%> "
   ]
  },
  {
   "cell_type": "markdown",
   "id": "c3a12f90-b6ac-45b2-b2f7-ef1cd466d40e",
   "metadata": {},
   "source": [
    "## Terminal（端末） の起動\n",
    "- `Ctrl+Alt+T`  を押して Terminal を起動する．\n",
    "Terminalのウィンドウには次のような　prompt が表示される．\n",
    "\n",
    "<img src=\"terminal.png\" width=50%>\n",
    "\n",
    "- 「アカウント名」の後ろにはカレントフォルダが表示される．\n",
    "`~` はホームフォルダを表す．\n",
    "- `$`　の直後にカーソルがある．ここにコマンドを入力し，`Enter`押下すると実行される．\n",
    "試しにカレントフォルダを確認してみよう．\n",
    "```\n",
    "~$ pwd [Enter]\n",
    "/home/アカウント名\n",
    "```\n",
    "promptの下にホームディレクトリが表示されるはず．\n",
    "\n",
    "\n",
    "### Note.\n",
    "ディレクトリ(directory)とフォルダ(folder)は同じ意味と思ってよい．"
   ]
  },
  {
   "cell_type": "markdown",
   "id": "c8923788-3c29-4ce6-b510-833e309ead0c",
   "metadata": {
    "tags": []
   },
   "source": [
    "## Unixコマンド\n",
    "よく使われるUnixコマンドをいくつか紹介する．\n",
    "\n",
    "参考：[Unixコマンドのリスト]([Wikipedia](https://en.wikipedia.org/wiki/List_of_POSIX_commands))\n",
    "\n",
    "###  `ls` コマンド\n",
    "- カレントフォルダに含まれているファイル（及びフォルダ）の一覧を表示する．\n",
    "```\n",
    "  ~$ ls\n",
    "  test.txt\n",
    "  Desktop\n",
    "  Documents\n",
    "  Downloads\n",
    "```\n",
    "（本当はもっと色々表示されるが省略している．）\n",
    "\n",
    "- `ls` の後ろには **引数** としてフォルダ名を与えると，\n",
    "そのフォルダ内のファイル一覧が表示される．\n",
    "\n",
    "```\n",
    "  ~$ ls Desktop\n",
    "    （出力省略）\n",
    "```\n",
    "\n",
    "- コマンドには通常，**オプション** を指定することで実行時の挙動を変えることができる．<br>\n",
    "例えば，`ls`コマンドに `-F` オプションを与えると，フォルダ名のあとに`/`がついて表示されるようになる（他にも表示に変化がある）．\n",
    "```\n",
    "  ~$ ls\n",
    "  test.txt\n",
    "  Desktop/\n",
    "  Documents/\n",
    "  Downloads/\n",
    "```\n",
    "\n",
    "- `ls` コマンドのマニュアルは  `man ls` で表示される．\n",
    "\n",
    "### `cd`コマンド\n",
    "- `Documents`フォルダに移動する．\n",
    "```\n",
    " ~$ cd Documents\n",
    " ~/Documents$ \n",
    "```\n",
    "\n",
    "- 一つ上のフォルダに戻るには，`cd ..` を実行する．\n",
    "- フォルダ名を指定せずに単に `cd` と入力して実行すると，ホームディレクトリに戻ることができる．\n",
    "```\n",
    " ~/Documents$ cd\n",
    " ~$ \n",
    "```\n",
    "\n"
   ]
  }
 ],
 "metadata": {
  "kernelspec": {
   "display_name": "Julia 1.9.0-beta3",
   "language": "julia",
   "name": "julia-1.9"
  },
  "language_info": {
   "file_extension": ".jl",
   "mimetype": "application/julia",
   "name": "julia",
   "version": "1.9.0"
  }
 },
 "nbformat": 4,
 "nbformat_minor": 5
}
