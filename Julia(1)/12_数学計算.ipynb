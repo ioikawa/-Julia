{
 "cells": [
  {
   "cell_type": "markdown",
   "id": "dd9033f7-dd49-45ae-a168-6acf6df38a68",
   "metadata": {},
   "source": [
    "# 数学計算\n",
    "\n",
    "## 四則演算: [Arithmetic Operators](https://docs.julialang.org/en/v1/manual/mathematical-operations/#Arithmetic-Operators)\n",
    "セル内にコマンドを入力し，`Shift+Enter` で実行する．\n",
    "実行結果はセルの直後に表示される．"
   ]
  },
  {
   "cell_type": "code",
   "execution_count": 1,
   "id": "1c448ce5-bc4f-4459-9f94-29746907eba2",
   "metadata": {},
   "outputs": [
    {
     "data": {
      "text/plain": [
       "3"
      ]
     },
     "execution_count": 1,
     "metadata": {},
     "output_type": "execute_result"
    }
   ],
   "source": [
    "1 + 2    # 足し算"
   ]
  },
  {
   "cell_type": "markdown",
   "id": "8e185be8-9cae-45e4-ae4b-ee9fca9f0903",
   "metadata": {},
   "source": [
    "シャープ記号 `#` より右側に書かれたコードは行末まで無視され，\n",
    "プログラムの説明（コメント）を記述するのに使うことができる．\n",
    "\n",
    "`#`はプログラムを一時的に無効する目的でも用いられる（コメントアウト）\n",
    "\n",
    "四則演算を一通り実行してみよう．"
   ]
  },
  {
   "cell_type": "code",
   "execution_count": 2,
   "id": "23d5e752-08b2-4dd7-a42e-a84fa91c6435",
   "metadata": {},
   "outputs": [
    {
     "data": {
      "text/plain": [
       "-1"
      ]
     },
     "execution_count": 2,
     "metadata": {},
     "output_type": "execute_result"
    }
   ],
   "source": [
    "1 - 2    # 引き算"
   ]
  },
  {
   "cell_type": "code",
   "execution_count": 3,
   "id": "0791fbad-92b6-43be-a6bb-c1d5185bcf60",
   "metadata": {},
   "outputs": [
    {
     "data": {
      "text/plain": [
       "6"
      ]
     },
     "execution_count": 3,
     "metadata": {},
     "output_type": "execute_result"
    }
   ],
   "source": [
    "2 * 3    # 掛け算"
   ]
  },
  {
   "cell_type": "code",
   "execution_count": 4,
   "id": "b330ce3d-021b-4c11-aaa4-35b58388b50d",
   "metadata": {},
   "outputs": [
    {
     "data": {
      "text/plain": [
       "0.6666666666666666"
      ]
     },
     "execution_count": 4,
     "metadata": {},
     "output_type": "execute_result"
    }
   ],
   "source": [
    "2 / 3    # 割り算"
   ]
  },
  {
   "cell_type": "markdown",
   "id": "c7fdea2b-a442-4e48-88b6-30da05b70d5c",
   "metadata": {},
   "source": [
    "割り算は割り切れない場合は自動的に**浮動小数点数**\n",
    "([Floating-Point Numbers](https://docs.julialang.org/en/v1/manual/integers-and-floating-point-numbers/#Floating-Point-Numbers))\n",
    "と呼ばれる形式に変換される．<br>\n",
    "\n",
    "浮動小数点数とは $1.2345 \\times 10^8$のような（決められた桁数以内の）仮数部と指数部で表現される数のことである．<br>\n",
    "（計算機内部では指数部は2進数である．）\n",
    "\n",
    "Juliaに限らず，計算機一般では指数部は記号`e` あるいは `E`を用いて表現する．<br>\n",
    "例えば，$0.000012345 = 1.2345 \\times 10^{-5}$は次のようになる．"
   ]
  },
  {
   "cell_type": "code",
   "execution_count": 88,
   "id": "a14fa4a0-9108-4a94-b348-43e70f377a5f",
   "metadata": {},
   "outputs": [
    {
     "data": {
      "text/plain": [
       "1.2345e-5"
      ]
     },
     "execution_count": 88,
     "metadata": {},
     "output_type": "execute_result"
    }
   ],
   "source": [
    "0.000012345"
   ]
  },
  {
   "cell_type": "code",
   "execution_count": 92,
   "id": "4e60170a-394e-4c39-ae2b-624d733db10e",
   "metadata": {},
   "outputs": [
    {
     "data": {
      "text/plain": [
       "0.01"
      ]
     },
     "execution_count": 92,
     "metadata": {},
     "output_type": "execute_result"
    }
   ],
   "source": [
    "1E-2"
   ]
  },
  {
   "cell_type": "code",
   "execution_count": null,
   "id": "39c973bf-e054-4752-a37a-bae81e5ed0eb",
   "metadata": {},
   "outputs": [],
   "source": [
    "小数の先頭の桁が0の場合，省略可能である．"
   ]
  },
  {
   "cell_type": "code",
   "execution_count": 93,
   "id": "55ac1189-5256-4f5d-910e-90d4a3117502",
   "metadata": {},
   "outputs": [
    {
     "data": {
      "text/plain": [
       "0.12345"
      ]
     },
     "execution_count": 93,
     "metadata": {},
     "output_type": "execute_result"
    }
   ],
   "source": [
    ".12345"
   ]
  },
  {
   "cell_type": "markdown",
   "id": "a29e24a1-0fc8-4692-9108-89cc420be34e",
   "metadata": {},
   "source": [
    "## 累乗・指数\n",
    "累乗の計算には`^`を用いる．"
   ]
  },
  {
   "cell_type": "code",
   "execution_count": 5,
   "id": "1db756b0-d835-4152-9ee6-47727cb569fd",
   "metadata": {},
   "outputs": [
    {
     "data": {
      "text/plain": [
       "1000"
      ]
     },
     "execution_count": 5,
     "metadata": {},
     "output_type": "execute_result"
    }
   ],
   "source": [
    "10^3    "
   ]
  },
  {
   "cell_type": "code",
   "execution_count": 32,
   "id": "9033f17b-462b-4dd8-a766-0f7c89401dd7",
   "metadata": {},
   "outputs": [
    {
     "data": {
      "text/plain": [
       "2.23606797749979"
      ]
     },
     "execution_count": 32,
     "metadata": {},
     "output_type": "execute_result"
    }
   ],
   "source": [
    "5^0.5"
   ]
  },
  {
   "cell_type": "markdown",
   "id": "07a501a6-9a63-4372-a0cf-6d987a21e351",
   "metadata": {},
   "source": [
    "## 数学関数：[Mathematical Functions](https://docs.julialang.org/en/v1/base/math/#Mathematical-Functions)\n",
    "`5`の平方根は `sqrt(5)`でも計算できる．"
   ]
  },
  {
   "cell_type": "code",
   "execution_count": 33,
   "id": "dd5ab355-0731-4bc3-aa84-237b1071e209",
   "metadata": {},
   "outputs": [
    {
     "data": {
      "text/plain": [
       "2.23606797749979"
      ]
     },
     "execution_count": 33,
     "metadata": {},
     "output_type": "execute_result"
    }
   ],
   "source": [
    "sqrt(5)  # √5"
   ]
  },
  {
   "cell_type": "markdown",
   "id": "42ece9a4-6ae0-4398-9fe7-b4321912ca4c",
   "metadata": {},
   "source": [
    "Juliaでは三角関数や対数関数などの初等関数は標準で実装されている．\n",
    "- 平方根: `sqrt(x)`\n",
    "- 立方根: `cbrt(x)`\n",
    "- 三角関数: `sin(x)`, `cos(x)`, `tan(x)`\n",
    "- 逆三角関数: `asin(x)`, `acos(x)`, `atan(x)`\n",
    "- 指数関数: `exp(x)`\n",
    "- 対数関数: `log(x)`, `log10(x)`, `log2(x)`, `log(a,x)`"
   ]
  },
  {
   "cell_type": "markdown",
   "id": "71b111cd-a075-4c84-8a2e-b978d910952c",
   "metadata": {
    "tags": []
   },
   "source": [
    "## [Help mode](https://docs.julialang.org/en/v1/stdlib/REPL/#Help-mode)\n",
    "\n",
    "コマンドやエラーメッセージなどについて調べたい場合，公式マニュアルで検索する代わりに，\n",
    "プロンプトから調べる機能がある (help mode)．\n",
    "\n",
    "例えば，`cbrt()`を調べるには次のようにする．\n"
   ]
  },
  {
   "cell_type": "code",
   "execution_count": null,
   "id": "1e13e26f-7964-42eb-882c-6d8a5ffb4cbc",
   "metadata": {},
   "outputs": [],
   "source": []
  },
  {
   "cell_type": "code",
   "execution_count": 41,
   "id": "56719dfb-42a1-4fb8-876f-cec9c859aefc",
   "metadata": {},
   "outputs": [
    {
     "name": "stdout",
     "output_type": "stream",
     "text": [
      "search: \u001b[0m\u001b[1mc\u001b[22m\u001b[0m\u001b[1mb\u001b[22m\u001b[0m\u001b[1mr\u001b[22m\u001b[0m\u001b[1mt\u001b[22m \u001b[0m\u001b[1mc\u001b[22mlip\u001b[0m\u001b[1mb\u001b[22moa\u001b[0m\u001b[1mr\u001b[22md \u001b[0m\u001b[1mc\u001b[22match_\u001b[0m\u001b[1mb\u001b[22mackt\u001b[0m\u001b[1mr\u001b[22mace\n",
      "\n"
     ]
    },
    {
     "data": {
      "text/latex": [
       "\\begin{verbatim}\n",
       "cbrt(x::Real)\n",
       "\\end{verbatim}\n",
       "Return the cube root of \\texttt{x}, i.e. $x^{1/3}$. Negative values are accepted (returning the negative real root when $x < 0$).\n",
       "\n",
       "The prefix operator \\texttt{∛} is equivalent to \\texttt{cbrt}.\n",
       "\n",
       "\\section{Examples}\n",
       "\\begin{verbatim}\n",
       "julia> cbrt(big(27))\n",
       "3.0\n",
       "\n",
       "julia> cbrt(big(-27))\n",
       "-3.0\n",
       "\\end{verbatim}\n"
      ],
      "text/markdown": [
       "```\n",
       "cbrt(x::Real)\n",
       "```\n",
       "\n",
       "Return the cube root of `x`, i.e. $x^{1/3}$. Negative values are accepted (returning the negative real root when $x < 0$).\n",
       "\n",
       "The prefix operator `∛` is equivalent to `cbrt`.\n",
       "\n",
       "# Examples\n",
       "\n",
       "```jldoctest\n",
       "julia> cbrt(big(27))\n",
       "3.0\n",
       "\n",
       "julia> cbrt(big(-27))\n",
       "-3.0\n",
       "```\n"
      ],
      "text/plain": [
       "\u001b[36m  cbrt(x::Real)\u001b[39m\n",
       "\n",
       "  Return the cube root of \u001b[36mx\u001b[39m, i.e. \u001b[35mx^{1/3}\u001b[39m. Negative values are accepted\n",
       "  (returning the negative real root when \u001b[35mx < 0\u001b[39m).\n",
       "\n",
       "  The prefix operator \u001b[36m∛\u001b[39m is equivalent to \u001b[36mcbrt\u001b[39m.\n",
       "\n",
       "\u001b[1m  Examples\u001b[22m\n",
       "\u001b[1m  ≡≡≡≡≡≡≡≡≡≡\u001b[22m\n",
       "\n",
       "\u001b[36m  julia> cbrt(big(27))\u001b[39m\n",
       "\u001b[36m  3.0\u001b[39m\n",
       "\u001b[36m  \u001b[39m\n",
       "\u001b[36m  julia> cbrt(big(-27))\u001b[39m\n",
       "\u001b[36m  -3.0\u001b[39m"
      ]
     },
     "execution_count": 41,
     "metadata": {},
     "output_type": "execute_result"
    }
   ],
   "source": [
    "? cbrt"
   ]
  },
  {
   "cell_type": "markdown",
   "id": "fade4c2f-79d9-43fb-8221-5b3592bb6a1c",
   "metadata": {},
   "source": [
    "#### *Note*\n",
    "対話モード(RPLE)のプロンプト `julia>`で `?` キーを押下すると help mode に入り，\n",
    "プロンプトの表示が `help?>` に変わる．\n",
    "ここで調べたいコマンド名などを入力すると，説明や使用例が表示される．"
   ]
  },
  {
   "cell_type": "code",
   "execution_count": null,
   "id": "5e9dcadf-a240-4cf4-bdbd-cc351411e903",
   "metadata": {},
   "outputs": [],
   "source": []
  },
  {
   "cell_type": "code",
   "execution_count": 6,
   "id": "0a0efc21-dd71-4ddd-9a99-6bab332f8918",
   "metadata": {},
   "outputs": [
    {
     "name": "stdout",
     "output_type": "stream",
     "text": [
      "1行目\n",
      "3行目その１\n"
     ]
    }
   ],
   "source": [
    "println(\"1行目\")\n",
    "# println(\"2行目\")\n",
    "println(\"3行目その１\")  #   println(\"3行目その２\")・・・ここは無視される"
   ]
  },
  {
   "cell_type": "markdown",
   "id": "d031939e-48ad-4c7c-b3d8-c12e0bfaa3c9",
   "metadata": {},
   "source": [
    "## その他の基本的な数学関数\n",
    "基本的な関数はほとんど実装済みである．"
   ]
  },
  {
   "cell_type": "code",
   "execution_count": 47,
   "id": "9c8cc66a-3a3c-416c-be12-1dcf435cc95f",
   "metadata": {},
   "outputs": [
    {
     "data": {
      "text/plain": [
       "2"
      ]
     },
     "execution_count": 47,
     "metadata": {},
     "output_type": "execute_result"
    }
   ],
   "source": [
    "abs(-2) # 絶対値"
   ]
  },
  {
   "cell_type": "code",
   "execution_count": 46,
   "id": "645d4957-e9de-4f23-ba24-6cbc4f012b8b",
   "metadata": {},
   "outputs": [
    {
     "data": {
      "text/plain": [
       "-1.0"
      ]
     },
     "execution_count": 46,
     "metadata": {},
     "output_type": "execute_result"
    }
   ],
   "source": [
    "sign(-1.23) # 符号"
   ]
  },
  {
   "cell_type": "code",
   "execution_count": 48,
   "id": "0e078fd0-6bbf-43c7-baf3-47ae76edb2a8",
   "metadata": {},
   "outputs": [
    {
     "data": {
      "text/plain": [
       "0.0"
      ]
     },
     "execution_count": 48,
     "metadata": {},
     "output_type": "execute_result"
    }
   ],
   "source": [
    "sign(0.0) # 符号"
   ]
  },
  {
   "cell_type": "code",
   "execution_count": 49,
   "id": "8b941d32-73d1-4bec-8648-86457d24eca7",
   "metadata": {},
   "outputs": [
    {
     "data": {
      "text/plain": [
       "1"
      ]
     },
     "execution_count": 49,
     "metadata": {},
     "output_type": "execute_result"
    }
   ],
   "source": [
    "mod(100,3) # 剰余"
   ]
  },
  {
   "cell_type": "code",
   "execution_count": 50,
   "id": "78eb2478-3c71-4291-9a64-1c4032a71503",
   "metadata": {},
   "outputs": [
    {
     "data": {
      "text/plain": [
       "2"
      ]
     },
     "execution_count": 50,
     "metadata": {},
     "output_type": "execute_result"
    }
   ],
   "source": [
    "mod(-100, 3) # 負の整数に対する剰余"
   ]
  },
  {
   "cell_type": "code",
   "execution_count": 51,
   "id": "9c99b506-e676-4cc4-9cc7-c04e004a7a18",
   "metadata": {},
   "outputs": [
    {
     "data": {
      "text/plain": [
       "0.5"
      ]
     },
     "execution_count": 51,
     "metadata": {},
     "output_type": "execute_result"
    }
   ],
   "source": [
    "mod(3.5, 3)  # 小数に対する剰余"
   ]
  },
  {
   "cell_type": "code",
   "execution_count": 82,
   "id": "f91db07a-f00c-4495-b2c4-d44c25e7d17f",
   "metadata": {},
   "outputs": [
    {
     "data": {
      "text/plain": [
       "0.5"
      ]
     },
     "execution_count": 82,
     "metadata": {},
     "output_type": "execute_result"
    }
   ],
   "source": [
    "3.5 % 3  # rem(3.5, 3) と同じ"
   ]
  },
  {
   "cell_type": "code",
   "execution_count": 53,
   "id": "2676d211-e2aa-4fb6-b6be-9b82cd3977aa",
   "metadata": {},
   "outputs": [
    {
     "data": {
      "text/plain": [
       "2.5"
      ]
     },
     "execution_count": 53,
     "metadata": {},
     "output_type": "execute_result"
    }
   ],
   "source": [
    "mod(-3.5, 3)"
   ]
  },
  {
   "cell_type": "code",
   "execution_count": 83,
   "id": "9e7ed4e1-addb-466e-aa9e-574ba9fc4baa",
   "metadata": {},
   "outputs": [
    {
     "data": {
      "text/plain": [
       "-0.5"
      ]
     },
     "execution_count": 83,
     "metadata": {},
     "output_type": "execute_result"
    }
   ],
   "source": [
    "-3.5 % 3 # mod(-3.5, 3) とは異なるので注意"
   ]
  },
  {
   "cell_type": "code",
   "execution_count": 85,
   "id": "792702d6-fa0a-45c8-9613-1ac1defbe632",
   "metadata": {},
   "outputs": [
    {
     "data": {
      "text/plain": [
       "(10.0, 0.5)"
      ]
     },
     "execution_count": 85,
     "metadata": {},
     "output_type": "execute_result"
    }
   ],
   "source": [
    "divrem(30.5, 3)    # 商と剰余"
   ]
  },
  {
   "cell_type": "code",
   "execution_count": 87,
   "id": "ec8d562a-f97d-44af-97d6-a550586f43f0",
   "metadata": {},
   "outputs": [
    {
     "data": {
      "text/plain": [
       "120"
      ]
     },
     "execution_count": 87,
     "metadata": {},
     "output_type": "execute_result"
    }
   ],
   "source": [
    "factorial(5)  # 階乗"
   ]
  },
  {
   "cell_type": "code",
   "execution_count": 59,
   "id": "37f8e2a4-5252-4399-b114-b753dd7359fe",
   "metadata": {},
   "outputs": [
    {
     "data": {
      "text/plain": [
       "6"
      ]
     },
     "execution_count": 59,
     "metadata": {},
     "output_type": "execute_result"
    }
   ],
   "source": [
    "binomial(4,2)  # 二項係数"
   ]
  },
  {
   "cell_type": "markdown",
   "id": "69592f7f-7a58-4efa-b9a9-842569b09550",
   "metadata": {},
   "source": [
    "## 複素数\n",
    "Juliaでは 虚数単位 $i$ は `im` で表現される．例えば，$1 + 2i$を入力するには次のようにする．"
   ]
  },
  {
   "cell_type": "code",
   "execution_count": 60,
   "id": "51b1a0a7-8c69-4575-8df2-542aaa9e7faa",
   "metadata": {},
   "outputs": [
    {
     "data": {
      "text/plain": [
       "1 + 2im"
      ]
     },
     "execution_count": 60,
     "metadata": {},
     "output_type": "execute_result"
    }
   ],
   "source": [
    "1+2*im"
   ]
  },
  {
   "cell_type": "markdown",
   "id": "7cb370fb-eadf-42a4-bf0f-633322eaf61c",
   "metadata": {},
   "source": [
    "四則演算・累乗は実数の場合と同じである．"
   ]
  },
  {
   "cell_type": "code",
   "execution_count": 63,
   "id": "f2e2d372-81cb-4e28-8dcb-092a2c7ae732",
   "metadata": {},
   "outputs": [
    {
     "data": {
      "text/plain": [
       "4 + 6im"
      ]
     },
     "execution_count": 63,
     "metadata": {},
     "output_type": "execute_result"
    }
   ],
   "source": [
    "1 + 2*im + 3 + 4*im"
   ]
  },
  {
   "cell_type": "code",
   "execution_count": 62,
   "id": "57fad30b-450d-4772-9b9e-e926e1938d18",
   "metadata": {},
   "outputs": [
    {
     "data": {
      "text/plain": [
       "-1 + 0im"
      ]
     },
     "execution_count": 62,
     "metadata": {},
     "output_type": "execute_result"
    }
   ],
   "source": [
    "im^2"
   ]
  },
  {
   "cell_type": "markdown",
   "id": "eb5dece6-df13-4611-8d09-899c69f6df59",
   "metadata": {},
   "source": [
    "実部・虚部は `real()`, `imag()` で取得できる．"
   ]
  },
  {
   "cell_type": "code",
   "execution_count": 70,
   "id": "25c031a7-341c-4fe9-9897-a56853af75fc",
   "metadata": {},
   "outputs": [
    {
     "data": {
      "text/plain": [
       "1"
      ]
     },
     "execution_count": 70,
     "metadata": {},
     "output_type": "execute_result"
    }
   ],
   "source": [
    "real(1+100im) #実部"
   ]
  },
  {
   "cell_type": "code",
   "execution_count": 71,
   "id": "fab3a4d3-f7a5-4df0-966b-d055a9e6f7d9",
   "metadata": {},
   "outputs": [
    {
     "data": {
      "text/plain": [
       "100"
      ]
     },
     "execution_count": 71,
     "metadata": {},
     "output_type": "execute_result"
    }
   ],
   "source": [
    "imag(1+100im) # 虚部"
   ]
  },
  {
   "cell_type": "markdown",
   "id": "3bd4bfa7-d90d-41dd-bbc4-31e4c18e91f2",
   "metadata": {},
   "source": [
    "絶対値・偏角は `abs()`, `angle()`を用いる．"
   ]
  },
  {
   "cell_type": "code",
   "execution_count": 68,
   "id": "215dfd4f-7db9-4118-ab85-0921cf235e09",
   "metadata": {},
   "outputs": [
    {
     "data": {
      "text/plain": [
       "5.0"
      ]
     },
     "execution_count": 68,
     "metadata": {},
     "output_type": "execute_result"
    }
   ],
   "source": [
    "abs(3+4im) # 絶対値"
   ]
  },
  {
   "cell_type": "code",
   "execution_count": 73,
   "id": "edcbe409-23ca-4b48-8b03-63bf106617e3",
   "metadata": {},
   "outputs": [
    {
     "data": {
      "text/plain": [
       "0.25"
      ]
     },
     "execution_count": 73,
     "metadata": {},
     "output_type": "execute_result"
    }
   ],
   "source": [
    "angle(1+1im)/pi # 偏角（の主値）"
   ]
  },
  {
   "cell_type": "code",
   "execution_count": null,
   "id": "a1ff0dd6-e53b-42bf-b6bb-22d2a9237507",
   "metadata": {},
   "outputs": [],
   "source": [
    "`pi`は円周率を表す．"
   ]
  },
  {
   "cell_type": "code",
   "execution_count": 75,
   "id": "771e5d2f-1d5e-4fd0-8855-ef3ceae2999d",
   "metadata": {},
   "outputs": [
    {
     "data": {
      "text/plain": [
       "π = 3.1415926535897..."
      ]
     },
     "execution_count": 75,
     "metadata": {},
     "output_type": "execute_result"
    }
   ],
   "source": [
    "pi"
   ]
  },
  {
   "cell_type": "markdown",
   "id": "cd895b48-413a-49f3-83d2-349b42b26997",
   "metadata": {},
   "source": [
    "`\\pi [Tab]`でギリシャ文字で表示もできる．"
   ]
  },
  {
   "cell_type": "code",
   "execution_count": 79,
   "id": "ac7fbe0f-39e1-4d3e-b5db-2e7c8c25b188",
   "metadata": {},
   "outputs": [
    {
     "data": {
      "text/plain": [
       "π = 3.1415926535897..."
      ]
     },
     "execution_count": 79,
     "metadata": {},
     "output_type": "execute_result"
    }
   ],
   "source": [
    "π"
   ]
  },
  {
   "cell_type": "markdown",
   "id": "4f3a1c6d-ffd1-4b93-9fb9-b06122be617a",
   "metadata": {},
   "source": [
    "ちなみにネイピア数は `\\euler [Tab]`"
   ]
  },
  {
   "cell_type": "code",
   "execution_count": 78,
   "id": "42c54255-4f7f-4bd2-ba22-d55d349694cc",
   "metadata": {},
   "outputs": [
    {
     "data": {
      "text/plain": [
       "ℯ = 2.7182818284590..."
      ]
     },
     "execution_count": 78,
     "metadata": {},
     "output_type": "execute_result"
    }
   ],
   "source": [
    "ℯ"
   ]
  },
  {
   "cell_type": "code",
   "execution_count": null,
   "id": "16f58a55-cc8e-439e-b7c6-95afc10bde66",
   "metadata": {},
   "outputs": [],
   "source": []
  }
 ],
 "metadata": {
  "kernelspec": {
   "display_name": "Julia 1.6.7",
   "language": "julia",
   "name": "julia-1.6"
  },
  "language_info": {
   "file_extension": ".jl",
   "mimetype": "application/julia",
   "name": "julia",
   "version": "1.6.5"
  }
 },
 "nbformat": 4,
 "nbformat_minor": 5
}
