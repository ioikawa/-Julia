{
 "cells": [
  {
   "cell_type": "markdown",
   "id": "dd9033f7-dd49-45ae-a168-6acf6df38a68",
   "metadata": {},
   "source": [
    "# 基本機能\n",
    "\n",
    "## 四則演算と指数"
   ]
  },
  {
   "cell_type": "code",
   "execution_count": 1,
   "id": "1c448ce5-bc4f-4459-9f94-29746907eba2",
   "metadata": {},
   "outputs": [
    {
     "data": {
      "text/plain": [
       "3"
      ]
     },
     "execution_count": 1,
     "metadata": {},
     "output_type": "execute_result"
    }
   ],
   "source": [
    "1 + 2    # 足し算"
   ]
  },
  {
   "cell_type": "code",
   "execution_count": 2,
   "id": "23d5e752-08b2-4dd7-a42e-a84fa91c6435",
   "metadata": {},
   "outputs": [
    {
     "data": {
      "text/plain": [
       "-1"
      ]
     },
     "execution_count": 2,
     "metadata": {},
     "output_type": "execute_result"
    }
   ],
   "source": [
    "1 - 2    # 引き算"
   ]
  },
  {
   "cell_type": "code",
   "execution_count": 3,
   "id": "0791fbad-92b6-43be-a6bb-c1d5185bcf60",
   "metadata": {},
   "outputs": [
    {
     "data": {
      "text/plain": [
       "6"
      ]
     },
     "execution_count": 3,
     "metadata": {},
     "output_type": "execute_result"
    }
   ],
   "source": [
    "2 * 3    # 掛け算"
   ]
  },
  {
   "cell_type": "code",
   "execution_count": 4,
   "id": "b330ce3d-021b-4c11-aaa4-35b58388b50d",
   "metadata": {},
   "outputs": [
    {
     "data": {
      "text/plain": [
       "0.6666666666666666"
      ]
     },
     "execution_count": 4,
     "metadata": {},
     "output_type": "execute_result"
    }
   ],
   "source": [
    "2 / 3    # 割り算"
   ]
  },
  {
   "cell_type": "markdown",
   "id": "324bbc55-f076-47bb-801a-e88be2cdd37a",
   "metadata": {},
   "source": [
    "割り算は割り切れない場合は自動的に浮動小数点数に変換される．"
   ]
  },
  {
   "cell_type": "code",
   "execution_count": 5,
   "id": "1db756b0-d835-4152-9ee6-47727cb569fd",
   "metadata": {},
   "outputs": [
    {
     "data": {
      "text/plain": [
       "1000"
      ]
     },
     "execution_count": 5,
     "metadata": {},
     "output_type": "execute_result"
    }
   ],
   "source": [
    "10^3 "
   ]
  },
  {
   "cell_type": "markdown",
   "id": "07a501a6-9a63-4372-a0cf-6d987a21e351",
   "metadata": {},
   "source": [
    "## コメントアウト\n",
    "シャープ記号 `#` より右側に書かれたコードは行末まで無視される． "
   ]
  },
  {
   "cell_type": "code",
   "execution_count": 6,
   "id": "0a0efc21-dd71-4ddd-9a99-6bab332f8918",
   "metadata": {},
   "outputs": [
    {
     "name": "stdout",
     "output_type": "stream",
     "text": [
      "1行目\n",
      "3行目その１\n"
     ]
    }
   ],
   "source": [
    "println(\"1行目\")\n",
    "# println(\"2行目\")\n",
    "println(\"3行目その１\")  #   println(\"3行目その２\")・・・ここは無視される"
   ]
  },
  {
   "cell_type": "markdown",
   "id": "3aa778ad-a684-474d-952b-8de0bc6e72a1",
   "metadata": {},
   "source": [
    "## 文字列：[Strings](https://docs.julialang.org/en/v1/manual/strings/)\n",
    "`\" ... \"`で囲まれた部分はコードではなく，文字列(String)となる．"
   ]
  },
  {
   "cell_type": "code",
   "execution_count": 7,
   "id": "84a01469-ba9e-46ae-a9d3-0b6c1d02ddea",
   "metadata": {},
   "outputs": [
    {
     "name": "stdout",
     "output_type": "stream",
     "text": [
      "Hello, World!\n"
     ]
    }
   ],
   "source": [
    "println(\"Hello, World!\")"
   ]
  },
  {
   "cell_type": "markdown",
   "id": "b31034f5-73a7-4bf6-8ac5-74c688ec2ac1",
   "metadata": {},
   "source": [
    "`println()`は自動的に末尾に改行コードが入るが，`print()`は入らない．"
   ]
  },
  {
   "cell_type": "code",
   "execution_count": 8,
   "id": "8561705d-52f3-44d5-9b14-b7a85cdc00c6",
   "metadata": {},
   "outputs": [
    {
     "name": "stdout",
     "output_type": "stream",
     "text": [
      "Hello, \n",
      "World!\n"
     ]
    }
   ],
   "source": [
    "println(\"Hello, \")       # 改行あり\n",
    "println(\"World!\")     # 改行あり"
   ]
  },
  {
   "cell_type": "code",
   "execution_count": 9,
   "id": "db4e9342-2dc2-4462-b957-c9a7da7a3992",
   "metadata": {},
   "outputs": [
    {
     "name": "stdout",
     "output_type": "stream",
     "text": [
      "Hello, World!"
     ]
    }
   ],
   "source": [
    "print(\"Hello, \")       # 改行なし\n",
    "print(\"World!\")     # 改行なし"
   ]
  },
  {
   "cell_type": "markdown",
   "id": "3164fea4-0675-4aeb-953b-94c764d2ea34",
   "metadata": {},
   "source": [
    "文字列中の`\\n`は改行と解釈される．"
   ]
  },
  {
   "cell_type": "code",
   "execution_count": 10,
   "id": "7d4525cd-d681-4abb-a1b3-80737b5bda22",
   "metadata": {},
   "outputs": [
    {
     "name": "stdout",
     "output_type": "stream",
     "text": [
      "Hello, \n",
      "World!\n"
     ]
    }
   ],
   "source": [
    "println(\"Hello, \\nWorld!\")  "
   ]
  },
  {
   "cell_type": "markdown",
   "id": "6fe6f9df-73e0-4f3d-a1b3-6f3a90c4ca37",
   "metadata": {},
   "source": [
    "複数行の文字列は，`\"\"\" ... \"\"\"` で囲む．"
   ]
  },
  {
   "cell_type": "code",
   "execution_count": 11,
   "id": "ee03efbc-d0ac-414a-97a9-8fafd92adc2e",
   "metadata": {},
   "outputs": [
    {
     "name": "stdout",
     "output_type": "stream",
     "text": [
      "Hello,\n",
      "World!\n",
      "\n"
     ]
    }
   ],
   "source": [
    "println(\"\"\"\n",
    "    Hello,\n",
    "    World!\n",
    "    \"\"\")"
   ]
  },
  {
   "cell_type": "code",
   "execution_count": 12,
   "id": "417218fe-b942-4f0f-9c32-33b4c63e7dd7",
   "metadata": {},
   "outputs": [
    {
     "name": "stdout",
     "output_type": "stream",
     "text": [
      "Hello, World!\n"
     ]
    }
   ],
   "source": [
    "println(\"Hello,\" * \" World!\")"
   ]
  },
  {
   "cell_type": "code",
   "execution_count": 13,
   "id": "05568441-896d-4564-9b0c-43c91a0cbe46",
   "metadata": {},
   "outputs": [
    {
     "name": "stdout",
     "output_type": "stream",
     "text": [
      "Hello! Hello! Hello! Hello! Hello! \n"
     ]
    }
   ],
   "source": [
    "println(\"Hello! \"^5)"
   ]
  },
  {
   "cell_type": "markdown",
   "id": "71b111cd-a075-4c84-8a2e-b978d910952c",
   "metadata": {},
   "source": [
    "\n",
    "## [Help mode](https://docs.julialang.org/en/v1/stdlib/REPL/#Help-mode)\n",
    "プロンプトで `?` キーを押下すると help mode に入る．\n",
    "プロンプトの表示が `help?>` に変わるので，ここで\n",
    "調べたいコマンド名を入力すると，説明や使用例が表示される．\n"
   ]
  },
  {
   "cell_type": "code",
   "execution_count": 14,
   "id": "ec1c0da8-61bd-41b8-9592-7e64000a3863",
   "metadata": {},
   "outputs": [
    {
     "name": "stdout",
     "output_type": "stream",
     "text": [
      "search: \u001b[0m\u001b[1mp\u001b[22m\u001b[0m\u001b[1mr\u001b[22m\u001b[0m\u001b[1mi\u001b[22m\u001b[0m\u001b[1mn\u001b[22m\u001b[0m\u001b[1mt\u001b[22m\u001b[0m\u001b[1ml\u001b[22m\u001b[0m\u001b[1mn\u001b[22m \u001b[0m\u001b[1mp\u001b[22m\u001b[0m\u001b[1mr\u001b[22m\u001b[0m\u001b[1mi\u001b[22m\u001b[0m\u001b[1mn\u001b[22m\u001b[0m\u001b[1mt\u001b[22msty\u001b[0m\u001b[1ml\u001b[22med \u001b[0m\u001b[1mp\u001b[22m\u001b[0m\u001b[1mr\u001b[22m\u001b[0m\u001b[1mi\u001b[22m\u001b[0m\u001b[1mn\u001b[22m\u001b[0m\u001b[1mt\u001b[22m s\u001b[0m\u001b[1mp\u001b[22m\u001b[0m\u001b[1mr\u001b[22m\u001b[0m\u001b[1mi\u001b[22m\u001b[0m\u001b[1mn\u001b[22m\u001b[0m\u001b[1mt\u001b[22m is\u001b[0m\u001b[1mp\u001b[22m\u001b[0m\u001b[1mr\u001b[22m\u001b[0m\u001b[1mi\u001b[22m\u001b[0m\u001b[1mn\u001b[22m\u001b[0m\u001b[1mt\u001b[22m\n",
      "\n"
     ]
    },
    {
     "data": {
      "text/latex": [
       "\\begin{verbatim}\n",
       "println([io::IO], xs...)\n",
       "\\end{verbatim}\n",
       "Print (using \\href{@ref}{\\texttt{print}}) \\texttt{xs} followed by a newline. If \\texttt{io} is not supplied, prints to \\href{@ref}{\\texttt{stdout}}.\n",
       "\n",
       "\\section{Examples}\n",
       "\\begin{verbatim}\n",
       "julia> println(\"Hello, world\")\n",
       "Hello, world\n",
       "\n",
       "julia> io = IOBuffer();\n",
       "\n",
       "julia> println(io, \"Hello, world\")\n",
       "\n",
       "julia> String(take!(io))\n",
       "\"Hello, world\\n\"\n",
       "\\end{verbatim}\n"
      ],
      "text/markdown": [
       "```\n",
       "println([io::IO], xs...)\n",
       "```\n",
       "\n",
       "Print (using [`print`](@ref)) `xs` followed by a newline. If `io` is not supplied, prints to [`stdout`](@ref).\n",
       "\n",
       "# Examples\n",
       "\n",
       "```jldoctest\n",
       "julia> println(\"Hello, world\")\n",
       "Hello, world\n",
       "\n",
       "julia> io = IOBuffer();\n",
       "\n",
       "julia> println(io, \"Hello, world\")\n",
       "\n",
       "julia> String(take!(io))\n",
       "\"Hello, world\\n\"\n",
       "```\n"
      ],
      "text/plain": [
       "\u001b[36m  println([io::IO], xs...)\u001b[39m\n",
       "\n",
       "  Print (using \u001b[36mprint\u001b[39m) \u001b[36mxs\u001b[39m followed by a newline. If \u001b[36mio\u001b[39m is not supplied, prints\n",
       "  to \u001b[36mstdout\u001b[39m.\n",
       "\n",
       "\u001b[1m  Examples\u001b[22m\n",
       "\u001b[1m  ≡≡≡≡≡≡≡≡≡≡\u001b[22m\n",
       "\n",
       "\u001b[36m  julia> println(\"Hello, world\")\u001b[39m\n",
       "\u001b[36m  Hello, world\u001b[39m\n",
       "\u001b[36m  \u001b[39m\n",
       "\u001b[36m  julia> io = IOBuffer();\u001b[39m\n",
       "\u001b[36m  \u001b[39m\n",
       "\u001b[36m  julia> println(io, \"Hello, world\")\u001b[39m\n",
       "\u001b[36m  \u001b[39m\n",
       "\u001b[36m  julia> String(take!(io))\u001b[39m\n",
       "\u001b[36m  \"Hello, world\\n\"\u001b[39m"
      ]
     },
     "execution_count": 14,
     "metadata": {},
     "output_type": "execute_result"
    }
   ],
   "source": [
    "? println"
   ]
  }
 ],
 "metadata": {
  "kernelspec": {
   "display_name": "Julia 1.6.7",
   "language": "julia",
   "name": "julia-1.6"
  },
  "language_info": {
   "file_extension": ".jl",
   "mimetype": "application/julia",
   "name": "julia",
   "version": "1.6.5"
  }
 },
 "nbformat": 4,
 "nbformat_minor": 5
}
