{
 "cells": [
  {
   "cell_type": "markdown",
   "id": "85a9971e-a2a4-4138-b537-34095b677f1b",
   "metadata": {
    "tags": []
   },
   "source": [
    "# ネイピア数 $e$ の無限級数による近似値計算"
   ]
  },
  {
   "cell_type": "markdown",
   "id": "348f6e8d-fdeb-46c6-84ed-8501df748af4",
   "metadata": {},
   "source": [
    "- 無限級数を適当なところで打ち切るという素朴なアイデアで数学定数（ここでは の近似値を計算してみよう．"
   ]
  },
  {
   "cell_type": "markdown",
   "id": "1599edf1-cff3-4077-b261-9940b9cd8537",
   "metadata": {
    "tags": []
   },
   "source": [
    "### `BigFloat` による値の確認\n",
    "- ネイピア数（自然対数の底）はJuliaではネイピア数は実装済みである．"
   ]
  },
  {
   "cell_type": "code",
   "execution_count": 1,
   "id": "55497692-8d3f-48f6-a2f5-6f3ac630f929",
   "metadata": {
    "tags": []
   },
   "outputs": [
    {
     "data": {
      "text/plain": [
       "ℯ = 2.7182818284590..."
      ]
     },
     "execution_count": 1,
     "metadata": {},
     "output_type": "execute_result"
    }
   ],
   "source": [
    "ℯ # `\\euler [TAb]` "
   ]
  },
  {
   "cell_type": "markdown",
   "id": "c39369b7-5374-40a8-9354-63c06ccdc5ac",
   "metadata": {},
   "source": [
    "- `BigFloat`型に変換することで，かなり多くの桁数を表示できる．"
   ]
  },
  {
   "cell_type": "code",
   "execution_count": 2,
   "id": "c6b2e4f8-1066-48fb-9209-ced53ff1f0c4",
   "metadata": {},
   "outputs": [
    {
     "data": {
      "text/plain": [
       "2.718281828459045235360287471352662497757247093699959574966967627724076630353555"
      ]
     },
     "execution_count": 2,
     "metadata": {},
     "output_type": "execute_result"
    }
   ],
   "source": [
    "BigFloat(ℯ)"
   ]
  },
  {
   "cell_type": "markdown",
   "id": "5e9789b5-199f-45e8-8198-86cc9fe4f6a8",
   "metadata": {},
   "source": [
    "#### 📝 Bigfloatの桁数\n",
    "- `BigFloat`の精度（≒表示桁数）を変更するには，`setprecision()`を用いる．\n",
    "- `BigFloat`の桁数の精度は `precision`で確認できる．"
   ]
  },
  {
   "cell_type": "code",
   "execution_count": 3,
   "id": "e962ee9f-6eeb-442a-86e3-77e68713b8b0",
   "metadata": {},
   "outputs": [
    {
     "data": {
      "text/plain": [
       "256"
      ]
     },
     "execution_count": 3,
     "metadata": {},
     "output_type": "execute_result"
    }
   ],
   "source": [
    "precision(BigFloat)"
   ]
  },
  {
   "cell_type": "markdown",
   "id": "e46b23b0-630d-4881-aebb-380db2053a7d",
   "metadata": {},
   "source": [
    "- 256bit なので，10進小数でおよそ $\\log_{10}2^{256} \\approx 77$ 桁表示可能である："
   ]
  },
  {
   "cell_type": "code",
   "execution_count": 4,
   "id": "f98ca193-3252-47f6-8cb6-94fd5de87943",
   "metadata": {},
   "outputs": [
    {
     "data": {
      "text/plain": [
       "77.06367888997919"
      ]
     },
     "execution_count": 4,
     "metadata": {},
     "output_type": "execute_result"
    }
   ],
   "source": [
    "256*log10(2)"
   ]
  },
  {
   "cell_type": "markdown",
   "id": "48f66c87-bc91-46a6-8f65-e11f97faff91",
   "metadata": {
    "tags": []
   },
   "source": [
    "### $e$の無限級数表示\n",
    "- ネイピア数は\n",
    "$$\n",
    " e = \\sum_{n=0}^\\infty \\frac{1}{n!}\n",
    "$$\n",
    "と無限級数で表される．これを途中で打ち切ることで $e$ の近似値を計算する．\n",
    "\n",
    "- 階乗 (factorial) の計算には標準実装の `factorial()` を使う．\n",
    "- 試しに第10項目までの部分和を計算してみる．\n",
    "\n",
    "- 配列の総和を計算する関数 `sum()` と 内包表記を組み合わせればシンプルに書ける．"
   ]
  },
  {
   "cell_type": "code",
   "execution_count": 1,
   "id": "194bd4df-8c79-436f-9980-7cd24d144dcb",
   "metadata": {},
   "outputs": [
    {
     "data": {
      "text/plain": [
       "2.7182815255731922"
      ]
     },
     "execution_count": 1,
     "metadata": {},
     "output_type": "execute_result"
    }
   ],
   "source": [
    "N = 9\n",
    "sum(1/factorial(i) for i in 0:N) # = 1/fractorial(0) + 1/fractorial(1) + ... + 1/fractorial(N)"
   ]
  },
  {
   "cell_type": "markdown",
   "id": "c4293cc3-71fa-4e8d-b205-a5d60e47cbe2",
   "metadata": {},
   "source": [
    "- 小数第6位まで一致していることがわかる．"
   ]
  },
  {
   "cell_type": "markdown",
   "id": "c209a4bc-341b-406d-adce-3818fb8227d8",
   "metadata": {},
   "source": [
    "#### 📝 forループによる素朴な総和計算\n",
    "- C言語やFortranのような`sum()`が用意されていない言語では，総和を計算するには`for`ループでベタ書きする他ない．"
   ]
  },
  {
   "cell_type": "code",
   "execution_count": 6,
   "id": "afd1a9a7-00d4-4117-8bea-0e1842b0e897",
   "metadata": {},
   "outputs": [
    {
     "name": "stdout",
     "output_type": "stream",
     "text": [
      "s = 2.7182815255731922\n"
     ]
    }
   ],
   "source": [
    "N = 9\n",
    "s = 0.0\n",
    "for i in 0:N\n",
    "    s += 1/factorial(i) \n",
    "end\n",
    "@show s;"
   ]
  }
 ],
 "metadata": {
  "kernelspec": {
   "display_name": "Julia 1.6.7",
   "language": "julia",
   "name": "julia-1.6"
  },
  "language_info": {
   "file_extension": ".jl",
   "mimetype": "application/julia",
   "name": "julia",
   "version": "1.6.7"
  }
 },
 "nbformat": 4,
 "nbformat_minor": 5
}
