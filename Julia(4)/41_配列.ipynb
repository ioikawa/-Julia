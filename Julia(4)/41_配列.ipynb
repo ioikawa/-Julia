{
 "cells": [
  {
   "cell_type": "markdown",
   "id": "b8bc996d-00e4-41e6-9a1a-cc616a4fede5",
   "metadata": {},
   "source": [
    "# 配列と数ベクトル\n",
    "## 配列 [Array](https://docs.julialang.org/en/v1/manual/arrays/)\n",
    "次のようにオブジェクトが一列に並んでいるデータを配列という．"
   ]
  },
  {
   "cell_type": "code",
   "execution_count": 7,
   "id": "5bcc0140-7f8b-4ac3-ac47-cd5caad3487d",
   "metadata": {},
   "outputs": [
    {
     "data": {
      "text/plain": [
       "4-element Vector{Any}:\n",
       " 1\n",
       "  \"II\"\n",
       "  \"tri\"\n",
       "  \"four\""
      ]
     },
     "metadata": {},
     "output_type": "display_data"
    }
   ],
   "source": [
    "A = [1, \"II\", \"tri\", \"four\"]"
   ]
  },
  {
   "cell_type": "markdown",
   "id": "87e842b1-063d-46d6-b88b-b5087f8e3df5",
   "metadata": {},
   "source": [
    "配列の先頭（左）から`i`番目の要素にアクセスするには，`A[i]`と書く．"
   ]
  },
  {
   "cell_type": "code",
   "execution_count": 8,
   "id": "f64ca250-caee-4209-8158-67255b9e5564",
   "metadata": {},
   "outputs": [
    {
     "name": "stdout",
     "output_type": "stream",
     "text": [
      "A[1] = 1\n",
      "A[2] = \"II\"\n",
      "A[3] = \"tri\"\n",
      "A[4] = \"four\"\n"
     ]
    }
   ],
   "source": [
    "@show A[1] A[2] A[3] A[4];"
   ]
  },
  {
   "cell_type": "markdown",
   "id": "202a16bf",
   "metadata": {},
   "source": [
    "番号でなくとも，先頭は`begin`，末尾は`end` でもアクセスできる．"
   ]
  },
  {
   "cell_type": "code",
   "execution_count": 10,
   "id": "2d1f33d2",
   "metadata": {},
   "outputs": [
    {
     "name": "stdout",
     "output_type": "stream",
     "text": [
      "A = Any[\"書き換え\", \"II\", \"tri\", \"four\"]\n"
     ]
    },
    {
     "data": {
      "text/plain": [
       "4-element Vector{Any}:\n",
       " \"書き換え\"\n",
       " \"II\"\n",
       " \"tri\"\n",
       " \"four\""
      ]
     },
     "metadata": {},
     "output_type": "display_data"
    }
   ],
   "source": [
    "A[begin] = \"書き換え\"\n",
    "@show A"
   ]
  },
  {
   "cell_type": "markdown",
   "id": "f8dcc244-b21a-4e50-924c-f0e02e17f49c",
   "metadata": {},
   "source": [
    "## コロンによる配列の抜き出し\n",
    "例として整数の連番からなる配列を考える．"
   ]
  },
  {
   "cell_type": "code",
   "execution_count": 13,
   "id": "1eaddc35-87ee-419b-9ad1-f1bb1e865638",
   "metadata": {},
   "outputs": [
    {
     "data": {
      "text/plain": [
       "9-element Vector{Int64}:\n",
       " 1\n",
       " 2\n",
       " 3\n",
       " 4\n",
       " 5\n",
       " 6\n",
       " 7\n",
       " 8\n",
       " 9"
      ]
     },
     "metadata": {},
     "output_type": "display_data"
    }
   ],
   "source": [
    "# `collect()` はインデックスを配列に変換する関数\n",
    "A = collect(1:9)\n"
   ]
  },
  {
   "cell_type": "markdown",
   "id": "1ae210fd-72a0-4317-8db8-b67a07560c58",
   "metadata": {},
   "source": [
    "`1:10`は　1,2,...,10 というインデックスを表す．  "
   ]
  },
  {
   "cell_type": "markdown",
   "id": "b7018fc6-b852-4ebc-a8f2-e1cc41b650d8",
   "metadata": {},
   "source": [
    "配列の一部分にまとめてアクセスしたい場合は，`A[インデックス]`の形で書く．\n",
    "例えば，"
   ]
  },
  {
   "cell_type": "code",
   "execution_count": 14,
   "id": "df10de26",
   "metadata": {},
   "outputs": [
    {
     "data": {
      "text/plain": [
       "5-element Vector{Int64}:\n",
       " 3\n",
       " 4\n",
       " 5\n",
       " 6\n",
       " 7"
      ]
     },
     "metadata": {},
     "output_type": "display_data"
    }
   ],
   "source": [
    "A[3:7]"
   ]
  },
  {
   "cell_type": "code",
   "execution_count": 16,
   "id": "589842a6",
   "metadata": {},
   "outputs": [
    {
     "name": "stdout",
     "output_type": "stream",
     "text": [
      "A = [100, 200, 300, 4, 5, 6, 7, 8, 9]\n"
     ]
    },
    {
     "data": {
      "text/plain": [
       "9-element Vector{Int64}:\n",
       " 100\n",
       " 200\n",
       " 300\n",
       "   4\n",
       "   5\n",
       "   6\n",
       "   7\n",
       "   8\n",
       "   9"
      ]
     },
     "metadata": {},
     "output_type": "display_data"
    }
   ],
   "source": [
    "A[1:3] = [100, 200, 300];\n",
    "@show A"
   ]
  },
  {
   "cell_type": "markdown",
   "id": "cf4d3f1d",
   "metadata": {},
   "source": [
    "![array](array.svg)"
   ]
  },
  {
   "cell_type": "markdown",
   "id": "45f743f4-f6e8-4ce7-9c4a-6a8842907b7e",
   "metadata": {},
   "source": [
    "## 配列に関する基本メソッド\n",
    "`A`を配列とする．\n",
    "\n",
    "| コード|  内容 |\n",
    "|------|------|\n",
    "| `A[i]` | `i`番目の要素 |\n",
    "| `A[1]` | 先頭の要素 |\n",
    "| `A[begin]` | 先頭の要素 |\n",
    "| `A[end]` | 末尾の要素 | \n",
    "| `length(A)` | 配列の要素数 |\n",
    "| `sum(A)` | `A`の要素の総和 | \n",
    "|`prod(A)` | `A`の要素の総乗 | \n",
    "| `maximum(A)` | `A`の要素の最大値 | \n",
    "| `minimum(A)` | `A`の要素の最小値 |\n",
    "| `sort(A)` | `A` を降順に並べ替える |\n",
    "| `zeros(n)` | `n`個のゼロからなる配列を生成 |\n",
    "| `ones(n)` | `n`個の`1`からなる配列を生成 |\n",
    "| `fill(n,x)` | `n`個の`x`からなる配列を生成 |\n",
    "\n"
   ]
  },
  {
   "cell_type": "markdown",
   "id": "84a93ccd-6a4d-4f9c-906a-964a395bc72e",
   "metadata": {},
   "source": [
    "## dot 演算子\n",
    "配列`A`の要素ごとに演算，あるいは関数を作用させたい場合，\n",
    "dot演算子 `.` を用いる．"
   ]
  },
  {
   "cell_type": "code",
   "execution_count": 11,
   "id": "08731f8a-2f03-474d-aab0-c1e57785120f",
   "metadata": {},
   "outputs": [
    {
     "name": "stdout",
     "output_type": "stream",
     "text": [
      "A .^ 2 = [1, 4, 9, 16, 25]\n",
      "sqrt.(A) = [1.0, 1.4142135623730951, 1.7320508075688772, 2.0, 2.23606797749979]\n"
     ]
    }
   ],
   "source": [
    "A = [1, 2, 3, 4, 5]\n",
    "@show A .^ 2     # [1^2, 2^2, 3^2, 4^2, 5^2]\n",
    "@show sqrt.(A);   # [sqrt(1), sqrt(2), sqrt(3),sqrt(4),sqrt(5)]"
   ]
  },
  {
   "cell_type": "markdown",
   "id": "72a6c0e2",
   "metadata": {},
   "source": [
    "## 内包表記 (Comprehensions)\n",
    "ブラケット `[ ... ]` の内部に `for` ループを記述することで配列を生成できる．"
   ]
  },
  {
   "cell_type": "code",
   "execution_count": 14,
   "id": "c117f7c5",
   "metadata": {},
   "outputs": [
    {
     "data": {
      "text/plain": [
       "5-element Vector{Int64}:\n",
       "  1\n",
       "  4\n",
       "  9\n",
       " 16\n",
       " 25"
      ]
     },
     "metadata": {},
     "output_type": "display_data"
    }
   ],
   "source": [
    "A = [i^2 for i in 1:5]  # =[1^2, 2^2, 3^2, 4^2, 5^2]"
   ]
  }
 ],
 "metadata": {
  "kernelspec": {
   "display_name": "Julia 1.11.2",
   "language": "julia",
   "name": "julia-1.11"
  },
  "language_info": {
   "file_extension": ".jl",
   "mimetype": "application/julia",
   "name": "julia",
   "version": "1.11.2"
  }
 },
 "nbformat": 4,
 "nbformat_minor": 5
}
