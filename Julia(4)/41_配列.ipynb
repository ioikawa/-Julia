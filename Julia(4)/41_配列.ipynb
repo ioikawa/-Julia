{
 "cells": [
  {
   "cell_type": "markdown",
   "id": "b8bc996d-00e4-41e6-9a1a-cc616a4fede5",
   "metadata": {},
   "source": [
    "# 配列: [Array](https://docs.julialang.org/en/v1/manual/arrays/)\n",
    "複数の変数を1列に並べて， `[...]` で囲ったものを配列という．"
   ]
  },
  {
   "cell_type": "code",
   "execution_count": 27,
   "id": "5bcc0140-7f8b-4ac3-ac47-cd5caad3487d",
   "metadata": {},
   "outputs": [
    {
     "data": {
      "text/plain": [
       "4-element Vector{Any}:\n",
       " 1\n",
       "  \"II\"\n",
       "  \"tri\"\n",
       "  \"four\""
      ]
     },
     "metadata": {},
     "output_type": "display_data"
    }
   ],
   "source": [
    "A = [1, \"II\" , \"tri\", \"four\"]"
   ]
  },
  {
   "cell_type": "markdown",
   "id": "87e842b1-063d-46d6-b88b-b5087f8e3df5",
   "metadata": {},
   "source": [
    "配列の左から`i`番目の要素にアクセスするには，`A[i]`と書く．"
   ]
  },
  {
   "cell_type": "code",
   "execution_count": 28,
   "id": "f64ca250-caee-4209-8158-67255b9e5564",
   "metadata": {},
   "outputs": [
    {
     "name": "stdout",
     "output_type": "stream",
     "text": [
      "A[1] = 1\n",
      "A[2] = \"II\"\n",
      "A[3] = \"tri\"\n",
      "A[4] = \"four\"\n"
     ]
    }
   ],
   "source": [
    "@show A[1] A[2] A[3] A[4];"
   ]
  },
  {
   "cell_type": "markdown",
   "id": "e96c5c98-3abc-42f6-98d4-dcae9ab4f1f6",
   "metadata": {},
   "source": [
    "配列の先頭と末尾の要素はそれぞれ `A[begin]`, `A[end]`と書いてアクセスできる．"
   ]
  },
  {
   "cell_type": "code",
   "execution_count": 31,
   "id": "5b53ac6a-17c2-4dbc-90ff-3794699737e4",
   "metadata": {},
   "outputs": [
    {
     "name": "stdout",
     "output_type": "stream",
     "text": [
      "A[begin] = 1\n",
      "A[begin + 1] = \"II\"\n",
      "A[end - 1] = \"tri\"\n",
      "A[end] = \"four\"\n"
     ]
    }
   ],
   "source": [
    "@show A[begin] A[begin+1] A[end-1] A[end];\n"
   ]
  },
  {
   "cell_type": "markdown",
   "id": "ff147404-0e1f-4ed4-a74d-3149e8c95f01",
   "metadata": {},
   "source": [
    "## 配列サイズ\n",
    "配列のサイズ（要素数）は `lendth()`で取得する"
   ]
  },
  {
   "cell_type": "code",
   "execution_count": 4,
   "id": "2fc7c26f-ad6c-4b9c-bd8b-2c31c955ae40",
   "metadata": {},
   "outputs": [
    {
     "data": {
      "text/plain": [
       "4"
      ]
     },
     "execution_count": 4,
     "metadata": {},
     "output_type": "execute_result"
    }
   ],
   "source": [
    "length(A)  "
   ]
  },
  {
   "cell_type": "markdown",
   "id": "f8dcc244-b21a-4e50-924c-f0e02e17f49c",
   "metadata": {},
   "source": [
    "## コロンによる配列の抜き出し\n",
    "例として整数の連番からなる配列を考える．"
   ]
  },
  {
   "cell_type": "code",
   "execution_count": null,
   "id": "1eaddc35-87ee-419b-9ad1-f1bb1e865638",
   "metadata": {},
   "outputs": [
    {
     "data": {
      "text/plain": [
       "10-element Vector{Int64}:\n",
       "  1\n",
       "  2\n",
       "  3\n",
       "  4\n",
       "  5\n",
       "  6\n",
       "  7\n",
       "  8\n",
       "  9\n",
       " 10"
      ]
     },
     "metadata": {},
     "output_type": "display_data"
    }
   ],
   "source": [
    "B = collect(1:10)     # B = [1,2, ..., 10]"
   ]
  },
  {
   "cell_type": "markdown",
   "id": "1ae210fd-72a0-4317-8db8-b67a07560c58",
   "metadata": {},
   "source": [
    "`1:10`は1,2,...,10 という範囲を表す．  \n",
    "`collect()`で範囲が配列に変換されたということである．"
   ]
  },
  {
   "cell_type": "markdown",
   "id": "b7018fc6-b852-4ebc-a8f2-e1cc41b650d8",
   "metadata": {},
   "source": [
    "配列の一部分にまとめてアクセスしたい場合は，`A[範囲]`の形で書く．"
   ]
  },
  {
   "cell_type": "code",
   "execution_count": null,
   "id": "eb049412-dddf-4078-9256-6ddda3fea2fb",
   "metadata": {},
   "outputs": [
    {
     "ename": "BoundsError",
     "evalue": "BoundsError: attempt to access 4-element Vector{Any} at index [3:6]",
     "output_type": "error",
     "traceback": [
      "BoundsError: attempt to access 4-element Vector{Any} at index [3:6]\n",
      "\n",
      "Stacktrace:\n",
      " [1] throw_boundserror(A::Vector{Any}, I::Tuple{UnitRange{Int64}})\n",
      "   @ Base ./essentials.jl:14\n",
      " [2] checkbounds\n",
      "   @ ./abstractarray.jl:699 [inlined]\n",
      " [3] getindex(A::Vector{Any}, I::UnitRange{Int64})\n",
      "   @ Base ./array.jl:936\n",
      " [4] macro expansion\n",
      "   @ show.jl:1232 [inlined]\n",
      " [5] top-level scope\n",
      "   @ ~/GitHub/KeisankiEnshu-Julia/Julia(4)/jl_notebook_cell_df34fa98e69747e1a8f8a730347b8e2f_X16sZmlsZQ==.jl:1"
     ]
    }
   ],
   "source": [
    "@show B[3:6]      \n",
    "@show B[1:3:end];    # 1 から end まで 3刻み"
   ]
  },
  {
   "cell_type": "markdown",
   "id": "9e4f873f-9e56-437f-8fb7-a6af50c2c33b",
   "metadata": {},
   "source": [
    "## 配列の連結\n",
    "２つの配列`A`, `B` を連結させるには，その通りに並べて書けばよい．"
   ]
  },
  {
   "cell_type": "code",
   "execution_count": 41,
   "id": "d6e745b3-20ad-48d9-b85c-e547e56613d9",
   "metadata": {},
   "outputs": [
    {
     "name": "stdout",
     "output_type": "stream",
     "text": [
      "[B C] = [1 4; 2 5; 3 6]\n"
     ]
    },
    {
     "data": {
      "text/plain": [
       "6-element Vector{Int64}:\n",
       " 1\n",
       " 2\n",
       " 3\n",
       " 4\n",
       " 5\n",
       " 6"
      ]
     },
     "metadata": {},
     "output_type": "display_data"
    }
   ],
   "source": [
    "B = [1,2,3]\n",
    "C = [4,5,6]\n",
    "\n",
    "@show [B C]\n",
    "\n",
    "[B\n",
    "C] # [A; B] でも同じ"
   ]
  },
  {
   "cell_type": "code",
   "execution_count": 43,
   "id": "b29cd379-cf16-4f0f-8c0f-25b0d09bcdb0",
   "metadata": {},
   "outputs": [
    {
     "data": {
      "text/plain": [
       "6-element Vector{Int64}:\n",
       " 1\n",
       " 2\n",
       " 3\n",
       " 4\n",
       " 5\n",
       " 6"
      ]
     },
     "metadata": {},
     "output_type": "display_data"
    }
   ],
   "source": [
    "# これも同じ\n",
    "vcat(B, C)"
   ]
  },
  {
   "cell_type": "markdown",
   "id": "20ef544c-f19d-4603-b66d-781dc68d546c",
   "metadata": {},
   "source": [
    "## 要素の push と pop\n",
    "配列の末尾に要素を追加するには `push!(配列, 追加する要素)`を用いる．  \n",
    "関数名に`!`がついているのは，引数を変更する関数であることを表している．"
   ]
  },
  {
   "cell_type": "code",
   "execution_count": 11,
   "id": "7ab80b21-160c-4866-abb8-12beea2c0fb3",
   "metadata": {},
   "outputs": [
    {
     "data": {
      "text/plain": [
       "3-element Vector{Int64}:\n",
       " 1\n",
       " 2\n",
       " 3"
      ]
     },
     "execution_count": 11,
     "metadata": {},
     "output_type": "execute_result"
    }
   ],
   "source": [
    "A = [1,2,3]"
   ]
  },
  {
   "cell_type": "code",
   "execution_count": 12,
   "id": "dd6314e3-e848-4116-9913-9ce21a7d7c3e",
   "metadata": {},
   "outputs": [
    {
     "data": {
      "text/plain": [
       "4-element Vector{Int64}:\n",
       "   1\n",
       "   2\n",
       "   3\n",
       " 100"
      ]
     },
     "execution_count": 12,
     "metadata": {},
     "output_type": "execute_result"
    }
   ],
   "source": [
    "push!(A, 100)"
   ]
  },
  {
   "cell_type": "markdown",
   "id": "f195ba2f-7f4a-4657-bd72-4e6396875bfb",
   "metadata": {},
   "source": [
    "配列の末尾から要素を取り出すには `pop!`を用いる．"
   ]
  },
  {
   "cell_type": "code",
   "execution_count": 13,
   "id": "5fcc1970-58a8-4a3d-ae90-67f8068a7f7c",
   "metadata": {},
   "outputs": [
    {
     "data": {
      "text/plain": [
       "100"
      ]
     },
     "execution_count": 13,
     "metadata": {},
     "output_type": "execute_result"
    }
   ],
   "source": [
    "pop!(A)"
   ]
  },
  {
   "cell_type": "code",
   "execution_count": 14,
   "id": "9e1c49be-de42-4464-b1ca-cde30e914c5c",
   "metadata": {},
   "outputs": [
    {
     "name": "stdout",
     "output_type": "stream",
     "text": [
      "A = [1, 2, 3]\n"
     ]
    },
    {
     "data": {
      "text/plain": [
       "3-element Vector{Int64}:\n",
       " 1\n",
       " 2\n",
       " 3"
      ]
     },
     "execution_count": 14,
     "metadata": {},
     "output_type": "execute_result"
    }
   ],
   "source": [
    "@show A  # 取り出したものは無くなっているはず"
   ]
  },
  {
   "cell_type": "markdown",
   "id": "1a94afab-c90b-4a12-a092-8a42267d7b68",
   "metadata": {},
   "source": [
    "一部分を取り出したい場合は`splice!()`が使える．"
   ]
  },
  {
   "cell_type": "code",
   "execution_count": 15,
   "id": "abe556ad-43d8-4e5a-b2a8-55c318a5062d",
   "metadata": {},
   "outputs": [
    {
     "data": {
      "text/plain": [
       "3-element Vector{Int64}:\n",
       " 2\n",
       " 3\n",
       " 4"
      ]
     },
     "execution_count": 15,
     "metadata": {},
     "output_type": "execute_result"
    }
   ],
   "source": [
    "A = [1,2,3,4,5]\n",
    "splice!(A,2:4)   # A[2:4]を取り出す"
   ]
  },
  {
   "cell_type": "code",
   "execution_count": 16,
   "id": "0f48018c-a56c-4dce-902e-944fd3704447",
   "metadata": {},
   "outputs": [
    {
     "name": "stdout",
     "output_type": "stream",
     "text": [
      "A = [1, 5]\n"
     ]
    },
    {
     "data": {
      "text/plain": [
       "2-element Vector{Int64}:\n",
       " 1\n",
       " 5"
      ]
     },
     "execution_count": 16,
     "metadata": {},
     "output_type": "execute_result"
    }
   ],
   "source": [
    "@show A   # 確認のため表示．取り出した部分は残っていない"
   ]
  },
  {
   "cell_type": "markdown",
   "id": "45f743f4-f6e8-4ce7-9c4a-6a8842907b7e",
   "metadata": {},
   "source": [
    "## 配列に対する関数\n",
    "Juliaでは，配列を渡すと総和を返す関数 `sum()` などが予め用意されている．"
   ]
  },
  {
   "cell_type": "code",
   "execution_count": 16,
   "id": "41ea9319-6630-4a29-963f-83c004f5288a",
   "metadata": {
    "tags": []
   },
   "outputs": [
    {
     "name": "stdout",
     "output_type": "stream",
     "text": [
      "sum(A) = 15\n",
      "prod(A) = 120\n",
      "maximum(A) = 5\n",
      "minimum(A) = 1\n"
     ]
    }
   ],
   "source": [
    "A = [1,2,3,4,5]\n",
    "@show sum(A)      # 配列の要素の総和\n",
    "@show prod(A)     # 総乗\n",
    "@show maximum(A)  # 最大値\n",
    "@show minimum(A);  # 最小値"
   ]
  },
  {
   "cell_type": "markdown",
   "id": "33b89566-621f-4a53-826c-658eaea48172",
   "metadata": {
    "tags": []
   },
   "source": [
    "配列の中身を小さい順にソート（並べ替える）する関数も用意されている．"
   ]
  },
  {
   "cell_type": "code",
   "execution_count": 18,
   "id": "135e69c9-fc44-4c7e-a886-64afe7d503e5",
   "metadata": {},
   "outputs": [
    {
     "data": {
      "text/plain": [
       "5-element Vector{Int64}:\n",
       " 1\n",
       " 2\n",
       " 3\n",
       " 4\n",
       " 5"
      ]
     },
     "execution_count": 18,
     "metadata": {},
     "output_type": "execute_result"
    }
   ],
   "source": [
    "sort([5,4,3,2,1])"
   ]
  },
  {
   "cell_type": "code",
   "execution_count": 19,
   "id": "7e4a32e9-9889-44f3-8387-49c22a0211ff",
   "metadata": {},
   "outputs": [
    {
     "data": {
      "text/plain": [
       "6-element Vector{String}:\n",
       " \"A\"\n",
       " \"aaa\"\n",
       " \"aab\"\n",
       " \"ab\"\n",
       " \"baa\"\n",
       " \"bbb\""
      ]
     },
     "execution_count": 19,
     "metadata": {},
     "output_type": "execute_result"
    }
   ],
   "source": [
    "sort([\"aaa\", \"bbb\", \"baa\", \"aab\", \"ab\", \"A\"])"
   ]
  },
  {
   "cell_type": "markdown",
   "id": "84a93ccd-6a4d-4f9c-906a-964a395bc72e",
   "metadata": {},
   "source": [
    "## dot 演算子：要素ごとの操作\n",
    "配列`A`の要素ごとに演算，あるいは関数を作用させたい場合，\n",
    "dot演算子 `.` を用いる．"
   ]
  },
  {
   "cell_type": "code",
   "execution_count": 19,
   "id": "08731f8a-2f03-474d-aab0-c1e57785120f",
   "metadata": {},
   "outputs": [
    {
     "name": "stdout",
     "output_type": "stream",
     "text": [
      "A .^ 2 = [1, 4, 9, 16, 25]\n",
      "sqrt.(A) = [1.0, 1.4142135623730951, 1.7320508075688772, 2.0, 2.23606797749979]\n"
     ]
    }
   ],
   "source": [
    "A = [1,2,3,4,5]\n",
    "@show A .^ 2     # [1^2, 2^2, 3^2, 4^2, 5^2]\n",
    "@show sqrt.(A);   # [sqrt(1), sqrt(2), sqrt(3),sqrt(4),sqrt(5)]"
   ]
  },
  {
   "cell_type": "markdown",
   "id": "6054e998-3b37-45fc-a2d2-1f6a0d496c83",
   "metadata": {},
   "source": [
    "## 空の配列"
   ]
  },
  {
   "cell_type": "code",
   "execution_count": 23,
   "id": "2d4f0ca5-4938-46df-a7e3-84e0006f3189",
   "metadata": {},
   "outputs": [
    {
     "data": {
      "text/plain": [
       "Float64[]"
      ]
     },
     "execution_count": 23,
     "metadata": {},
     "output_type": "execute_result"
    }
   ],
   "source": [
    "empty_array = []   # 空の配列．任意の型の変数を\n",
    "vec = Float64[]    # 要素の型を指定する"
   ]
  },
  {
   "cell_type": "markdown",
   "id": "57bbb004-d5be-44cb-8e5e-7750aef505a6",
   "metadata": {},
   "source": [
    "## 配列の生成"
   ]
  },
  {
   "cell_type": "code",
   "execution_count": 21,
   "id": "341fcb2c-34dd-491b-9984-e2f7b4c5720b",
   "metadata": {},
   "outputs": [
    {
     "name": "stdout",
     "output_type": "stream",
     "text": [
      "zeros(3) = [0.0, 0.0, 0.0]\n",
      "ones(3) = [1.0, 1.0, 1.0]\n",
      "fill(\"abc\", 3) = [\"abc\", \"abc\", \"abc\"]\n"
     ]
    }
   ],
   "source": [
    "@show zeros(3)         # `0`が3個の配列\n",
    "@show ones(3)          # `1`が3個の配列\n",
    "@show fill(\"abc\", 3)  # \"abc\"が3個の配列\n",
    ";"
   ]
  }
 ],
 "metadata": {
  "kernelspec": {
   "display_name": "Julia 1.11.2",
   "language": "julia",
   "name": "julia-1.11"
  },
  "language_info": {
   "file_extension": ".jl",
   "mimetype": "application/julia",
   "name": "julia",
   "version": "1.11.2"
  }
 },
 "nbformat": 4,
 "nbformat_minor": 5
}
