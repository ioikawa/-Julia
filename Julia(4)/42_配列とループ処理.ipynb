{
 "cells": [
  {
   "cell_type": "markdown",
   "id": "a62fbb38-cfb9-47e9-8b98-9afae482dfc7",
   "metadata": {},
   "source": [
    "# 配列とループ処理\n",
    "\n",
    "## 配列によるforループ\n",
    "配列の各要素を左から順番に取り出して処理する"
   ]
  },
  {
   "cell_type": "code",
   "execution_count": 1,
   "id": "e36072a2-21cb-4fec-8e44-5bd7fc55ba5d",
   "metadata": {},
   "outputs": [
    {
     "name": "stdout",
     "output_type": "stream",
     "text": [
      "x = 1\n",
      "x = [2]\n",
      "x = \"three\"\n"
     ]
    }
   ],
   "source": [
    "A = [1,[2],\"three\"] \n",
    "\n",
    "for x in A \n",
    "    @show x\n",
    "end"
   ]
  },
  {
   "cell_type": "markdown",
   "id": "b52da722-14b8-48cb-a282-470a2facbffe",
   "metadata": {},
   "source": [
    "## 要素番号の取得: `enumerate`\n",
    "カウンタ変数が配列内を動くとき，要素の中身だけでなく番号も取得したい場合もある．\n",
    "その場合は，`enumerate()` を使う．"
   ]
  },
  {
   "cell_type": "code",
   "execution_count": 2,
   "id": "c8bec8ac-15ba-4508-956b-f45afce6391e",
   "metadata": {},
   "outputs": [
    {
     "name": "stdout",
     "output_type": "stream",
     "text": [
      "(i, x) = (1, 1)\n",
      "(i, x) = (2, [2])\n",
      "(i, x) = (3, \"three\")\n"
     ]
    }
   ],
   "source": [
    "A = [1,[2],\"three\"] \n",
    "\n",
    "for (i,x) in enumerate(A) \n",
    "    @show i,x\n",
    "end"
   ]
  },
  {
   "cell_type": "markdown",
   "id": "d0f23b40-faaa-4636-b809-19f2e767592f",
   "metadata": {},
   "source": [
    "## 内包表記 (Comprehensions)\n",
    "ブラケット `[ ... ]` の内部に `for` ループを記述することで配列を生成できる．"
   ]
  },
  {
   "cell_type": "code",
   "execution_count": 3,
   "id": "cf97aba6-5c14-4a13-bf5c-3cbfdaf2e63d",
   "metadata": {},
   "outputs": [
    {
     "data": {
      "text/plain": [
       "5-element Vector{Int64}:\n",
       "  1\n",
       "  4\n",
       "  9\n",
       " 16\n",
       " 25"
      ]
     },
     "execution_count": 3,
     "metadata": {},
     "output_type": "execute_result"
    }
   ],
   "source": [
    "A = [i^2 for i in 1:5]  # =[1^2, 2^2, 3^2, 4^2, 5^2]"
   ]
  }
 ],
 "metadata": {
  "kernelspec": {
   "display_name": "Julia 1.6.7",
   "language": "julia",
   "name": "julia-1.6"
  },
  "language_info": {
   "file_extension": ".jl",
   "mimetype": "application/julia",
   "name": "julia",
   "version": "1.6.7"
  }
 },
 "nbformat": 4,
 "nbformat_minor": 5
}
