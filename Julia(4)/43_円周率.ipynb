{
 "cells": [
  {
   "cell_type": "markdown",
   "id": "85a9971e-a2a4-4138-b537-34095b677f1b",
   "metadata": {},
   "source": [
    "# 円周率の数値計算"
   ]
  },
  {
   "cell_type": "markdown",
   "id": "ad91a6f3-738a-4fbd-9c24-6e26260d6abf",
   "metadata": {},
   "source": [
    "## 円周率 `pi`  \n",
    "- Juliaでは円周率は数学定数`pi`として実装されている．"
   ]
  },
  {
   "cell_type": "code",
   "execution_count": 1,
   "id": "75eec331-c9ff-4d6a-ad73-b3155cfaa362",
   "metadata": {},
   "outputs": [
    {
     "data": {
      "text/plain": [
       "π = 3.1415926535897..."
      ]
     },
     "execution_count": 1,
     "metadata": {},
     "output_type": "execute_result"
    }
   ],
   "source": [
    "pi           # 遅延評価．実際に計算されるときに適切な形で実体化される．"
   ]
  },
  {
   "cell_type": "code",
   "execution_count": 2,
   "id": "d3065c64-b6dc-48f4-a85c-4e03ae7ee3fe",
   "metadata": {},
   "outputs": [
    {
     "data": {
      "text/plain": [
       "3.141592653589793"
      ]
     },
     "execution_count": 2,
     "metadata": {},
     "output_type": "execute_result"
    }
   ],
   "source": [
    "Float64(pi)    # `Float64` 型として実体化"
   ]
  },
  {
   "cell_type": "markdown",
   "id": "def75056-3c8f-4666-aa04-745895c04aeb",
   "metadata": {},
   "source": [
    "- この値は確かに16桁まで一致している（倍精度浮動小数点数では10進数で約16桁の表示が限界である）．\n",
    "- 念のため，正確な値を明記しておく．\n",
    "```\n",
    " 3.14159_26535_89793\n",
    "```\n"
   ]
  },
  {
   "cell_type": "markdown",
   "id": "f2fbc261-b5c7-4f11-b5a1-2a15a8df345d",
   "metadata": {},
   "source": [
    "## Leibniz（ライプニッツ）の公式\n",
    "**Leibnizの公式**\n",
    "$$\n",
    " 1 - \\dfrac{1}{3} + \\dfrac{1}{5} - \\dfrac{1}{7} + \\cdots = \\dfrac{\\pi}{4}\n",
    "$$\n",
    "は収束が遅いので円周率の近似値計算には適さないが，試しに計算してみよう．"
   ]
  },
  {
   "cell_type": "code",
   "execution_count": 1,
   "id": "4ac3b9c5-438c-4f85-bb55-94bfa812e773",
   "metadata": {},
   "outputs": [
    {
     "data": {
      "text/plain": [
       "3.149856975293274"
      ]
     },
     "execution_count": 1,
     "metadata": {},
     "output_type": "execute_result"
    }
   ],
   "source": [
    "leibniz(n) = 4*sum((-1)^i/(2i+1) for i in 0:n)\n",
    "leibniz(120)"
   ]
  },
  {
   "cell_type": "markdown",
   "id": "e310f58e-22ca-4971-a344-3819b36e2a9e",
   "metadata": {},
   "source": [
    "- 120+1項まで計算してやっと3桁まで一致する程度であり，やはり収束速度は非常に遅い．"
   ]
  },
  {
   "cell_type": "markdown",
   "id": "da871e58-adda-43fe-bb20-479af96bdeb1",
   "metadata": {},
   "source": [
    "#### 📝 内包表記に関する注意\n",
    "`sum()`で総和を計算する場合は，`[...]`で囲わないほうが効率が良い．"
   ]
  },
  {
   "cell_type": "code",
   "execution_count": 6,
   "id": "8dc28c63-ae53-4aa4-b0ee-81286364757b",
   "metadata": {},
   "outputs": [
    {
     "name": "stdout",
     "output_type": "stream",
     "text": [
      "  0.000000 seconds\n",
      "  0.000001 seconds (1 allocation: 896 bytes)\n"
     ]
    },
    {
     "data": {
      "text/plain": [
       "5050"
      ]
     },
     "execution_count": 6,
     "metadata": {},
     "output_type": "execute_result"
    }
   ],
   "source": [
    "@time sum(i for i in 1:100)\n",
    "@time sum([i for i in 1:100])   # [...]で囲った場合"
   ]
  },
  {
   "cell_type": "markdown",
   "id": "296b752a-5dd6-4f16-9bad-793eb4275cee",
   "metadata": {},
   "source": [
    "- どちらも同じ値を返すが，前者は`sum()`内の`[i for i in 1:10]` が新たな配列を生成するため，\n",
    "不必要なアロケーションを発生させる．"
   ]
  },
  {
   "cell_type": "markdown",
   "id": "fb85e7b4-f661-4470-a083-03df064c8890",
   "metadata": {},
   "source": [
    "## Machin（マチン）の公式: [MathWorld](https://mathworld.wolfram.com/MachinsFormula.html)\n",
    "- Machinの公式\n",
    "$$\n",
    "   4\\arctan \\dfrac{1}{5} - \\arctan \\dfrac{1}{239} = \\dfrac{\\pi}{4}\n",
    "$$\n",
    "を用いた円周率の数値計算は収束が速く，実用的である．\n",
    "- $\\arctan x$ の原点におけるTaylor展開\n",
    "$$\n",
    " \\arctan x = x - \\dfrac{x^3}{3} + \\dfrac{x^5}{5} - \\dfrac{x^7}{7} + \\cdots\n",
    "$$\n",
    "は $|x| \\le 1$ で収束する．\n",
    "- この級数に $x=1/5, 1/239$ を代入すれば，次の級数展開を得られる．\n",
    "$$\n",
    "\\pi = 16\\sum_{i=0}^\\infty \\frac{(-1)^i}{2i+1} 5^{-(2i+1)}\n",
    "  - 4\\sum_{i=0}^\\infty \\frac{(-1)^i}{2i+1} 239^{-(2i+1)}\n",
    "$$\n",
    "これを適当な項数で打ち切れば円周率の近似値を求めることができる．"
   ]
  },
  {
   "cell_type": "markdown",
   "id": "bc077198-024a-4744-8b29-df54d498ca21",
   "metadata": {
    "jp-MarkdownHeadingCollapsed": true,
    "tags": []
   },
   "source": [
    "#### 練習問題 \n",
    "- Machinの公式で円周率の近似値を計算するプログラムを自分で作成してみよう．\n",
    "```\n",
    "    abs(近似値 -  Float64(pi)) <= 1e-15 \n",
    "```\n",
    "が `true` になれば `Float64`型に関しては限界近くまで近似できていると判断してください．"
   ]
  },
  {
   "cell_type": "markdown",
   "id": "605f764c-85c1-4489-9d7c-580f2dd5b242",
   "metadata": {},
   "source": [
    "### 📝 `BigFloat`型で円周率を確認する"
   ]
  },
  {
   "cell_type": "code",
   "execution_count": 7,
   "id": "1a02ea7d-fd27-4812-ae2d-2516b2b6cc7d",
   "metadata": {},
   "outputs": [
    {
     "data": {
      "text/plain": [
       "3.141592653589793238462643383279502884197169399375105820974944592307816406286208998628034825342117067982148086513282306647093844609550582231725359408128481117450284102701938521105559644622948954930381964428810975665933446128475648233786783165271201909145648566923460348610454326648213393607260249141273724587006606315588174881520920962829254091715364367892590360011330530548820466521384146951941511609433057270365759591953092186117381932611793105118548074462379962749567351885752724891227938183011949129833673362440656643086021394946395224737190702179860943702770539217176293176752384674818467669405132000568127145263560827785771342757789609173637178721468440901224953430146549585371050792279689258923542019956112129021960864034418159813629774771309960518707211349999998372978049951056"
      ]
     },
     "execution_count": 7,
     "metadata": {},
     "output_type": "execute_result"
    }
   ],
   "source": [
    "setprecision(2600)   # 精度を 2600 bit に設定．\n",
    "big(pi)"
   ]
  },
  {
   "cell_type": "markdown",
   "id": "2d0c9fcc-12a7-468e-8bcf-b2883670dbc5",
   "metadata": {},
   "source": [
    "- 2600 bit は 10進数に換算すると，およそ782桁 ($2600 \\log_{10} 2 \\approx 782.7$)に相当する．"
   ]
  },
  {
   "cell_type": "code",
   "execution_count": 8,
   "id": "e80d9233-f6db-48cb-b01a-d3015b119fcf",
   "metadata": {},
   "outputs": [
    {
     "data": {
      "text/plain": [
       "782.6779887263511"
      ]
     },
     "execution_count": 8,
     "metadata": {},
     "output_type": "execute_result"
    }
   ],
   "source": [
    "2600*log10(2)"
   ]
  },
  {
   "cell_type": "markdown",
   "id": "2d1588a8-c9f0-4ec4-9582-6bde37648c46",
   "metadata": {},
   "source": [
    "- 出力を5桁ごとに区切って整形すると次のようになる．\n",
    "```\n",
    "3.\n",
    "14159 26535 89793 23846 26433 83279 50288 41971 69399 37510   \n",
    "58209 74944 59230 78164 06286 20899 86280 34825 34211 70679\n",
    "82148 08651 32823 06647 09384 46095 50582 23172 53594 08128    \n",
    "48111 74502 84102 70193 85211 05559 64462 29489 54930 38196 \n",
    "44288 10975 66593 34461 28475 64823 37867 83165 27120 19091\n",
    "45648 56692 34603 48610 45432 66482 13393 60726 02491 41273\n",
    "72458 70066 06315 58817 48815 20920 96282 92540 91715 36436 \n",
    "78925 90360 01133 05305 48820 46652 13841 46951 94151 16094 \n",
    "33057 27036 57595 91953 09218 61173 81932 61179 31051 18548\n",
    "07446 23799 62749 56735 18857 52724 89122 79381 83011 94912\n",
    "98336 73362 44065 66430 86021 39494 63952 24737 19070 21798\n",
    "60943 70277 05392 17176 29317 67523 84674 81846 76694 05132 \n",
    "00056 81271 45263 56082 77857 71342 75778 96091 73637 17872 \n",
    "14684 40901 22495 34301 46549 58537 10507 92279 68925 89235\n",
    "42019 95611 21290 21960 86403 44181 59813 62977 47713 09960\n",
    "51870 72113 49999 99837 29780 49951 056\n",
    "```"
   ]
  },
  {
   "cell_type": "markdown",
   "id": "c8b683eb-73f9-4708-92a7-ea30c0e9aa8f",
   "metadata": {},
   "source": [
    "## 参考文献\n",
    "- Petr Beckmann: \"A History of $\\pi$ \", 1971. （日本語訳：『 $\\pi$ の歴史』，ちくま学芸文庫） \n",
    "- [MathWorld:Pi](https://mathworld.wolfram.com/Pi.html)\n",
    "- [MathWorld:PiDigits](https://mathworld.wolfram.com/PiDigits.html)\n",
    "- OEIS: https://oeis.org/A000796"
   ]
  }
 ],
 "metadata": {
  "kernelspec": {
   "display_name": "Julia 1.6.7",
   "language": "julia",
   "name": "julia-1.6"
  },
  "language_info": {
   "file_extension": ".jl",
   "mimetype": "application/julia",
   "name": "julia",
   "version": "1.6.7"
  }
 },
 "nbformat": 4,
 "nbformat_minor": 5
}
